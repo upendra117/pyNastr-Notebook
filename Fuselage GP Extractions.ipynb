{
 "cells": [
  {
   "cell_type": "code",
   "execution_count": 43,
   "metadata": {},
   "outputs": [],
   "source": [
    "import pandas as pd\n",
    "\n",
    "import numpy as np\n",
    "\n",
    "# import sqlalchemy"
   ]
  },
  {
   "cell_type": "code",
   "execution_count": 44,
   "metadata": {},
   "outputs": [
    {
     "name": "stdout",
     "output_type": "stream",
     "text": [
      "C:\\ALL_DATA\\URGummitha\\Desktop\\Post_Mod-2\\Run_M2.53\n"
     ]
    }
   ],
   "source": [
    "%cd C:\\ALL_DATA\\URGummitha\\Desktop\\Post_Mod-2\\Run_M2.53"
   ]
  },
  {
   "cell_type": "markdown",
   "metadata": {},
   "source": [
    "# ============= USER INPUT  ============="
   ]
  },
  {
   "cell_type": "markdown",
   "metadata": {},
   "source": [
    "### LOADING GRID POINT DATA FOR DFEM & GFEM [Created by Hypermesh]"
   ]
  },
  {
   "cell_type": "code",
   "execution_count": 45,
   "metadata": {},
   "outputs": [],
   "source": [
    "dfem_nodes_csv_file = '../Run_M2.51/Fuse_RBE3Nodes.csv'\n",
    "\n",
    "gfem_nodes_csv_file = '../Run_M2.51/Fuse_RBE3Nodes.csv'"
   ]
  },
  {
   "cell_type": "markdown",
   "metadata": {},
   "source": [
    "# DFEM HDF5 [Input file name]"
   ]
  },
  {
   "cell_type": "code",
   "execution_count": 46,
   "metadata": {},
   "outputs": [],
   "source": [
    "h5_file = './sol101_limit/pc12-47-v1-6-static_post-mod_m2.53_limit.h5'"
   ]
  },
  {
   "cell_type": "markdown",
   "metadata": {},
   "source": [
    "# GFEM HDF5 [Input file name]"
   ]
  },
  {
   "cell_type": "code",
   "execution_count": 47,
   "metadata": {},
   "outputs": [],
   "source": [
    "GFEM_h5_file = '../Run_M2.51/pc12-47-v1-6-static_post-mod_m3.1_limit.h5'"
   ]
  },
  {
   "cell_type": "markdown",
   "metadata": {},
   "source": [
    "# =============== END OF USER INPUT ==============="
   ]
  },
  {
   "cell_type": "markdown",
   "metadata": {},
   "source": [
    "# Loading HDF5 FILES"
   ]
  },
  {
   "cell_type": "code",
   "execution_count": 48,
   "metadata": {},
   "outputs": [],
   "source": [
    "store = pd.HDFStore(h5_file, mode='r')"
   ]
  },
  {
   "cell_type": "code",
   "execution_count": 49,
   "metadata": {},
   "outputs": [],
   "source": [
    "gfem_store = pd.HDFStore(GFEM_h5_file, mode='r')"
   ]
  },
  {
   "cell_type": "code",
   "execution_count": 31,
   "metadata": {},
   "outputs": [],
   "source": [
    "dfem_wing_rbe3_nodes = pd.read_csv(dfem_nodes_csv_file)\n",
    "\n",
    "gfem_wing_rbe3_nodes = pd.read_csv(gfem_nodes_csv_file)"
   ]
  },
  {
   "cell_type": "code",
   "execution_count": 9,
   "metadata": {},
   "outputs": [],
   "source": [
    "def get_df(x, eid_array, cols = list('AB')):\n",
    "    \n",
    "    df = pd.DataFrame(x[:,[0,10]],index=eid_array, columns=cols)\n",
    "    \n",
    "    return df"
   ]
  },
  {
   "cell_type": "code",
   "execution_count": 10,
   "metadata": {},
   "outputs": [],
   "source": [
    "def Join_DF(df1,df2):\n",
    "    \n",
    "    if df1.empty == True:\n",
    "        \n",
    "        df1 = df2.copy()\n",
    "        \n",
    "    else :\n",
    "        \n",
    "        df1 = pd.concat([df1, df2], axis=1, sort=False, join_axes=[df1.index])\n",
    "        \n",
    "    return df1"
   ]
  },
  {
   "cell_type": "code",
   "execution_count": 11,
   "metadata": {},
   "outputs": [],
   "source": [
    "def CBAR_ELEMENTAL_FORCES(store):\n",
    "    \n",
    "    df = store.get('/NASTRAN/RESULT/ELEMENTAL/ELEMENT_FORCE/BAR')\n",
    "    \n",
    "    return df"
   ]
  },
  {
   "cell_type": "code",
   "execution_count": 12,
   "metadata": {},
   "outputs": [],
   "source": [
    "def CBEAM_ELEMENTAL_FORCES(store):\n",
    "    \n",
    "    beam_node = store.get_node('/NASTRAN/RESULT/ELEMENTAL/ELEMENT_FORCE/BEAM')\n",
    "\n",
    "    beam_lst_names = beam_node.colnames[1:-1]\n",
    "\n",
    "    res_df = pd.DataFrame({'A' : []})\n",
    "\n",
    "    for x in beam_lst_names:\n",
    "\n",
    "        col_name_a = x + '_A'\n",
    "\n",
    "        col_name_b = x + '_B'\n",
    "\n",
    "        df = get_df(beam_node.col(x), beam_node.col('EID'), cols=[col_name_a, col_name_b])\n",
    "\n",
    "        res_df = Join_DF(res_df, df)\n",
    "        \n",
    "    domain_id_df = pd.DataFrame(beam_node.col('DOMAIN_ID'), index=beam_node.col('EID'), columns=['DOMAIN_ID'])\n",
    "    \n",
    "    res_df = Join_DF(res_df, domain_id_df)\n",
    "    \n",
    "    res_df.index.name = 'EID'\n",
    "    \n",
    "    return res_df"
   ]
  },
  {
   "cell_type": "code",
   "execution_count": 13,
   "metadata": {},
   "outputs": [],
   "source": [
    "def CELAS2_ELEMENTAL_FORCES(store):\n",
    "    \n",
    "    df = store.get('/NASTRAN/RESULT/ELEMENTAL/ELEMENT_FORCE/ELAS2')\n",
    "    \n",
    "    return df"
   ]
  },
  {
   "cell_type": "code",
   "execution_count": 14,
   "metadata": {},
   "outputs": [],
   "source": [
    "def CQUAD4_ELEMENTAL_FORCES(store):\n",
    "    \n",
    "    df = store.get('/NASTRAN/RESULT/ELEMENTAL/ELEMENT_FORCE/QUAD4')\n",
    "    \n",
    "    return df"
   ]
  },
  {
   "cell_type": "code",
   "execution_count": 15,
   "metadata": {},
   "outputs": [],
   "source": [
    "def CROD_ELEMENTAL_FORCES(store):\n",
    "    \n",
    "    df = store.get('/NASTRAN/RESULT/ELEMENTAL/ELEMENT_FORCE/ROD')\n",
    "    \n",
    "    return df"
   ]
  },
  {
   "cell_type": "code",
   "execution_count": 16,
   "metadata": {},
   "outputs": [],
   "source": [
    "def CBUSH_ELEMENTAL_FORCES(store):\n",
    "    \n",
    "    df = store.get('/NASTRAN/RESULT/ELEMENTAL/ELEMENT_FORCE/BUSH')\n",
    "    \n",
    "    return df\n"
   ]
  },
  {
   "cell_type": "code",
   "execution_count": 17,
   "metadata": {},
   "outputs": [],
   "source": [
    "def CSHEAR_ELEMENTAL_FORCES(store):\n",
    "    \n",
    "    df = store.get('/NASTRAN/RESULT/ELEMENTAL/ELEMENT_FORCE/SHEAR')\n",
    "    \n",
    "    return df"
   ]
  },
  {
   "cell_type": "code",
   "execution_count": 18,
   "metadata": {},
   "outputs": [],
   "source": [
    "def CTRIA3_ELEMENTAL_FORCES(store):\n",
    "    \n",
    "    df = store.get('/NASTRAN/RESULT/ELEMENTAL/ELEMENT_FORCE/TRIA3')\n",
    "    \n",
    "    return df"
   ]
  },
  {
   "cell_type": "code",
   "execution_count": 19,
   "metadata": {},
   "outputs": [],
   "source": [
    "def CBAR_ELEMENTAL_STRESS(store):\n",
    "    \n",
    "    df = store.get('/NASTRAN/RESULT/ELEMENTAL/STRESS/BAR')\n",
    "    \n",
    "    return df"
   ]
  },
  {
   "cell_type": "code",
   "execution_count": 20,
   "metadata": {},
   "outputs": [],
   "source": [
    "def CBEAM_ELEMENTAL_STRESS(store):\n",
    "    \n",
    "    beam_node = store.get_node('/NASTRAN/RESULT/ELEMENTAL/STRESS/BEAM')\n",
    "\n",
    "    beam_lst_names = beam_node.colnames[1:-1]\n",
    "\n",
    "    res_df = pd.DataFrame({'A' : []})\n",
    "\n",
    "    for x in beam_lst_names:\n",
    "\n",
    "        col_name_a = x + '_A'\n",
    "\n",
    "        col_name_b = x + '_B'\n",
    "\n",
    "        df = get_df(beam_node.col(x), beam_node.col('EID'), cols=[col_name_a, col_name_b])\n",
    "\n",
    "        res_df = Join_DF(res_df, df)\n",
    "        \n",
    "    domain_id_df = pd.DataFrame(beam_node.col('DOMAIN_ID'), index=beam_node.col('EID'), columns=['DOMAIN_ID'])\n",
    "    \n",
    "    res_df.index.name = 'EID'\n",
    "    \n",
    "    res_df = Join_DF(res_df, domain_id_df)\n",
    "    \n",
    "    return res_df"
   ]
  },
  {
   "cell_type": "code",
   "execution_count": 21,
   "metadata": {},
   "outputs": [],
   "source": [
    "def CELAS2_ELEMENTAL_STRESS(store):\n",
    "    \n",
    "    df = store.get('/NASTRAN/RESULT/ELEMENTAL/STRESS/ELAS2')\n",
    "    \n",
    "    return df"
   ]
  },
  {
   "cell_type": "code",
   "execution_count": 22,
   "metadata": {},
   "outputs": [],
   "source": [
    "def CQUAD4_ELEMENTAL_STRESS(store):\n",
    "    \n",
    "    df = store.get('/NASTRAN/RESULT/ELEMENTAL/STRESS/QUAD4')\n",
    "    \n",
    "    return df"
   ]
  },
  {
   "cell_type": "code",
   "execution_count": 23,
   "metadata": {},
   "outputs": [],
   "source": [
    "def CROD_ELEMENTAL_STRESS(store):\n",
    "    \n",
    "    df = store.get('/NASTRAN/RESULT/ELEMENTAL/STRESS/ROD')\n",
    "    \n",
    "    return df"
   ]
  },
  {
   "cell_type": "code",
   "execution_count": 24,
   "metadata": {},
   "outputs": [],
   "source": [
    "def CSHEAR_ELEMENTAL_STRESS(store):\n",
    "    \n",
    "    df = store.get('/NASTRAN/RESULT/ELEMENTAL/STRESS/SHEAR')\n",
    "    \n",
    "    return df"
   ]
  },
  {
   "cell_type": "code",
   "execution_count": 25,
   "metadata": {},
   "outputs": [],
   "source": [
    "def CTRIA3_ELEMENTAL_STRESS(store):\n",
    "    \n",
    "    df = store.get('/NASTRAN/RESULT/ELEMENTAL/STRESS/TRIA3')\n",
    "    \n",
    "    return df"
   ]
  },
  {
   "cell_type": "markdown",
   "metadata": {},
   "source": [
    "# DOMAIN_ID Mapping to SUBCASE"
   ]
  },
  {
   "cell_type": "code",
   "execution_count": 26,
   "metadata": {},
   "outputs": [],
   "source": [
    "domain_results  =  store.get('/NASTRAN/RESULT/DOMAINS')\n",
    "\n",
    "domain_results = domain_results.loc[:, ['ID', 'SUBCASE']].copy()\n",
    "\n",
    "domain_results.set_index('ID', inplace=True)\n",
    "\n",
    "subcase_mapping = domain_results.to_dict()\n",
    "\n",
    "# subcase_mapping['SUBCASE']"
   ]
  },
  {
   "cell_type": "markdown",
   "metadata": {},
   "source": [
    "# GRID POINT EXTRACTION"
   ]
  },
  {
   "cell_type": "code",
   "execution_count": 27,
   "metadata": {},
   "outputs": [],
   "source": [
    "def GP_NODAL_DISPLACEMENT(store):\n",
    "    \n",
    "    df = store.get('/NASTRAN/RESULT/NODAL/DISPLACEMENT')\n",
    "    \n",
    "    return df"
   ]
  },
  {
   "cell_type": "code",
   "execution_count": 28,
   "metadata": {},
   "outputs": [],
   "source": [
    "all_gp_dispacements = GP_NODAL_DISPLACEMENT(store)\n",
    "\n",
    "# gp_dispacements.head()"
   ]
  },
  {
   "cell_type": "markdown",
   "metadata": {},
   "source": [
    "### custom function to extract grid point forces for selected nodes."
   ]
  },
  {
   "cell_type": "code",
   "execution_count": 29,
   "metadata": {},
   "outputs": [],
   "source": [
    "def Custom_GP_Forces(all_gp_df, wing_gp_nodes_df ):\n",
    "\n",
    "    filter_bool = all_gp_df.ID.isin(wing_gp_nodes_df.dependentnode.tolist())\n",
    "\n",
    "    gp_dispacements = all_gp_df[filter_bool == True].copy()\n",
    "\n",
    "    # gp_dispacements.head()\n",
    "\n",
    "    gp_dispacements['SUBCASE'] = gp_dispacements.DOMAIN_ID.map(subcase_mapping['SUBCASE']).copy()\n",
    "\n",
    "    # gp_dispacements.head()\n",
    "\n",
    "    take_slice = wing_gp_nodes_df[['dependentnode', 'globalx', 'globaly', 'globalz']].copy()\n",
    "\n",
    "    take_slice.columns = ['ID', 'X_Cord', 'Y_Cord', 'Z_Cord']\n",
    "\n",
    "    # take_slice.head()\n",
    "\n",
    "    merged_df  = gp_dispacements.merge(take_slice, on=['ID'], how='outer')\n",
    "\n",
    "    # merged_df.head()\n",
    "\n",
    "    merged_df.columns = ['DEPENDENT_NODE', 'X', 'Y', 'Z', 'RX', 'RY', 'RZ', 'DOMAIN_ID', 'SUBCASE', 'X_Cord',\n",
    "           'Y_Cord', 'Z_Cord']\n",
    "\n",
    "    # merged_df.head()\n",
    "\n",
    "    merged_df['Rx_in_Degree'] = merged_df.RX * (180.0/np.pi)\n",
    "\n",
    "    merged_df['Ry_in_Degree'] = merged_df.RY * (180.0/np.pi)\n",
    "\n",
    "    merged_df['Rz_in_Degree'] = merged_df.RZ * (180.0/np.pi)\n",
    "    \n",
    "    # merged_df.to_csv('DFEM_wing_displacements.csv')\n",
    "    \n",
    "    return merged_df"
   ]
  },
  {
   "cell_type": "code",
   "execution_count": 32,
   "metadata": {},
   "outputs": [],
   "source": [
    "def Custom_Switch_X_to_Y(df):\n",
    "    \n",
    "    new_column_order = ['DEPENDENT_NODE', 'X', 'Y', 'Z', 'RX', 'RY', 'RZ', 'DOMAIN_ID',\n",
    "       'SUBCASE', 'Y_Cord', 'X_Cord', 'Z_Cord', 'Rx_in_Degree', 'Ry_in_Degree',\n",
    "       'Rz_in_Degree']\n",
    "    \n",
    "    df = df.reindex(columns=new_column_order).copy()\n",
    "    \n",
    "    return df"
   ]
  },
  {
   "cell_type": "code",
   "execution_count": 33,
   "metadata": {},
   "outputs": [],
   "source": [
    "# dfem_wing_rbe3_nodes = dfem_wing_rbe3_nodes[(dfem_wing_rbe3_nodes[['globalx', 'globaly', 'globalz']] != 0).all(axis=1)].copy()"
   ]
  },
  {
   "cell_type": "code",
   "execution_count": 34,
   "metadata": {},
   "outputs": [],
   "source": [
    "# dfem_wing_rbe3_nodes.head()"
   ]
  },
  {
   "cell_type": "code",
   "execution_count": 35,
   "metadata": {},
   "outputs": [],
   "source": [
    "dfem_extraction_df = Custom_GP_Forces(all_gp_dispacements, dfem_wing_rbe3_nodes)\n",
    "\n",
    "dfem_extraction_df = Custom_Switch_X_to_Y(dfem_extraction_df)\n",
    "\n",
    "# dfem_extraction_df.head()"
   ]
  },
  {
   "cell_type": "code",
   "execution_count": 120,
   "metadata": {},
   "outputs": [],
   "source": [
    "# df = pd.DataFrame({'a':np.random.randn(3), 'b': np.random.randn(3), 'c':np.random.randn(3)})\n",
    "\n",
    "# df.head()"
   ]
  },
  {
   "cell_type": "code",
   "execution_count": 121,
   "metadata": {},
   "outputs": [],
   "source": [
    "# df = df.reindex(columns=['c','a','b'])\n",
    "\n",
    "# df.head()"
   ]
  },
  {
   "cell_type": "code",
   "execution_count": 36,
   "metadata": {},
   "outputs": [],
   "source": [
    "all_gfem_gp_displacemnts = GP_NODAL_DISPLACEMENT(gfem_store)"
   ]
  },
  {
   "cell_type": "code",
   "execution_count": 37,
   "metadata": {},
   "outputs": [],
   "source": [
    "gfem_extraction_df = Custom_GP_Forces(all_gfem_gp_displacemnts, gfem_wing_rbe3_nodes)\n",
    "\n",
    "gfem_extraction_df = Custom_Switch_X_to_Y(gfem_extraction_df)\n",
    "\n",
    "# gfem_extraction_df.head()"
   ]
  },
  {
   "cell_type": "code",
   "execution_count": 38,
   "metadata": {},
   "outputs": [],
   "source": [
    "with pd.ExcelWriter('FUSE_NODE_DISPLACEMENT_EXTRACTION.xlsx') as writer:\n",
    "    \n",
    "    dfem_extraction_df.to_excel(writer, sheet_name='DFEM_EXTRACTION')\n",
    "    \n",
    "    gfem_extraction_df.to_excel(writer, sheet_name='GFEM_EXTRACTION')"
   ]
  },
  {
   "cell_type": "code",
   "execution_count": 39,
   "metadata": {},
   "outputs": [],
   "source": [
    "merged_df = dfem_extraction_df.merge(gfem_extraction_df, on=['DEPENDENT_NODE'], suffixes=('_DFEM', '_GFEM'))\n",
    "\n",
    "# merged_df.head()\n",
    "\n",
    "with pd.ExcelWriter('FUSE_NODE_DISPLACEMENT_EXTRACTION_COMBINED.xlsx') as writer:\n",
    "    \n",
    "    merged_df.to_excel(writer, sheet_name='COMBINED_DGFEM_EXTRACTION')"
   ]
  },
  {
   "cell_type": "markdown",
   "metadata": {},
   "source": [
    "# Close the Entire Store HDF5"
   ]
  },
  {
   "cell_type": "code",
   "execution_count": 52,
   "metadata": {},
   "outputs": [],
   "source": [
    "# closing the dfem store\n",
    "store.close()\n",
    "\n",
    "# closing the gfem store\n",
    "gfem_store.close()"
   ]
  },
  {
   "cell_type": "code",
   "execution_count": 41,
   "metadata": {},
   "outputs": [
    {
     "name": "stdout",
     "output_type": "stream",
     "text": [
      "END OF PYTHON RUN.\n"
     ]
    }
   ],
   "source": [
    "print('END OF PYTHON RUN.')"
   ]
  },
  {
   "cell_type": "code",
   "execution_count": 85,
   "metadata": {},
   "outputs": [
    {
     "name": "stdout",
     "output_type": "stream",
     "text": [
      "C:\\ALL_DATA\\URGummitha\\Desktop\\Post_Mod-2\\Run_M2.54\\sol101_ult\n"
     ]
    },
    {
     "data": {
      "text/plain": [
       "array([[  2.95823608,   6.06008601,  -3.59103584,   6.40567774,\n",
       "          6.06572712,  -3.58671954,   6.39568097],\n",
       "       [-11.09674679, -12.55657598, -10.26080829, -10.47302863,\n",
       "        -12.55456655, -10.27519106, -10.46031023]])"
      ]
     },
     "execution_count": 85,
     "metadata": {},
     "output_type": "execute_result"
    }
   ],
   "source": [
    "%cd C:\\ALL_DATA\\URGummitha\\Desktop\\Post_Mod-2\\Run_M2.54\\sol101_ult\n",
    "\n",
    "store = pd.HDFStore('./pc12-47-v1-6-static_post-mod_m2.54_ult.h5', mode='r')\n",
    "\n",
    "store.keys()\n",
    "\n",
    "solid_stress_node = store.get_node('/NASTRAN/RESULT/ELEMENTAL/STRESS/HEXA')\n",
    "\n",
    "x_data = solid_stress_node.col('X')\n",
    "\n",
    "x_data[1,:]\n",
    "\n",
    "penta_stress_node  = store.get_node('/NASTRAN/RESULT/ELEMENTAL/STRESS/PENTA')\n",
    "\n",
    "penta_stress_node.cols\n",
    "\n",
    "x_data_penta = penta_stress_node.col('X')\n",
    "\n",
    "x_data_penta[:2,:]\n",
    "\n",
    "# store.close()"
   ]
  },
  {
   "cell_type": "code",
   "execution_count": 86,
   "metadata": {},
   "outputs": [
    {
     "data": {
      "text/plain": [
       "['/NASTRAN/INPUT/DOMAINS',\n",
       " '/NASTRAN/RESULT/DOMAINS',\n",
       " '/NASTRAN/RESULT/NODAL/APPLIED_LOAD',\n",
       " '/NASTRAN/RESULT/NODAL/DISPLACEMENT',\n",
       " '/NASTRAN/RESULT/NODAL/GRID_FORCE',\n",
       " '/NASTRAN/RESULT/NODAL/GRID_WEIGHT',\n",
       " '/NASTRAN/RESULT/NODAL/MPC_FORCE',\n",
       " '/NASTRAN/RESULT/NODAL/SPC_FORCE',\n",
       " '/NASTRAN/RESULT/ELEMENTAL/ELEMENT_FORCE/BAR',\n",
       " '/NASTRAN/RESULT/ELEMENTAL/ELEMENT_FORCE/BEAM',\n",
       " '/NASTRAN/RESULT/ELEMENTAL/ELEMENT_FORCE/BUSH',\n",
       " '/NASTRAN/RESULT/ELEMENTAL/ELEMENT_FORCE/ELAS2',\n",
       " '/NASTRAN/RESULT/ELEMENTAL/ELEMENT_FORCE/QUAD4',\n",
       " '/NASTRAN/RESULT/ELEMENTAL/ELEMENT_FORCE/ROD',\n",
       " '/NASTRAN/RESULT/ELEMENTAL/ELEMENT_FORCE/SHEAR',\n",
       " '/NASTRAN/RESULT/ELEMENTAL/ELEMENT_FORCE/TRIA3',\n",
       " '/NASTRAN/RESULT/ELEMENTAL/STRESS/BAR',\n",
       " '/NASTRAN/RESULT/ELEMENTAL/STRESS/BEAM',\n",
       " '/NASTRAN/RESULT/ELEMENTAL/STRESS/BUSH',\n",
       " '/NASTRAN/RESULT/ELEMENTAL/STRESS/ELAS2',\n",
       " '/NASTRAN/RESULT/ELEMENTAL/STRESS/HEXA',\n",
       " '/NASTRAN/RESULT/ELEMENTAL/STRESS/PENTA',\n",
       " '/NASTRAN/RESULT/ELEMENTAL/STRESS/QUAD4',\n",
       " '/NASTRAN/RESULT/ELEMENTAL/STRESS/ROD',\n",
       " '/NASTRAN/RESULT/ELEMENTAL/STRESS/SHEAR',\n",
       " '/NASTRAN/RESULT/ELEMENTAL/STRESS/TETRA',\n",
       " '/NASTRAN/RESULT/ELEMENTAL/STRESS/TRIA3',\n",
       " '/NASTRAN/INPUT/CONSTRAINT/SPC',\n",
       " '/NASTRAN/INPUT/COORDINATE_SYSTEM/CORD2C',\n",
       " '/NASTRAN/INPUT/COORDINATE_SYSTEM/CORD2R',\n",
       " '/NASTRAN/INPUT/COORDINATE_SYSTEM/CORD2S',\n",
       " '/NASTRAN/INPUT/ELEMENT/CBAR',\n",
       " '/NASTRAN/INPUT/ELEMENT/CBEAM',\n",
       " '/NASTRAN/INPUT/ELEMENT/CBUSH',\n",
       " '/NASTRAN/INPUT/ELEMENT/CELAS2',\n",
       " '/NASTRAN/INPUT/ELEMENT/CHEXA',\n",
       " '/NASTRAN/INPUT/ELEMENT/CPENTA',\n",
       " '/NASTRAN/INPUT/ELEMENT/CQUAD4',\n",
       " '/NASTRAN/INPUT/ELEMENT/CROD',\n",
       " '/NASTRAN/INPUT/ELEMENT/CSHEAR',\n",
       " '/NASTRAN/INPUT/ELEMENT/CTETRA',\n",
       " '/NASTRAN/INPUT/ELEMENT/CTRIA3',\n",
       " '/NASTRAN/INPUT/ELEMENT/PLOTEL',\n",
       " '/NASTRAN/INPUT/ELEMENT/RBAR',\n",
       " '/NASTRAN/INPUT/LOAD/FORCE',\n",
       " '/NASTRAN/INPUT/LOAD/MOMENT',\n",
       " '/NASTRAN/INPUT/LOAD/PLOAD2',\n",
       " '/NASTRAN/INPUT/LOAD/PLOAD4',\n",
       " '/NASTRAN/INPUT/MATERIAL/MAT1',\n",
       " '/NASTRAN/INPUT/MATERIAL/MAT4',\n",
       " '/NASTRAN/INPUT/MATERIAL/MAT8',\n",
       " '/NASTRAN/INPUT/NODE/GRID',\n",
       " '/NASTRAN/INPUT/PARAMETER/MDLPRM',\n",
       " '/NASTRAN/INPUT/PROPERTY/PBAR',\n",
       " '/NASTRAN/INPUT/PROPERTY/PBEAM',\n",
       " '/NASTRAN/INPUT/PROPERTY/PBUSH',\n",
       " '/NASTRAN/INPUT/PROPERTY/PROD',\n",
       " '/NASTRAN/INPUT/PROPERTY/PSHEAR',\n",
       " '/NASTRAN/INPUT/PROPERTY/PSHELL',\n",
       " '/NASTRAN/INPUT/PROPERTY/PSOLID',\n",
       " '/NASTRAN/INPUT/PARAMETER/CASECC/MEMIDS',\n",
       " '/NASTRAN/INPUT/PARAMETER/CASECC/SETS',\n",
       " '/NASTRAN/INPUT/PARAMETER/CASECC/SUBCASE',\n",
       " '/NASTRAN/INPUT/PARAMETER/PVT/CHAR',\n",
       " '/NASTRAN/INPUT/PARAMETER/PVT/DOUBLE',\n",
       " '/NASTRAN/INPUT/PARAMETER/PVT/INT',\n",
       " '/NASTRAN/INPUT/LOAD/LOAD/IDENTITY',\n",
       " '/NASTRAN/INPUT/LOAD/LOAD/SFACTORS',\n",
       " '/NASTRAN/INPUT/ELEMENT/RBE2/GM',\n",
       " '/NASTRAN/INPUT/ELEMENT/RBE2/RB',\n",
       " '/NASTRAN/INPUT/ELEMENT/RBE3/G',\n",
       " '/NASTRAN/INPUT/ELEMENT/RBE3/IDENTITY',\n",
       " '/NASTRAN/INPUT/ELEMENT/RBE3/WTCG',\n",
       " '/NASTRAN/INPUT/COORDINATE_SYSTEM/TRANSFORMATION/IDENTITY',\n",
       " '/NASTRAN/INPUT/COORDINATE_SYSTEM/TRANSFORMATION/RDATA',\n",
       " '/NASTRAN/INPUT/CONSTRAINT/MPC/GCA',\n",
       " '/NASTRAN/INPUT/CONSTRAINT/MPC/IDENTITY',\n",
       " '/INDEX/NASTRAN/RESULT/NODAL/APPLIED_LOAD',\n",
       " '/INDEX/NASTRAN/RESULT/NODAL/DISPLACEMENT',\n",
       " '/INDEX/NASTRAN/RESULT/NODAL/GRID_FORCE',\n",
       " '/INDEX/NASTRAN/RESULT/NODAL/GRID_WEIGHT',\n",
       " '/INDEX/NASTRAN/RESULT/NODAL/MPC_FORCE',\n",
       " '/INDEX/NASTRAN/RESULT/NODAL/SPC_FORCE',\n",
       " '/INDEX/NASTRAN/RESULT/ELEMENTAL/ELEMENT_FORCE/BAR',\n",
       " '/INDEX/NASTRAN/RESULT/ELEMENTAL/ELEMENT_FORCE/BEAM',\n",
       " '/INDEX/NASTRAN/RESULT/ELEMENTAL/ELEMENT_FORCE/BUSH',\n",
       " '/INDEX/NASTRAN/RESULT/ELEMENTAL/ELEMENT_FORCE/ELAS2',\n",
       " '/INDEX/NASTRAN/RESULT/ELEMENTAL/ELEMENT_FORCE/QUAD4',\n",
       " '/INDEX/NASTRAN/RESULT/ELEMENTAL/ELEMENT_FORCE/ROD',\n",
       " '/INDEX/NASTRAN/RESULT/ELEMENTAL/ELEMENT_FORCE/SHEAR',\n",
       " '/INDEX/NASTRAN/RESULT/ELEMENTAL/ELEMENT_FORCE/TRIA3',\n",
       " '/INDEX/NASTRAN/RESULT/ELEMENTAL/STRESS/BAR',\n",
       " '/INDEX/NASTRAN/RESULT/ELEMENTAL/STRESS/BEAM',\n",
       " '/INDEX/NASTRAN/RESULT/ELEMENTAL/STRESS/BUSH',\n",
       " '/INDEX/NASTRAN/RESULT/ELEMENTAL/STRESS/ELAS2',\n",
       " '/INDEX/NASTRAN/RESULT/ELEMENTAL/STRESS/HEXA',\n",
       " '/INDEX/NASTRAN/RESULT/ELEMENTAL/STRESS/PENTA',\n",
       " '/INDEX/NASTRAN/RESULT/ELEMENTAL/STRESS/QUAD4',\n",
       " '/INDEX/NASTRAN/RESULT/ELEMENTAL/STRESS/ROD',\n",
       " '/INDEX/NASTRAN/RESULT/ELEMENTAL/STRESS/SHEAR',\n",
       " '/INDEX/NASTRAN/RESULT/ELEMENTAL/STRESS/TETRA',\n",
       " '/INDEX/NASTRAN/RESULT/ELEMENTAL/STRESS/TRIA3']"
      ]
     },
     "execution_count": 86,
     "metadata": {},
     "output_type": "execute_result"
    }
   ],
   "source": [
    "store.keys()"
   ]
  },
  {
   "cell_type": "code",
   "execution_count": 88,
   "metadata": {},
   "outputs": [],
   "source": [
    "node_data_node = store.get_node('/NASTRAN/INPUT/NODE/GRID')"
   ]
  },
  {
   "cell_type": "code",
   "execution_count": 89,
   "metadata": {},
   "outputs": [
    {
     "data": {
      "text/plain": [
       "/NASTRAN/INPUT/NODE/GRID.cols (Cols), 7 columns\n",
       "  ID (Column(1533265,), int64)\n",
       "  CP (Column(1533265,), int64)\n",
       "  X (Column(1533265, 3), ('<f8', (3,)))\n",
       "  CD (Column(1533265,), int64)\n",
       "  PS (Column(1533265,), int64)\n",
       "  SEID (Column(1533265,), int64)\n",
       "  DOMAIN_ID (Column(1533265,), int64)"
      ]
     },
     "execution_count": 89,
     "metadata": {},
     "output_type": "execute_result"
    }
   ],
   "source": [
    "node_data_node.cols"
   ]
  },
  {
   "cell_type": "code",
   "execution_count": 90,
   "metadata": {},
   "outputs": [],
   "source": [
    "id_data, cp_data, cd_data = node_data_node.col('ID'), node_data_node.col('CP'),node_data_node.col('CD')"
   ]
  },
  {
   "cell_type": "code",
   "execution_count": 94,
   "metadata": {},
   "outputs": [],
   "source": [
    "df = pd.DataFrame([pd.Series(id_data), pd.Series(cp_data), pd.Series(cd_data)])"
   ]
  },
  {
   "cell_type": "code",
   "execution_count": null,
   "metadata": {},
   "outputs": [],
   "source": [
    "id_ser = pd.Series(id_data)"
   ]
  },
  {
   "cell_type": "code",
   "execution_count": 111,
   "metadata": {},
   "outputs": [],
   "source": [
    "df = pd.DataFrame(id_ser, columns=['ID'])"
   ]
  },
  {
   "cell_type": "code",
   "execution_count": 112,
   "metadata": {},
   "outputs": [
    {
     "data": {
      "text/html": [
       "<div>\n",
       "<style scoped>\n",
       "    .dataframe tbody tr th:only-of-type {\n",
       "        vertical-align: middle;\n",
       "    }\n",
       "\n",
       "    .dataframe tbody tr th {\n",
       "        vertical-align: top;\n",
       "    }\n",
       "\n",
       "    .dataframe thead th {\n",
       "        text-align: right;\n",
       "    }\n",
       "</style>\n",
       "<table border=\"1\" class=\"dataframe\">\n",
       "  <thead>\n",
       "    <tr style=\"text-align: right;\">\n",
       "      <th></th>\n",
       "      <th>ID</th>\n",
       "    </tr>\n",
       "  </thead>\n",
       "  <tbody>\n",
       "    <tr>\n",
       "      <th>0</th>\n",
       "      <td>1</td>\n",
       "    </tr>\n",
       "    <tr>\n",
       "      <th>1</th>\n",
       "      <td>3</td>\n",
       "    </tr>\n",
       "    <tr>\n",
       "      <th>2</th>\n",
       "      <td>5</td>\n",
       "    </tr>\n",
       "    <tr>\n",
       "      <th>3</th>\n",
       "      <td>7</td>\n",
       "    </tr>\n",
       "    <tr>\n",
       "      <th>4</th>\n",
       "      <td>9</td>\n",
       "    </tr>\n",
       "  </tbody>\n",
       "</table>\n",
       "</div>"
      ],
      "text/plain": [
       "   ID\n",
       "0   1\n",
       "1   3\n",
       "2   5\n",
       "3   7\n",
       "4   9"
      ]
     },
     "execution_count": 112,
     "metadata": {},
     "output_type": "execute_result"
    }
   ],
   "source": [
    "df.head()"
   ]
  },
  {
   "cell_type": "code",
   "execution_count": null,
   "metadata": {},
   "outputs": [],
   "source": []
  }
 ],
 "metadata": {
  "kernelspec": {
   "display_name": "Python 3",
   "language": "python",
   "name": "python3"
  },
  "language_info": {
   "codemirror_mode": {
    "name": "ipython",
    "version": 3
   },
   "file_extension": ".py",
   "mimetype": "text/x-python",
   "name": "python",
   "nbconvert_exporter": "python",
   "pygments_lexer": "ipython3",
   "version": "3.6.5"
  }
 },
 "nbformat": 4,
 "nbformat_minor": 2
}
