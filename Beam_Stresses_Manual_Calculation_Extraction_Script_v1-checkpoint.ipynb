{
 "cells": [
  {
   "cell_type": "code",
   "execution_count": null,
   "metadata": {},
   "outputs": [],
   "source": [
    "import os\n",
    "import glob\n",
    "import numpy as np\n",
    "import pandas as pd\n",
    "import pyNastran\n",
    "from pyNastran.op2.op2 import OP2\n",
    "from pyNastran.bdf.bdf import BDF"
   ]
  },
  {
   "cell_type": "code",
   "execution_count": null,
   "metadata": {},
   "outputs": [],
   "source": [
    "def ReadOP2Files(path):\n",
    "    path = path + '*.op2'\n",
    "    print('Given File path is : \\n' , path , '\\n')\n",
    "    op2ListName = glob.glob(path)\n",
    "    print('Found the following list of OP2 Files: \\n')\n",
    "    print('========================================', '\\n')\n",
    "    op2ListName\n",
    "    dictOP2FileList = {}\n",
    "    for i in range(len(op2ListName)):\n",
    "        #print(colors[i])\n",
    "        dictOP2FileList[os.path.splitext(os.path.basename(op2ListName[i]))[0]] = op2ListName[i]\n",
    "        #print(os.path.basename(op2ListName[i]), op2ListName[i])\n",
    "        #print(os.path.splitext(os.path.basename(op2ListName[i])))\n",
    "    return dictOP2FileList"
   ]
  },
  {
   "cell_type": "code",
   "execution_count": null,
   "metadata": {},
   "outputs": [],
   "source": [
    "def ReadOP2File(op2FileName):\n",
    "    preOP2Model = OP2()\n",
    "    preOP2File = op2FileName\n",
    "    # Load Pre OP2 File\n",
    "    preOP2Model.read_op2(preOP2File, build_dataframe=True)\n",
    "    return preOP2Model"
   ]
  },
  {
   "cell_type": "code",
   "execution_count": null,
   "metadata": {},
   "outputs": [],
   "source": [
    "def ReadBDFFile(bdfFileName):\n",
    "    fileName = os.path.splitext(bdfFileName)[0] + '.bdf'\n",
    "    model = BDF()\n",
    "    model.read_bdf(fileName,xref=True)\n",
    "    return model"
   ]
  },
  {
   "cell_type": "code",
   "execution_count": null,
   "metadata": {},
   "outputs": [],
   "source": [
    "def ReadLoadcases(preOP2Model):\n",
    "    print(preOP2Model.get_op2_stats(short=True))\n",
    "    preLCs = list(preOP2Model.cshear_stress.keys())\n",
    "    return preLCs"
   ]
  },
  {
   "cell_type": "code",
   "execution_count": null,
   "metadata": {},
   "outputs": [],
   "source": [
    "# Function Which creates new index for Shear Stress individual loadcase\n",
    "def newShearIndex(lc):\n",
    "    colReInx = pd.MultiIndex.from_tuples([(lc, 'max_shear'), (lc, 'avg_shear'), (lc, 'margin')])\n",
    "    return colReInx"
   ]
  },
  {
   "cell_type": "code",
   "execution_count": null,
   "metadata": {},
   "outputs": [],
   "source": [
    "def ReadShearStressResults(preOP2Model):\n",
    "    preLCs = ReadLoadcases(preOP2Model)\n",
    "    # Start with an empty dataframe [note: Logic to be changed later]\n",
    "    cShearResultDF_Pre = pd.DataFrame({'A' : []})\n",
    "    for lc in preLCs:\n",
    "        tempDF = preOP2Model.cshear_stress[lc].data_frame\n",
    "        tempDF = tempDF.unstack(level=0).T\n",
    "        tempDF1 = tempDF.reindex(columns=newShearIndex(lc), level=1)\n",
    "        if cShearResultDF_Pre.empty == False:\n",
    "            cShearResultDF_Pre = pd.concat([cShearResultDF_Pre, tempDF1], axis=1,sort=False)\n",
    "        else :\n",
    "            cShearResultDF_Pre = tempDF1.copy()\n",
    "    return cShearResultDF_Pre"
   ]
  },
  {
   "cell_type": "code",
   "execution_count": null,
   "metadata": {},
   "outputs": [],
   "source": [
    "# Function Which creates new index for Bar Stress individual loadcase\n",
    "def newBarIndex(lc):\n",
    "    colReInx = pd.MultiIndex.from_tuples([(lc, 's1a'), (lc, 's2a'), (lc, 's3a'), (lc, 's4a'), (lc, 'axial'), (lc, 'smaxa'), (lc, 'smina'), (lc, 'MS_tension'), (lc, 's1b'), (lc, 's2b'), (lc, 's3b'), (lc, 's4b'), (lc, 'smaxb'), (lc, 'sminb'), (lc, 'MS_compression')])\n",
    "    return colReInx"
   ]
  },
  {
   "cell_type": "code",
   "execution_count": null,
   "metadata": {},
   "outputs": [],
   "source": [
    "def ReadBarStressResults(preOP2Model):\n",
    "    preLCs = ReadLoadcases(preOP2Model)\n",
    "    # Start with an empty dataframe [note: Logic to be changed later]\n",
    "    cBarResultDF_Pre = pd.DataFrame({'A' : []})\n",
    "    for lc in preLCs:\n",
    "        tempDF = preOP2Model.cbar_stress[lc].data_frame\n",
    "        tempDF = tempDF.unstack(level=0).T\n",
    "        tempDF1 = tempDF.reindex(columns=newBarIndex(lc), level=1)\n",
    "        if cBarResultDF_Pre.empty == False:\n",
    "            cBarResultDF_Pre = pd.concat([cBarResultDF_Pre, tempDF1], axis=1,sort=False)\n",
    "        else :\n",
    "            cBarResultDF_Pre = tempDF1.copy()\n",
    "    return cBarResultDF_Pre\n",
    "    "
   ]
  },
  {
   "cell_type": "code",
   "execution_count": null,
   "metadata": {},
   "outputs": [],
   "source": [
    "# Function Which creates new index for Bar Stress individual loadcase\n",
    "def newBarIndex_Axial(lc):\n",
    "    colReInx = pd.MultiIndex.from_tuples([ (lc, 'axial')])\n",
    "    return colReInx"
   ]
  },
  {
   "cell_type": "code",
   "execution_count": null,
   "metadata": {},
   "outputs": [],
   "source": [
    "def ReadBarAxialStressResuls(preOP2Model):\n",
    "    preLCs = ReadLoadcases(preOP2Model)\n",
    "    # Start with an empty dataframe [note: Logic to be changed later]\n",
    "    cBarResultDF_Pre_Axial = pd.DataFrame({'A' : []})\n",
    "    for lc in preLCs:\n",
    "        tempDF = preOP2Model.cbar_stress[lc].data_frame\n",
    "        tempDF = tempDF.unstack(level=0).T\n",
    "        tempDF1 = tempDF.reindex(columns=newBarIndex_Axial(lc), level=1)\n",
    "        if cBarResultDF_Pre_Axial.empty == False:\n",
    "            cBarResultDF_Pre_Axial = pd.concat([cBarResultDF_Pre_Axial, tempDF1], axis=1,sort=False)\n",
    "        else :\n",
    "            cBarResultDF_Pre_Axial = tempDF1.copy()    \n",
    "    return cBarResultDF_Pre_Axial"
   ]
  },
  {
   "cell_type": "code",
   "execution_count": null,
   "metadata": {},
   "outputs": [],
   "source": [
    "# Function Which creates new index for Quad Stress individual loadcase\n",
    "def newQUADIndex_Fx(lc):\n",
    "    colReInx = pd.MultiIndex.from_tuples([ (lc, 'oxx')])\n",
    "    return colReInx\n",
    "# Function Which creates new index for Quad Stress individual loadcase\n",
    "def newQUADIndex_Fy(lc):\n",
    "    colReInx = pd.MultiIndex.from_tuples([ (lc, 'oyy')])\n",
    "    return colReInx\n",
    "# Function Which creates new index for Quad Stress individual loadcase\n",
    "def newQUADIndex_Fxy(lc):\n",
    "    colReInx = pd.MultiIndex.from_tuples([ (lc, 'txy')])\n",
    "    return colReInx"
   ]
  },
  {
   "cell_type": "code",
   "execution_count": null,
   "metadata": {},
   "outputs": [],
   "source": [
    "def ReadShellFxResults(preOP2Model):\n",
    "    preLCs = ReadLoadcases(preOP2Model)    \n",
    "    # Start with an empty dataframe [note: Logic to be changed later]\n",
    "    cShellResultDF_Pre_Fx = pd.DataFrame({'A' : []})\n",
    "    for lc in preLCs:\n",
    "        tempDF = preOP2Model.cquad4_stress[lc].data_frame\n",
    "        tempDF1 = tempDF.reindex(columns=newQUADIndex_Fx(lc), level=1)\n",
    "        if cShellResultDF_Pre_Fx.empty == False:\n",
    "            cShellResultDF_Pre_Fx = pd.concat([cShellResultDF_Pre_Fx, tempDF1], axis=1,sort=False)\n",
    "        else :\n",
    "            cShellResultDF_Pre_Fx = tempDF1.copy()    \n",
    "    return cShellResultDF_Pre_Fx"
   ]
  },
  {
   "cell_type": "code",
   "execution_count": null,
   "metadata": {},
   "outputs": [],
   "source": [
    "def ReadShellFyResults(preOP2Model):\n",
    "    preLCs = ReadLoadcases(preOP2Model)     \n",
    "    # Start with an empty dataframe [note: Logic to be changed later]\n",
    "    cShellResultDF_Pre_Fy = pd.DataFrame({'A' : []})\n",
    "    for lc in preLCs:\n",
    "        tempDF = preOP2Model.cquad4_stress[lc].data_frame\n",
    "        tempDF1 = tempDF.reindex(columns=newQUADIndex_Fy(lc), level=1)\n",
    "        if cShellResultDF_Pre_Fy.empty == False:\n",
    "            cShellResultDF_Pre_Fy = pd.concat([cShellResultDF_Pre_Fy, tempDF1], axis=1,sort=False)\n",
    "        else :\n",
    "            cShellResultDF_Pre_Fy = tempDF1.copy()\n",
    "    return cShellResultDF_Pre_Fy    "
   ]
  },
  {
   "cell_type": "code",
   "execution_count": null,
   "metadata": {},
   "outputs": [],
   "source": [
    "def ReadShellFxyResults(preOP2Model):\n",
    "    preLCs = ReadLoadcases(preOP2Model)    \n",
    "    # Start with an empty dataframe [note: Logic to be changed later]\n",
    "    cShellResultDF_Pre_Fxy = pd.DataFrame({'A' : []})\n",
    "    for lc in preLCs:\n",
    "        tempDF = preOP2Model.cquad4_stress[lc].data_frame\n",
    "        tempDF1 = tempDF.reindex(columns=newQUADIndex_Fxy(lc), level=1)\n",
    "        if cShellResultDF_Pre_Fxy.empty == False:\n",
    "            cShellResultDF_Pre_Fxy = pd.concat([cShellResultDF_Pre_Fxy, tempDF1], axis=1,sort=False)\n",
    "        else :\n",
    "            cShellResultDF_Pre_Fxy = tempDF1.copy()\n",
    "    return cShellResultDF_Pre_Fxy"
   ]
  },
  {
   "cell_type": "code",
   "execution_count": null,
   "metadata": {},
   "outputs": [],
   "source": [
    "# Function Which creates new index for Rod Axial Stress individual loadcase\n",
    "def newRodIndex_Axial(lc):\n",
    "    colReInx = pd.MultiIndex.from_tuples([ (lc, 'axial')])\n",
    "    return colReInx"
   ]
  },
  {
   "cell_type": "code",
   "execution_count": null,
   "metadata": {},
   "outputs": [],
   "source": [
    "def ReadRodAxialStressResults(preOP2Model):\n",
    "    preLCs = ReadLoadcases(preOP2Model)     \n",
    "    # Start with an empty dataframe [note: Logic to be changed later]\n",
    "    cRodResultDF_Pre_Axial = pd.DataFrame({'A' : []})\n",
    "    for lc in preLCs:\n",
    "        tempDF = preOP2Model.crod_stress[lc].data_frame\n",
    "        tempDF = tempDF.unstack(level=0).T\n",
    "        tempDF1 = tempDF.reindex(columns=newRodIndex_Axial(lc), level=1)\n",
    "        if cRodResultDF_Pre_Axial.empty == False:\n",
    "            cRodResultDF_Pre_Axial = pd.concat([cRodResultDF_Pre_Axial, tempDF1], axis=1,sort=False)\n",
    "        else :\n",
    "            cRodResultDF_Pre_Axial = tempDF1.copy()    \n",
    "    return cRodResultDF_Pre_Axial"
   ]
  },
  {
   "cell_type": "code",
   "execution_count": null,
   "metadata": {},
   "outputs": [],
   "source": [
    "def AppendRodStressToBarStressDataFrame(cBarResultDF_Pre_Axial,cRodResultDF_Pre_Axial):\n",
    "    Appended_Pre_Results = cBarResultDF_Pre_Axial.append(cRodResultDF_Pre_Axial, ignore_index=False)\n",
    "    return Appended_Pre_Results"
   ]
  },
  {
   "cell_type": "code",
   "execution_count": null,
   "metadata": {},
   "outputs": [],
   "source": [
    "# ===========================================\n",
    "# Main Start of OP2 Files Extraction == v0.0\n",
    "# Remarks := Its been depricated.\n",
    "# Author := Upendra Reddy G\n",
    "# ===========================================\n",
    "\n",
    "# dictOp2List = ReadOP2Files('./')\n",
    "# for key, op2File in dictOp2List.items():\n",
    "#     #print(key, op2File)\n",
    "#     op2Model = ReadOP2File(op2File)\n",
    "\n",
    "#     barStressFileName = key + '_cBar_Stress.csv'\n",
    "#     barAxialStressFileName = key + '_cBar_Stress_Axial.csv'\n",
    "#     quadStressFxFileName = key + '_cQUAD_Stress_Fx.csv'\n",
    "#     quadStressFyFileName = key + '_cQUAD_Stress_Fy.csv'\n",
    "#     quadStressFxyFileName = key + '_cQUAD_Stress_Fxy.csv'\n",
    "#     rodAxialStressFileName = key + '_cRod_Stress_Axial.csv'\n",
    "#     appendedBarRodstressFileName = key + '_Appended_cBar_and_Rod_Stresses_Axial.csv'\n",
    "    \n",
    "    \n",
    "#     barStresResults = ReadBarStressResults(op2Model)\n",
    "#     barStresResults.to_csv(barStressFileName)\n",
    "\n",
    "#     barAxialStresResults = ReadBarAxialStressResuls(op2Model)\n",
    "#     barAxialStresResults.to_csv(barAxialStressFileName)\n",
    "    \n",
    "#     quadFxStresResults = ReadShellFxResults(op2Model)\n",
    "#     quadFxStresResults.to_csv(quadStressFxFileName)\n",
    "    \n",
    "#     quadFyStresResults = ReadShellFyResults(op2Model)\n",
    "#     quadFyStresResults.to_csv(quadStressFyFileName)    \n",
    "        \n",
    "#     quadFxyStresResults = ReadShellFxyResults(op2Model)\n",
    "#     quadFxyStresResults.to_csv(quadStressFxyFileName)\n",
    "    \n",
    "#     rodAxialStressResults = ReadRodAxialStressResults(op2Model)\n",
    "#     rodAxialStressResults.to_csv(rodAxialStressFileName)\n",
    "    \n",
    "#     appendRodToBarResults = AppendRodStressToBarStressDataFrame(barAxialStresResults,rodAxialStressResults)\n",
    "#     appendRodToBarResults.to_csv(appendedBarRodstressFileName)\n",
    "\n",
    "# print(' ======== ALL DONE SUCCESSFULLY ========== ')"
   ]
  },
  {
   "cell_type": "code",
   "execution_count": null,
   "metadata": {},
   "outputs": [],
   "source": [
    "def Concatenate_Data(df1,df2):\n",
    "    if df1.empty == False:\n",
    "        df1 = pd.concat([df1, df2], axis=1,sort=False)\n",
    "    else :\n",
    "        df1 = df2.copy()\n",
    "    return df1"
   ]
  },
  {
   "cell_type": "code",
   "execution_count": null,
   "metadata": {},
   "outputs": [],
   "source": [
    "def Join_DF(df1,df2):\n",
    "    if df1.empty == True:\n",
    "        df1 = df2.copy()\n",
    "    else :\n",
    "        df1 = df1.join(df2, how='outer')\n",
    "    return df1"
   ]
  },
  {
   "cell_type": "code",
   "execution_count": null,
   "metadata": {},
   "outputs": [],
   "source": [
    "def Join_DF(df1,df2):\n",
    "    if df1.empty == True:\n",
    "        df1 = df2.copy()\n",
    "    else :\n",
    "        df1 = df1.join(df2, how='outer')\n",
    "    return df1"
   ]
  },
  {
   "cell_type": "code",
   "execution_count": null,
   "metadata": {},
   "outputs": [],
   "source": [
    "# # ===========================================\n",
    "# # Main Start of OP2 Files Extraction == v1.0\n",
    "# # Remarks := Currently Working..\n",
    "# # Author := Upendra Reddy G\n",
    "# # ===========================================\n",
    "# barStressResults = pd.DataFrame({'A' : []})\n",
    "# barAxialStressResults = pd.DataFrame({'A' : []})\n",
    "# quadFxStressResults = pd.DataFrame({'A' : []})\n",
    "# quadFyStressResults = pd.DataFrame({'A' : []})\n",
    "# quadFxyStressResults = pd.DataFrame({'A' : []})\n",
    "# rodAxialStressResults = pd.DataFrame({'A' : []})\n",
    "# shearStressResults = pd.DataFrame({'A' : []})\n",
    "# appendRodToBarResults = pd.DataFrame({'A' : []})\n",
    "\n",
    "# dictOp2List = ReadOP2Files('./')\n",
    "\n",
    "# # The Following loop will fetch results from every Available OP2 File\n",
    "# for key, op2File in dictOp2List.items():\n",
    "#     #print(key, op2File)\n",
    "#     op2Model = ReadOP2File(op2File)\n",
    "\n",
    "#     tempDF1 = ReadBarStressResults(op2Model)\n",
    "#     barStressResults = Join_DF(barStressResults, tempDF1)\n",
    "\n",
    "#     tempDF1 = ReadBarAxialStressResuls(op2Model)\n",
    "#     barAxialStressResults = Join_DF(barAxialStressResults, tempDF1)\n",
    "\n",
    "#     tempDF1 = ReadShellFxResults(op2Model)\n",
    "#     quadFxStressResults = Join_DF(quadFxStressResults, tempDF1)\n",
    "    \n",
    "#     tempDF1 = ReadShellFyResults(op2Model)\n",
    "#     quadFyStressResults = Join_DF(quadFyStressResults, tempDF1)\n",
    "    \n",
    "#     tempDF1 = ReadShellFxyResults(op2Model)\n",
    "#     quadFxyStressResults = Join_DF(quadFxyStressResults, tempDF1)\n",
    "    \n",
    "#     tempDF1 = ReadRodAxialStressResults(op2Model)\n",
    "#     rodAxialStressResults = Join_DF(rodAxialStressResults, tempDF1)\n",
    "    \n",
    "#     tempDF1 = ReadShearStressResults(op2Model)\n",
    "#     shearStressResults = Join_DF(shearStressResults, tempDF1)    \n",
    "    \n",
    "\n",
    "# #  The Following line of code will append Rod Axial Stress results to Bar Axial Stress Results    \n",
    "# appendRodToBarResults = barAxialStressResults.append(rodAxialStressResults, ignore_index=False)\n",
    "\n",
    "# # The Following lines of code will generate csv files for respective results.\n",
    "# barStressResults.to_csv('ALL_cBar_Stress.csv')\n",
    "# barAxialStressResults.to_csv('ALL_cBar_Stress_Axial.csv')\n",
    "# quadFxStressResults.to_csv('ALL_cQUAD_Stress_Fx.csv')\n",
    "# quadFyStressResults.to_csv('ALL_cQUAD_Stress_Fy.csv')\n",
    "# quadFxyStressResults.to_csv('ALL_cQUAD_Stress_Fxy.csv')\n",
    "# rodAxialStressResults.to_csv('ALL_cRod_Stress_Axial.csv')\n",
    "# shearStressResults.to_csv('ALL_cShear_Stress.csv')\n",
    "# appendRodToBarResults.to_csv('ALL_appended_Rod_to_Bar_Stress_Axial.csv')\n",
    "\n",
    "# # End of Script.\n",
    "# print(' ======== ALL DONE SUCCESSFULLY ========== ')"
   ]
  },
  {
   "cell_type": "markdown",
   "metadata": {},
   "source": [
    "# The following code will extract calculated <font color='red'>beam stresses</font> using input bdf & output op2 files."
   ]
  },
  {
   "cell_type": "code",
   "execution_count": null,
   "metadata": {},
   "outputs": [],
   "source": [
    "# Function Which creates new index for calculated beam Axial Stress\n",
    "def beam_new_index(lc):\n",
    "    colReInx = pd.MultiIndex.from_tuples([ (lc, 'Location'), (lc, 'sd'), (lc, 'axial_force'), (lc, 'element_type'), (lc, 'property_id'), (lc, 'element_area'), (lc, 'beam_stress')])\n",
    "    return colReInx"
   ]
  },
  {
   "cell_type": "code",
   "execution_count": null,
   "metadata": {},
   "outputs": [],
   "source": [
    "def Calculate_Beam_Stresses(modeOP2, modelbdf):\n",
    "    preLCs = ReadLoadcases(modeOP2)\n",
    "    cBeamResultDF_Axial = pd.DataFrame({'A' : []})\n",
    "    for lc in preLCs:\n",
    "        beam_stresses_df = modeOP2.cbeam_force[lc].data_frame\n",
    "#     modeOP2.cbeam_force.keys()\n",
    "        beam_stresses_df['element_type'] = beam_stresses_df.ElementID.map(lambda x: modelbdf.elements[x].type)\n",
    "        beam_stresses_df['property_id'] = beam_stresses_df.ElementID.map(lambda x: modelbdf.elements[x].pid)\n",
    "        beam_stresses_df['element_area'] = beam_stresses_df.property_id.map(lambda x: modelbdf.properties[x].Area())\n",
    "        beam_stresses_df['beam_stress'] = beam_stresses_df.axial_force / beam_stresses_df.element_area\n",
    "        interested_columns  =['ElementID', 'Location', 'sd', 'axial_force', 'element_type', 'property_id', 'element_area', 'beam_stress']\n",
    "        beam_stresses_df = beam_stresses_df[interested_columns]\n",
    "        beam_stresses_df.ElementID = beam_stresses_df.ElementID.astype(np.int64)\n",
    "        beam_stresses_df.set_index('ElementID', inplace=True)\n",
    "        beam_stresses_df = beam_stresses_df.reindex(columns=beam_new_index(lc), level=1)\n",
    "        \n",
    "        if cBeamResultDF_Axial.empty == False:\n",
    "            cBeamResultDF_Axial = pd.concat([cBeamResultDF_Axial, beam_stresses_df], axis=1,sort=False)\n",
    "        else :\n",
    "            cBeamResultDF_Axial = beam_stresses_df.copy()\n",
    "#     beam_stresses_df.head()\n",
    "    return cBeamResultDF_Axial"
   ]
  },
  {
   "cell_type": "markdown",
   "metadata": {},
   "source": [
    "# The following code will extract calculated <font color='red'>beam Axial stresses</font> using input bdf & output op2 files."
   ]
  },
  {
   "cell_type": "code",
   "execution_count": null,
   "metadata": {},
   "outputs": [],
   "source": [
    "# Function Which creates new index for calculated beam Axial Stress\n",
    "def beam_new_index_for_Axial(lc):\n",
    "    colReInx = pd.MultiIndex.from_tuples([ (lc, 'beam_stress')])\n",
    "    return colReInx"
   ]
  },
  {
   "cell_type": "code",
   "execution_count": null,
   "metadata": {},
   "outputs": [],
   "source": [
    "def Calculate_Beam_Stresses_Axial_Only(modeOP2, modelbdf):\n",
    "    preLCs = ReadLoadcases(modeOP2)\n",
    "    cBeamResultDF_Axial = pd.DataFrame({'A' : []})\n",
    "    for lc in preLCs:\n",
    "        beam_stresses_df = modeOP2.cbeam_force[lc].data_frame\n",
    "# #     modeOP2.cbeam_force.keys()\n",
    "#         beam_stresses_df['element_type'] = beam_stresses_df.ElementID.map(lambda x: modelbdf.elements[x].type)\n",
    "#         beam_stresses_df['property_id'] = beam_stresses_df.ElementID.map(lambda x: modelbdf.elements[x].pid)\n",
    "#         beam_stresses_df['element_area'] = beam_stresses_df.property_id.map(lambda x: modelbdf.properties[x].Area())\n",
    "#         beam_stresses_df['beam_stress'] = beam_stresses_df.axial_force / beam_stresses_df.element_area\n",
    "#         interested_columns  =['ElementID', 'beam_stress']\n",
    "#         beam_stresses_df = beam_stresses_df[interested_columns]\n",
    "#         beam_stresses_df.ElementID = beam_stresses_df.ElementID.astype(np.int64)\n",
    "#         beam_stresses_df.set_index('ElementID', inplace=True)\n",
    "#         beam_stresses_df = beam_stresses_df.reindex(columns=beam_new_index_for_Axial(lc), level=1)\n",
    "# #         interested_columns  =[ 'beam_stress']\n",
    "#         tempDF = beam_stresses_df.beam     \n",
    "        beam_stresses_df = beam_stresses_df.reset_index()\n",
    "        beam_stresses_df['element_type'] = beam_stresses_df.ElementID.map(lambda x: modelbdf.elements[x].type)\n",
    "        beam_stresses_df['property_id'] = beam_stresses_df.ElementID.map(lambda x: modelbdf.elements[x].pid)\n",
    "        beam_stresses_df['element_area'] = beam_stresses_df.property_id.map(lambda x: modelbdf.properties[x].Area())\n",
    "        beam_stresses_df['beam_stress'] = beam_stresses_df.axial_force / beam_stresses_df.element_area\n",
    "        interested_columns  =['ElementID', 'beam_stress']\n",
    "        beam_stresses_df = beam_stresses_df[interested_columns]\n",
    "        beam_stresses_df.ElementID = beam_stresses_df.ElementID.astype(np.int64)\n",
    "        beam_stresses_df.set_index('ElementID', inplace=True)\n",
    "        beam_stresses_df = beam_stresses_df.reindex(columns=beam_new_index_for_Axial(lc), level=1)        \n",
    "        \n",
    "        if cBeamResultDF_Axial.empty == False:\n",
    "            cBeamResultDF_Axial = pd.concat([cBeamResultDF_Axial, beam_stresses_df], axis=1,sort=False)\n",
    "        else :\n",
    "            cBeamResultDF_Axial = beam_stresses_df.copy()\n",
    "#     beam_stresses_df.head()\n",
    "    return cBeamResultDF_Axial"
   ]
  },
  {
   "cell_type": "markdown",
   "metadata": {},
   "source": [
    "# The following code will create <font color='red'> Combined Bar and Beam Axial stresses </font> using input bdf & output op2 files."
   ]
  },
  {
   "cell_type": "code",
   "execution_count": null,
   "metadata": {},
   "outputs": [],
   "source": [
    "# Function Which creates new index for calculated beam Axial Stress\n",
    "def beam_new_index_for_Axial_append(lc):\n",
    "    colReInx = pd.MultiIndex.from_tuples([ (lc, 'axial')])\n",
    "    return colReInx"
   ]
  },
  {
   "cell_type": "code",
   "execution_count": null,
   "metadata": {},
   "outputs": [],
   "source": [
    "def Beam_Stresses_Axial_For_append(modeOP2, modelbdf):\n",
    "    preLCs = ReadLoadcases(modeOP2)\n",
    "    cBeamResultDF_Axial = pd.DataFrame({'A' : []})\n",
    "    for lc in preLCs:\n",
    "        beam_stresses_df = modeOP2.cbeam_force[lc].data_frame\n",
    "        #         beam_stresses_df = beam_stresses_df.reset_index()\n",
    "        beam_stresses_df['element_type'] = beam_stresses_df.ElementID.map(lambda x: modelbdf.elements[x].type)\n",
    "        beam_stresses_df['property_id'] = beam_stresses_df.ElementID.map(lambda x: modelbdf.elements[x].pid)\n",
    "        beam_stresses_df['element_area'] = beam_stresses_df.property_id.map(lambda x: modelbdf.properties[x].Area())\n",
    "        beam_stresses_df['axial'] = beam_stresses_df.axial_force / beam_stresses_df.element_area\n",
    "        interested_columns = ['ElementID', 'axial']\n",
    "        beam_stresses_df = beam_stresses_df[interested_columns]\n",
    "        beam_stresses_df.ElementID = beam_stresses_df.ElementID.astype(np.int64)\n",
    "        beam_stresses_df.set_index('ElementID', inplace=True)\n",
    "        beam_stresses_df = beam_stresses_df.reindex(columns=beam_new_index_for_Axial_append(lc), level=1)\n",
    "        # beam_stresses_df.head()  \n",
    "        \n",
    "        if cBeamResultDF_Axial.empty == False:\n",
    "            cBeamResultDF_Axial = pd.concat([cBeamResultDF_Axial, beam_stresses_df], axis=1,sort=False)\n",
    "        else :\n",
    "            cBeamResultDF_Axial = beam_stresses_df.copy()\n",
    "#     beam_stresses_df.head()\n",
    "    return cBeamResultDF_Axial"
   ]
  },
  {
   "cell_type": "markdown",
   "metadata": {},
   "source": [
    "# <font color='green'> Main Start </font>\n",
    "## <font color='blue'> ============ </font>"
   ]
  },
  {
   "cell_type": "code",
   "execution_count": null,
   "metadata": {},
   "outputs": [],
   "source": [
    "# ===========================================\n",
    "# Main Start of Beam Stresses by Calculation [P/A]\n",
    "# Remarks := Currently Working..\n",
    "# Author := Upendra Reddy G\n",
    "# Date := 23/01/2019\n",
    "# ===========================================\n",
    "\n",
    "beamStressResults_Calculated = pd.DataFrame({'A' : []})\n",
    "beamStressResults_Axial_Only_Calculated = pd.DataFrame({'A' : []})\n",
    "beamStressResults_Axial_Only_Calculated_append = pd.DataFrame({'A' : []})\n",
    "barAxialStressResults = pd.DataFrame({'A' : []})\n",
    "\n",
    "dictOp2List = ReadOP2Files('./')\n",
    "\n",
    "# The Following loop will fetch results from every Available OP2 File\n",
    "for key, op2File in dictOp2List.items():\n",
    "    #print(key, op2File)\n",
    "    op2Model = ReadOP2File(op2File)\n",
    "    bdfModel = ReadBDFFile(op2File)\n",
    "    \n",
    "    tempDF1 = ReadBarAxialStressResuls(op2Model)\n",
    "    barAxialStressResults = Join_DF(barAxialStressResults, tempDF1)    \n",
    "    \n",
    "    tempDF1 = Calculate_Beam_Stresses(op2Model, bdfModel)\n",
    "    beamStressResults_Calculated = Concatenate_Data(beamStressResults_Calculated, tempDF1)\n",
    "    \n",
    "    tempDF1 = Calculate_Beam_Stresses_Axial_Only(op2Model, bdfModel)\n",
    "    beamStressResults_Axial_Only_Calculated = Concatenate_Data(beamStressResults_Axial_Only_Calculated, tempDF1)    \n",
    "    \n",
    "    tempDF1 = Beam_Stresses_Axial_For_append(op2Model, bdfModel)\n",
    "    beamStressResults_Axial_Only_Calculated_append = Concatenate_Data(beamStressResults_Axial_Only_Calculated_append, tempDF1)    \n",
    "\n",
    "beamStressResults_Calculated.to_csv('ALL_Beam_Stress_Results_Calculated.csv')\n",
    "beamStressResults_Axial_Only_Calculated.to_csv('ALL_Beam_Stress_Results_Axial_Only_Calculated.csv')\n",
    "\n",
    "beamCalcs = beamStressResults_Axial_Only_Calculated_append.copy()\n",
    "beamCalcs = beamCalcs.reset_index()\n",
    "beamCalcs['Static'] = 0\n",
    "beamCalcs = beamCalcs.set_index(['Static', 'ElementID'])\n",
    "\n",
    "Bar_Beam_Combined_Results = pd.concat([barAxialStressResults, beamCalcs])\n",
    "Bar_Beam_Combined_Results.to_csv('ALL_Bar_Beam_Combined_Axial_Stress_Results.csv')\n",
    "\n",
    "\n",
    "# End of Script.\n",
    "print(' ======== ALL DONE SUCCESSFULLY ========== ')"
   ]
  },
  {
   "cell_type": "markdown",
   "metadata": {},
   "source": [
    "# <font color='green'> Test Work </font>\n",
    "## <font color='blue'> ============ </font>"
   ]
  },
  {
   "cell_type": "code",
   "execution_count": null,
   "metadata": {},
   "outputs": [],
   "source": [
    "temp = beamStressResults_Axial_Only_Calculated_append.copy()\n",
    "temp2 = temp.reset_index()\n",
    "temp2['Static'] = 0\n",
    "temp2 = temp2.set_index(['Static', 'ElementID'])\n",
    "temp2.head()\n",
    "\n",
    "\n",
    "# temp = beamStressResults_Axial_Only_Calculated_append.copy()\n",
    "# temp3 = temp.reset_index()\n",
    "# temp3['Static'] = 0\n",
    "# temp3 = temp3.set_index(['Static', 'ElementID'])\n",
    "# # temp3.head()\n",
    "\n",
    "# comb = pd.concat([temp3, temp2])\n",
    "# # comb.head()\n",
    "\n"
   ]
  },
  {
   "cell_type": "code",
   "execution_count": null,
   "metadata": {},
   "outputs": [],
   "source": [
    "barAxialStressResults.head()"
   ]
  },
  {
   "cell_type": "code",
   "execution_count": null,
   "metadata": {},
   "outputs": [],
   "source": [
    "temp = barAxialStressResults.copy()\n",
    "# temp3 = temp.reset_index()\n",
    "# temp3['Static'] = 0\n",
    "# temp3 = temp3.set_index(['Static', 'ElementID'])\n",
    "# temp3.head()"
   ]
  },
  {
   "cell_type": "code",
   "execution_count": null,
   "metadata": {},
   "outputs": [],
   "source": [
    "comb = pd.concat([temp, temp2])\n",
    "comb.head()"
   ]
  },
  {
   "cell_type": "code",
   "execution_count": null,
   "metadata": {},
   "outputs": [],
   "source": [
    "comb.shape"
   ]
  },
  {
   "cell_type": "code",
   "execution_count": null,
   "metadata": {},
   "outputs": [],
   "source": [
    "op2File = 'pc12-47-v1-6-static_post_m3.2_2101.op2'\n",
    "lc = 92101\n",
    "\n",
    "modeOP2 = ReadOP2File(op2File)\n",
    "modelbdf = ReadBDFFile(op2File)\n",
    "\n",
    "tempDF1 = ReadBarAxialStressResuls(op2Model)\n",
    "barAxialStressResults = Join_DF(barAxialStressResults, tempDF1)\n",
    "\n",
    "beam_stresses_df = modeOP2.cbeam_force[lc].data_frame\n",
    "#          beam_stresses_df = beam_stresses_df.reset_index()\n",
    "beam_stresses_df['element_type'] = beam_stresses_df.ElementID.map(lambda x: modelbdf.elements[x].type)\n",
    "beam_stresses_df['property_id'] = beam_stresses_df.ElementID.map(lambda x: modelbdf.elements[x].pid)\n",
    "beam_stresses_df['element_area'] = beam_stresses_df.property_id.map(lambda x: modelbdf.properties[x].Area())\n",
    "beam_stresses_df['axial'] = beam_stresses_df.axial_force / beam_stresses_df.element_area\n",
    "interested_columns = ['ElementID', 'axial']\n",
    "beam_stresses_df = beam_stresses_df[interested_columns]\n",
    "beam_stresses_df.ElementID = beam_stresses_df.ElementID.astype(np.int64)\n",
    "beam_stresses_df.set_index('ElementID', inplace=True)\n",
    "beam_stresses_df = beam_stresses_df.reindex(columns=beam_new_index_for_Axial_append(lc), level=1)\n",
    "beam_stresses_df.head()"
   ]
  },
  {
   "cell_type": "code",
   "execution_count": null,
   "metadata": {},
   "outputs": [],
   "source": [
    "beam_stresses_df  = beam_stresses_df.reset_index()\n",
    "beam_stresses_df['Static'] = 0\n",
    "# beamStressResults_Axial_Only_Calculated_append = beamStressResults_Axial_Only_Calculated_append.set_index(['Static', 'ElementID'])\n",
    "barAxialStressResults = barAxialStressResults.reset_index()\n",
    "# beamStressResults_Axial_Only_Calculated_append  = beamStressResults_Axial_Only_Calculated_append.reset_index()\n",
    "tempDF = pd.concat([barAxialStressResults, beamStressResults_Axial_Only_Calculated_append])\n",
    "tempDF = tempDF.set_index(['Static', 'ElementID'])\n",
    "tempDF.head()"
   ]
  },
  {
   "cell_type": "code",
   "execution_count": null,
   "metadata": {},
   "outputs": [],
   "source": [
    "barAxialStressResults.head()"
   ]
  },
  {
   "cell_type": "code",
   "execution_count": null,
   "metadata": {},
   "outputs": [],
   "source": [
    "op2File = 'pc12-47-v1-6-static_post_m3.2_2101.op2'\n",
    "lc = 92101\n",
    "\n",
    "modeOP2 = ReadOP2File(op2File)\n",
    "modelbdf = ReadBDFFile(op2File)\n",
    "\n",
    "beam_stresses_df = modeOP2.cbeam_force[lc].data_frame\n",
    "#     modeOP2.cbeam_force.keys()\n",
    "beam_stresses_df['element_type'] = beam_stresses_df.ElementID.map(lambda x: modelbdf.elements[x].type)\n",
    "beam_stresses_df['property_id'] = beam_stresses_df.ElementID.map(lambda x: modelbdf.elements[x].pid)\n",
    "beam_stresses_df['element_area'] = beam_stresses_df.property_id.map(lambda x: modelbdf.properties[x].Area())\n",
    "beam_stresses_df['beam_stress'] = beam_stresses_df.axial_force / beam_stresses_df.element_area\n",
    "interested_columns  =['ElementID', 'Location', 'sd', 'axial_force', 'element_type', 'property_id', 'element_area', 'beam_stress']\n",
    "beam_stresses_df = beam_stresses_df[interested_columns]\n",
    "beam_stresses_df.ElementID = beam_stresses_df.ElementID.astype(np.int64)\n",
    "beam_stresses_df.set_index('ElementID', inplace=True)\n",
    "beam_stresses_df = beam_stresses_df.reindex(columns=beam_new_index_for_Axial_append(lc), level=1)"
   ]
  },
  {
   "cell_type": "code",
   "execution_count": null,
   "metadata": {},
   "outputs": [],
   "source": [
    "beam_stresses_df.head()"
   ]
  },
  {
   "cell_type": "code",
   "execution_count": null,
   "metadata": {},
   "outputs": [],
   "source": []
  }
 ],
 "metadata": {
  "kernelspec": {
   "display_name": "Python 3",
   "language": "python",
   "name": "python3"
  },
  "language_info": {
   "codemirror_mode": {
    "name": "ipython",
    "version": 3
   },
   "file_extension": ".py",
   "mimetype": "text/x-python",
   "name": "python",
   "nbconvert_exporter": "python",
   "pygments_lexer": "ipython3",
   "version": "3.6.5"
  }
 },
 "nbformat": 4,
 "nbformat_minor": 2
}
