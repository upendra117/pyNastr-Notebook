{
 "cells": [
  {
   "cell_type": "code",
   "execution_count": 62,
   "metadata": {},
   "outputs": [],
   "source": [
    "import pandas as pd\n",
    "import numpy as np\n",
    "# import sqlalchemy"
   ]
  },
  {
   "cell_type": "code",
   "execution_count": 63,
   "metadata": {},
   "outputs": [],
   "source": [
    "# import functools"
   ]
  },
  {
   "cell_type": "code",
   "execution_count": 64,
   "metadata": {},
   "outputs": [],
   "source": [
    "# engine = sqlalchemy.create_engine('mysql+pymysql://root:@localhost:3306/application')"
   ]
  },
  {
   "cell_type": "code",
   "execution_count": 65,
   "metadata": {},
   "outputs": [
    {
     "name": "stdout",
     "output_type": "stream",
     "text": [
      "C:\\ALL_DATA\\URGummitha\\Desktop\\Post_Mod-2\\Run_M2.49\\sol101_ult\n"
     ]
    }
   ],
   "source": [
    "%cd C:\\ALL_DATA\\URGummitha\\Desktop\\Post_Mod-2\\Run_M2.49\\sol101_ult"
   ]
  },
  {
   "cell_type": "markdown",
   "metadata": {},
   "source": [
    "# HDF5 [Input file name]"
   ]
  },
  {
   "cell_type": "code",
   "execution_count": 66,
   "metadata": {},
   "outputs": [],
   "source": [
    "h5_file = 'pc12-47-v1-6-static_post-mod_m2.49_ult.h5'"
   ]
  },
  {
   "cell_type": "markdown",
   "metadata": {},
   "source": [
    "# Skin side fastners [Input csv file.]"
   ]
  },
  {
   "cell_type": "code",
   "execution_count": 67,
   "metadata": {},
   "outputs": [],
   "source": [
    "input_skin_side_elements_filename = 'skin_side_fastners.csv'\n",
    "\n",
    "skin_bush_elements_df = pd.read_csv(input_skin_side_elements_filename)"
   ]
  },
  {
   "cell_type": "markdown",
   "metadata": {},
   "source": [
    "# Non Skin side fastners [Input csv file.]"
   ]
  },
  {
   "cell_type": "code",
   "execution_count": 68,
   "metadata": {},
   "outputs": [],
   "source": [
    "input_non_skin_side_elements_filename = 'non_skin_side_fastners.csv'\n",
    "\n",
    "non_skin_bush_elements_df = pd.read_csv(input_non_skin_side_elements_filename)"
   ]
  },
  {
   "cell_type": "markdown",
   "metadata": {},
   "source": [
    "## Non Skin side fastners [Input csv file.]"
   ]
  },
  {
   "cell_type": "code",
   "execution_count": 69,
   "metadata": {},
   "outputs": [],
   "source": [
    "store = pd.HDFStore(h5_file, mode='r')"
   ]
  },
  {
   "cell_type": "code",
   "execution_count": 70,
   "metadata": {},
   "outputs": [],
   "source": [
    "# store.keys()"
   ]
  },
  {
   "cell_type": "code",
   "execution_count": 71,
   "metadata": {},
   "outputs": [],
   "source": [
    "# idx_quad4 = store.get('/NASTRAN/RESULT/DOMAINS')\n",
    "\n",
    "# idx_quad4.head()\n",
    "\n",
    "# idx_quad4 = idx_quad4[['ID','SUBCASE']]\n",
    "# idx_quad4.set_index('ID', inplace=True)\n",
    "# idx_quad4.head()\n",
    "\n",
    "# key_val  = idx_quad4.to_dict()\n",
    "# key_val['SUBCASE']\n",
    "\n",
    "# quad4['SUBCASE'] = quad4.DOMAIN_ID.map(key_val['SUBCASE'])\n",
    "# quad4.head()"
   ]
  },
  {
   "cell_type": "code",
   "execution_count": 72,
   "metadata": {},
   "outputs": [],
   "source": [
    "# # eid = beam.col('EID')\n",
    "\n",
    "# grid = get_df(beam.col('GRID'), beam.col('EID'), cols=\n",
    "#              ['Node_A', 'Node_B'])\n",
    "\n",
    "# sd = get_df(beam.col('SD'), beam.col('EID'), cols=\n",
    "#              ['SD_A', 'SD_B'])\n",
    "\n",
    "# bm1 = get_df(beam.col('BM1'), beam.col('EID'), cols=\n",
    "#              ['BM1_A', 'BM1_B'])\n",
    "\n",
    "# bm2 = get_df(beam.col('BM2'), beam.col('EID'), cols=\n",
    "#              ['BM2_A', 'BM2_B'])\n",
    "\n",
    "# ts1 = get_df(beam.col('TS1'), beam.col('EID'), cols=\n",
    "#              ['TS1_A', 'TS1_B'])\n",
    "\n",
    "# ts2 = get_df(beam.col('TS2'), beam.col('EID'), cols=\n",
    "#              ['TS2_A', 'TS2_B'])\n",
    "\n",
    "# af = get_df(beam.col('AF'), beam.col('EID'), cols=\n",
    "#              ['AF_A', 'AF_B'])\n",
    "\n",
    "# ttrq = get_df(beam.col('TTRQ'), beam.col('EID'), cols=\n",
    "#              ['TTRQ_A', 'TTRQ_B'])\n",
    "\n",
    "# wtrq = get_df(beam.col('WTRQ'), beam.col('EID'), cols=\n",
    "#              ['WTRQ_A', 'WTRQ_B'])\n",
    "\n",
    "# domain_id = pd.DataFrame(beam.col('DOMAIN_ID'), index=beam.col('EID'), columns=['DOMAIN_ID'])\n",
    "\n",
    "# df = grid.join(sd, sort=False).join(bm1, sort=False).join(bm2, sort=False).join(ts1, sort=False).join(ts2, sort=False)\n",
    "\n",
    "# df = df.join(af, sort=False).join(ttrq, sort=False).join(wtrq, sort=False).join(domain_id, sort=False)"
   ]
  },
  {
   "cell_type": "code",
   "execution_count": 73,
   "metadata": {},
   "outputs": [],
   "source": [
    "def get_df(x, eid_array, cols = list('AB')):\n",
    "    \n",
    "    df = pd.DataFrame(x[:,[0,10]],index=eid_array, columns=cols)\n",
    "    \n",
    "    return df"
   ]
  },
  {
   "cell_type": "code",
   "execution_count": 74,
   "metadata": {},
   "outputs": [],
   "source": [
    "def Join_DF(df1,df2):\n",
    "    \n",
    "    if df1.empty == True:\n",
    "        \n",
    "        df1 = df2.copy()\n",
    "        \n",
    "    else :\n",
    "        \n",
    "        df1 = pd.concat([df1, df2], axis=1, sort=False, join_axes=[df1.index])\n",
    "        \n",
    "#         df1 = df1.join(df2, sort=False)\n",
    "        \n",
    "        \n",
    "    return df1"
   ]
  },
  {
   "cell_type": "code",
   "execution_count": 75,
   "metadata": {},
   "outputs": [],
   "source": [
    "def CBAR_ELEMENTAL_FORCES(store):\n",
    "    \n",
    "    df = store.get('/NASTRAN/RESULT/ELEMENTAL/ELEMENT_FORCE/BAR')\n",
    "    \n",
    "    return df"
   ]
  },
  {
   "cell_type": "code",
   "execution_count": 76,
   "metadata": {},
   "outputs": [],
   "source": [
    "def CBEAM_ELEMENTAL_FORCES(store):\n",
    "    \n",
    "    beam_node = store.get_node('/NASTRAN/RESULT/ELEMENTAL/ELEMENT_FORCE/BEAM')\n",
    "\n",
    "    beam_lst_names = beam_node.colnames[1:-1]\n",
    "\n",
    "    res_df = pd.DataFrame({'A' : []})\n",
    "\n",
    "    for x in beam_lst_names:\n",
    "\n",
    "        col_name_a = x + '_A'\n",
    "\n",
    "        col_name_b = x + '_B'\n",
    "\n",
    "        df = get_df(beam_node.col(x), beam_node.col('EID'), cols=[col_name_a, col_name_b])\n",
    "\n",
    "        res_df = Join_DF(res_df, df)\n",
    "        \n",
    "    domain_id_df = pd.DataFrame(beam_node.col('DOMAIN_ID'), index=beam_node.col('EID'), columns=['DOMAIN_ID'])\n",
    "    \n",
    "    res_df = Join_DF(res_df, domain_id_df)\n",
    "    \n",
    "    res_df.index.name = 'EID'\n",
    "    \n",
    "    return res_df"
   ]
  },
  {
   "cell_type": "code",
   "execution_count": 77,
   "metadata": {},
   "outputs": [],
   "source": [
    "def CELAS2_ELEMENTAL_FORCES(store):\n",
    "    \n",
    "    df = store.get('/NASTRAN/RESULT/ELEMENTAL/ELEMENT_FORCE/ELAS2')\n",
    "    \n",
    "    return df"
   ]
  },
  {
   "cell_type": "code",
   "execution_count": 78,
   "metadata": {},
   "outputs": [],
   "source": [
    "def CQUAD4_ELEMENTAL_FORCES(store):\n",
    "    \n",
    "    df = store.get('/NASTRAN/RESULT/ELEMENTAL/ELEMENT_FORCE/QUAD4')\n",
    "    \n",
    "    return df"
   ]
  },
  {
   "cell_type": "code",
   "execution_count": 79,
   "metadata": {},
   "outputs": [],
   "source": [
    "def CROD_ELEMENTAL_FORCES(store):\n",
    "    \n",
    "    df = store.get('/NASTRAN/RESULT/ELEMENTAL/ELEMENT_FORCE/ROD')\n",
    "    \n",
    "    return df"
   ]
  },
  {
   "cell_type": "code",
   "execution_count": 80,
   "metadata": {},
   "outputs": [],
   "source": [
    "def CBUSH_ELEMENTAL_FORCES(store):\n",
    "    \n",
    "    df = store.get('/NASTRAN/RESULT/ELEMENTAL/ELEMENT_FORCE/BUSH')\n",
    "    \n",
    "    return df\n"
   ]
  },
  {
   "cell_type": "code",
   "execution_count": 81,
   "metadata": {},
   "outputs": [],
   "source": [
    "def CSHEAR_ELEMENTAL_FORCES(store):\n",
    "    \n",
    "    df = store.get('/NASTRAN/RESULT/ELEMENTAL/ELEMENT_FORCE/SHEAR')\n",
    "    \n",
    "    return df"
   ]
  },
  {
   "cell_type": "code",
   "execution_count": 82,
   "metadata": {},
   "outputs": [],
   "source": [
    "def CTRIA3_ELEMENTAL_FORCES(store):\n",
    "    \n",
    "    df = store.get('/NASTRAN/RESULT/ELEMENTAL/ELEMENT_FORCE/TRIA3')\n",
    "    \n",
    "    return df"
   ]
  },
  {
   "cell_type": "code",
   "execution_count": 83,
   "metadata": {},
   "outputs": [],
   "source": [
    "def CBAR_ELEMENTAL_STRESS(store):\n",
    "    \n",
    "    df = store.get('/NASTRAN/RESULT/ELEMENTAL/STRESS/BAR')\n",
    "    \n",
    "    return df"
   ]
  },
  {
   "cell_type": "code",
   "execution_count": 84,
   "metadata": {},
   "outputs": [],
   "source": [
    "def CBEAM_ELEMENTAL_STRESS(store):\n",
    "    \n",
    "    beam_node = store.get_node('/NASTRAN/RESULT/ELEMENTAL/STRESS/BEAM')\n",
    "\n",
    "    beam_lst_names = beam_node.colnames[1:-1]\n",
    "\n",
    "    res_df = pd.DataFrame({'A' : []})\n",
    "\n",
    "    for x in beam_lst_names:\n",
    "\n",
    "        col_name_a = x + '_A'\n",
    "\n",
    "        col_name_b = x + '_B'\n",
    "\n",
    "        df = get_df(beam_node.col(x), beam_node.col('EID'), cols=[col_name_a, col_name_b])\n",
    "\n",
    "        res_df = Join_DF(res_df, df)\n",
    "        \n",
    "    domain_id_df = pd.DataFrame(beam_node.col('DOMAIN_ID'), index=beam_node.col('EID'), columns=['DOMAIN_ID'])\n",
    "    \n",
    "    res_df.index.name = 'EID'\n",
    "    \n",
    "    res_df = Join_DF(res_df, domain_id_df)\n",
    "    \n",
    "    return res_df"
   ]
  },
  {
   "cell_type": "code",
   "execution_count": 85,
   "metadata": {},
   "outputs": [],
   "source": [
    "def CELAS2_ELEMENTAL_STRESS(store):\n",
    "    \n",
    "    df = store.get('/NASTRAN/RESULT/ELEMENTAL/STRESS/ELAS2')\n",
    "    \n",
    "    return df"
   ]
  },
  {
   "cell_type": "code",
   "execution_count": 86,
   "metadata": {},
   "outputs": [],
   "source": [
    "def CQUAD4_ELEMENTAL_STRESS(store):\n",
    "    \n",
    "    df = store.get('/NASTRAN/RESULT/ELEMENTAL/STRESS/QUAD4')\n",
    "    \n",
    "    return df"
   ]
  },
  {
   "cell_type": "code",
   "execution_count": 87,
   "metadata": {},
   "outputs": [],
   "source": [
    "def CROD_ELEMENTAL_STRESS(store):\n",
    "    \n",
    "    df = store.get('/NASTRAN/RESULT/ELEMENTAL/STRESS/ROD')\n",
    "    \n",
    "    return df"
   ]
  },
  {
   "cell_type": "code",
   "execution_count": 88,
   "metadata": {},
   "outputs": [],
   "source": [
    "def CSHEAR_ELEMENTAL_STRESS(store):\n",
    "    \n",
    "    df = store.get('/NASTRAN/RESULT/ELEMENTAL/STRESS/SHEAR')\n",
    "    \n",
    "    return df"
   ]
  },
  {
   "cell_type": "code",
   "execution_count": 89,
   "metadata": {},
   "outputs": [],
   "source": [
    "def CTRIA3_ELEMENTAL_STRESS(store):\n",
    "    \n",
    "    df = store.get('/NASTRAN/RESULT/ELEMENTAL/STRESS/TRIA3')\n",
    "    \n",
    "    return df"
   ]
  },
  {
   "cell_type": "code",
   "execution_count": 90,
   "metadata": {},
   "outputs": [],
   "source": [
    "# beam_property_node = store.get_node('/NASTRAN/INPUT/PROPERTY/PBEAM')\n",
    "# # beam_property_node.\n",
    "\n",
    "# beam_property_node.colnames\n",
    "\n",
    "# x = beam_property_node.read()\n",
    "\n",
    "# x.shape\n",
    "\n",
    "# for i in x[1]:\n",
    "#     print(i)"
   ]
  },
  {
   "cell_type": "code",
   "execution_count": 91,
   "metadata": {},
   "outputs": [],
   "source": [
    "# myList =[('05', 5, 10, 3, 2), ['08', 3, 4], ('12', 5, 2, 3, 4, 5), ('20',)]\n",
    "# for a, *b in myList:\n",
    "#    print(a, ' '.join(map(str, b)))"
   ]
  },
  {
   "cell_type": "code",
   "execution_count": 92,
   "metadata": {},
   "outputs": [],
   "source": [
    "# beam_forces_df = CBEAM_ELEMENTAL_FORCES(store)\n",
    "\n",
    "# beam_forces_df.head()\n",
    "\n",
    "# beam_forces_df.DOMAIN_ID.unique()\n",
    "\n",
    "# quad4_forces_df = CQUAD4_ELEMENTAL_FORCES(store_dfem)\n",
    "\n",
    "# quad4_forces_df.head()\n",
    "\n",
    "# quad4_forces_df.shape\n",
    "\n",
    "# tria3_forces_df = CTRIA3_ELEMENTAL_FORCES(store_dfem)\n",
    "\n",
    "# tria3_forces_df.head()\n",
    "\n",
    "# disp_df = store.get('/NASTRAN/RESULT/NODAL/DISPLACEMENT')\n",
    "\n",
    "# disp_df.shape\n",
    "\n",
    "# disp_df.head()\n",
    "\n",
    "# # DF = disp_df.groupby('DOMAIN_ID')\n",
    "\n",
    "# list_of_nodes_having_disp_Gr1 = disp_df[disp_df.Y > 0.1]\n",
    "\n",
    "# list_of_nodes_having_disp_Gr1.shape\n",
    "\n",
    "# list_of_nodes_having_disp_Gr1.to_csv('Nodes_Y_Gr_Th_1.csv')\n",
    "\n",
    "# list_of_nodes_having_disp_Gr5000 =disp_df[(disp_df.X > 5001) | (disp_df.X < 4999.9) ]\n",
    "\n",
    "\n",
    "# list_of_nodes_having_disp_Gr5000.head()\n",
    "\n",
    "# list_of_nodes_having_disp_Gr5000.shape"
   ]
  },
  {
   "cell_type": "markdown",
   "metadata": {},
   "source": [
    "# DOMAIN_ID Mapping to SUBCASE"
   ]
  },
  {
   "cell_type": "code",
   "execution_count": 93,
   "metadata": {},
   "outputs": [],
   "source": [
    "domain_results  =  store.get('/NASTRAN/RESULT/DOMAINS')\n",
    "\n",
    "domain_results = domain_results.loc[:, ['ID', 'SUBCASE']].copy()\n",
    "\n",
    "domain_results.set_index('ID', inplace=True)\n",
    "\n",
    "subcase_mapping = domain_results.to_dict()\n",
    "\n",
    "# subcase_mapping['SUBCASE']"
   ]
  },
  {
   "cell_type": "code",
   "execution_count": 94,
   "metadata": {},
   "outputs": [],
   "source": [
    "cbush_df = CBUSH_ELEMENTAL_FORCES(store)"
   ]
  },
  {
   "cell_type": "code",
   "execution_count": 95,
   "metadata": {},
   "outputs": [],
   "source": [
    "cbush_df['SUBCASE'] = cbush_df.DOMAIN_ID.map(subcase_mapping['SUBCASE']).copy()"
   ]
  },
  {
   "cell_type": "markdown",
   "metadata": {},
   "source": [
    "## Function to filter all cbush results to selected elements only"
   ]
  },
  {
   "cell_type": "code",
   "execution_count": 96,
   "metadata": {},
   "outputs": [],
   "source": [
    "def filter_cbush_results(df, filter_df):\n",
    "    \n",
    "    df['isIn'] = df['EID'].isin(filter_df['elements'].tolist()).copy()\n",
    "    \n",
    "    df1 = df[df['isIn'] == True].copy()\n",
    "    \n",
    "    df1.drop(['isIn', 'DOMAIN_ID'], axis=1, inplace = True)\n",
    "    \n",
    "    return df1"
   ]
  },
  {
   "cell_type": "markdown",
   "metadata": {},
   "source": [
    "## print all skin side fastner forces to csv file."
   ]
  },
  {
   "cell_type": "code",
   "execution_count": 97,
   "metadata": {},
   "outputs": [],
   "source": [
    "skin_side_bush_results = filter_cbush_results(cbush_df, skin_bush_elements_df)\n",
    "\n",
    "# skin_side_bush_results.to_csv('Skin_Side_CBUSH_Forces_output.csv')\n",
    "\n",
    "# skin_side_bush_results.head()\n",
    "\n",
    "skin_side_bush_results.to_csv('Skin_Side_CBUSH_Forces_output_all.csv')"
   ]
  },
  {
   "cell_type": "code",
   "execution_count": 98,
   "metadata": {},
   "outputs": [],
   "source": [
    "# skin_side_bush_results.head()"
   ]
  },
  {
   "cell_type": "markdown",
   "metadata": {},
   "source": [
    "## print all non skin side fastner forces to csv file."
   ]
  },
  {
   "cell_type": "code",
   "execution_count": 99,
   "metadata": {},
   "outputs": [],
   "source": [
    "non_skin_side_bush_results = filter_cbush_results(cbush_df, non_skin_bush_elements_df)\n",
    "\n",
    "# non_skin_side_bush_results.to_csv('Non_Skin_Side_CBUSH_Forces_output.csv')\n",
    "\n",
    "non_skin_side_bush_results.to_csv('Non_Skin_Side_CBUSH_Forces_output_all.csv')"
   ]
  },
  {
   "cell_type": "markdown",
   "metadata": {},
   "source": [
    "## custom function to print fastner elements whose RF < 2.0"
   ]
  },
  {
   "cell_type": "code",
   "execution_count": 100,
   "metadata": {},
   "outputs": [],
   "source": [
    "def Bush_filtering_func(df, shear_allowable = 2000, tension_allowable = 200):\n",
    "    \n",
    "    df['JShear'] = shear_allowable\n",
    "\n",
    "    df['Tension'] = tension_allowable\n",
    "\n",
    "    df['fy_sqr'] = df.FY ** 2\n",
    "\n",
    "    df['fz_sqr'] = df.FZ ** 2\n",
    "\n",
    "    df['Sum_Fy_Fz'] = df.fy_sqr + df.fz_sqr\n",
    "\n",
    "    df['Rs'] = df.Sum_Fy_Fz.apply(np.sqrt)\n",
    "\n",
    "    df['RF_Shear'] = df.JShear / df.Rs\n",
    "\n",
    "    df['RF_Tension'] = df.Tension / df.FX\n",
    "\n",
    "    df = df[(((df.RF_Tension < 2.0) & (df.RF_Tension > 0.0)) | (df.RF_Shear < 2.0) )].copy()\n",
    "    \n",
    "        \n",
    "    new_columns_index = ['EID', 'SUBCASE', 'FX', 'FY', 'FZ', 'MX', 'MY', 'MZ', 'JShear',\n",
    "       'Tension', 'fy_sqr', 'fz_sqr', 'Sum_Fy_Fz', 'Rs', 'RF_Shear',\n",
    "       'RF_Tension']\n",
    "    \n",
    "    df = df[new_columns_index].copy()\n",
    "\n",
    "    return df"
   ]
  },
  {
   "cell_type": "code",
   "execution_count": 101,
   "metadata": {},
   "outputs": [],
   "source": [
    "skin_df = Bush_filtering_func(skin_side_bush_results, shear_allowable=2527, tension_allowable=252.7)\n",
    "\n",
    "# skin_df.head()\n",
    "\n",
    "skin_df.to_csv('Skin_Side_CBUSH_Forces_output.csv')"
   ]
  },
  {
   "cell_type": "code",
   "execution_count": 102,
   "metadata": {},
   "outputs": [],
   "source": [
    "non_skin_df = Bush_filtering_func(non_skin_side_bush_results, shear_allowable=2452, tension_allowable=613)\n",
    "\n",
    "# non_skin_df.head()\n",
    "\n",
    "non_skin_df.to_csv('Non_Skin_Side_CBUSH_Forces_output.csv')"
   ]
  },
  {
   "cell_type": "markdown",
   "metadata": {},
   "source": [
    "# Close the Entire Store HDF5"
   ]
  },
  {
   "cell_type": "code",
   "execution_count": 103,
   "metadata": {},
   "outputs": [],
   "source": [
    "store.close()"
   ]
  },
  {
   "cell_type": "code",
   "execution_count": 104,
   "metadata": {},
   "outputs": [
    {
     "name": "stdout",
     "output_type": "stream",
     "text": [
      "END OF PYTHON RUN.\n"
     ]
    }
   ],
   "source": [
    "print('END OF PYTHON RUN.')"
   ]
  }
 ],
 "metadata": {
  "kernelspec": {
   "display_name": "Python 3",
   "language": "python",
   "name": "python3"
  },
  "language_info": {
   "codemirror_mode": {
    "name": "ipython",
    "version": 3
   },
   "file_extension": ".py",
   "mimetype": "text/x-python",
   "name": "python",
   "nbconvert_exporter": "python",
   "pygments_lexer": "ipython3",
   "version": "3.6.5"
  }
 },
 "nbformat": 4,
 "nbformat_minor": 2
}
