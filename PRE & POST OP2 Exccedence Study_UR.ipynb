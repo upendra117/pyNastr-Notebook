{
 "cells": [
  {
   "cell_type": "markdown",
   "metadata": {},
   "source": [
    "# Library Imports"
   ]
  },
  {
   "cell_type": "code",
   "execution_count": 1,
   "metadata": {},
   "outputs": [],
   "source": [
    "import numpy as np\n",
    "import pandas as pd\n",
    "import pyNastran"
   ]
  },
  {
   "cell_type": "code",
   "execution_count": 2,
   "metadata": {},
   "outputs": [],
   "source": [
    "from pyNastran.op2.op2 import OP2"
   ]
  },
  {
   "cell_type": "code",
   "execution_count": 3,
   "metadata": {},
   "outputs": [],
   "source": [
    "preOP2Model = OP2()\n",
    "postOP2Model  =  OP2()"
   ]
  },
  {
   "cell_type": "markdown",
   "metadata": {},
   "source": [
    "# Read Pre & Post OP2 Files"
   ]
  },
  {
   "cell_type": "code",
   "execution_count": 4,
   "metadata": {},
   "outputs": [],
   "source": [
    "preOP2File = 'pc12-47-v1-6-static_pre.op2'\n",
    "postOP2File = 'pc12-47-v1-6-static_post.op2'"
   ]
  },
  {
   "cell_type": "code",
   "execution_count": 5,
   "metadata": {},
   "outputs": [
    {
     "data": {
      "text/html": [
       "<text style=color:blue>DEBUG:   op2.py:549                   combine=True\n",
       "</text>"
      ],
      "text/plain": [
       "<IPython.core.display.HTML object>"
      ]
     },
     "metadata": {},
     "output_type": "display_data"
    },
    {
     "data": {
      "text/html": [
       "<text style=color:blue>DEBUG:   op2.py:550                   -------- reading op2 with read_mode=1 (array sizing) --------\n",
       "</text>"
      ],
      "text/plain": [
       "<IPython.core.display.HTML object>"
      ]
     },
     "metadata": {},
     "output_type": "display_data"
    },
    {
     "data": {
      "text/html": [
       "<text style=color:green>INFO:    op2_scalar.py:1322           op2_filename = 'pc12-47-v1-6-static_pre.op2'\n",
       "</text>"
      ],
      "text/plain": [
       "<IPython.core.display.HTML object>"
      ]
     },
     "metadata": {},
     "output_type": "display_data"
    },
    {
     "data": {
      "text/html": [
       "<text style=color:blue>DEBUG:   op2_scalar.py:1472             table_name=b'OQG1'\n",
       "</text>"
      ],
      "text/plain": [
       "<IPython.core.display.HTML object>"
      ]
     },
     "metadata": {},
     "output_type": "display_data"
    },
    {
     "data": {
      "text/html": [
       "<text style=color:blue>DEBUG:   op2_scalar.py:1472             table_name=b'OQMG1'\n",
       "</text>"
      ],
      "text/plain": [
       "<IPython.core.display.HTML object>"
      ]
     },
     "metadata": {},
     "output_type": "display_data"
    },
    {
     "data": {
      "text/html": [
       "<text style=color:blue>DEBUG:   op2_scalar.py:1472             table_name=b'OUG1'\n",
       "</text>"
      ],
      "text/plain": [
       "<IPython.core.display.HTML object>"
      ]
     },
     "metadata": {},
     "output_type": "display_data"
    },
    {
     "data": {
      "text/html": [
       "<text style=color:blue>DEBUG:   op2_scalar.py:1472             table_name=b'OEF1X'\n",
       "</text>"
      ],
      "text/plain": [
       "<IPython.core.display.HTML object>"
      ]
     },
     "metadata": {},
     "output_type": "display_data"
    },
    {
     "data": {
      "text/html": [
       "<text style=color:blue>DEBUG:   op2_scalar.py:1472             table_name=b'OES1X1'\n",
       "</text>"
      ],
      "text/plain": [
       "<IPython.core.display.HTML object>"
      ]
     },
     "metadata": {},
     "output_type": "display_data"
    },
    {
     "data": {
      "text/html": [
       "<text style=color:blue>DEBUG:   op2_scalar.py:1472             table_name=b'OPG1'\n",
       "</text>"
      ],
      "text/plain": [
       "<IPython.core.display.HTML object>"
      ]
     },
     "metadata": {},
     "output_type": "display_data"
    },
    {
     "data": {
      "text/html": [
       "<text style=color:blue>DEBUG:   op2.py:563                   -------- reading op2 with read_mode=2 (array filling) --------\n",
       "</text>"
      ],
      "text/plain": [
       "<IPython.core.display.HTML object>"
      ]
     },
     "metadata": {},
     "output_type": "display_data"
    },
    {
     "data": {
      "text/html": [
       "<text style=color:blue>DEBUG:   op2_scalar.py:1472             table_name=b'OQG1'\n",
       "</text>"
      ],
      "text/plain": [
       "<IPython.core.display.HTML object>"
      ]
     },
     "metadata": {},
     "output_type": "display_data"
    },
    {
     "data": {
      "text/html": [
       "<text style=color:blue>DEBUG:   op2_scalar.py:1472             table_name=b'OQMG1'\n",
       "</text>"
      ],
      "text/plain": [
       "<IPython.core.display.HTML object>"
      ]
     },
     "metadata": {},
     "output_type": "display_data"
    },
    {
     "data": {
      "text/html": [
       "<text style=color:blue>DEBUG:   op2_scalar.py:1472             table_name=b'OUG1'\n",
       "</text>"
      ],
      "text/plain": [
       "<IPython.core.display.HTML object>"
      ]
     },
     "metadata": {},
     "output_type": "display_data"
    },
    {
     "data": {
      "text/html": [
       "<text style=color:blue>DEBUG:   op2_scalar.py:1472             table_name=b'OEF1X'\n",
       "</text>"
      ],
      "text/plain": [
       "<IPython.core.display.HTML object>"
      ]
     },
     "metadata": {},
     "output_type": "display_data"
    },
    {
     "data": {
      "text/html": [
       "<text style=color:blue>DEBUG:   op2_scalar.py:1472             table_name=b'OES1X1'\n",
       "</text>"
      ],
      "text/plain": [
       "<IPython.core.display.HTML object>"
      ]
     },
     "metadata": {},
     "output_type": "display_data"
    },
    {
     "data": {
      "text/html": [
       "<text style=color:blue>DEBUG:   op2_scalar.py:1472             table_name=b'OPG1'\n",
       "</text>"
      ],
      "text/plain": [
       "<IPython.core.display.HTML object>"
      ]
     },
     "metadata": {},
     "output_type": "display_data"
    },
    {
     "name": "stderr",
     "output_type": "stream",
     "text": [
      "C:\\ProgramData\\Anaconda3\\lib\\site-packages\\pynastran-1.2.0+dev.no.checksum.error-py3.6.egg\\pyNastran\\op2\\op2.py:665: FutureWarning: \n",
      "Panel is deprecated and will be removed in a future version.\n",
      "The recommended way to represent these types of 3-dimensional data are with a MultiIndex on a DataFrame, via the Panel.to_frame() method\n",
      "Alternatively, you can use the xarray package http://xarray.pydata.org/en/stable/.\n",
      "Pandas provides a `.to_xarray()` method to help automate this conversion.\n",
      "\n",
      "  obj.build_dataframe()\n"
     ]
    },
    {
     "data": {
      "text/html": [
       "<text style=color:blue>DEBUG:   op2.py:766                   combine_results\n",
       "</text>"
      ],
      "text/plain": [
       "<IPython.core.display.HTML object>"
      ]
     },
     "metadata": {},
     "output_type": "display_data"
    },
    {
     "data": {
      "text/html": [
       "<text style=color:blue>DEBUG:   op2.py:575                   finished reading op2\n",
       "</text>"
      ],
      "text/plain": [
       "<IPython.core.display.HTML object>"
      ]
     },
     "metadata": {},
     "output_type": "display_data"
    },
    {
     "data": {
      "text/html": [
       "<text style=color:blue>DEBUG:   op2.py:549                   combine=True\n",
       "</text>"
      ],
      "text/plain": [
       "<IPython.core.display.HTML object>"
      ]
     },
     "metadata": {},
     "output_type": "display_data"
    },
    {
     "data": {
      "text/html": [
       "<text style=color:blue>DEBUG:   op2.py:550                   -------- reading op2 with read_mode=1 (array sizing) --------\n",
       "</text>"
      ],
      "text/plain": [
       "<IPython.core.display.HTML object>"
      ]
     },
     "metadata": {},
     "output_type": "display_data"
    },
    {
     "data": {
      "text/html": [
       "<text style=color:green>INFO:    op2_scalar.py:1322           op2_filename = 'pc12-47-v1-6-static_post.op2'\n",
       "</text>"
      ],
      "text/plain": [
       "<IPython.core.display.HTML object>"
      ]
     },
     "metadata": {},
     "output_type": "display_data"
    },
    {
     "data": {
      "text/html": [
       "<text style=color:blue>DEBUG:   op2_scalar.py:1472             table_name=b'OQG1'\n",
       "</text>"
      ],
      "text/plain": [
       "<IPython.core.display.HTML object>"
      ]
     },
     "metadata": {},
     "output_type": "display_data"
    },
    {
     "data": {
      "text/html": [
       "<text style=color:blue>DEBUG:   op2_scalar.py:1472             table_name=b'OQMG1'\n",
       "</text>"
      ],
      "text/plain": [
       "<IPython.core.display.HTML object>"
      ]
     },
     "metadata": {},
     "output_type": "display_data"
    },
    {
     "data": {
      "text/html": [
       "<text style=color:blue>DEBUG:   op2_scalar.py:1472             table_name=b'OUG1'\n",
       "</text>"
      ],
      "text/plain": [
       "<IPython.core.display.HTML object>"
      ]
     },
     "metadata": {},
     "output_type": "display_data"
    },
    {
     "data": {
      "text/html": [
       "<text style=color:blue>DEBUG:   op2_scalar.py:1472             table_name=b'OEF1X'\n",
       "</text>"
      ],
      "text/plain": [
       "<IPython.core.display.HTML object>"
      ]
     },
     "metadata": {},
     "output_type": "display_data"
    },
    {
     "data": {
      "text/html": [
       "<text style=color:blue>DEBUG:   op2_scalar.py:1472             table_name=b'OES1X1'\n",
       "</text>"
      ],
      "text/plain": [
       "<IPython.core.display.HTML object>"
      ]
     },
     "metadata": {},
     "output_type": "display_data"
    },
    {
     "data": {
      "text/html": [
       "<text style=color:blue>DEBUG:   op2_scalar.py:1472             table_name=b'OPG1'\n",
       "</text>"
      ],
      "text/plain": [
       "<IPython.core.display.HTML object>"
      ]
     },
     "metadata": {},
     "output_type": "display_data"
    },
    {
     "data": {
      "text/html": [
       "<text style=color:blue>DEBUG:   op2.py:563                   -------- reading op2 with read_mode=2 (array filling) --------\n",
       "</text>"
      ],
      "text/plain": [
       "<IPython.core.display.HTML object>"
      ]
     },
     "metadata": {},
     "output_type": "display_data"
    },
    {
     "data": {
      "text/html": [
       "<text style=color:blue>DEBUG:   op2_scalar.py:1472             table_name=b'OQG1'\n",
       "</text>"
      ],
      "text/plain": [
       "<IPython.core.display.HTML object>"
      ]
     },
     "metadata": {},
     "output_type": "display_data"
    },
    {
     "data": {
      "text/html": [
       "<text style=color:blue>DEBUG:   op2_scalar.py:1472             table_name=b'OQMG1'\n",
       "</text>"
      ],
      "text/plain": [
       "<IPython.core.display.HTML object>"
      ]
     },
     "metadata": {},
     "output_type": "display_data"
    },
    {
     "data": {
      "text/html": [
       "<text style=color:blue>DEBUG:   op2_scalar.py:1472             table_name=b'OUG1'\n",
       "</text>"
      ],
      "text/plain": [
       "<IPython.core.display.HTML object>"
      ]
     },
     "metadata": {},
     "output_type": "display_data"
    },
    {
     "data": {
      "text/html": [
       "<text style=color:blue>DEBUG:   op2_scalar.py:1472             table_name=b'OEF1X'\n",
       "</text>"
      ],
      "text/plain": [
       "<IPython.core.display.HTML object>"
      ]
     },
     "metadata": {},
     "output_type": "display_data"
    },
    {
     "data": {
      "text/html": [
       "<text style=color:blue>DEBUG:   op2_scalar.py:1472             table_name=b'OES1X1'\n",
       "</text>"
      ],
      "text/plain": [
       "<IPython.core.display.HTML object>"
      ]
     },
     "metadata": {},
     "output_type": "display_data"
    },
    {
     "data": {
      "text/html": [
       "<text style=color:blue>DEBUG:   op2_scalar.py:1472             table_name=b'OPG1'\n",
       "</text>"
      ],
      "text/plain": [
       "<IPython.core.display.HTML object>"
      ]
     },
     "metadata": {},
     "output_type": "display_data"
    },
    {
     "data": {
      "text/html": [
       "<text style=color:blue>DEBUG:   op2.py:766                   combine_results\n",
       "</text>"
      ],
      "text/plain": [
       "<IPython.core.display.HTML object>"
      ]
     },
     "metadata": {},
     "output_type": "display_data"
    },
    {
     "data": {
      "text/html": [
       "<text style=color:blue>DEBUG:   op2.py:575                   finished reading op2\n",
       "</text>"
      ],
      "text/plain": [
       "<IPython.core.display.HTML object>"
      ]
     },
     "metadata": {},
     "output_type": "display_data"
    }
   ],
   "source": [
    "# Load Pre OP2 File\n",
    "preOP2Model.read_op2(preOP2File, build_dataframe=True)\n",
    "\n",
    "# Load Post OP2 File\n",
    "postOP2Model.read_op2(postOP2File, build_dataframe=True)"
   ]
  },
  {
   "cell_type": "markdown",
   "metadata": {},
   "source": [
    "# Get list of Results contained in OP2"
   ]
  },
  {
   "cell_type": "code",
   "execution_count": 6,
   "metadata": {},
   "outputs": [
    {
     "name": "stdout",
     "output_type": "stream",
     "text": [
      "displacements[1411]\n",
      "displacements[1601]\n",
      "displacements[2001]\n",
      "displacements[2002]\n",
      "displacements[2003]\n",
      "displacements[2006]\n",
      "displacements[2007]\n",
      "displacements[2012]\n",
      "displacements[2013]\n",
      "displacements[2014]\n",
      "displacements[2015]\n",
      "displacements[2016]\n",
      "displacements[2051]\n",
      "displacements[2052]\n",
      "displacements[2053]\n",
      "displacements[2056]\n",
      "displacements[2057]\n",
      "displacements[2063]\n",
      "displacements[2101]\n",
      "displacements[2102]\n",
      "displacements[2103]\n",
      "displacements[2104]\n",
      "displacements[2108]\n",
      "displacements[2110]\n",
      "displacements[2113]\n",
      "displacements[2114]\n",
      "displacements[2115]\n",
      "displacements[2118]\n",
      "displacements[2201]\n",
      "displacements[2202]\n",
      "displacements[2203]\n",
      "displacements[2204]\n",
      "displacements[2208]\n",
      "displacements[2210]\n",
      "displacements[2213]\n",
      "displacements[2214]\n",
      "displacements[2215]\n",
      "displacements[2218]\n",
      "displacements[2303]\n",
      "displacements[2305]\n",
      "displacements[2307]\n",
      "displacements[2308]\n",
      "displacements[2311]\n",
      "displacements[2313]\n",
      "displacements[2411]\n",
      "displacements[2601]\n",
      "spc_forces[1411]\n",
      "spc_forces[1601]\n",
      "spc_forces[2001]\n",
      "spc_forces[2002]\n",
      "spc_forces[2003]\n",
      "spc_forces[2006]\n",
      "spc_forces[2007]\n",
      "spc_forces[2012]\n",
      "spc_forces[2013]\n",
      "spc_forces[2014]\n",
      "spc_forces[2015]\n",
      "spc_forces[2016]\n",
      "spc_forces[2051]\n",
      "spc_forces[2052]\n",
      "spc_forces[2053]\n",
      "spc_forces[2056]\n",
      "spc_forces[2057]\n",
      "spc_forces[2063]\n",
      "spc_forces[2101]\n",
      "spc_forces[2102]\n",
      "spc_forces[2103]\n",
      "spc_forces[2104]\n",
      "spc_forces[2108]\n",
      "spc_forces[2110]\n",
      "spc_forces[2113]\n",
      "spc_forces[2114]\n",
      "spc_forces[2115]\n",
      "spc_forces[2118]\n",
      "spc_forces[2201]\n",
      "spc_forces[2202]\n",
      "spc_forces[2203]\n",
      "spc_forces[2204]\n",
      "spc_forces[2208]\n",
      "spc_forces[2210]\n",
      "spc_forces[2213]\n",
      "spc_forces[2214]\n",
      "spc_forces[2215]\n",
      "spc_forces[2218]\n",
      "spc_forces[2303]\n",
      "spc_forces[2305]\n",
      "spc_forces[2307]\n",
      "spc_forces[2308]\n",
      "spc_forces[2311]\n",
      "spc_forces[2313]\n",
      "spc_forces[2411]\n",
      "spc_forces[2601]\n",
      "mpc_forces[1411]\n",
      "mpc_forces[1601]\n",
      "mpc_forces[2001]\n",
      "mpc_forces[2002]\n",
      "mpc_forces[2003]\n",
      "mpc_forces[2006]\n",
      "mpc_forces[2007]\n",
      "mpc_forces[2012]\n",
      "mpc_forces[2013]\n",
      "mpc_forces[2014]\n",
      "mpc_forces[2015]\n",
      "mpc_forces[2016]\n",
      "mpc_forces[2051]\n",
      "mpc_forces[2052]\n",
      "mpc_forces[2053]\n",
      "mpc_forces[2056]\n",
      "mpc_forces[2057]\n",
      "mpc_forces[2063]\n",
      "mpc_forces[2101]\n",
      "mpc_forces[2102]\n",
      "mpc_forces[2103]\n",
      "mpc_forces[2104]\n",
      "mpc_forces[2108]\n",
      "mpc_forces[2110]\n",
      "mpc_forces[2113]\n",
      "mpc_forces[2114]\n",
      "mpc_forces[2115]\n",
      "mpc_forces[2118]\n",
      "mpc_forces[2201]\n",
      "mpc_forces[2202]\n",
      "mpc_forces[2203]\n",
      "mpc_forces[2204]\n",
      "mpc_forces[2208]\n",
      "mpc_forces[2210]\n",
      "mpc_forces[2213]\n",
      "mpc_forces[2214]\n",
      "mpc_forces[2215]\n",
      "mpc_forces[2218]\n",
      "mpc_forces[2303]\n",
      "mpc_forces[2305]\n",
      "mpc_forces[2307]\n",
      "mpc_forces[2308]\n",
      "mpc_forces[2311]\n",
      "mpc_forces[2313]\n",
      "mpc_forces[2411]\n",
      "mpc_forces[2601]\n",
      "load_vectors[1411]\n",
      "load_vectors[1601]\n",
      "load_vectors[2001]\n",
      "load_vectors[2002]\n",
      "load_vectors[2003]\n",
      "load_vectors[2006]\n",
      "load_vectors[2007]\n",
      "load_vectors[2012]\n",
      "load_vectors[2013]\n",
      "load_vectors[2014]\n",
      "load_vectors[2015]\n",
      "load_vectors[2016]\n",
      "load_vectors[2051]\n",
      "load_vectors[2052]\n",
      "load_vectors[2053]\n",
      "load_vectors[2056]\n",
      "load_vectors[2057]\n",
      "load_vectors[2063]\n",
      "load_vectors[2101]\n",
      "load_vectors[2102]\n",
      "load_vectors[2103]\n",
      "load_vectors[2104]\n",
      "load_vectors[2108]\n",
      "load_vectors[2110]\n",
      "load_vectors[2113]\n",
      "load_vectors[2114]\n",
      "load_vectors[2115]\n",
      "load_vectors[2118]\n",
      "load_vectors[2201]\n",
      "load_vectors[2202]\n",
      "load_vectors[2203]\n",
      "load_vectors[2204]\n",
      "load_vectors[2208]\n",
      "load_vectors[2210]\n",
      "load_vectors[2213]\n",
      "load_vectors[2214]\n",
      "load_vectors[2215]\n",
      "load_vectors[2218]\n",
      "load_vectors[2303]\n",
      "load_vectors[2305]\n",
      "load_vectors[2307]\n",
      "load_vectors[2308]\n",
      "load_vectors[2311]\n",
      "load_vectors[2313]\n",
      "load_vectors[2411]\n",
      "load_vectors[2601]\n",
      "celas2_stress[1411]\n",
      "celas2_stress[1601]\n",
      "celas2_stress[2001]\n",
      "celas2_stress[2002]\n",
      "celas2_stress[2003]\n",
      "celas2_stress[2006]\n",
      "celas2_stress[2007]\n",
      "celas2_stress[2012]\n",
      "celas2_stress[2013]\n",
      "celas2_stress[2014]\n",
      "celas2_stress[2015]\n",
      "celas2_stress[2016]\n",
      "celas2_stress[2051]\n",
      "celas2_stress[2052]\n",
      "celas2_stress[2053]\n",
      "celas2_stress[2056]\n",
      "celas2_stress[2057]\n",
      "celas2_stress[2063]\n",
      "celas2_stress[2101]\n",
      "celas2_stress[2102]\n",
      "celas2_stress[2103]\n",
      "celas2_stress[2104]\n",
      "celas2_stress[2108]\n",
      "celas2_stress[2110]\n",
      "celas2_stress[2113]\n",
      "celas2_stress[2114]\n",
      "celas2_stress[2115]\n",
      "celas2_stress[2118]\n",
      "celas2_stress[2201]\n",
      "celas2_stress[2202]\n",
      "celas2_stress[2203]\n",
      "celas2_stress[2204]\n",
      "celas2_stress[2208]\n",
      "celas2_stress[2210]\n",
      "celas2_stress[2213]\n",
      "celas2_stress[2214]\n",
      "celas2_stress[2215]\n",
      "celas2_stress[2218]\n",
      "celas2_stress[2303]\n",
      "celas2_stress[2305]\n",
      "celas2_stress[2307]\n",
      "celas2_stress[2308]\n",
      "celas2_stress[2311]\n",
      "celas2_stress[2313]\n",
      "celas2_stress[2411]\n",
      "celas2_stress[2601]\n",
      "crod_stress[1411]\n",
      "crod_stress[1601]\n",
      "crod_stress[2001]\n",
      "crod_stress[2002]\n",
      "crod_stress[2003]\n",
      "crod_stress[2006]\n",
      "crod_stress[2007]\n",
      "crod_stress[2012]\n",
      "crod_stress[2013]\n",
      "crod_stress[2014]\n",
      "crod_stress[2015]\n",
      "crod_stress[2016]\n",
      "crod_stress[2051]\n",
      "crod_stress[2052]\n",
      "crod_stress[2053]\n",
      "crod_stress[2056]\n",
      "crod_stress[2057]\n",
      "crod_stress[2063]\n",
      "crod_stress[2101]\n",
      "crod_stress[2102]\n",
      "crod_stress[2103]\n",
      "crod_stress[2104]\n",
      "crod_stress[2108]\n",
      "crod_stress[2110]\n",
      "crod_stress[2113]\n",
      "crod_stress[2114]\n",
      "crod_stress[2115]\n",
      "crod_stress[2118]\n",
      "crod_stress[2201]\n",
      "crod_stress[2202]\n",
      "crod_stress[2203]\n",
      "crod_stress[2204]\n",
      "crod_stress[2208]\n",
      "crod_stress[2210]\n",
      "crod_stress[2213]\n",
      "crod_stress[2214]\n",
      "crod_stress[2215]\n",
      "crod_stress[2218]\n",
      "crod_stress[2303]\n",
      "crod_stress[2305]\n",
      "crod_stress[2307]\n",
      "crod_stress[2308]\n",
      "crod_stress[2311]\n",
      "crod_stress[2313]\n",
      "crod_stress[2411]\n",
      "crod_stress[2601]\n",
      "cbar_stress[1411]\n",
      "cbar_stress[1601]\n",
      "cbar_stress[2001]\n",
      "cbar_stress[2002]\n",
      "cbar_stress[2003]\n",
      "cbar_stress[2006]\n",
      "cbar_stress[2007]\n",
      "cbar_stress[2012]\n",
      "cbar_stress[2013]\n",
      "cbar_stress[2014]\n",
      "cbar_stress[2015]\n",
      "cbar_stress[2016]\n",
      "cbar_stress[2051]\n",
      "cbar_stress[2052]\n",
      "cbar_stress[2053]\n",
      "cbar_stress[2056]\n",
      "cbar_stress[2057]\n",
      "cbar_stress[2063]\n",
      "cbar_stress[2101]\n",
      "cbar_stress[2102]\n",
      "cbar_stress[2103]\n",
      "cbar_stress[2104]\n",
      "cbar_stress[2108]\n",
      "cbar_stress[2110]\n",
      "cbar_stress[2113]\n",
      "cbar_stress[2114]\n",
      "cbar_stress[2115]\n",
      "cbar_stress[2118]\n",
      "cbar_stress[2201]\n",
      "cbar_stress[2202]\n",
      "cbar_stress[2203]\n",
      "cbar_stress[2204]\n",
      "cbar_stress[2208]\n",
      "cbar_stress[2210]\n",
      "cbar_stress[2213]\n",
      "cbar_stress[2214]\n",
      "cbar_stress[2215]\n",
      "cbar_stress[2218]\n",
      "cbar_stress[2303]\n",
      "cbar_stress[2305]\n",
      "cbar_stress[2307]\n",
      "cbar_stress[2308]\n",
      "cbar_stress[2311]\n",
      "cbar_stress[2313]\n",
      "cbar_stress[2411]\n",
      "cbar_stress[2601]\n",
      "cbar_force[1411]\n",
      "cbar_force[1601]\n",
      "cbar_force[2001]\n",
      "cbar_force[2002]\n",
      "cbar_force[2003]\n",
      "cbar_force[2006]\n",
      "cbar_force[2007]\n",
      "cbar_force[2012]\n",
      "cbar_force[2013]\n",
      "cbar_force[2014]\n",
      "cbar_force[2015]\n",
      "cbar_force[2016]\n",
      "cbar_force[2051]\n",
      "cbar_force[2052]\n",
      "cbar_force[2053]\n",
      "cbar_force[2056]\n",
      "cbar_force[2057]\n",
      "cbar_force[2063]\n",
      "cbar_force[2101]\n",
      "cbar_force[2102]\n",
      "cbar_force[2103]\n",
      "cbar_force[2104]\n",
      "cbar_force[2108]\n",
      "cbar_force[2110]\n",
      "cbar_force[2113]\n",
      "cbar_force[2114]\n",
      "cbar_force[2115]\n",
      "cbar_force[2118]\n",
      "cbar_force[2201]\n",
      "cbar_force[2202]\n",
      "cbar_force[2203]\n",
      "cbar_force[2204]\n",
      "cbar_force[2208]\n",
      "cbar_force[2210]\n",
      "cbar_force[2213]\n",
      "cbar_force[2214]\n",
      "cbar_force[2215]\n",
      "cbar_force[2218]\n",
      "cbar_force[2303]\n",
      "cbar_force[2305]\n",
      "cbar_force[2307]\n",
      "cbar_force[2308]\n",
      "cbar_force[2311]\n",
      "cbar_force[2313]\n",
      "cbar_force[2411]\n",
      "cbar_force[2601]\n",
      "ctria3_stress[1411]\n",
      "ctria3_stress[1601]\n",
      "ctria3_stress[2001]\n",
      "ctria3_stress[2002]\n",
      "ctria3_stress[2003]\n",
      "ctria3_stress[2006]\n",
      "ctria3_stress[2007]\n",
      "ctria3_stress[2012]\n",
      "ctria3_stress[2013]\n",
      "ctria3_stress[2014]\n",
      "ctria3_stress[2015]\n",
      "ctria3_stress[2016]\n",
      "ctria3_stress[2051]\n",
      "ctria3_stress[2052]\n",
      "ctria3_stress[2053]\n",
      "ctria3_stress[2056]\n",
      "ctria3_stress[2057]\n",
      "ctria3_stress[2063]\n",
      "ctria3_stress[2101]\n",
      "ctria3_stress[2102]\n",
      "ctria3_stress[2103]\n",
      "ctria3_stress[2104]\n",
      "ctria3_stress[2108]\n",
      "ctria3_stress[2110]\n",
      "ctria3_stress[2113]\n",
      "ctria3_stress[2114]\n",
      "ctria3_stress[2115]\n",
      "ctria3_stress[2118]\n",
      "ctria3_stress[2201]\n",
      "ctria3_stress[2202]\n",
      "ctria3_stress[2203]\n",
      "ctria3_stress[2204]\n",
      "ctria3_stress[2208]\n",
      "ctria3_stress[2210]\n",
      "ctria3_stress[2213]\n",
      "ctria3_stress[2214]\n",
      "ctria3_stress[2215]\n",
      "ctria3_stress[2218]\n",
      "ctria3_stress[2303]\n",
      "ctria3_stress[2305]\n",
      "ctria3_stress[2307]\n",
      "ctria3_stress[2308]\n",
      "ctria3_stress[2311]\n",
      "ctria3_stress[2313]\n",
      "ctria3_stress[2411]\n",
      "ctria3_stress[2601]\n",
      "cquad4_stress[1411]\n",
      "cquad4_stress[1601]\n",
      "cquad4_stress[2001]\n",
      "cquad4_stress[2002]\n",
      "cquad4_stress[2003]\n",
      "cquad4_stress[2006]\n",
      "cquad4_stress[2007]\n",
      "cquad4_stress[2012]\n",
      "cquad4_stress[2013]\n",
      "cquad4_stress[2014]\n",
      "cquad4_stress[2015]\n",
      "cquad4_stress[2016]\n",
      "cquad4_stress[2051]\n",
      "cquad4_stress[2052]\n",
      "cquad4_stress[2053]\n",
      "cquad4_stress[2056]\n",
      "cquad4_stress[2057]\n",
      "cquad4_stress[2063]\n",
      "cquad4_stress[2101]\n",
      "cquad4_stress[2102]\n",
      "cquad4_stress[2103]\n",
      "cquad4_stress[2104]\n",
      "cquad4_stress[2108]\n",
      "cquad4_stress[2110]\n",
      "cquad4_stress[2113]\n",
      "cquad4_stress[2114]\n",
      "cquad4_stress[2115]\n",
      "cquad4_stress[2118]\n",
      "cquad4_stress[2201]\n",
      "cquad4_stress[2202]\n",
      "cquad4_stress[2203]\n",
      "cquad4_stress[2204]\n",
      "cquad4_stress[2208]\n",
      "cquad4_stress[2210]\n",
      "cquad4_stress[2213]\n",
      "cquad4_stress[2214]\n",
      "cquad4_stress[2215]\n",
      "cquad4_stress[2218]\n",
      "cquad4_stress[2303]\n",
      "cquad4_stress[2305]\n",
      "cquad4_stress[2307]\n",
      "cquad4_stress[2308]\n",
      "cquad4_stress[2311]\n",
      "cquad4_stress[2313]\n",
      "cquad4_stress[2411]\n",
      "cquad4_stress[2601]\n",
      "cshear_stress[1411]\n",
      "cshear_stress[1601]\n",
      "cshear_stress[2001]\n",
      "cshear_stress[2002]\n",
      "cshear_stress[2003]\n",
      "cshear_stress[2006]\n",
      "cshear_stress[2007]\n",
      "cshear_stress[2012]\n",
      "cshear_stress[2013]\n",
      "cshear_stress[2014]\n",
      "cshear_stress[2015]\n",
      "cshear_stress[2016]\n",
      "cshear_stress[2051]\n",
      "cshear_stress[2052]\n",
      "cshear_stress[2053]\n",
      "cshear_stress[2056]\n",
      "cshear_stress[2057]\n",
      "cshear_stress[2063]\n",
      "cshear_stress[2101]\n",
      "cshear_stress[2102]\n",
      "cshear_stress[2103]\n",
      "cshear_stress[2104]\n",
      "cshear_stress[2108]\n",
      "cshear_stress[2110]\n",
      "cshear_stress[2113]\n",
      "cshear_stress[2114]\n",
      "cshear_stress[2115]\n",
      "cshear_stress[2118]\n",
      "cshear_stress[2201]\n",
      "cshear_stress[2202]\n",
      "cshear_stress[2203]\n",
      "cshear_stress[2204]\n",
      "cshear_stress[2208]\n",
      "cshear_stress[2210]\n",
      "cshear_stress[2213]\n",
      "cshear_stress[2214]\n",
      "cshear_stress[2215]\n",
      "cshear_stress[2218]\n",
      "cshear_stress[2303]\n",
      "cshear_stress[2305]\n",
      "cshear_stress[2307]\n",
      "cshear_stress[2308]\n",
      "cshear_stress[2311]\n",
      "cshear_stress[2313]\n",
      "cshear_stress[2411]\n",
      "cshear_stress[2601]\n",
      "crod_force[1411]\n",
      "crod_force[1601]\n",
      "crod_force[2001]\n",
      "crod_force[2002]\n",
      "crod_force[2003]\n",
      "crod_force[2006]\n",
      "crod_force[2007]\n",
      "crod_force[2012]\n",
      "crod_force[2013]\n",
      "crod_force[2014]\n",
      "crod_force[2015]\n",
      "crod_force[2016]\n",
      "crod_force[2051]\n",
      "crod_force[2052]\n",
      "crod_force[2053]\n",
      "crod_force[2056]\n",
      "crod_force[2057]\n",
      "crod_force[2063]\n",
      "crod_force[2101]\n",
      "crod_force[2102]\n",
      "crod_force[2103]\n",
      "crod_force[2104]\n",
      "crod_force[2108]\n",
      "crod_force[2110]\n",
      "crod_force[2113]\n",
      "crod_force[2114]\n",
      "crod_force[2115]\n",
      "crod_force[2118]\n",
      "crod_force[2201]\n",
      "crod_force[2202]\n",
      "crod_force[2203]\n",
      "crod_force[2204]\n",
      "crod_force[2208]\n",
      "crod_force[2210]\n",
      "crod_force[2213]\n",
      "crod_force[2214]\n",
      "crod_force[2215]\n",
      "crod_force[2218]\n",
      "crod_force[2303]\n",
      "crod_force[2305]\n",
      "crod_force[2307]\n",
      "crod_force[2308]\n",
      "crod_force[2311]\n",
      "crod_force[2313]\n",
      "crod_force[2411]\n",
      "crod_force[2601]\n",
      "cquad4_force[1411]\n",
      "cquad4_force[1601]\n",
      "cquad4_force[2001]\n",
      "cquad4_force[2002]\n",
      "cquad4_force[2003]\n",
      "cquad4_force[2006]\n",
      "cquad4_force[2007]\n",
      "cquad4_force[2012]\n",
      "cquad4_force[2013]\n",
      "cquad4_force[2014]\n",
      "cquad4_force[2015]\n",
      "cquad4_force[2016]\n",
      "cquad4_force[2051]\n",
      "cquad4_force[2052]\n",
      "cquad4_force[2053]\n",
      "cquad4_force[2056]\n",
      "cquad4_force[2057]\n",
      "cquad4_force[2063]\n",
      "cquad4_force[2101]\n",
      "cquad4_force[2102]\n",
      "cquad4_force[2103]\n",
      "cquad4_force[2104]\n",
      "cquad4_force[2108]\n",
      "cquad4_force[2110]\n",
      "cquad4_force[2113]\n",
      "cquad4_force[2114]\n",
      "cquad4_force[2115]\n",
      "cquad4_force[2118]\n",
      "cquad4_force[2201]\n",
      "cquad4_force[2202]\n",
      "cquad4_force[2203]\n",
      "cquad4_force[2204]\n",
      "cquad4_force[2208]\n",
      "cquad4_force[2210]\n",
      "cquad4_force[2213]\n",
      "cquad4_force[2214]\n",
      "cquad4_force[2215]\n",
      "cquad4_force[2218]\n",
      "cquad4_force[2303]\n",
      "cquad4_force[2305]\n",
      "cquad4_force[2307]\n",
      "cquad4_force[2308]\n",
      "cquad4_force[2311]\n",
      "cquad4_force[2313]\n",
      "cquad4_force[2411]\n",
      "cquad4_force[2601]\n",
      "ctria3_force[1411]\n",
      "ctria3_force[1601]\n",
      "ctria3_force[2001]\n",
      "ctria3_force[2002]\n",
      "ctria3_force[2003]\n",
      "ctria3_force[2006]\n",
      "ctria3_force[2007]\n",
      "ctria3_force[2012]\n",
      "ctria3_force[2013]\n",
      "ctria3_force[2014]\n",
      "ctria3_force[2015]\n",
      "ctria3_force[2016]\n",
      "ctria3_force[2051]\n",
      "ctria3_force[2052]\n",
      "ctria3_force[2053]\n",
      "ctria3_force[2056]\n",
      "ctria3_force[2057]\n",
      "ctria3_force[2063]\n",
      "ctria3_force[2101]\n",
      "ctria3_force[2102]\n",
      "ctria3_force[2103]\n",
      "ctria3_force[2104]\n",
      "ctria3_force[2108]\n",
      "ctria3_force[2110]\n",
      "ctria3_force[2113]\n",
      "ctria3_force[2114]\n",
      "ctria3_force[2115]\n",
      "ctria3_force[2118]\n",
      "ctria3_force[2201]\n",
      "ctria3_force[2202]\n",
      "ctria3_force[2203]\n",
      "ctria3_force[2204]\n",
      "ctria3_force[2208]\n",
      "ctria3_force[2210]\n",
      "ctria3_force[2213]\n",
      "ctria3_force[2214]\n",
      "ctria3_force[2215]\n",
      "ctria3_force[2218]\n",
      "ctria3_force[2303]\n",
      "ctria3_force[2305]\n",
      "ctria3_force[2307]\n",
      "ctria3_force[2308]\n",
      "ctria3_force[2311]\n",
      "ctria3_force[2313]\n",
      "ctria3_force[2411]\n",
      "ctria3_force[2601]\n",
      "cshear_force[1411]\n",
      "cshear_force[1601]\n",
      "cshear_force[2001]\n",
      "cshear_force[2002]\n",
      "cshear_force[2003]\n",
      "cshear_force[2006]\n",
      "cshear_force[2007]\n",
      "cshear_force[2012]\n",
      "cshear_force[2013]\n",
      "cshear_force[2014]\n",
      "cshear_force[2015]\n",
      "cshear_force[2016]\n",
      "cshear_force[2051]\n",
      "cshear_force[2052]\n",
      "cshear_force[2053]\n",
      "cshear_force[2056]\n",
      "cshear_force[2057]\n",
      "cshear_force[2063]\n",
      "cshear_force[2101]\n",
      "cshear_force[2102]\n",
      "cshear_force[2103]\n",
      "cshear_force[2104]\n",
      "cshear_force[2108]\n",
      "cshear_force[2110]\n",
      "cshear_force[2113]\n",
      "cshear_force[2114]\n",
      "cshear_force[2115]\n",
      "cshear_force[2118]\n",
      "cshear_force[2201]\n",
      "cshear_force[2202]\n",
      "cshear_force[2203]\n",
      "cshear_force[2204]\n",
      "cshear_force[2208]\n",
      "cshear_force[2210]\n",
      "cshear_force[2213]\n",
      "cshear_force[2214]\n",
      "cshear_force[2215]\n",
      "cshear_force[2218]\n",
      "cshear_force[2303]\n",
      "cshear_force[2305]\n",
      "cshear_force[2307]\n",
      "cshear_force[2308]\n",
      "cshear_force[2311]\n",
      "cshear_force[2313]\n",
      "cshear_force[2411]\n",
      "cshear_force[2601]\n",
      "celas2_force[1411]\n",
      "celas2_force[1601]\n",
      "celas2_force[2001]\n",
      "celas2_force[2002]\n",
      "celas2_force[2003]\n",
      "celas2_force[2006]\n",
      "celas2_force[2007]\n",
      "celas2_force[2012]\n",
      "celas2_force[2013]\n",
      "celas2_force[2014]\n",
      "celas2_force[2015]\n",
      "celas2_force[2016]\n",
      "celas2_force[2051]\n",
      "celas2_force[2052]\n",
      "celas2_force[2053]\n",
      "celas2_force[2056]\n",
      "celas2_force[2057]\n",
      "celas2_force[2063]\n",
      "celas2_force[2101]\n",
      "celas2_force[2102]\n",
      "celas2_force[2103]\n",
      "celas2_force[2104]\n",
      "celas2_force[2108]\n",
      "celas2_force[2110]\n",
      "celas2_force[2113]\n",
      "celas2_force[2114]\n",
      "celas2_force[2115]\n",
      "celas2_force[2118]\n",
      "celas2_force[2201]\n",
      "celas2_force[2202]\n",
      "celas2_force[2203]\n",
      "celas2_force[2204]\n",
      "celas2_force[2208]\n",
      "celas2_force[2210]\n",
      "celas2_force[2213]\n",
      "celas2_force[2214]\n",
      "celas2_force[2215]\n",
      "celas2_force[2218]\n",
      "celas2_force[2303]\n",
      "celas2_force[2305]\n",
      "celas2_force[2307]\n",
      "celas2_force[2308]\n",
      "celas2_force[2311]\n",
      "celas2_force[2313]\n",
      "celas2_force[2411]\n",
      "celas2_force[2601]\n"
     ]
    },
    {
     "name": "stdout",
     "output_type": "stream",
     "text": [
      "\n"
     ]
    }
   ],
   "source": [
    "print(preOP2Model.get_op2_stats(short=True))"
   ]
  },
  {
   "cell_type": "markdown",
   "metadata": {},
   "source": [
    "# Checking for existing Shear Stress Load Cases"
   ]
  },
  {
   "cell_type": "code",
   "execution_count": 7,
   "metadata": {},
   "outputs": [
    {
     "data": {
      "text/plain": [
       "[91411,\n",
       " 91601,\n",
       " 92001,\n",
       " 92002,\n",
       " 92003,\n",
       " 92006,\n",
       " 92007,\n",
       " 92012,\n",
       " 92013,\n",
       " 92014,\n",
       " 92015,\n",
       " 92016,\n",
       " 92051,\n",
       " 92052,\n",
       " 92053,\n",
       " 92056,\n",
       " 92057,\n",
       " 92063,\n",
       " 92101,\n",
       " 92102,\n",
       " 92103,\n",
       " 92104,\n",
       " 92108,\n",
       " 92110,\n",
       " 92113,\n",
       " 92114,\n",
       " 92115,\n",
       " 92118,\n",
       " 92201,\n",
       " 92202,\n",
       " 92203,\n",
       " 92204,\n",
       " 92208,\n",
       " 92210,\n",
       " 92213,\n",
       " 92214,\n",
       " 92215,\n",
       " 92218,\n",
       " 92303,\n",
       " 92305,\n",
       " 92307,\n",
       " 92308,\n",
       " 92311,\n",
       " 92313,\n",
       " 92411,\n",
       " 92601]"
      ]
     },
     "execution_count": 7,
     "metadata": {},
     "output_type": "execute_result"
    }
   ],
   "source": [
    "preLCs = list(preOP2Model.cshear_stress.keys())\n",
    "postLCs = list(postOP2Model.cshear_stress.keys())\n",
    "preLCs;\n",
    "postLCs;"
   ]
  },
  {
   "cell_type": "code",
   "execution_count": 8,
   "metadata": {},
   "outputs": [],
   "source": [
    "# Function Which creates new index for Shear Stress individual loadcase\n",
    "def newShearIndex(lc):\n",
    "    colReInx = pd.MultiIndex.from_tuples([(lc, 'max_shear'), (lc, 'avg_shear'), (lc, 'margin')])\n",
    "    return colReInx\n",
    "    "
   ]
  },
  {
   "cell_type": "markdown",
   "metadata": {},
   "source": [
    "# Collecting Pre OP2 Shear Stress Results"
   ]
  },
  {
   "cell_type": "code",
   "execution_count": 9,
   "metadata": {},
   "outputs": [],
   "source": [
    "# Start with an empty dataframe [note: Logic to be changed later]\n",
    "cShearResultDF_Pre = pd.DataFrame({'A' : []})\n",
    "for lc in preLCs:\n",
    "    tempDF = preOP2Model.cshear_stress[lc].data_frame\n",
    "    tempDF = tempDF.unstack(level=0).T\n",
    "    tempDF1 = tempDF.reindex(columns=newShearIndex(lc), level=1)\n",
    "    if cShearResultDF_Pre.empty == False:\n",
    "        cShearResultDF_Pre = pd.concat([cShearResultDF_Pre, tempDF1], axis=1,sort=False)\n",
    "    else :\n",
    "        cShearResultDF_Pre = tempDF1.copy()\n",
    "    "
   ]
  },
  {
   "cell_type": "markdown",
   "metadata": {},
   "source": [
    "# Collecting Post OP2 Shear Stress Results"
   ]
  },
  {
   "cell_type": "code",
   "execution_count": 10,
   "metadata": {},
   "outputs": [],
   "source": [
    "# Start with an empty dataframe [note: Logic to be changed later]\n",
    "cShearResultDF_Post = pd.DataFrame({'A' : []})\n",
    "for lc in postLCs:\n",
    "    tempDF = postOP2Model.cshear_stress[lc].data_frame\n",
    "    tempDF = tempDF.unstack(level=0).T\n",
    "    tempDF1 = tempDF.reindex(columns=newShearIndex(lc), level=1)\n",
    "    if cShearResultDF_Post.empty == False:\n",
    "        cShearResultDF_Post = pd.concat([cShearResultDF_Post, tempDF1], axis=1,sort=False)\n",
    "    else :\n",
    "        cShearResultDF_Post = tempDF1.copy()"
   ]
  },
  {
   "cell_type": "markdown",
   "metadata": {},
   "source": [
    "# Exporting Shear Stress results to csv file\n",
    "## Please make to sure change output File name as per your requirement ***"
   ]
  },
  {
   "cell_type": "code",
   "execution_count": 11,
   "metadata": {},
   "outputs": [],
   "source": [
    "#cShearResultDF_Pre.to_csv('preMod_cShear_Stress.csv')\n",
    "#cShearResultDF_Post.to_csv('postMod_cShear_Stress.csv')"
   ]
  },
  {
   "cell_type": "code",
   "execution_count": 12,
   "metadata": {},
   "outputs": [],
   "source": [
    "# Function Which creates new index for Bar Stress individual loadcase\n",
    "def newBarIndex(lc):\n",
    "    colReInx = pd.MultiIndex.from_tuples([(lc, 's1a'), (lc, 's2a'), (lc, 's3a'), (lc, 's4a'), (lc, 'axial'), (lc, 'smaxa'), (lc, 'smina'), (lc, 'MS_tension'), (lc, 's1b'), (lc, 's2b'), (lc, 's3b'), (lc, 's4b'), (lc, 'smaxb'), (lc, 'sminb'), (lc, 'MS_compression')])\n",
    "    return colReInx\n"
   ]
  },
  {
   "cell_type": "markdown",
   "metadata": {},
   "source": [
    "# Collecting Pre OP2 Bar Stress Results"
   ]
  },
  {
   "cell_type": "code",
   "execution_count": 13,
   "metadata": {},
   "outputs": [],
   "source": [
    "# Start with an empty dataframe [note: Logic to be changed later]\n",
    "cBarResultDF_Pre = pd.DataFrame({'A' : []})\n",
    "for lc in preLCs:\n",
    "    tempDF = preOP2Model.cbar_stress[lc].data_frame\n",
    "    tempDF = tempDF.unstack(level=0).T\n",
    "    tempDF1 = tempDF.reindex(columns=newBarIndex(lc), level=1)\n",
    "    if cBarResultDF_Pre.empty == False:\n",
    "        cBarResultDF_Pre = pd.concat([cBarResultDF_Pre, tempDF1], axis=1,sort=False)\n",
    "    else :\n",
    "        cBarResultDF_Pre = tempDF1.copy()"
   ]
  },
  {
   "cell_type": "markdown",
   "metadata": {},
   "source": [
    "# Collecting Post OP2 Bar Stress Results"
   ]
  },
  {
   "cell_type": "code",
   "execution_count": 14,
   "metadata": {},
   "outputs": [],
   "source": [
    "# Start with an empty dataframe [note: Logic to be changed later]\n",
    "cBarResultDF_Post = pd.DataFrame({'A' : []})\n",
    "for lc in postLCs:\n",
    "    tempDF = postOP2Model.cbar_stress[lc].data_frame\n",
    "    tempDF = tempDF.unstack(level=0).T\n",
    "    tempDF1 = tempDF.reindex(columns=newBarIndex(lc), level=1)\n",
    "    if cBarResultDF_Post.empty == False:\n",
    "        cBarResultDF_Post = pd.concat([cBarResultDF_Post, tempDF1], axis=1,sort=False)\n",
    "    else :\n",
    "        cBarResultDF_Post = tempDF1.copy()"
   ]
  },
  {
   "cell_type": "markdown",
   "metadata": {},
   "source": [
    "# Exporting Bar Stress results to csv file\n",
    "## Please make to sure change output File name as per your requirement ***"
   ]
  },
  {
   "cell_type": "code",
   "execution_count": 15,
   "metadata": {},
   "outputs": [],
   "source": [
    "#cBarResultDF_Pre.to_csv('preMod_cBar_Stress.csv')\n",
    "#cBarResultDF_Post.to_csv('postMod_cBar_Stress.csv')"
   ]
  },
  {
   "cell_type": "code",
   "execution_count": 17,
   "metadata": {},
   "outputs": [],
   "source": [
    "pd.set_option('display.multi_sparse', False)"
   ]
  },
  {
   "cell_type": "code",
   "execution_count": 26,
   "metadata": {},
   "outputs": [],
   "source": [
    "Pre_cBar = cBarResultDF_Pre.reset_index();\n",
    "Pre_cShear = cShearResultDF_Pre.reset_index();\n",
    "Post_cBar = cBarResultDF_Post.reset_index();\n",
    "Post_cShear = cShearResultDF_Post.reset_index();"
   ]
  },
  {
   "cell_type": "markdown",
   "metadata": {},
   "source": [
    "# Exporting Results to Excel Workbook"
   ]
  },
  {
   "cell_type": "code",
   "execution_count": 27,
   "metadata": {},
   "outputs": [],
   "source": [
    "writer = pd.ExcelWriter('PrePost_Op2_Exccedence_output.xlsx')\n",
    "Pre_cBar.to_excel(writer,'preMod_cBar_Stress')\n",
    "Post_cBar.to_excel(writer,'postMod_cBar_Stress')\n",
    "Pre_cShear.to_excel(writer,'preMod_cShear_Stress')\n",
    "Post_cShear.to_excel(writer,'postMod_cShear_Stress')\n",
    "writer.save()"
   ]
  },
  {
   "cell_type": "code",
   "execution_count": 28,
   "metadata": {},
   "outputs": [
    {
     "data": {
      "text/html": [
       "<div>\n",
       "<style scoped>\n",
       "    .dataframe tbody tr th:only-of-type {\n",
       "        vertical-align: middle;\n",
       "    }\n",
       "\n",
       "    .dataframe tbody tr th {\n",
       "        vertical-align: top;\n",
       "    }\n",
       "\n",
       "    .dataframe thead tr th {\n",
       "        text-align: left;\n",
       "    }\n",
       "</style>\n",
       "<table border=\"1\" class=\"dataframe\">\n",
       "  <thead>\n",
       "    <tr>\n",
       "      <th></th>\n",
       "      <th>Static</th>\n",
       "      <th>ElementID</th>\n",
       "      <th>1411</th>\n",
       "      <th>1411</th>\n",
       "      <th>1411</th>\n",
       "      <th>1411</th>\n",
       "      <th>1411</th>\n",
       "      <th>1411</th>\n",
       "      <th>1411</th>\n",
       "      <th>1411</th>\n",
       "      <th>...</th>\n",
       "      <th>2601</th>\n",
       "      <th>2601</th>\n",
       "      <th>2601</th>\n",
       "      <th>2601</th>\n",
       "      <th>2601</th>\n",
       "      <th>2601</th>\n",
       "      <th>2601</th>\n",
       "      <th>2601</th>\n",
       "      <th>2601</th>\n",
       "      <th>2601</th>\n",
       "    </tr>\n",
       "    <tr>\n",
       "      <th></th>\n",
       "      <th></th>\n",
       "      <th></th>\n",
       "      <th>s1a</th>\n",
       "      <th>s2a</th>\n",
       "      <th>s3a</th>\n",
       "      <th>s4a</th>\n",
       "      <th>axial</th>\n",
       "      <th>smaxa</th>\n",
       "      <th>smina</th>\n",
       "      <th>MS_tension</th>\n",
       "      <th>...</th>\n",
       "      <th>smaxa</th>\n",
       "      <th>smina</th>\n",
       "      <th>MS_tension</th>\n",
       "      <th>s1b</th>\n",
       "      <th>s2b</th>\n",
       "      <th>s3b</th>\n",
       "      <th>s4b</th>\n",
       "      <th>smaxb</th>\n",
       "      <th>sminb</th>\n",
       "      <th>MS_compression</th>\n",
       "    </tr>\n",
       "  </thead>\n",
       "  <tbody>\n",
       "    <tr>\n",
       "      <th>0</th>\n",
       "      <td>0</td>\n",
       "      <td>1110301</td>\n",
       "      <td>-8.072210e+00</td>\n",
       "      <td>2.670840e+01</td>\n",
       "      <td>-7.737744e+00</td>\n",
       "      <td>-9.656663e+00</td>\n",
       "      <td>-9.889628</td>\n",
       "      <td>1.681877e+01</td>\n",
       "      <td>-1.954629e+01</td>\n",
       "      <td>1.457784e+01</td>\n",
       "      <td>...</td>\n",
       "      <td>1.194466e+02</td>\n",
       "      <td>-8.676627e+01</td>\n",
       "      <td>1.193448e+00</td>\n",
       "      <td>7.417738e+00</td>\n",
       "      <td>-4.130146e+01</td>\n",
       "      <td>2.026884e+01</td>\n",
       "      <td>2.295678e+01</td>\n",
       "      <td>5.216033e+00</td>\n",
       "      <td>-5.904221e+01</td>\n",
       "      <td>2.019607e+00</td>\n",
       "    </tr>\n",
       "    <tr>\n",
       "      <th>1</th>\n",
       "      <td>0</td>\n",
       "      <td>1110302</td>\n",
       "      <td>7.953407e-01</td>\n",
       "      <td>-2.489502e+00</td>\n",
       "      <td>6.508680e-01</td>\n",
       "      <td>8.320997e-01</td>\n",
       "      <td>0.901120</td>\n",
       "      <td>1.733220e+00</td>\n",
       "      <td>-1.588382e+00</td>\n",
       "      <td>5.306432e+01</td>\n",
       "      <td>...</td>\n",
       "      <td>1.075880e+01</td>\n",
       "      <td>-3.667257e+01</td>\n",
       "      <td>2.335216e+01</td>\n",
       "      <td>-4.981564e+00</td>\n",
       "      <td>3.238892e+00</td>\n",
       "      <td>5.623401e+00</td>\n",
       "      <td>5.169861e+00</td>\n",
       "      <td>-1.469855e+00</td>\n",
       "      <td>-1.207482e+01</td>\n",
       "      <td>6.144304e+00</td>\n",
       "    </tr>\n",
       "    <tr>\n",
       "      <th>2</th>\n",
       "      <td>0</td>\n",
       "      <td>1110303</td>\n",
       "      <td>-2.309520e-01</td>\n",
       "      <td>3.123143e-01</td>\n",
       "      <td>1.333876e-01</td>\n",
       "      <td>1.034144e-01</td>\n",
       "      <td>1.211099</td>\n",
       "      <td>1.523413e+00</td>\n",
       "      <td>9.801467e-01</td>\n",
       "      <td>2.022092e+01</td>\n",
       "      <td>...</td>\n",
       "      <td>1.029256e+01</td>\n",
       "      <td>-2.141941e+01</td>\n",
       "      <td>1.410782e+01</td>\n",
       "      <td>-1.017748e+01</td>\n",
       "      <td>-2.347645e+00</td>\n",
       "      <td>1.852774e+01</td>\n",
       "      <td>1.809575e+01</td>\n",
       "      <td>1.734201e+01</td>\n",
       "      <td>-1.136321e+01</td>\n",
       "      <td>1.123190e+01</td>\n",
       "    </tr>\n",
       "    <tr>\n",
       "      <th>3</th>\n",
       "      <td>0</td>\n",
       "      <td>1110304</td>\n",
       "      <td>-1.260971e+01</td>\n",
       "      <td>1.781460e+01</td>\n",
       "      <td>6.684015e+00</td>\n",
       "      <td>5.005443e+00</td>\n",
       "      <td>4.357933</td>\n",
       "      <td>2.217254e+01</td>\n",
       "      <td>-8.251773e+00</td>\n",
       "      <td>3.210661e+00</td>\n",
       "      <td>...</td>\n",
       "      <td>2.487164e+00</td>\n",
       "      <td>-3.333619e+01</td>\n",
       "      <td>9.743363e-01</td>\n",
       "      <td>-3.573305e+01</td>\n",
       "      <td>1.427225e+02</td>\n",
       "      <td>-5.348398e+01</td>\n",
       "      <td>-6.332975e+01</td>\n",
       "      <td>1.327028e+02</td>\n",
       "      <td>-7.334943e+01</td>\n",
       "      <td>2.571943e+00</td>\n",
       "    </tr>\n",
       "    <tr>\n",
       "      <th>4</th>\n",
       "      <td>0</td>\n",
       "      <td>1110305</td>\n",
       "      <td>-1.347411e-13</td>\n",
       "      <td>-3.841764e-12</td>\n",
       "      <td>3.237364e-12</td>\n",
       "      <td>3.441888e-12</td>\n",
       "      <td>-0.000000</td>\n",
       "      <td>3.441888e-12</td>\n",
       "      <td>-3.841764e-12</td>\n",
       "      <td>1.650599e+13</td>\n",
       "      <td>...</td>\n",
       "      <td>-2.313500e-12</td>\n",
       "      <td>-2.313500e-12</td>\n",
       "      <td>3.538288e+12</td>\n",
       "      <td>7.636062e-11</td>\n",
       "      <td>-6.077316e-11</td>\n",
       "      <td>-7.746370e-11</td>\n",
       "      <td>-6.989774e-11</td>\n",
       "      <td>7.404712e-11</td>\n",
       "      <td>-7.977720e-11</td>\n",
       "      <td>3.284147e+12</td>\n",
       "    </tr>\n",
       "  </tbody>\n",
       "</table>\n",
       "<p>5 rows × 692 columns</p>\n",
       "</div>"
      ],
      "text/plain": [
       "  Static ElementID          1411          1411          1411          1411  \\\n",
       "                             s1a           s2a           s3a           s4a   \n",
       "0      0   1110301 -8.072210e+00  2.670840e+01 -7.737744e+00 -9.656663e+00   \n",
       "1      0   1110302  7.953407e-01 -2.489502e+00  6.508680e-01  8.320997e-01   \n",
       "2      0   1110303 -2.309520e-01  3.123143e-01  1.333876e-01  1.034144e-01   \n",
       "3      0   1110304 -1.260971e+01  1.781460e+01  6.684015e+00  5.005443e+00   \n",
       "4      0   1110305 -1.347411e-13 -3.841764e-12  3.237364e-12  3.441888e-12   \n",
       "\n",
       "       1411          1411          1411          1411      ...        \\\n",
       "      axial         smaxa         smina    MS_tension      ...         \n",
       "0 -9.889628  1.681877e+01 -1.954629e+01  1.457784e+01      ...         \n",
       "1  0.901120  1.733220e+00 -1.588382e+00  5.306432e+01      ...         \n",
       "2  1.211099  1.523413e+00  9.801467e-01  2.022092e+01      ...         \n",
       "3  4.357933  2.217254e+01 -8.251773e+00  3.210661e+00      ...         \n",
       "4 -0.000000  3.441888e-12 -3.841764e-12  1.650599e+13      ...         \n",
       "\n",
       "           2601          2601          2601          2601          2601  \\\n",
       "          smaxa         smina    MS_tension           s1b           s2b   \n",
       "0  1.194466e+02 -8.676627e+01  1.193448e+00  7.417738e+00 -4.130146e+01   \n",
       "1  1.075880e+01 -3.667257e+01  2.335216e+01 -4.981564e+00  3.238892e+00   \n",
       "2  1.029256e+01 -2.141941e+01  1.410782e+01 -1.017748e+01 -2.347645e+00   \n",
       "3  2.487164e+00 -3.333619e+01  9.743363e-01 -3.573305e+01  1.427225e+02   \n",
       "4 -2.313500e-12 -2.313500e-12  3.538288e+12  7.636062e-11 -6.077316e-11   \n",
       "\n",
       "           2601          2601          2601          2601           2601  \n",
       "            s3b           s4b         smaxb         sminb MS_compression  \n",
       "0  2.026884e+01  2.295678e+01  5.216033e+00 -5.904221e+01   2.019607e+00  \n",
       "1  5.623401e+00  5.169861e+00 -1.469855e+00 -1.207482e+01   6.144304e+00  \n",
       "2  1.852774e+01  1.809575e+01  1.734201e+01 -1.136321e+01   1.123190e+01  \n",
       "3 -5.348398e+01 -6.332975e+01  1.327028e+02 -7.334943e+01   2.571943e+00  \n",
       "4 -7.746370e-11 -6.989774e-11  7.404712e-11 -7.977720e-11   3.284147e+12  \n",
       "\n",
       "[5 rows x 692 columns]"
      ]
     },
     "execution_count": 28,
     "metadata": {},
     "output_type": "execute_result"
    }
   ],
   "source": [
    "Pre_cBar.head()"
   ]
  },
  {
   "cell_type": "code",
   "execution_count": 29,
   "metadata": {},
   "outputs": [],
   "source": [
    "Pre_cBar_1 = Pre_cBar.T"
   ]
  },
  {
   "cell_type": "code",
   "execution_count": 30,
   "metadata": {},
   "outputs": [
    {
     "data": {
      "text/html": [
       "<div>\n",
       "<style scoped>\n",
       "    .dataframe tbody tr th:only-of-type {\n",
       "        vertical-align: middle;\n",
       "    }\n",
       "\n",
       "    .dataframe tbody tr th {\n",
       "        vertical-align: top;\n",
       "    }\n",
       "\n",
       "    .dataframe thead th {\n",
       "        text-align: right;\n",
       "    }\n",
       "</style>\n",
       "<table border=\"1\" class=\"dataframe\">\n",
       "  <thead>\n",
       "    <tr style=\"text-align: right;\">\n",
       "      <th></th>\n",
       "      <th></th>\n",
       "      <th>0</th>\n",
       "      <th>1</th>\n",
       "      <th>2</th>\n",
       "      <th>3</th>\n",
       "      <th>4</th>\n",
       "      <th>5</th>\n",
       "      <th>6</th>\n",
       "      <th>7</th>\n",
       "      <th>8</th>\n",
       "      <th>9</th>\n",
       "      <th>...</th>\n",
       "      <th>6260</th>\n",
       "      <th>6261</th>\n",
       "      <th>6262</th>\n",
       "      <th>6263</th>\n",
       "      <th>6264</th>\n",
       "      <th>6265</th>\n",
       "      <th>6266</th>\n",
       "      <th>6267</th>\n",
       "      <th>6268</th>\n",
       "      <th>6269</th>\n",
       "    </tr>\n",
       "  </thead>\n",
       "  <tbody>\n",
       "    <tr>\n",
       "      <th>Static</th>\n",
       "      <th></th>\n",
       "      <td>0.000000e+00</td>\n",
       "      <td>0.000000e+00</td>\n",
       "      <td>0.000000e+00</td>\n",
       "      <td>0.000000e+00</td>\n",
       "      <td>0.000000e+00</td>\n",
       "      <td>0.000000e+00</td>\n",
       "      <td>0.000000e+00</td>\n",
       "      <td>0.000000e+00</td>\n",
       "      <td>0.000000e+00</td>\n",
       "      <td>0.000000e+00</td>\n",
       "      <td>...</td>\n",
       "      <td>0.0</td>\n",
       "      <td>0.0</td>\n",
       "      <td>0.0</td>\n",
       "      <td>0.0</td>\n",
       "      <td>0.0</td>\n",
       "      <td>0.0</td>\n",
       "      <td>0.0</td>\n",
       "      <td>0.0</td>\n",
       "      <td>0.0</td>\n",
       "      <td>0.0</td>\n",
       "    </tr>\n",
       "    <tr>\n",
       "      <th>ElementID</th>\n",
       "      <th></th>\n",
       "      <td>1.110301e+06</td>\n",
       "      <td>1.110302e+06</td>\n",
       "      <td>1.110303e+06</td>\n",
       "      <td>1.110304e+06</td>\n",
       "      <td>1.110305e+06</td>\n",
       "      <td>1.110306e+06</td>\n",
       "      <td>1.110307e+06</td>\n",
       "      <td>1.110308e+06</td>\n",
       "      <td>1.110309e+06</td>\n",
       "      <td>1.110310e+06</td>\n",
       "      <td>...</td>\n",
       "      <td>7300001.0</td>\n",
       "      <td>7300002.0</td>\n",
       "      <td>7300003.0</td>\n",
       "      <td>7300004.0</td>\n",
       "      <td>7300005.0</td>\n",
       "      <td>7300006.0</td>\n",
       "      <td>7300007.0</td>\n",
       "      <td>7300008.0</td>\n",
       "      <td>7300009.0</td>\n",
       "      <td>7300010.0</td>\n",
       "    </tr>\n",
       "    <tr>\n",
       "      <th>1411</th>\n",
       "      <th>s1a</th>\n",
       "      <td>-8.072210e+00</td>\n",
       "      <td>7.953407e-01</td>\n",
       "      <td>-2.309520e-01</td>\n",
       "      <td>-1.260971e+01</td>\n",
       "      <td>-1.347411e-13</td>\n",
       "      <td>-1.777623e+00</td>\n",
       "      <td>6.570672e-01</td>\n",
       "      <td>8.649401e-01</td>\n",
       "      <td>-1.288058e-01</td>\n",
       "      <td>2.964566e-01</td>\n",
       "      <td>...</td>\n",
       "      <td>-0.0</td>\n",
       "      <td>0.0</td>\n",
       "      <td>0.0</td>\n",
       "      <td>0.0</td>\n",
       "      <td>-0.0</td>\n",
       "      <td>0.0</td>\n",
       "      <td>0.0</td>\n",
       "      <td>0.0</td>\n",
       "      <td>0.0</td>\n",
       "      <td>0.0</td>\n",
       "    </tr>\n",
       "    <tr>\n",
       "      <th>1411</th>\n",
       "      <th>s2a</th>\n",
       "      <td>2.670840e+01</td>\n",
       "      <td>-2.489502e+00</td>\n",
       "      <td>3.123143e-01</td>\n",
       "      <td>1.781460e+01</td>\n",
       "      <td>-3.841764e-12</td>\n",
       "      <td>-1.451851e+00</td>\n",
       "      <td>6.827192e-01</td>\n",
       "      <td>3.687667e-01</td>\n",
       "      <td>5.977084e-01</td>\n",
       "      <td>3.304337e-01</td>\n",
       "      <td>...</td>\n",
       "      <td>-0.0</td>\n",
       "      <td>0.0</td>\n",
       "      <td>0.0</td>\n",
       "      <td>0.0</td>\n",
       "      <td>-0.0</td>\n",
       "      <td>0.0</td>\n",
       "      <td>0.0</td>\n",
       "      <td>0.0</td>\n",
       "      <td>0.0</td>\n",
       "      <td>0.0</td>\n",
       "    </tr>\n",
       "    <tr>\n",
       "      <th>1411</th>\n",
       "      <th>s3a</th>\n",
       "      <td>-7.737744e+00</td>\n",
       "      <td>6.508680e-01</td>\n",
       "      <td>1.333876e-01</td>\n",
       "      <td>6.684015e+00</td>\n",
       "      <td>3.237364e-12</td>\n",
       "      <td>4.054106e+00</td>\n",
       "      <td>-1.613219e+00</td>\n",
       "      <td>-1.707485e+00</td>\n",
       "      <td>-2.581514e-01</td>\n",
       "      <td>-7.454453e-01</td>\n",
       "      <td>...</td>\n",
       "      <td>-0.0</td>\n",
       "      <td>0.0</td>\n",
       "      <td>0.0</td>\n",
       "      <td>0.0</td>\n",
       "      <td>-0.0</td>\n",
       "      <td>0.0</td>\n",
       "      <td>0.0</td>\n",
       "      <td>0.0</td>\n",
       "      <td>0.0</td>\n",
       "      <td>0.0</td>\n",
       "    </tr>\n",
       "  </tbody>\n",
       "</table>\n",
       "<p>5 rows × 6270 columns</p>\n",
       "</div>"
      ],
      "text/plain": [
       "                       0             1             2             3     \\\n",
       "Static         0.000000e+00  0.000000e+00  0.000000e+00  0.000000e+00   \n",
       "ElementID      1.110301e+06  1.110302e+06  1.110303e+06  1.110304e+06   \n",
       "1411      s1a -8.072210e+00  7.953407e-01 -2.309520e-01 -1.260971e+01   \n",
       "1411      s2a  2.670840e+01 -2.489502e+00  3.123143e-01  1.781460e+01   \n",
       "1411      s3a -7.737744e+00  6.508680e-01  1.333876e-01  6.684015e+00   \n",
       "\n",
       "                       4             5             6             7     \\\n",
       "Static         0.000000e+00  0.000000e+00  0.000000e+00  0.000000e+00   \n",
       "ElementID      1.110305e+06  1.110306e+06  1.110307e+06  1.110308e+06   \n",
       "1411      s1a -1.347411e-13 -1.777623e+00  6.570672e-01  8.649401e-01   \n",
       "1411      s2a -3.841764e-12 -1.451851e+00  6.827192e-01  3.687667e-01   \n",
       "1411      s3a  3.237364e-12  4.054106e+00 -1.613219e+00 -1.707485e+00   \n",
       "\n",
       "                       8             9       ...           6260       6261  \\\n",
       "Static         0.000000e+00  0.000000e+00    ...            0.0        0.0   \n",
       "ElementID      1.110309e+06  1.110310e+06    ...      7300001.0  7300002.0   \n",
       "1411      s1a -1.288058e-01  2.964566e-01    ...           -0.0        0.0   \n",
       "1411      s2a  5.977084e-01  3.304337e-01    ...           -0.0        0.0   \n",
       "1411      s3a -2.581514e-01 -7.454453e-01    ...           -0.0        0.0   \n",
       "\n",
       "                    6262       6263       6264       6265       6266  \\\n",
       "Static               0.0        0.0        0.0        0.0        0.0   \n",
       "ElementID      7300003.0  7300004.0  7300005.0  7300006.0  7300007.0   \n",
       "1411      s1a        0.0        0.0       -0.0        0.0        0.0   \n",
       "1411      s2a        0.0        0.0       -0.0        0.0        0.0   \n",
       "1411      s3a        0.0        0.0       -0.0        0.0        0.0   \n",
       "\n",
       "                    6267       6268       6269  \n",
       "Static               0.0        0.0        0.0  \n",
       "ElementID      7300008.0  7300009.0  7300010.0  \n",
       "1411      s1a        0.0        0.0        0.0  \n",
       "1411      s2a        0.0        0.0        0.0  \n",
       "1411      s3a        0.0        0.0        0.0  \n",
       "\n",
       "[5 rows x 6270 columns]"
      ]
     },
     "execution_count": 30,
     "metadata": {},
     "output_type": "execute_result"
    }
   ],
   "source": [
    "Pre_cBar_1.head()"
   ]
  },
  {
   "cell_type": "markdown",
   "metadata": {},
   "source": [
    "# For only Bar Axial Stress"
   ]
  },
  {
   "cell_type": "code",
   "execution_count": 31,
   "metadata": {},
   "outputs": [],
   "source": [
    "# Function Which creates new index for Bar Stress individual loadcase\n",
    "def newBarIndex_Axial(lc):\n",
    "    colReInx = pd.MultiIndex.from_tuples([ (lc, 'axial')])\n",
    "    return colReInx"
   ]
  },
  {
   "cell_type": "code",
   "execution_count": 32,
   "metadata": {},
   "outputs": [],
   "source": [
    "# Start with an empty dataframe [note: Logic to be changed later]\n",
    "cBarResultDF_Pre_Axial = pd.DataFrame({'A' : []})\n",
    "for lc in preLCs:\n",
    "    tempDF = preOP2Model.cbar_stress[lc].data_frame\n",
    "    tempDF = tempDF.unstack(level=0).T\n",
    "    tempDF1 = tempDF.reindex(columns=newBarIndex_Axial(lc), level=1)\n",
    "    if cBarResultDF_Pre_Axial.empty == False:\n",
    "        cBarResultDF_Pre_Axial = pd.concat([cBarResultDF_Pre_Axial, tempDF1], axis=1,sort=False)\n",
    "    else :\n",
    "        cBarResultDF_Pre_Axial = tempDF1.copy()"
   ]
  },
  {
   "cell_type": "code",
   "execution_count": 34,
   "metadata": {},
   "outputs": [],
   "source": [
    "# Start with an empty dataframe [note: Logic to be changed later]\n",
    "cBarResultDF_Post_Axial = pd.DataFrame({'A' : []})\n",
    "for lc in postLCs:\n",
    "    tempDF = postOP2Model.cbar_stress[lc].data_frame\n",
    "    tempDF = tempDF.unstack(level=0).T\n",
    "    tempDF1 = tempDF.reindex(columns=newBarIndex(lc), level=1)\n",
    "    if cBarResultDF_Post_Axial.empty == False:\n",
    "        cBarResultDF_Post_Axial = pd.concat([cBarResultDF_Post_Axial, tempDF1], axis=1,sort=False)\n",
    "    else :\n",
    "        cBarResultDF_Post_Axial = tempDF1.copy()"
   ]
  },
  {
   "cell_type": "code",
   "execution_count": 35,
   "metadata": {},
   "outputs": [],
   "source": [
    "cBarResultDF_Pre_Axial.to_csv('preMod_cBar_Stress_Axial.csv')\n",
    "cBarResultDF_Post_Axial.to_csv('postMod_cBar_Stress_Axial.csv')"
   ]
  },
  {
   "cell_type": "code",
   "execution_count": null,
   "metadata": {},
   "outputs": [],
   "source": []
  }
 ],
 "metadata": {
  "kernelspec": {
   "display_name": "Python 3",
   "language": "python",
   "name": "python3"
  },
  "language_info": {
   "codemirror_mode": {
    "name": "ipython",
    "version": 3
   },
   "file_extension": ".py",
   "mimetype": "text/x-python",
   "name": "python",
   "nbconvert_exporter": "python",
   "pygments_lexer": "ipython3",
   "version": "3.6.5"
  }
 },
 "nbformat": 4,
 "nbformat_minor": 2
}
