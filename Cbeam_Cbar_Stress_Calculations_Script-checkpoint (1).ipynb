{
 "cells": [
  {
   "cell_type": "code",
   "execution_count": 1,
   "metadata": {},
   "outputs": [],
   "source": [
    "import pyNastran\n",
    "from pyNastran.bdf.bdf import BDF"
   ]
  },
  {
   "cell_type": "code",
   "execution_count": 2,
   "metadata": {},
   "outputs": [],
   "source": [
    "model = BDF()"
   ]
  },
  {
   "cell_type": "code",
   "execution_count": 3,
   "metadata": {},
   "outputs": [],
   "source": [
    "from pyNastran.op2.op2 import OP2"
   ]
  },
  {
   "cell_type": "code",
   "execution_count": 4,
   "metadata": {},
   "outputs": [],
   "source": [
    "modeOP2 = OP2()"
   ]
  },
  {
   "cell_type": "code",
   "execution_count": 5,
   "metadata": {},
   "outputs": [
    {
     "data": {
      "text/html": [
       "<text style=color:blue>DEBUG:   op2.py:549                   combine=True\n",
       "</text>"
      ],
      "text/plain": [
       "<IPython.core.display.HTML object>"
      ]
     },
     "metadata": {},
     "output_type": "display_data"
    },
    {
     "data": {
      "text/html": [
       "<text style=color:blue>DEBUG:   op2.py:550                   -------- reading op2 with read_mode=1 (array sizing) --------\n",
       "</text>"
      ],
      "text/plain": [
       "<IPython.core.display.HTML object>"
      ]
     },
     "metadata": {},
     "output_type": "display_data"
    },
    {
     "data": {
      "text/html": [
       "<text style=color:green>INFO:    op2_scalar.py:1322           op2_filename = './OP2s/pc12-47-v1-6-static_post_m3.2_2313.op2'\n",
       "</text>"
      ],
      "text/plain": [
       "<IPython.core.display.HTML object>"
      ]
     },
     "metadata": {},
     "output_type": "display_data"
    },
    {
     "data": {
      "text/html": [
       "<text style=color:blue>DEBUG:   op2_scalar.py:1472             table_name=b'OQG1'\n",
       "</text>"
      ],
      "text/plain": [
       "<IPython.core.display.HTML object>"
      ]
     },
     "metadata": {},
     "output_type": "display_data"
    },
    {
     "data": {
      "text/html": [
       "<text style=color:blue>DEBUG:   op2_scalar.py:1472             table_name=b'OQMG1'\n",
       "</text>"
      ],
      "text/plain": [
       "<IPython.core.display.HTML object>"
      ]
     },
     "metadata": {},
     "output_type": "display_data"
    },
    {
     "data": {
      "text/html": [
       "<text style=color:blue>DEBUG:   op2_scalar.py:1472             table_name=b'OUG1'\n",
       "</text>"
      ],
      "text/plain": [
       "<IPython.core.display.HTML object>"
      ]
     },
     "metadata": {},
     "output_type": "display_data"
    },
    {
     "data": {
      "text/html": [
       "<text style=color:blue>DEBUG:   op2_scalar.py:1472             table_name=b'OGPFB1'\n",
       "</text>"
      ],
      "text/plain": [
       "<IPython.core.display.HTML object>"
      ]
     },
     "metadata": {},
     "output_type": "display_data"
    },
    {
     "data": {
      "text/html": [
       "<text style=color:blue>DEBUG:   op2_scalar.py:1472             table_name=b'OEF1X'\n",
       "</text>"
      ],
      "text/plain": [
       "<IPython.core.display.HTML object>"
      ]
     },
     "metadata": {},
     "output_type": "display_data"
    },
    {
     "data": {
      "text/html": [
       "<text style=color:blue>DEBUG:   op2_scalar.py:1472             table_name=b'OES1X1'\n",
       "</text>"
      ],
      "text/plain": [
       "<IPython.core.display.HTML object>"
      ]
     },
     "metadata": {},
     "output_type": "display_data"
    },
    {
     "data": {
      "text/html": [
       "<text style=color:blue>DEBUG:   op2_scalar.py:1472             table_name=b'OPG1'\n",
       "</text>"
      ],
      "text/plain": [
       "<IPython.core.display.HTML object>"
      ]
     },
     "metadata": {},
     "output_type": "display_data"
    },
    {
     "data": {
      "text/html": [
       "<text style=color:blue>DEBUG:   op2.py:563                   -------- reading op2 with read_mode=2 (array filling) --------\n",
       "</text>"
      ],
      "text/plain": [
       "<IPython.core.display.HTML object>"
      ]
     },
     "metadata": {},
     "output_type": "display_data"
    },
    {
     "data": {
      "text/html": [
       "<text style=color:blue>DEBUG:   op2_scalar.py:1472             table_name=b'OQG1'\n",
       "</text>"
      ],
      "text/plain": [
       "<IPython.core.display.HTML object>"
      ]
     },
     "metadata": {},
     "output_type": "display_data"
    },
    {
     "data": {
      "text/html": [
       "<text style=color:blue>DEBUG:   op2_scalar.py:1472             table_name=b'OQMG1'\n",
       "</text>"
      ],
      "text/plain": [
       "<IPython.core.display.HTML object>"
      ]
     },
     "metadata": {},
     "output_type": "display_data"
    },
    {
     "data": {
      "text/html": [
       "<text style=color:blue>DEBUG:   op2_scalar.py:1472             table_name=b'OUG1'\n",
       "</text>"
      ],
      "text/plain": [
       "<IPython.core.display.HTML object>"
      ]
     },
     "metadata": {},
     "output_type": "display_data"
    },
    {
     "data": {
      "text/html": [
       "<text style=color:blue>DEBUG:   op2_scalar.py:1472             table_name=b'OGPFB1'\n",
       "</text>"
      ],
      "text/plain": [
       "<IPython.core.display.HTML object>"
      ]
     },
     "metadata": {},
     "output_type": "display_data"
    },
    {
     "data": {
      "text/html": [
       "<text style=color:blue>DEBUG:   op2_scalar.py:1472             table_name=b'OEF1X'\n",
       "</text>"
      ],
      "text/plain": [
       "<IPython.core.display.HTML object>"
      ]
     },
     "metadata": {},
     "output_type": "display_data"
    },
    {
     "data": {
      "text/html": [
       "<text style=color:blue>DEBUG:   op2_scalar.py:1472             table_name=b'OES1X1'\n",
       "</text>"
      ],
      "text/plain": [
       "<IPython.core.display.HTML object>"
      ]
     },
     "metadata": {},
     "output_type": "display_data"
    },
    {
     "data": {
      "text/html": [
       "<text style=color:blue>DEBUG:   op2_scalar.py:1472             table_name=b'OPG1'\n",
       "</text>"
      ],
      "text/plain": [
       "<IPython.core.display.HTML object>"
      ]
     },
     "metadata": {},
     "output_type": "display_data"
    },
    {
     "name": "stderr",
     "output_type": "stream",
     "text": [
      "C:\\ProgramData\\Anaconda3\\lib\\site-packages\\pynastran-1.2.0+dev.no.checksum.error-py3.6.egg\\pyNastran\\op2\\op2.py:665: FutureWarning: \n",
      "Panel is deprecated and will be removed in a future version.\n",
      "The recommended way to represent these types of 3-dimensional data are with a MultiIndex on a DataFrame, via the Panel.to_frame() method\n",
      "Alternatively, you can use the xarray package http://xarray.pydata.org/en/stable/.\n",
      "Pandas provides a `.to_xarray()` method to help automate this conversion.\n",
      "\n",
      "  obj.build_dataframe()\n"
     ]
    },
    {
     "data": {
      "text/html": [
       "<text style=color:blue>DEBUG:   op2.py:766                   combine_results\n",
       "</text>"
      ],
      "text/plain": [
       "<IPython.core.display.HTML object>"
      ]
     },
     "metadata": {},
     "output_type": "display_data"
    },
    {
     "data": {
      "text/html": [
       "<text style=color:blue>DEBUG:   op2.py:575                   finished reading op2\n",
       "</text>"
      ],
      "text/plain": [
       "<IPython.core.display.HTML object>"
      ]
     },
     "metadata": {},
     "output_type": "display_data"
    }
   ],
   "source": [
    "modeOP2.read_op2('./OP2s/pc12-47-v1-6-static_post_m3.2_2313.op2', build_dataframe=True)"
   ]
  },
  {
   "cell_type": "code",
   "execution_count": 10,
   "metadata": {},
   "outputs": [],
   "source": [
    "cbeam = modeOP2.cbeam_force[92313].data_frame"
   ]
  },
  {
   "cell_type": "code",
   "execution_count": 11,
   "metadata": {},
   "outputs": [
    {
     "data": {
      "text/html": [
       "<div>\n",
       "<style scoped>\n",
       "    .dataframe tbody tr th:only-of-type {\n",
       "        vertical-align: middle;\n",
       "    }\n",
       "\n",
       "    .dataframe tbody tr th {\n",
       "        vertical-align: top;\n",
       "    }\n",
       "\n",
       "    .dataframe thead th {\n",
       "        text-align: right;\n",
       "    }\n",
       "</style>\n",
       "<table border=\"1\" class=\"dataframe\">\n",
       "  <thead>\n",
       "    <tr style=\"text-align: right;\">\n",
       "      <th></th>\n",
       "      <th>ElementID</th>\n",
       "      <th>Location</th>\n",
       "      <th>sd</th>\n",
       "      <th>bending_moment1</th>\n",
       "      <th>bending_moment2</th>\n",
       "      <th>shear1</th>\n",
       "      <th>shear2</th>\n",
       "      <th>axial_force</th>\n",
       "      <th>total_torque</th>\n",
       "      <th>warping_torque</th>\n",
       "    </tr>\n",
       "  </thead>\n",
       "  <tbody>\n",
       "    <tr>\n",
       "      <th>0</th>\n",
       "      <td>1117503.0</td>\n",
       "      <td>0.0</td>\n",
       "      <td>0.0</td>\n",
       "      <td>6909.833008</td>\n",
       "      <td>539.952759</td>\n",
       "      <td>95.058983</td>\n",
       "      <td>9.880039</td>\n",
       "      <td>-263.327423</td>\n",
       "      <td>0.0</td>\n",
       "      <td>0.0</td>\n",
       "    </tr>\n",
       "    <tr>\n",
       "      <th>1</th>\n",
       "      <td>1117503.0</td>\n",
       "      <td>1.0</td>\n",
       "      <td>1.0</td>\n",
       "      <td>-7291.028809</td>\n",
       "      <td>-936.026245</td>\n",
       "      <td>95.058983</td>\n",
       "      <td>9.880039</td>\n",
       "      <td>-263.327423</td>\n",
       "      <td>0.0</td>\n",
       "      <td>0.0</td>\n",
       "    </tr>\n",
       "    <tr>\n",
       "      <th>2</th>\n",
       "      <td>1117507.0</td>\n",
       "      <td>0.0</td>\n",
       "      <td>0.0</td>\n",
       "      <td>-4163.673340</td>\n",
       "      <td>-14.247484</td>\n",
       "      <td>-80.919472</td>\n",
       "      <td>0.055827</td>\n",
       "      <td>3.546271</td>\n",
       "      <td>0.0</td>\n",
       "      <td>0.0</td>\n",
       "    </tr>\n",
       "    <tr>\n",
       "      <th>3</th>\n",
       "      <td>1117507.0</td>\n",
       "      <td>1.0</td>\n",
       "      <td>1.0</td>\n",
       "      <td>7922.540039</td>\n",
       "      <td>-22.585928</td>\n",
       "      <td>-80.919472</td>\n",
       "      <td>0.055827</td>\n",
       "      <td>3.546271</td>\n",
       "      <td>0.0</td>\n",
       "      <td>0.0</td>\n",
       "    </tr>\n",
       "    <tr>\n",
       "      <th>4</th>\n",
       "      <td>1118503.0</td>\n",
       "      <td>0.0</td>\n",
       "      <td>0.0</td>\n",
       "      <td>14047.746094</td>\n",
       "      <td>-130.144409</td>\n",
       "      <td>145.767181</td>\n",
       "      <td>2.318575</td>\n",
       "      <td>75.428017</td>\n",
       "      <td>0.0</td>\n",
       "      <td>0.0</td>\n",
       "    </tr>\n",
       "    <tr>\n",
       "      <th>5</th>\n",
       "      <td>1118503.0</td>\n",
       "      <td>1.0</td>\n",
       "      <td>1.0</td>\n",
       "      <td>-7725.497070</td>\n",
       "      <td>-476.470001</td>\n",
       "      <td>145.767181</td>\n",
       "      <td>2.318575</td>\n",
       "      <td>75.428017</td>\n",
       "      <td>0.0</td>\n",
       "      <td>0.0</td>\n",
       "    </tr>\n",
       "    <tr>\n",
       "      <th>6</th>\n",
       "      <td>1118507.0</td>\n",
       "      <td>0.0</td>\n",
       "      <td>0.0</td>\n",
       "      <td>-3354.712646</td>\n",
       "      <td>-71.105911</td>\n",
       "      <td>-74.221039</td>\n",
       "      <td>-8.285047</td>\n",
       "      <td>-22.599571</td>\n",
       "      <td>0.0</td>\n",
       "      <td>0.0</td>\n",
       "    </tr>\n",
       "    <tr>\n",
       "      <th>7</th>\n",
       "      <td>1118507.0</td>\n",
       "      <td>1.0</td>\n",
       "      <td>1.0</td>\n",
       "      <td>7731.684082</td>\n",
       "      <td>1166.431519</td>\n",
       "      <td>-74.221039</td>\n",
       "      <td>-8.285047</td>\n",
       "      <td>-22.599571</td>\n",
       "      <td>0.0</td>\n",
       "      <td>0.0</td>\n",
       "    </tr>\n",
       "    <tr>\n",
       "      <th>8</th>\n",
       "      <td>1119503.0</td>\n",
       "      <td>0.0</td>\n",
       "      <td>0.0</td>\n",
       "      <td>5153.133789</td>\n",
       "      <td>-623.461670</td>\n",
       "      <td>57.142002</td>\n",
       "      <td>-6.226418</td>\n",
       "      <td>342.230865</td>\n",
       "      <td>0.0</td>\n",
       "      <td>0.0</td>\n",
       "    </tr>\n",
       "    <tr>\n",
       "      <th>9</th>\n",
       "      <td>1119503.0</td>\n",
       "      <td>1.0</td>\n",
       "      <td>1.0</td>\n",
       "      <td>-3381.024414</td>\n",
       "      <td>306.453888</td>\n",
       "      <td>57.142002</td>\n",
       "      <td>-6.226418</td>\n",
       "      <td>342.230865</td>\n",
       "      <td>0.0</td>\n",
       "      <td>0.0</td>\n",
       "    </tr>\n",
       "    <tr>\n",
       "      <th>10</th>\n",
       "      <td>1119507.0</td>\n",
       "      <td>0.0</td>\n",
       "      <td>0.0</td>\n",
       "      <td>-638.040344</td>\n",
       "      <td>-24.240721</td>\n",
       "      <td>-38.329388</td>\n",
       "      <td>-7.552378</td>\n",
       "      <td>-15.964493</td>\n",
       "      <td>0.0</td>\n",
       "      <td>0.0</td>\n",
       "    </tr>\n",
       "    <tr>\n",
       "      <th>11</th>\n",
       "      <td>1119507.0</td>\n",
       "      <td>1.0</td>\n",
       "      <td>1.0</td>\n",
       "      <td>5086.453613</td>\n",
       "      <td>1103.706909</td>\n",
       "      <td>-38.329388</td>\n",
       "      <td>-7.552378</td>\n",
       "      <td>-15.964493</td>\n",
       "      <td>0.0</td>\n",
       "      <td>0.0</td>\n",
       "    </tr>\n",
       "    <tr>\n",
       "      <th>12</th>\n",
       "      <td>1120503.0</td>\n",
       "      <td>0.0</td>\n",
       "      <td>0.0</td>\n",
       "      <td>-16305.265625</td>\n",
       "      <td>1379.066650</td>\n",
       "      <td>-130.350677</td>\n",
       "      <td>11.534793</td>\n",
       "      <td>42.707851</td>\n",
       "      <td>0.0</td>\n",
       "      <td>0.0</td>\n",
       "    </tr>\n",
       "    <tr>\n",
       "      <th>13</th>\n",
       "      <td>1120503.0</td>\n",
       "      <td>1.0</td>\n",
       "      <td>1.0</td>\n",
       "      <td>3162.608398</td>\n",
       "      <td>-343.654694</td>\n",
       "      <td>-130.350677</td>\n",
       "      <td>11.534793</td>\n",
       "      <td>42.707851</td>\n",
       "      <td>0.0</td>\n",
       "      <td>0.0</td>\n",
       "    </tr>\n",
       "    <tr>\n",
       "      <th>14</th>\n",
       "      <td>1120507.0</td>\n",
       "      <td>0.0</td>\n",
       "      <td>0.0</td>\n",
       "      <td>-11700.460938</td>\n",
       "      <td>138.607574</td>\n",
       "      <td>-114.853790</td>\n",
       "      <td>2.454005</td>\n",
       "      <td>-74.519791</td>\n",
       "      <td>0.0</td>\n",
       "      <td>0.0</td>\n",
       "    </tr>\n",
       "  </tbody>\n",
       "</table>\n",
       "</div>"
      ],
      "text/plain": [
       "    ElementID  Location   sd  bending_moment1  bending_moment2      shear1  \\\n",
       "0   1117503.0       0.0  0.0      6909.833008       539.952759   95.058983   \n",
       "1   1117503.0       1.0  1.0     -7291.028809      -936.026245   95.058983   \n",
       "2   1117507.0       0.0  0.0     -4163.673340       -14.247484  -80.919472   \n",
       "3   1117507.0       1.0  1.0      7922.540039       -22.585928  -80.919472   \n",
       "4   1118503.0       0.0  0.0     14047.746094      -130.144409  145.767181   \n",
       "5   1118503.0       1.0  1.0     -7725.497070      -476.470001  145.767181   \n",
       "6   1118507.0       0.0  0.0     -3354.712646       -71.105911  -74.221039   \n",
       "7   1118507.0       1.0  1.0      7731.684082      1166.431519  -74.221039   \n",
       "8   1119503.0       0.0  0.0      5153.133789      -623.461670   57.142002   \n",
       "9   1119503.0       1.0  1.0     -3381.024414       306.453888   57.142002   \n",
       "10  1119507.0       0.0  0.0      -638.040344       -24.240721  -38.329388   \n",
       "11  1119507.0       1.0  1.0      5086.453613      1103.706909  -38.329388   \n",
       "12  1120503.0       0.0  0.0    -16305.265625      1379.066650 -130.350677   \n",
       "13  1120503.0       1.0  1.0      3162.608398      -343.654694 -130.350677   \n",
       "14  1120507.0       0.0  0.0    -11700.460938       138.607574 -114.853790   \n",
       "\n",
       "       shear2  axial_force  total_torque  warping_torque  \n",
       "0    9.880039  -263.327423           0.0             0.0  \n",
       "1    9.880039  -263.327423           0.0             0.0  \n",
       "2    0.055827     3.546271           0.0             0.0  \n",
       "3    0.055827     3.546271           0.0             0.0  \n",
       "4    2.318575    75.428017           0.0             0.0  \n",
       "5    2.318575    75.428017           0.0             0.0  \n",
       "6   -8.285047   -22.599571           0.0             0.0  \n",
       "7   -8.285047   -22.599571           0.0             0.0  \n",
       "8   -6.226418   342.230865           0.0             0.0  \n",
       "9   -6.226418   342.230865           0.0             0.0  \n",
       "10  -7.552378   -15.964493           0.0             0.0  \n",
       "11  -7.552378   -15.964493           0.0             0.0  \n",
       "12  11.534793    42.707851           0.0             0.0  \n",
       "13  11.534793    42.707851           0.0             0.0  \n",
       "14   2.454005   -74.519791           0.0             0.0  "
      ]
     },
     "execution_count": 11,
     "metadata": {},
     "output_type": "execute_result"
    }
   ],
   "source": [
    "cbeam.head(15)"
   ]
  },
  {
   "cell_type": "code",
   "execution_count": null,
   "metadata": {},
   "outputs": [],
   "source": [
    "model.read_bdf('pc12-47-v1-6-static_post_M3.2_2101.bdf',xref=True)"
   ]
  },
  {
   "cell_type": "code",
   "execution_count": null,
   "metadata": {},
   "outputs": [],
   "source": [
    "# f = open('junk.out', 'w')"
   ]
  },
  {
   "cell_type": "code",
   "execution_count": null,
   "metadata": {},
   "outputs": [],
   "source": [
    "# >>> for pid, prop in sorted(model.properties.items()):\n",
    "# >>>     f.write(prop.write_card(size=8, is_double=False))"
   ]
  },
  {
   "cell_type": "code",
   "execution_count": null,
   "metadata": {},
   "outputs": [],
   "source": [
    "# >>> for eid,element in sorted(model.elements.items()):\n",
    "# >>>     print('eid=%s type=%s\\n' %(eid, element.type))"
   ]
  },
  {
   "cell_type": "code",
   "execution_count": null,
   "metadata": {},
   "outputs": [],
   "source": [
    "# prop = model.properties[7300029]"
   ]
  },
  {
   "cell_type": "code",
   "execution_count": null,
   "metadata": {},
   "outputs": [],
   "source": [
    "pid_to_eids_map = model.get_property_id_to_element_ids_map()"
   ]
  },
  {
   "cell_type": "code",
   "execution_count": null,
   "metadata": {},
   "outputs": [],
   "source": [
    "# pid_to_eids_map[7300029]"
   ]
  },
  {
   "cell_type": "code",
   "execution_count": null,
   "metadata": {},
   "outputs": [],
   "source": [
    "# print(model.get_bdf_stats())"
   ]
  },
  {
   "cell_type": "code",
   "execution_count": null,
   "metadata": {},
   "outputs": [],
   "source": [
    "import pandas as pd\n",
    "import numpy as np"
   ]
  },
  {
   "cell_type": "code",
   "execution_count": null,
   "metadata": {},
   "outputs": [],
   "source": [
    "# # pid_df  = pd.DataFrame.from_dict(pid_to_eids_map)\n",
    "\n",
    "# pid_df  = pd.DataFrame(dict([ (k,pd.Series(v)) for k,v in pid_to_eids_map.items() ]))\n",
    "# pid_df.head()"
   ]
  },
  {
   "cell_type": "code",
   "execution_count": null,
   "metadata": {},
   "outputs": [],
   "source": [
    "# pid_df = pid_df.fillna(0)\n",
    "# count = pid_df.apply(np.count_nonzero, axis=0)"
   ]
  },
  {
   "cell_type": "code",
   "execution_count": null,
   "metadata": {},
   "outputs": [],
   "source": [
    "# count.sort_values()"
   ]
  },
  {
   "cell_type": "code",
   "execution_count": null,
   "metadata": {},
   "outputs": [],
   "source": [
    "# prop = model.properties[7300029]"
   ]
  },
  {
   "cell_type": "code",
   "execution_count": null,
   "metadata": {},
   "outputs": [],
   "source": [
    "# prop.Area()"
   ]
  },
  {
   "cell_type": "code",
   "execution_count": null,
   "metadata": {},
   "outputs": [],
   "source": [
    "# df = pd.DataFrame(list(pid_to_eids_map.keys()))\n",
    "# df = df.rename(columns={df.columns[0]:'PropID'})\n",
    "# df.head()"
   ]
  },
  {
   "cell_type": "code",
   "execution_count": null,
   "metadata": {},
   "outputs": [],
   "source": []
  },
  {
   "cell_type": "code",
   "execution_count": null,
   "metadata": {},
   "outputs": [],
   "source": [
    "# df['PropType'] = df.PropID.map(lambda x: model.properties[x].type)"
   ]
  },
  {
   "cell_type": "code",
   "execution_count": null,
   "metadata": {},
   "outputs": [],
   "source": [
    "# df_pbar = df[df.PropType == 'PBAR']"
   ]
  },
  {
   "cell_type": "code",
   "execution_count": null,
   "metadata": {},
   "outputs": [],
   "source": [
    "# df_pbar.head()"
   ]
  },
  {
   "cell_type": "code",
   "execution_count": null,
   "metadata": {},
   "outputs": [],
   "source": [
    "# pbar = model.properties[1110301]"
   ]
  },
  {
   "cell_type": "code",
   "execution_count": null,
   "metadata": {},
   "outputs": [],
   "source": [
    "# model.properties[1110301].Area()"
   ]
  },
  {
   "cell_type": "code",
   "execution_count": null,
   "metadata": {},
   "outputs": [],
   "source": [
    "# pbar"
   ]
  },
  {
   "cell_type": "code",
   "execution_count": null,
   "metadata": {},
   "outputs": [],
   "source": [
    "# pbar.Area()"
   ]
  },
  {
   "cell_type": "code",
   "execution_count": null,
   "metadata": {},
   "outputs": [],
   "source": [
    "# df_pbeam = df[df.PropType == 'PBEAM']"
   ]
  },
  {
   "cell_type": "code",
   "execution_count": null,
   "metadata": {},
   "outputs": [],
   "source": [
    "# df_pbeam.head()"
   ]
  },
  {
   "cell_type": "code",
   "execution_count": null,
   "metadata": {},
   "outputs": [],
   "source": [
    "# pbeam = model.properties[1416002]\n",
    "# pbeam"
   ]
  },
  {
   "cell_type": "code",
   "execution_count": null,
   "metadata": {},
   "outputs": [],
   "source": [
    "# pbeam.Area()"
   ]
  },
  {
   "cell_type": "code",
   "execution_count": null,
   "metadata": {},
   "outputs": [],
   "source": [
    "def ReadOP2Files(path):\n",
    "    path = path + '*.op2'\n",
    "    print('Given File path is : \\n' , path , '\\n')\n",
    "    op2ListName = glob.glob(path)\n",
    "    print('Found the following list of OP2 Files: \\n')\n",
    "    print('========================================', '\\n')\n",
    "    op2ListName\n",
    "    dictOP2FileList = {}\n",
    "    for i in range(len(op2ListName)):\n",
    "        #print(colors[i])\n",
    "        dictOP2FileList[os.path.splitext(os.path.basename(op2ListName[i]))[0]] = op2ListName[i]\n",
    "        #print(os.path.basename(op2ListName[i]), op2ListName[i])\n",
    "        #print(os.path.splitext(os.path.basename(op2ListName[i])))\n",
    "    return dictOP2FileList\n",
    "\n",
    "\n",
    "# In[46]:\n",
    "\n",
    "\n",
    "def ReadOP2File(op2FileName):\n",
    "    preOP2Model = OP2()\n",
    "    preOP2File = op2FileName\n",
    "    # Load Pre OP2 File\n",
    "    preOP2Model.read_op2(preOP2File, build_dataframe=True)\n",
    "    return preOP2Model\n",
    "\n",
    "\n",
    "# In[47]:\n",
    "\n",
    "\n",
    "def ReadLoadcases(preOP2Model):\n",
    "    print(preOP2Model.get_op2_stats(short=True))\n",
    "    preLCs = list(preOP2Model.cshear_stress.keys())\n",
    "    return preLCs\n",
    "\n",
    "\n",
    "# In[48]:\n",
    "\n",
    "\n",
    "# Function Which creates new index for Shear Stress individual loadcase\n",
    "def newShearIndex(lc):\n",
    "    colReInx = pd.MultiIndex.from_tuples([(lc, 'max_shear'), (lc, 'avg_shear'), (lc, 'margin')])\n",
    "    return colReInx\n",
    "\n",
    "\n",
    "# In[49]:\n",
    "\n",
    "\n",
    "def ReadShearStressResults(preOP2Model):\n",
    "    preLCs = ReadLoadcases(preOP2Model)\n",
    "    # Start with an empty dataframe [note: Logic to be changed later]\n",
    "    cShearResultDF_Pre = pd.DataFrame({'A' : []})\n",
    "    for lc in preLCs:\n",
    "        tempDF = preOP2Model.cshear_stress[lc].data_frame\n",
    "        tempDF = tempDF.unstack(level=0).T\n",
    "        tempDF1 = tempDF.reindex(columns=newShearIndex(lc), level=1)\n",
    "        if cShearResultDF_Pre.empty == False:\n",
    "            cShearResultDF_Pre = pd.concat([cShearResultDF_Pre, tempDF1], axis=1,sort=False)\n",
    "        else :\n",
    "            cShearResultDF_Pre = tempDF1.copy()\n",
    "    return cShearResultDF_Pre"
   ]
  },
  {
   "cell_type": "code",
   "execution_count": null,
   "metadata": {},
   "outputs": [],
   "source": [
    "# df_pbeam = df[df.PropType == 'PBEAM']\n",
    "# df_pbeam.head()"
   ]
  },
  {
   "cell_type": "code",
   "execution_count": null,
   "metadata": {},
   "outputs": [],
   "source": [
    "beam_stresses_df = modeOP2.cbeam_force[92101].data_frame\n",
    "# modeOP2.cbeam_force.keys()\n",
    "beam_stresses_df['element_type'] = beam_stresses_df.ElementID.map(lambda x: model.elements[x].type)\n",
    "beam_stresses_df['property_id'] = beam_stresses_df.ElementID.map(lambda x: model.elements[x].pid)\n",
    "beam_stresses_df['element_area'] = beam_stresses_df.property_id.map(lambda x: model.properties[x].Area())\n",
    "beam_stresses_df['beam_stress'] = beam_stresses_df.axial_force / beam_stresses_df.element_area\n",
    "interested_columns  =['ElementID', 'Location', 'sd', 'axial_force', 'element_type', 'property_id', 'element_area', 'beam_stress']\n",
    "beam_stresses_df = beam_stresses_df[interested_columns]\n",
    "beam_stresses_df.head()"
   ]
  },
  {
   "cell_type": "code",
   "execution_count": null,
   "metadata": {},
   "outputs": [],
   "source": [
    "pbeam_stress = modeOP2.cbeam_stress[92101].data_frame"
   ]
  },
  {
   "cell_type": "code",
   "execution_count": null,
   "metadata": {},
   "outputs": [],
   "source": [
    "pbeam_stress.head(10)"
   ]
  },
  {
   "cell_type": "code",
   "execution_count": null,
   "metadata": {},
   "outputs": [],
   "source": [
    "beam_stresses_df.set_index('ElementID', inplace=True)\n",
    "beam_stresses_df.head()"
   ]
  },
  {
   "cell_type": "code",
   "execution_count": null,
   "metadata": {},
   "outputs": [],
   "source": [
    "bar_Stress_calc = modeOP2.cbar_force[92101].data_frame\n",
    "bar_Stress_calc = bar_Stress_calc.unstack()\n",
    "# modeOP2.cbeam_force.keys()\n",
    "bar_Stress_calc['ElementType'] = bar_Stress_calc.ElementID.map(lambda x: model.elements[x].type)\n",
    "bar_Stress_calc['PropID'] = bar_Stress_calc.ElementID.map(lambda x: model.elements[x].pid)\n",
    "bar_Stress_calc['ElementArea'] = bar_Stress_calc.PropID.map(lambda x: model.properties[x].Area())\n",
    "# bar_Stress_calc['beam_stress'] = bar_Stress_calc.axial_force / bar_Stress_calc.ElementArea\n",
    "bar_Stress_calc.head()"
   ]
  },
  {
   "cell_type": "code",
   "execution_count": null,
   "metadata": {},
   "outputs": [],
   "source": [
    "bar_Stress_calc = modeOP2.cbar_force[92101].data_frame"
   ]
  },
  {
   "cell_type": "code",
   "execution_count": null,
   "metadata": {},
   "outputs": [],
   "source": [
    "bar_Stress_calc = bar_Stress_calc.unstack()"
   ]
  },
  {
   "cell_type": "code",
   "execution_count": null,
   "metadata": {},
   "outputs": [],
   "source": [
    "bar_Stress_calc['ElementType'] = bar_Stress_calc.ElementID.map(lambda x: model.elements[x].type)"
   ]
  },
  {
   "cell_type": "code",
   "execution_count": null,
   "metadata": {},
   "outputs": [],
   "source": [
    "bar_Stress_calc = bar_Stress_calc.reset_index()\n",
    "bar_Stress_calc.head()"
   ]
  },
  {
   "cell_type": "code",
   "execution_count": null,
   "metadata": {},
   "outputs": [],
   "source": [
    "bar_Stress_calc.columns = bar_Stress_calc.columns.get_level_values("
   ]
  },
  {
   "cell_type": "code",
   "execution_count": null,
   "metadata": {},
   "outputs": [],
   "source": [
    "bar_Stress_calc.head()"
   ]
  },
  {
   "cell_type": "code",
   "execution_count": null,
   "metadata": {},
   "outputs": [],
   "source": [
    "bar_Stress_calc.columns.names"
   ]
  },
  {
   "cell_type": "code",
   "execution_count": null,
   "metadata": {},
   "outputs": [],
   "source": [
    "bar_Stress_calc.columns.names"
   ]
  },
  {
   "cell_type": "code",
   "execution_count": null,
   "metadata": {},
   "outputs": [],
   "source": [
    "df.bar_Stress_calc(columns={'oldName1': 'newName1', 'oldName2': 'newName2'}, inplace=True)"
   ]
  }
 ],
 "metadata": {
  "kernelspec": {
   "display_name": "Python 3",
   "language": "python",
   "name": "python3"
  },
  "language_info": {
   "codemirror_mode": {
    "name": "ipython",
    "version": 3
   },
   "file_extension": ".py",
   "mimetype": "text/x-python",
   "name": "python",
   "nbconvert_exporter": "python",
   "pygments_lexer": "ipython3",
   "version": "3.6.5"
  }
 },
 "nbformat": 4,
 "nbformat_minor": 2
}
