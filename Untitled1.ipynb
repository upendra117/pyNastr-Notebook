{
 "cells": [
  {
   "cell_type": "code",
   "execution_count": 1,
   "metadata": {},
   "outputs": [],
   "source": [
    "import pandas as pd\n",
    "import numpy as np"
   ]
  },
  {
   "cell_type": "code",
   "execution_count": 2,
   "metadata": {},
   "outputs": [],
   "source": [
    "In [1]: df1 = pd.DataFrame({'A': ['A0', 'A1', 'A2', 'A3'],\n",
    "   ...:                     'B': ['B0', 'B1', 'B2', 'B3'],\n",
    "   ...:                     'C': ['C0', 'C1', 'C2', 'C3'],\n",
    "   ...:                     'D': ['D0', 'D1', 'D2', 'D3']},\n",
    "   ...:                    index=[0, 1, 2, 3])\n",
    "   ...: \n",
    "\n",
    "In [2]: df2 = pd.DataFrame({'A': ['A4', 'A5', 'A6', 'A7'],\n",
    "   ...:                     'B': ['B4', 'B5', 'B6', 'B7'],\n",
    "   ...:                     'C': ['C4', 'C5', 'C6', 'C7'],\n",
    "   ...:                     'D': ['D4', 'D5', 'D6', 'D7']},\n",
    "   ...:                    index=[4, 5, 6, 7])\n",
    "   ...: \n",
    "\n",
    "In [3]: df3 = pd.DataFrame({'A': ['A8', 'A9', 'A10', 'A11'],\n",
    "   ...:                     'B': ['B8', 'B9', 'B10', 'B11'],\n",
    "   ...:                     'C': ['C8', 'C9', 'C10', 'C11'],\n",
    "   ...:                     'D': ['D8', 'D9', 'D10', 'D11']},\n",
    "   ...:                    index=[8, 9, 10, 11])\n",
    "   ...: \n",
    "\n",
    "In [4]: frames = [df1, df2, df3]\n",
    "\n",
    "In [5]: result = pd.concat(frames)"
   ]
  },
  {
   "cell_type": "code",
   "execution_count": 94,
   "metadata": {},
   "outputs": [
    {
     "data": {
      "text/html": [
       "<div>\n",
       "<style scoped>\n",
       "    .dataframe tbody tr th:only-of-type {\n",
       "        vertical-align: middle;\n",
       "    }\n",
       "\n",
       "    .dataframe tbody tr th {\n",
       "        vertical-align: top;\n",
       "    }\n",
       "\n",
       "    .dataframe thead th {\n",
       "        text-align: right;\n",
       "    }\n",
       "</style>\n",
       "<table border=\"1\" class=\"dataframe\">\n",
       "  <thead>\n",
       "    <tr style=\"text-align: right;\">\n",
       "      <th></th>\n",
       "      <th>A</th>\n",
       "      <th>B</th>\n",
       "      <th>C</th>\n",
       "      <th>D</th>\n",
       "    </tr>\n",
       "  </thead>\n",
       "  <tbody>\n",
       "    <tr>\n",
       "      <th>0</th>\n",
       "      <td>A0</td>\n",
       "      <td>B0</td>\n",
       "      <td>C0</td>\n",
       "      <td>D0</td>\n",
       "    </tr>\n",
       "    <tr>\n",
       "      <th>1</th>\n",
       "      <td>A1</td>\n",
       "      <td>B1</td>\n",
       "      <td>C1</td>\n",
       "      <td>D1</td>\n",
       "    </tr>\n",
       "    <tr>\n",
       "      <th>2</th>\n",
       "      <td>A2</td>\n",
       "      <td>B2</td>\n",
       "      <td>C2</td>\n",
       "      <td>D2</td>\n",
       "    </tr>\n",
       "    <tr>\n",
       "      <th>3</th>\n",
       "      <td>A3</td>\n",
       "      <td>B3</td>\n",
       "      <td>C3</td>\n",
       "      <td>D3</td>\n",
       "    </tr>\n",
       "    <tr>\n",
       "      <th>4</th>\n",
       "      <td>A4</td>\n",
       "      <td>B4</td>\n",
       "      <td>C4</td>\n",
       "      <td>D4</td>\n",
       "    </tr>\n",
       "    <tr>\n",
       "      <th>5</th>\n",
       "      <td>A5</td>\n",
       "      <td>B5</td>\n",
       "      <td>C5</td>\n",
       "      <td>D5</td>\n",
       "    </tr>\n",
       "    <tr>\n",
       "      <th>6</th>\n",
       "      <td>A6</td>\n",
       "      <td>B6</td>\n",
       "      <td>C6</td>\n",
       "      <td>D6</td>\n",
       "    </tr>\n",
       "    <tr>\n",
       "      <th>7</th>\n",
       "      <td>A7</td>\n",
       "      <td>B7</td>\n",
       "      <td>C7</td>\n",
       "      <td>D7</td>\n",
       "    </tr>\n",
       "    <tr>\n",
       "      <th>8</th>\n",
       "      <td>A8</td>\n",
       "      <td>B8</td>\n",
       "      <td>C8</td>\n",
       "      <td>D8</td>\n",
       "    </tr>\n",
       "    <tr>\n",
       "      <th>9</th>\n",
       "      <td>A9</td>\n",
       "      <td>B9</td>\n",
       "      <td>C9</td>\n",
       "      <td>D9</td>\n",
       "    </tr>\n",
       "    <tr>\n",
       "      <th>10</th>\n",
       "      <td>A10</td>\n",
       "      <td>B10</td>\n",
       "      <td>C10</td>\n",
       "      <td>D10</td>\n",
       "    </tr>\n",
       "    <tr>\n",
       "      <th>11</th>\n",
       "      <td>A11</td>\n",
       "      <td>B11</td>\n",
       "      <td>C11</td>\n",
       "      <td>D11</td>\n",
       "    </tr>\n",
       "  </tbody>\n",
       "</table>\n",
       "</div>"
      ],
      "text/plain": [
       "      A    B    C    D\n",
       "0    A0   B0   C0   D0\n",
       "1    A1   B1   C1   D1\n",
       "2    A2   B2   C2   D2\n",
       "3    A3   B3   C3   D3\n",
       "4    A4   B4   C4   D4\n",
       "5    A5   B5   C5   D5\n",
       "6    A6   B6   C6   D6\n",
       "7    A7   B7   C7   D7\n",
       "8    A8   B8   C8   D8\n",
       "9    A9   B9   C9   D9\n",
       "10  A10  B10  C10  D10\n",
       "11  A11  B11  C11  D11"
      ]
     },
     "execution_count": 94,
     "metadata": {},
     "output_type": "execute_result"
    }
   ],
   "source": [
    "result"
   ]
  },
  {
   "cell_type": "code",
   "execution_count": 95,
   "metadata": {},
   "outputs": [],
   "source": [
    "pieces = {'x': df1, 'y': df2, 'z': df3}"
   ]
  },
  {
   "cell_type": "code",
   "execution_count": 96,
   "metadata": {},
   "outputs": [],
   "source": [
    "result = pd.concat(pieces)"
   ]
  },
  {
   "cell_type": "code",
   "execution_count": 97,
   "metadata": {},
   "outputs": [
    {
     "data": {
      "text/html": [
       "<div>\n",
       "<style scoped>\n",
       "    .dataframe tbody tr th:only-of-type {\n",
       "        vertical-align: middle;\n",
       "    }\n",
       "\n",
       "    .dataframe tbody tr th {\n",
       "        vertical-align: top;\n",
       "    }\n",
       "\n",
       "    .dataframe thead th {\n",
       "        text-align: right;\n",
       "    }\n",
       "</style>\n",
       "<table border=\"1\" class=\"dataframe\">\n",
       "  <thead>\n",
       "    <tr style=\"text-align: right;\">\n",
       "      <th></th>\n",
       "      <th></th>\n",
       "      <th>A</th>\n",
       "      <th>B</th>\n",
       "      <th>C</th>\n",
       "      <th>D</th>\n",
       "    </tr>\n",
       "  </thead>\n",
       "  <tbody>\n",
       "    <tr>\n",
       "      <th rowspan=\"4\" valign=\"top\">x</th>\n",
       "      <th>0</th>\n",
       "      <td>A0</td>\n",
       "      <td>B0</td>\n",
       "      <td>C0</td>\n",
       "      <td>D0</td>\n",
       "    </tr>\n",
       "    <tr>\n",
       "      <th>1</th>\n",
       "      <td>A1</td>\n",
       "      <td>B1</td>\n",
       "      <td>C1</td>\n",
       "      <td>D1</td>\n",
       "    </tr>\n",
       "    <tr>\n",
       "      <th>2</th>\n",
       "      <td>A2</td>\n",
       "      <td>B2</td>\n",
       "      <td>C2</td>\n",
       "      <td>D2</td>\n",
       "    </tr>\n",
       "    <tr>\n",
       "      <th>3</th>\n",
       "      <td>A3</td>\n",
       "      <td>B3</td>\n",
       "      <td>C3</td>\n",
       "      <td>D3</td>\n",
       "    </tr>\n",
       "    <tr>\n",
       "      <th rowspan=\"4\" valign=\"top\">y</th>\n",
       "      <th>4</th>\n",
       "      <td>A4</td>\n",
       "      <td>B4</td>\n",
       "      <td>C4</td>\n",
       "      <td>D4</td>\n",
       "    </tr>\n",
       "    <tr>\n",
       "      <th>5</th>\n",
       "      <td>A5</td>\n",
       "      <td>B5</td>\n",
       "      <td>C5</td>\n",
       "      <td>D5</td>\n",
       "    </tr>\n",
       "    <tr>\n",
       "      <th>6</th>\n",
       "      <td>A6</td>\n",
       "      <td>B6</td>\n",
       "      <td>C6</td>\n",
       "      <td>D6</td>\n",
       "    </tr>\n",
       "    <tr>\n",
       "      <th>7</th>\n",
       "      <td>A7</td>\n",
       "      <td>B7</td>\n",
       "      <td>C7</td>\n",
       "      <td>D7</td>\n",
       "    </tr>\n",
       "    <tr>\n",
       "      <th rowspan=\"4\" valign=\"top\">z</th>\n",
       "      <th>8</th>\n",
       "      <td>A8</td>\n",
       "      <td>B8</td>\n",
       "      <td>C8</td>\n",
       "      <td>D8</td>\n",
       "    </tr>\n",
       "    <tr>\n",
       "      <th>9</th>\n",
       "      <td>A9</td>\n",
       "      <td>B9</td>\n",
       "      <td>C9</td>\n",
       "      <td>D9</td>\n",
       "    </tr>\n",
       "    <tr>\n",
       "      <th>10</th>\n",
       "      <td>A10</td>\n",
       "      <td>B10</td>\n",
       "      <td>C10</td>\n",
       "      <td>D10</td>\n",
       "    </tr>\n",
       "    <tr>\n",
       "      <th>11</th>\n",
       "      <td>A11</td>\n",
       "      <td>B11</td>\n",
       "      <td>C11</td>\n",
       "      <td>D11</td>\n",
       "    </tr>\n",
       "  </tbody>\n",
       "</table>\n",
       "</div>"
      ],
      "text/plain": [
       "        A    B    C    D\n",
       "x 0    A0   B0   C0   D0\n",
       "  1    A1   B1   C1   D1\n",
       "  2    A2   B2   C2   D2\n",
       "  3    A3   B3   C3   D3\n",
       "y 4    A4   B4   C4   D4\n",
       "  5    A5   B5   C5   D5\n",
       "  6    A6   B6   C6   D6\n",
       "  7    A7   B7   C7   D7\n",
       "z 8    A8   B8   C8   D8\n",
       "  9    A9   B9   C9   D9\n",
       "  10  A10  B10  C10  D10\n",
       "  11  A11  B11  C11  D11"
      ]
     },
     "execution_count": 97,
     "metadata": {},
     "output_type": "execute_result"
    }
   ],
   "source": [
    "result"
   ]
  },
  {
   "cell_type": "code",
   "execution_count": 98,
   "metadata": {},
   "outputs": [
    {
     "data": {
      "text/html": [
       "<div>\n",
       "<style scoped>\n",
       "    .dataframe tbody tr th:only-of-type {\n",
       "        vertical-align: middle;\n",
       "    }\n",
       "\n",
       "    .dataframe tbody tr th {\n",
       "        vertical-align: top;\n",
       "    }\n",
       "\n",
       "    .dataframe thead th {\n",
       "        text-align: right;\n",
       "    }\n",
       "</style>\n",
       "<table border=\"1\" class=\"dataframe\">\n",
       "  <thead>\n",
       "    <tr style=\"text-align: right;\">\n",
       "      <th></th>\n",
       "      <th>A</th>\n",
       "      <th>B</th>\n",
       "      <th>C</th>\n",
       "      <th>D</th>\n",
       "    </tr>\n",
       "  </thead>\n",
       "  <tbody>\n",
       "    <tr>\n",
       "      <th>0</th>\n",
       "      <td>A0</td>\n",
       "      <td>B0</td>\n",
       "      <td>C0</td>\n",
       "      <td>D0</td>\n",
       "    </tr>\n",
       "    <tr>\n",
       "      <th>1</th>\n",
       "      <td>A1</td>\n",
       "      <td>B1</td>\n",
       "      <td>C1</td>\n",
       "      <td>D1</td>\n",
       "    </tr>\n",
       "    <tr>\n",
       "      <th>2</th>\n",
       "      <td>A2</td>\n",
       "      <td>B2</td>\n",
       "      <td>C2</td>\n",
       "      <td>D2</td>\n",
       "    </tr>\n",
       "    <tr>\n",
       "      <th>3</th>\n",
       "      <td>A3</td>\n",
       "      <td>B3</td>\n",
       "      <td>C3</td>\n",
       "      <td>D3</td>\n",
       "    </tr>\n",
       "  </tbody>\n",
       "</table>\n",
       "</div>"
      ],
      "text/plain": [
       "    A   B   C   D\n",
       "0  A0  B0  C0  D0\n",
       "1  A1  B1  C1  D1\n",
       "2  A2  B2  C2  D2\n",
       "3  A3  B3  C3  D3"
      ]
     },
     "execution_count": 98,
     "metadata": {},
     "output_type": "execute_result"
    }
   ],
   "source": [
    "result.loc['x']"
   ]
  },
  {
   "cell_type": "code",
   "execution_count": 99,
   "metadata": {},
   "outputs": [
    {
     "data": {
      "text/html": [
       "<div>\n",
       "<style scoped>\n",
       "    .dataframe tbody tr th:only-of-type {\n",
       "        vertical-align: middle;\n",
       "    }\n",
       "\n",
       "    .dataframe tbody tr th {\n",
       "        vertical-align: top;\n",
       "    }\n",
       "\n",
       "    .dataframe thead th {\n",
       "        text-align: right;\n",
       "    }\n",
       "</style>\n",
       "<table border=\"1\" class=\"dataframe\">\n",
       "  <thead>\n",
       "    <tr style=\"text-align: right;\">\n",
       "      <th></th>\n",
       "      <th></th>\n",
       "      <th>A</th>\n",
       "      <th>B</th>\n",
       "      <th>C</th>\n",
       "      <th>D</th>\n",
       "    </tr>\n",
       "  </thead>\n",
       "  <tbody>\n",
       "    <tr>\n",
       "      <th rowspan=\"4\" valign=\"top\">y</th>\n",
       "      <th>4</th>\n",
       "      <td>A4</td>\n",
       "      <td>B4</td>\n",
       "      <td>C4</td>\n",
       "      <td>D4</td>\n",
       "    </tr>\n",
       "    <tr>\n",
       "      <th>5</th>\n",
       "      <td>A5</td>\n",
       "      <td>B5</td>\n",
       "      <td>C5</td>\n",
       "      <td>D5</td>\n",
       "    </tr>\n",
       "    <tr>\n",
       "      <th>6</th>\n",
       "      <td>A6</td>\n",
       "      <td>B6</td>\n",
       "      <td>C6</td>\n",
       "      <td>D6</td>\n",
       "    </tr>\n",
       "    <tr>\n",
       "      <th>7</th>\n",
       "      <td>A7</td>\n",
       "      <td>B7</td>\n",
       "      <td>C7</td>\n",
       "      <td>D7</td>\n",
       "    </tr>\n",
       "    <tr>\n",
       "      <th rowspan=\"4\" valign=\"top\">z</th>\n",
       "      <th>8</th>\n",
       "      <td>A8</td>\n",
       "      <td>B8</td>\n",
       "      <td>C8</td>\n",
       "      <td>D8</td>\n",
       "    </tr>\n",
       "    <tr>\n",
       "      <th>9</th>\n",
       "      <td>A9</td>\n",
       "      <td>B9</td>\n",
       "      <td>C9</td>\n",
       "      <td>D9</td>\n",
       "    </tr>\n",
       "    <tr>\n",
       "      <th>10</th>\n",
       "      <td>A10</td>\n",
       "      <td>B10</td>\n",
       "      <td>C10</td>\n",
       "      <td>D10</td>\n",
       "    </tr>\n",
       "    <tr>\n",
       "      <th>11</th>\n",
       "      <td>A11</td>\n",
       "      <td>B11</td>\n",
       "      <td>C11</td>\n",
       "      <td>D11</td>\n",
       "    </tr>\n",
       "  </tbody>\n",
       "</table>\n",
       "</div>"
      ],
      "text/plain": [
       "        A    B    C    D\n",
       "y 4    A4   B4   C4   D4\n",
       "  5    A5   B5   C5   D5\n",
       "  6    A6   B6   C6   D6\n",
       "  7    A7   B7   C7   D7\n",
       "z 8    A8   B8   C8   D8\n",
       "  9    A9   B9   C9   D9\n",
       "  10  A10  B10  C10  D10\n",
       "  11  A11  B11  C11  D11"
      ]
     },
     "execution_count": 99,
     "metadata": {},
     "output_type": "execute_result"
    }
   ],
   "source": [
    "result = pd.concat(pieces, keys=['y', 'z'])\n",
    "result"
   ]
  },
  {
   "cell_type": "code",
   "execution_count": 100,
   "metadata": {},
   "outputs": [
    {
     "data": {
      "text/html": [
       "<div>\n",
       "<style scoped>\n",
       "    .dataframe tbody tr th:only-of-type {\n",
       "        vertical-align: middle;\n",
       "    }\n",
       "\n",
       "    .dataframe tbody tr th {\n",
       "        vertical-align: top;\n",
       "    }\n",
       "\n",
       "    .dataframe thead th {\n",
       "        text-align: right;\n",
       "    }\n",
       "</style>\n",
       "<table border=\"1\" class=\"dataframe\">\n",
       "  <thead>\n",
       "    <tr style=\"text-align: right;\">\n",
       "      <th></th>\n",
       "      <th>A</th>\n",
       "      <th>B</th>\n",
       "      <th>C</th>\n",
       "      <th>D</th>\n",
       "    </tr>\n",
       "  </thead>\n",
       "  <tbody>\n",
       "    <tr>\n",
       "      <th>4</th>\n",
       "      <td>A4</td>\n",
       "      <td>B4</td>\n",
       "      <td>C4</td>\n",
       "      <td>D4</td>\n",
       "    </tr>\n",
       "    <tr>\n",
       "      <th>5</th>\n",
       "      <td>A5</td>\n",
       "      <td>B5</td>\n",
       "      <td>C5</td>\n",
       "      <td>D5</td>\n",
       "    </tr>\n",
       "    <tr>\n",
       "      <th>6</th>\n",
       "      <td>A6</td>\n",
       "      <td>B6</td>\n",
       "      <td>C6</td>\n",
       "      <td>D6</td>\n",
       "    </tr>\n",
       "    <tr>\n",
       "      <th>7</th>\n",
       "      <td>A7</td>\n",
       "      <td>B7</td>\n",
       "      <td>C7</td>\n",
       "      <td>D7</td>\n",
       "    </tr>\n",
       "  </tbody>\n",
       "</table>\n",
       "</div>"
      ],
      "text/plain": [
       "    A   B   C   D\n",
       "4  A4  B4  C4  D4\n",
       "5  A5  B5  C5  D5\n",
       "6  A6  B6  C6  D6\n",
       "7  A7  B7  C7  D7"
      ]
     },
     "execution_count": 100,
     "metadata": {},
     "output_type": "execute_result"
    }
   ],
   "source": [
    "result.loc['y']"
   ]
  },
  {
   "cell_type": "code",
   "execution_count": 101,
   "metadata": {},
   "outputs": [],
   "source": [
    "In [32]: result = pd.concat(pieces, keys=['x', 'y', 'z'],\n",
    "   ....:                    levels=[['z', 'y', 'x', 'w']],\n",
    "   ....:                    names=['group_key'])"
   ]
  },
  {
   "cell_type": "code",
   "execution_count": 102,
   "metadata": {},
   "outputs": [
    {
     "data": {
      "text/html": [
       "<div>\n",
       "<style scoped>\n",
       "    .dataframe tbody tr th:only-of-type {\n",
       "        vertical-align: middle;\n",
       "    }\n",
       "\n",
       "    .dataframe tbody tr th {\n",
       "        vertical-align: top;\n",
       "    }\n",
       "\n",
       "    .dataframe thead th {\n",
       "        text-align: right;\n",
       "    }\n",
       "</style>\n",
       "<table border=\"1\" class=\"dataframe\">\n",
       "  <thead>\n",
       "    <tr style=\"text-align: right;\">\n",
       "      <th></th>\n",
       "      <th></th>\n",
       "      <th>A</th>\n",
       "      <th>B</th>\n",
       "      <th>C</th>\n",
       "      <th>D</th>\n",
       "    </tr>\n",
       "    <tr>\n",
       "      <th>group_key</th>\n",
       "      <th></th>\n",
       "      <th></th>\n",
       "      <th></th>\n",
       "      <th></th>\n",
       "      <th></th>\n",
       "    </tr>\n",
       "  </thead>\n",
       "  <tbody>\n",
       "    <tr>\n",
       "      <th rowspan=\"4\" valign=\"top\">x</th>\n",
       "      <th>0</th>\n",
       "      <td>A0</td>\n",
       "      <td>B0</td>\n",
       "      <td>C0</td>\n",
       "      <td>D0</td>\n",
       "    </tr>\n",
       "    <tr>\n",
       "      <th>1</th>\n",
       "      <td>A1</td>\n",
       "      <td>B1</td>\n",
       "      <td>C1</td>\n",
       "      <td>D1</td>\n",
       "    </tr>\n",
       "    <tr>\n",
       "      <th>2</th>\n",
       "      <td>A2</td>\n",
       "      <td>B2</td>\n",
       "      <td>C2</td>\n",
       "      <td>D2</td>\n",
       "    </tr>\n",
       "    <tr>\n",
       "      <th>3</th>\n",
       "      <td>A3</td>\n",
       "      <td>B3</td>\n",
       "      <td>C3</td>\n",
       "      <td>D3</td>\n",
       "    </tr>\n",
       "    <tr>\n",
       "      <th rowspan=\"4\" valign=\"top\">y</th>\n",
       "      <th>4</th>\n",
       "      <td>A4</td>\n",
       "      <td>B4</td>\n",
       "      <td>C4</td>\n",
       "      <td>D4</td>\n",
       "    </tr>\n",
       "    <tr>\n",
       "      <th>5</th>\n",
       "      <td>A5</td>\n",
       "      <td>B5</td>\n",
       "      <td>C5</td>\n",
       "      <td>D5</td>\n",
       "    </tr>\n",
       "    <tr>\n",
       "      <th>6</th>\n",
       "      <td>A6</td>\n",
       "      <td>B6</td>\n",
       "      <td>C6</td>\n",
       "      <td>D6</td>\n",
       "    </tr>\n",
       "    <tr>\n",
       "      <th>7</th>\n",
       "      <td>A7</td>\n",
       "      <td>B7</td>\n",
       "      <td>C7</td>\n",
       "      <td>D7</td>\n",
       "    </tr>\n",
       "    <tr>\n",
       "      <th rowspan=\"4\" valign=\"top\">z</th>\n",
       "      <th>8</th>\n",
       "      <td>A8</td>\n",
       "      <td>B8</td>\n",
       "      <td>C8</td>\n",
       "      <td>D8</td>\n",
       "    </tr>\n",
       "    <tr>\n",
       "      <th>9</th>\n",
       "      <td>A9</td>\n",
       "      <td>B9</td>\n",
       "      <td>C9</td>\n",
       "      <td>D9</td>\n",
       "    </tr>\n",
       "    <tr>\n",
       "      <th>10</th>\n",
       "      <td>A10</td>\n",
       "      <td>B10</td>\n",
       "      <td>C10</td>\n",
       "      <td>D10</td>\n",
       "    </tr>\n",
       "    <tr>\n",
       "      <th>11</th>\n",
       "      <td>A11</td>\n",
       "      <td>B11</td>\n",
       "      <td>C11</td>\n",
       "      <td>D11</td>\n",
       "    </tr>\n",
       "  </tbody>\n",
       "</table>\n",
       "</div>"
      ],
      "text/plain": [
       "                A    B    C    D\n",
       "group_key                       \n",
       "x         0    A0   B0   C0   D0\n",
       "          1    A1   B1   C1   D1\n",
       "          2    A2   B2   C2   D2\n",
       "          3    A3   B3   C3   D3\n",
       "y         4    A4   B4   C4   D4\n",
       "          5    A5   B5   C5   D5\n",
       "          6    A6   B6   C6   D6\n",
       "          7    A7   B7   C7   D7\n",
       "z         8    A8   B8   C8   D8\n",
       "          9    A9   B9   C9   D9\n",
       "          10  A10  B10  C10  D10\n",
       "          11  A11  B11  C11  D11"
      ]
     },
     "execution_count": 102,
     "metadata": {},
     "output_type": "execute_result"
    }
   ],
   "source": [
    "result"
   ]
  },
  {
   "cell_type": "code",
   "execution_count": 103,
   "metadata": {},
   "outputs": [
    {
     "data": {
      "text/plain": [
       "FrozenList([['z', 'y', 'x', 'w'], [0, 1, 2, 3, 4, 5, 6, 7, 8, 9, 10, 11]])"
      ]
     },
     "execution_count": 103,
     "metadata": {},
     "output_type": "execute_result"
    }
   ],
   "source": [
    "result.index.levels"
   ]
  },
  {
   "cell_type": "code",
   "execution_count": 169,
   "metadata": {},
   "outputs": [
    {
     "data": {
      "text/html": [
       "<div>\n",
       "<style scoped>\n",
       "    .dataframe tbody tr th:only-of-type {\n",
       "        vertical-align: middle;\n",
       "    }\n",
       "\n",
       "    .dataframe tbody tr th {\n",
       "        vertical-align: top;\n",
       "    }\n",
       "\n",
       "    .dataframe thead th {\n",
       "        text-align: right;\n",
       "    }\n",
       "</style>\n",
       "<table border=\"1\" class=\"dataframe\">\n",
       "  <thead>\n",
       "    <tr style=\"text-align: right;\">\n",
       "      <th></th>\n",
       "      <th>A</th>\n",
       "      <th>B</th>\n",
       "      <th>C</th>\n",
       "      <th>D</th>\n",
       "      <th>E</th>\n",
       "    </tr>\n",
       "  </thead>\n",
       "  <tbody>\n",
       "    <tr>\n",
       "      <th>0</th>\n",
       "      <td>1.0</td>\n",
       "      <td>1.329212</td>\n",
       "      <td>NaN</td>\n",
       "      <td>-0.316280</td>\n",
       "      <td>-0.990810</td>\n",
       "    </tr>\n",
       "    <tr>\n",
       "      <th>1</th>\n",
       "      <td>2.0</td>\n",
       "      <td>-1.070816</td>\n",
       "      <td>-1.438713</td>\n",
       "      <td>0.564417</td>\n",
       "      <td>0.295722</td>\n",
       "    </tr>\n",
       "    <tr>\n",
       "      <th>2</th>\n",
       "      <td>3.0</td>\n",
       "      <td>-1.626404</td>\n",
       "      <td>0.219565</td>\n",
       "      <td>0.678805</td>\n",
       "      <td>1.889273</td>\n",
       "    </tr>\n",
       "    <tr>\n",
       "      <th>3</th>\n",
       "      <td>4.0</td>\n",
       "      <td>0.961538</td>\n",
       "      <td>0.104011</td>\n",
       "      <td>-0.481165</td>\n",
       "      <td>0.850229</td>\n",
       "    </tr>\n",
       "    <tr>\n",
       "      <th>4</th>\n",
       "      <td>5.0</td>\n",
       "      <td>1.453425</td>\n",
       "      <td>1.057737</td>\n",
       "      <td>0.165562</td>\n",
       "      <td>0.515018</td>\n",
       "    </tr>\n",
       "    <tr>\n",
       "      <th>5</th>\n",
       "      <td>6.0</td>\n",
       "      <td>-1.336936</td>\n",
       "      <td>0.562861</td>\n",
       "      <td>1.392855</td>\n",
       "      <td>-0.063328</td>\n",
       "    </tr>\n",
       "    <tr>\n",
       "      <th>6</th>\n",
       "      <td>7.0</td>\n",
       "      <td>0.121668</td>\n",
       "      <td>1.207603</td>\n",
       "      <td>-0.002040</td>\n",
       "      <td>1.627796</td>\n",
       "    </tr>\n",
       "    <tr>\n",
       "      <th>7</th>\n",
       "      <td>8.0</td>\n",
       "      <td>0.354493</td>\n",
       "      <td>1.037528</td>\n",
       "      <td>-0.385684</td>\n",
       "      <td>0.519818</td>\n",
       "    </tr>\n",
       "    <tr>\n",
       "      <th>8</th>\n",
       "      <td>9.0</td>\n",
       "      <td>1.686583</td>\n",
       "      <td>-1.325963</td>\n",
       "      <td>1.428984</td>\n",
       "      <td>-2.089354</td>\n",
       "    </tr>\n",
       "    <tr>\n",
       "      <th>9</th>\n",
       "      <td>10.0</td>\n",
       "      <td>-0.129820</td>\n",
       "      <td>0.631523</td>\n",
       "      <td>-0.586538</td>\n",
       "      <td>0.290720</td>\n",
       "    </tr>\n",
       "  </tbody>\n",
       "</table>\n",
       "</div>"
      ],
      "text/plain": [
       "      A         B         C         D         E\n",
       "0   1.0  1.329212       NaN -0.316280 -0.990810\n",
       "1   2.0 -1.070816 -1.438713  0.564417  0.295722\n",
       "2   3.0 -1.626404  0.219565  0.678805  1.889273\n",
       "3   4.0  0.961538  0.104011 -0.481165  0.850229\n",
       "4   5.0  1.453425  1.057737  0.165562  0.515018\n",
       "5   6.0 -1.336936  0.562861  1.392855 -0.063328\n",
       "6   7.0  0.121668  1.207603 -0.002040  1.627796\n",
       "7   8.0  0.354493  1.037528 -0.385684  0.519818\n",
       "8   9.0  1.686583 -1.325963  1.428984 -2.089354\n",
       "9  10.0 -0.129820  0.631523 -0.586538  0.290720"
      ]
     },
     "execution_count": 169,
     "metadata": {},
     "output_type": "execute_result"
    }
   ],
   "source": [
    "np.random.seed(24)\n",
    "df = pd.DataFrame({'A': np.linspace(1, 10, 10)})\n",
    "df = pd.concat([df, pd.DataFrame(np.random.randn(10, 4), columns=list('BCDE'))],\n",
    "               axis=1)\n",
    "df.iloc[0, 2] = np.nan\n",
    "df"
   ]
  },
  {
   "cell_type": "code",
   "execution_count": 105,
   "metadata": {},
   "outputs": [
    {
     "data": {
      "text/plain": [
       "['<style  type=\"text/css\" >',\n",
       " '    #T_1945665e_2eea_11e9_bbd0_10c37b94ccccrow0_col2 {',\n",
       " '            background-color:  red;',\n",
       " '        }</style>  ',\n",
       " '<table id=\"T_1945665e_2eea_11e9_bbd0_10c37b94cccc\" > ',\n",
       " '<thead>    <tr> ',\n",
       " '        <th class=\"blank level0\" ></th> ',\n",
       " '        <th class=\"col_heading level0 col0\" >A</th> ',\n",
       " '        <th class=\"col_heading level0 col1\" >B</th> ',\n",
       " '        <th class=\"col_heading level0 col2\" >C</th> ']"
      ]
     },
     "execution_count": 105,
     "metadata": {},
     "output_type": "execute_result"
    }
   ],
   "source": [
    "df.style.highlight_null().render().split('\\n')[:10]"
   ]
  },
  {
   "cell_type": "code",
   "execution_count": 106,
   "metadata": {},
   "outputs": [],
   "source": [
    "def color_negative_red(val):\n",
    "    \"\"\"\n",
    "    Takes a scalar and returns a string with\n",
    "    the css property `'color: red'` for negative\n",
    "    strings, black otherwise.\n",
    "    \"\"\"\n",
    "    color = 'red' if val < 0 else 'black'\n",
    "    return 'color: %s' % color"
   ]
  },
  {
   "cell_type": "code",
   "execution_count": 107,
   "metadata": {},
   "outputs": [
    {
     "data": {
      "text/html": [
       "<style  type=\"text/css\" >\n",
       "    #T_194b0a6c_2eea_11e9_bcf6_10c37b94ccccrow0_col0 {\n",
       "            color:  black;\n",
       "        }    #T_194b0a6c_2eea_11e9_bcf6_10c37b94ccccrow0_col1 {\n",
       "            color:  black;\n",
       "        }    #T_194b0a6c_2eea_11e9_bcf6_10c37b94ccccrow0_col2 {\n",
       "            color:  black;\n",
       "        }    #T_194b0a6c_2eea_11e9_bcf6_10c37b94ccccrow0_col3 {\n",
       "            color:  red;\n",
       "        }    #T_194b0a6c_2eea_11e9_bcf6_10c37b94ccccrow0_col4 {\n",
       "            color:  red;\n",
       "        }    #T_194b0a6c_2eea_11e9_bcf6_10c37b94ccccrow1_col0 {\n",
       "            color:  black;\n",
       "        }    #T_194b0a6c_2eea_11e9_bcf6_10c37b94ccccrow1_col1 {\n",
       "            color:  red;\n",
       "        }    #T_194b0a6c_2eea_11e9_bcf6_10c37b94ccccrow1_col2 {\n",
       "            color:  red;\n",
       "        }    #T_194b0a6c_2eea_11e9_bcf6_10c37b94ccccrow1_col3 {\n",
       "            color:  black;\n",
       "        }    #T_194b0a6c_2eea_11e9_bcf6_10c37b94ccccrow1_col4 {\n",
       "            color:  black;\n",
       "        }    #T_194b0a6c_2eea_11e9_bcf6_10c37b94ccccrow2_col0 {\n",
       "            color:  black;\n",
       "        }    #T_194b0a6c_2eea_11e9_bcf6_10c37b94ccccrow2_col1 {\n",
       "            color:  red;\n",
       "        }    #T_194b0a6c_2eea_11e9_bcf6_10c37b94ccccrow2_col2 {\n",
       "            color:  black;\n",
       "        }    #T_194b0a6c_2eea_11e9_bcf6_10c37b94ccccrow2_col3 {\n",
       "            color:  black;\n",
       "        }    #T_194b0a6c_2eea_11e9_bcf6_10c37b94ccccrow2_col4 {\n",
       "            color:  black;\n",
       "        }    #T_194b0a6c_2eea_11e9_bcf6_10c37b94ccccrow3_col0 {\n",
       "            color:  black;\n",
       "        }    #T_194b0a6c_2eea_11e9_bcf6_10c37b94ccccrow3_col1 {\n",
       "            color:  black;\n",
       "        }    #T_194b0a6c_2eea_11e9_bcf6_10c37b94ccccrow3_col2 {\n",
       "            color:  black;\n",
       "        }    #T_194b0a6c_2eea_11e9_bcf6_10c37b94ccccrow3_col3 {\n",
       "            color:  red;\n",
       "        }    #T_194b0a6c_2eea_11e9_bcf6_10c37b94ccccrow3_col4 {\n",
       "            color:  black;\n",
       "        }    #T_194b0a6c_2eea_11e9_bcf6_10c37b94ccccrow4_col0 {\n",
       "            color:  black;\n",
       "        }    #T_194b0a6c_2eea_11e9_bcf6_10c37b94ccccrow4_col1 {\n",
       "            color:  black;\n",
       "        }    #T_194b0a6c_2eea_11e9_bcf6_10c37b94ccccrow4_col2 {\n",
       "            color:  black;\n",
       "        }    #T_194b0a6c_2eea_11e9_bcf6_10c37b94ccccrow4_col3 {\n",
       "            color:  black;\n",
       "        }    #T_194b0a6c_2eea_11e9_bcf6_10c37b94ccccrow4_col4 {\n",
       "            color:  black;\n",
       "        }    #T_194b0a6c_2eea_11e9_bcf6_10c37b94ccccrow5_col0 {\n",
       "            color:  black;\n",
       "        }    #T_194b0a6c_2eea_11e9_bcf6_10c37b94ccccrow5_col1 {\n",
       "            color:  red;\n",
       "        }    #T_194b0a6c_2eea_11e9_bcf6_10c37b94ccccrow5_col2 {\n",
       "            color:  black;\n",
       "        }    #T_194b0a6c_2eea_11e9_bcf6_10c37b94ccccrow5_col3 {\n",
       "            color:  black;\n",
       "        }    #T_194b0a6c_2eea_11e9_bcf6_10c37b94ccccrow5_col4 {\n",
       "            color:  red;\n",
       "        }    #T_194b0a6c_2eea_11e9_bcf6_10c37b94ccccrow6_col0 {\n",
       "            color:  black;\n",
       "        }    #T_194b0a6c_2eea_11e9_bcf6_10c37b94ccccrow6_col1 {\n",
       "            color:  black;\n",
       "        }    #T_194b0a6c_2eea_11e9_bcf6_10c37b94ccccrow6_col2 {\n",
       "            color:  black;\n",
       "        }    #T_194b0a6c_2eea_11e9_bcf6_10c37b94ccccrow6_col3 {\n",
       "            color:  red;\n",
       "        }    #T_194b0a6c_2eea_11e9_bcf6_10c37b94ccccrow6_col4 {\n",
       "            color:  black;\n",
       "        }    #T_194b0a6c_2eea_11e9_bcf6_10c37b94ccccrow7_col0 {\n",
       "            color:  black;\n",
       "        }    #T_194b0a6c_2eea_11e9_bcf6_10c37b94ccccrow7_col1 {\n",
       "            color:  black;\n",
       "        }    #T_194b0a6c_2eea_11e9_bcf6_10c37b94ccccrow7_col2 {\n",
       "            color:  black;\n",
       "        }    #T_194b0a6c_2eea_11e9_bcf6_10c37b94ccccrow7_col3 {\n",
       "            color:  red;\n",
       "        }    #T_194b0a6c_2eea_11e9_bcf6_10c37b94ccccrow7_col4 {\n",
       "            color:  black;\n",
       "        }    #T_194b0a6c_2eea_11e9_bcf6_10c37b94ccccrow8_col0 {\n",
       "            color:  black;\n",
       "        }    #T_194b0a6c_2eea_11e9_bcf6_10c37b94ccccrow8_col1 {\n",
       "            color:  black;\n",
       "        }    #T_194b0a6c_2eea_11e9_bcf6_10c37b94ccccrow8_col2 {\n",
       "            color:  red;\n",
       "        }    #T_194b0a6c_2eea_11e9_bcf6_10c37b94ccccrow8_col3 {\n",
       "            color:  black;\n",
       "        }    #T_194b0a6c_2eea_11e9_bcf6_10c37b94ccccrow8_col4 {\n",
       "            color:  red;\n",
       "        }    #T_194b0a6c_2eea_11e9_bcf6_10c37b94ccccrow9_col0 {\n",
       "            color:  black;\n",
       "        }    #T_194b0a6c_2eea_11e9_bcf6_10c37b94ccccrow9_col1 {\n",
       "            color:  red;\n",
       "        }    #T_194b0a6c_2eea_11e9_bcf6_10c37b94ccccrow9_col2 {\n",
       "            color:  black;\n",
       "        }    #T_194b0a6c_2eea_11e9_bcf6_10c37b94ccccrow9_col3 {\n",
       "            color:  red;\n",
       "        }    #T_194b0a6c_2eea_11e9_bcf6_10c37b94ccccrow9_col4 {\n",
       "            color:  black;\n",
       "        }</style>  \n",
       "<table id=\"T_194b0a6c_2eea_11e9_bcf6_10c37b94cccc\" > \n",
       "<thead>    <tr> \n",
       "        <th class=\"blank level0\" ></th> \n",
       "        <th class=\"col_heading level0 col0\" >A</th> \n",
       "        <th class=\"col_heading level0 col1\" >B</th> \n",
       "        <th class=\"col_heading level0 col2\" >C</th> \n",
       "        <th class=\"col_heading level0 col3\" >D</th> \n",
       "        <th class=\"col_heading level0 col4\" >E</th> \n",
       "    </tr></thead> \n",
       "<tbody>    <tr> \n",
       "        <th id=\"T_194b0a6c_2eea_11e9_bcf6_10c37b94cccclevel0_row0\" class=\"row_heading level0 row0\" >0</th> \n",
       "        <td id=\"T_194b0a6c_2eea_11e9_bcf6_10c37b94ccccrow0_col0\" class=\"data row0 col0\" >1</td> \n",
       "        <td id=\"T_194b0a6c_2eea_11e9_bcf6_10c37b94ccccrow0_col1\" class=\"data row0 col1\" >1.32921</td> \n",
       "        <td id=\"T_194b0a6c_2eea_11e9_bcf6_10c37b94ccccrow0_col2\" class=\"data row0 col2\" >nan</td> \n",
       "        <td id=\"T_194b0a6c_2eea_11e9_bcf6_10c37b94ccccrow0_col3\" class=\"data row0 col3\" >-0.31628</td> \n",
       "        <td id=\"T_194b0a6c_2eea_11e9_bcf6_10c37b94ccccrow0_col4\" class=\"data row0 col4\" >-0.99081</td> \n",
       "    </tr>    <tr> \n",
       "        <th id=\"T_194b0a6c_2eea_11e9_bcf6_10c37b94cccclevel0_row1\" class=\"row_heading level0 row1\" >1</th> \n",
       "        <td id=\"T_194b0a6c_2eea_11e9_bcf6_10c37b94ccccrow1_col0\" class=\"data row1 col0\" >2</td> \n",
       "        <td id=\"T_194b0a6c_2eea_11e9_bcf6_10c37b94ccccrow1_col1\" class=\"data row1 col1\" >-1.07082</td> \n",
       "        <td id=\"T_194b0a6c_2eea_11e9_bcf6_10c37b94ccccrow1_col2\" class=\"data row1 col2\" >-1.43871</td> \n",
       "        <td id=\"T_194b0a6c_2eea_11e9_bcf6_10c37b94ccccrow1_col3\" class=\"data row1 col3\" >0.564417</td> \n",
       "        <td id=\"T_194b0a6c_2eea_11e9_bcf6_10c37b94ccccrow1_col4\" class=\"data row1 col4\" >0.295722</td> \n",
       "    </tr>    <tr> \n",
       "        <th id=\"T_194b0a6c_2eea_11e9_bcf6_10c37b94cccclevel0_row2\" class=\"row_heading level0 row2\" >2</th> \n",
       "        <td id=\"T_194b0a6c_2eea_11e9_bcf6_10c37b94ccccrow2_col0\" class=\"data row2 col0\" >3</td> \n",
       "        <td id=\"T_194b0a6c_2eea_11e9_bcf6_10c37b94ccccrow2_col1\" class=\"data row2 col1\" >-1.6264</td> \n",
       "        <td id=\"T_194b0a6c_2eea_11e9_bcf6_10c37b94ccccrow2_col2\" class=\"data row2 col2\" >0.219565</td> \n",
       "        <td id=\"T_194b0a6c_2eea_11e9_bcf6_10c37b94ccccrow2_col3\" class=\"data row2 col3\" >0.678805</td> \n",
       "        <td id=\"T_194b0a6c_2eea_11e9_bcf6_10c37b94ccccrow2_col4\" class=\"data row2 col4\" >1.88927</td> \n",
       "    </tr>    <tr> \n",
       "        <th id=\"T_194b0a6c_2eea_11e9_bcf6_10c37b94cccclevel0_row3\" class=\"row_heading level0 row3\" >3</th> \n",
       "        <td id=\"T_194b0a6c_2eea_11e9_bcf6_10c37b94ccccrow3_col0\" class=\"data row3 col0\" >4</td> \n",
       "        <td id=\"T_194b0a6c_2eea_11e9_bcf6_10c37b94ccccrow3_col1\" class=\"data row3 col1\" >0.961538</td> \n",
       "        <td id=\"T_194b0a6c_2eea_11e9_bcf6_10c37b94ccccrow3_col2\" class=\"data row3 col2\" >0.104011</td> \n",
       "        <td id=\"T_194b0a6c_2eea_11e9_bcf6_10c37b94ccccrow3_col3\" class=\"data row3 col3\" >-0.481165</td> \n",
       "        <td id=\"T_194b0a6c_2eea_11e9_bcf6_10c37b94ccccrow3_col4\" class=\"data row3 col4\" >0.850229</td> \n",
       "    </tr>    <tr> \n",
       "        <th id=\"T_194b0a6c_2eea_11e9_bcf6_10c37b94cccclevel0_row4\" class=\"row_heading level0 row4\" >4</th> \n",
       "        <td id=\"T_194b0a6c_2eea_11e9_bcf6_10c37b94ccccrow4_col0\" class=\"data row4 col0\" >5</td> \n",
       "        <td id=\"T_194b0a6c_2eea_11e9_bcf6_10c37b94ccccrow4_col1\" class=\"data row4 col1\" >1.45342</td> \n",
       "        <td id=\"T_194b0a6c_2eea_11e9_bcf6_10c37b94ccccrow4_col2\" class=\"data row4 col2\" >1.05774</td> \n",
       "        <td id=\"T_194b0a6c_2eea_11e9_bcf6_10c37b94ccccrow4_col3\" class=\"data row4 col3\" >0.165562</td> \n",
       "        <td id=\"T_194b0a6c_2eea_11e9_bcf6_10c37b94ccccrow4_col4\" class=\"data row4 col4\" >0.515018</td> \n",
       "    </tr>    <tr> \n",
       "        <th id=\"T_194b0a6c_2eea_11e9_bcf6_10c37b94cccclevel0_row5\" class=\"row_heading level0 row5\" >5</th> \n",
       "        <td id=\"T_194b0a6c_2eea_11e9_bcf6_10c37b94ccccrow5_col0\" class=\"data row5 col0\" >6</td> \n",
       "        <td id=\"T_194b0a6c_2eea_11e9_bcf6_10c37b94ccccrow5_col1\" class=\"data row5 col1\" >-1.33694</td> \n",
       "        <td id=\"T_194b0a6c_2eea_11e9_bcf6_10c37b94ccccrow5_col2\" class=\"data row5 col2\" >0.562861</td> \n",
       "        <td id=\"T_194b0a6c_2eea_11e9_bcf6_10c37b94ccccrow5_col3\" class=\"data row5 col3\" >1.39285</td> \n",
       "        <td id=\"T_194b0a6c_2eea_11e9_bcf6_10c37b94ccccrow5_col4\" class=\"data row5 col4\" >-0.063328</td> \n",
       "    </tr>    <tr> \n",
       "        <th id=\"T_194b0a6c_2eea_11e9_bcf6_10c37b94cccclevel0_row6\" class=\"row_heading level0 row6\" >6</th> \n",
       "        <td id=\"T_194b0a6c_2eea_11e9_bcf6_10c37b94ccccrow6_col0\" class=\"data row6 col0\" >7</td> \n",
       "        <td id=\"T_194b0a6c_2eea_11e9_bcf6_10c37b94ccccrow6_col1\" class=\"data row6 col1\" >0.121668</td> \n",
       "        <td id=\"T_194b0a6c_2eea_11e9_bcf6_10c37b94ccccrow6_col2\" class=\"data row6 col2\" >1.2076</td> \n",
       "        <td id=\"T_194b0a6c_2eea_11e9_bcf6_10c37b94ccccrow6_col3\" class=\"data row6 col3\" >-0.00204021</td> \n",
       "        <td id=\"T_194b0a6c_2eea_11e9_bcf6_10c37b94ccccrow6_col4\" class=\"data row6 col4\" >1.6278</td> \n",
       "    </tr>    <tr> \n",
       "        <th id=\"T_194b0a6c_2eea_11e9_bcf6_10c37b94cccclevel0_row7\" class=\"row_heading level0 row7\" >7</th> \n",
       "        <td id=\"T_194b0a6c_2eea_11e9_bcf6_10c37b94ccccrow7_col0\" class=\"data row7 col0\" >8</td> \n",
       "        <td id=\"T_194b0a6c_2eea_11e9_bcf6_10c37b94ccccrow7_col1\" class=\"data row7 col1\" >0.354493</td> \n",
       "        <td id=\"T_194b0a6c_2eea_11e9_bcf6_10c37b94ccccrow7_col2\" class=\"data row7 col2\" >1.03753</td> \n",
       "        <td id=\"T_194b0a6c_2eea_11e9_bcf6_10c37b94ccccrow7_col3\" class=\"data row7 col3\" >-0.385684</td> \n",
       "        <td id=\"T_194b0a6c_2eea_11e9_bcf6_10c37b94ccccrow7_col4\" class=\"data row7 col4\" >0.519818</td> \n",
       "    </tr>    <tr> \n",
       "        <th id=\"T_194b0a6c_2eea_11e9_bcf6_10c37b94cccclevel0_row8\" class=\"row_heading level0 row8\" >8</th> \n",
       "        <td id=\"T_194b0a6c_2eea_11e9_bcf6_10c37b94ccccrow8_col0\" class=\"data row8 col0\" >9</td> \n",
       "        <td id=\"T_194b0a6c_2eea_11e9_bcf6_10c37b94ccccrow8_col1\" class=\"data row8 col1\" >1.68658</td> \n",
       "        <td id=\"T_194b0a6c_2eea_11e9_bcf6_10c37b94ccccrow8_col2\" class=\"data row8 col2\" >-1.32596</td> \n",
       "        <td id=\"T_194b0a6c_2eea_11e9_bcf6_10c37b94ccccrow8_col3\" class=\"data row8 col3\" >1.42898</td> \n",
       "        <td id=\"T_194b0a6c_2eea_11e9_bcf6_10c37b94ccccrow8_col4\" class=\"data row8 col4\" >-2.08935</td> \n",
       "    </tr>    <tr> \n",
       "        <th id=\"T_194b0a6c_2eea_11e9_bcf6_10c37b94cccclevel0_row9\" class=\"row_heading level0 row9\" >9</th> \n",
       "        <td id=\"T_194b0a6c_2eea_11e9_bcf6_10c37b94ccccrow9_col0\" class=\"data row9 col0\" >10</td> \n",
       "        <td id=\"T_194b0a6c_2eea_11e9_bcf6_10c37b94ccccrow9_col1\" class=\"data row9 col1\" >-0.12982</td> \n",
       "        <td id=\"T_194b0a6c_2eea_11e9_bcf6_10c37b94ccccrow9_col2\" class=\"data row9 col2\" >0.631523</td> \n",
       "        <td id=\"T_194b0a6c_2eea_11e9_bcf6_10c37b94ccccrow9_col3\" class=\"data row9 col3\" >-0.586538</td> \n",
       "        <td id=\"T_194b0a6c_2eea_11e9_bcf6_10c37b94ccccrow9_col4\" class=\"data row9 col4\" >0.29072</td> \n",
       "    </tr></tbody> \n",
       "</table> "
      ],
      "text/plain": [
       "<pandas.io.formats.style.Styler at 0x250a148e278>"
      ]
     },
     "execution_count": 107,
     "metadata": {},
     "output_type": "execute_result"
    }
   ],
   "source": [
    "s = df.style.applymap(color_negative_red)\n",
    "s"
   ]
  },
  {
   "cell_type": "code",
   "execution_count": 108,
   "metadata": {},
   "outputs": [],
   "source": [
    "def highlight_max(s):\n",
    "    '''\n",
    "    highlight the maximum in a Series yellow.\n",
    "    '''\n",
    "    is_max = s == s.max()\n",
    "    return ['background-color: yellow' if v else '' for v in is_max]"
   ]
  },
  {
   "cell_type": "code",
   "execution_count": 109,
   "metadata": {},
   "outputs": [
    {
     "data": {
      "text/html": [
       "<style  type=\"text/css\" >\n",
       "    #T_1951bfae_2eea_11e9_9a84_10c37b94ccccrow2_col4 {\n",
       "            background-color:  yellow;\n",
       "        }    #T_1951bfae_2eea_11e9_9a84_10c37b94ccccrow6_col2 {\n",
       "            background-color:  yellow;\n",
       "        }    #T_1951bfae_2eea_11e9_9a84_10c37b94ccccrow8_col1 {\n",
       "            background-color:  yellow;\n",
       "        }    #T_1951bfae_2eea_11e9_9a84_10c37b94ccccrow8_col3 {\n",
       "            background-color:  yellow;\n",
       "        }    #T_1951bfae_2eea_11e9_9a84_10c37b94ccccrow9_col0 {\n",
       "            background-color:  yellow;\n",
       "        }</style>  \n",
       "<table id=\"T_1951bfae_2eea_11e9_9a84_10c37b94cccc\" > \n",
       "<thead>    <tr> \n",
       "        <th class=\"blank level0\" ></th> \n",
       "        <th class=\"col_heading level0 col0\" >A</th> \n",
       "        <th class=\"col_heading level0 col1\" >B</th> \n",
       "        <th class=\"col_heading level0 col2\" >C</th> \n",
       "        <th class=\"col_heading level0 col3\" >D</th> \n",
       "        <th class=\"col_heading level0 col4\" >E</th> \n",
       "    </tr></thead> \n",
       "<tbody>    <tr> \n",
       "        <th id=\"T_1951bfae_2eea_11e9_9a84_10c37b94cccclevel0_row0\" class=\"row_heading level0 row0\" >0</th> \n",
       "        <td id=\"T_1951bfae_2eea_11e9_9a84_10c37b94ccccrow0_col0\" class=\"data row0 col0\" >1</td> \n",
       "        <td id=\"T_1951bfae_2eea_11e9_9a84_10c37b94ccccrow0_col1\" class=\"data row0 col1\" >1.32921</td> \n",
       "        <td id=\"T_1951bfae_2eea_11e9_9a84_10c37b94ccccrow0_col2\" class=\"data row0 col2\" >nan</td> \n",
       "        <td id=\"T_1951bfae_2eea_11e9_9a84_10c37b94ccccrow0_col3\" class=\"data row0 col3\" >-0.31628</td> \n",
       "        <td id=\"T_1951bfae_2eea_11e9_9a84_10c37b94ccccrow0_col4\" class=\"data row0 col4\" >-0.99081</td> \n",
       "    </tr>    <tr> \n",
       "        <th id=\"T_1951bfae_2eea_11e9_9a84_10c37b94cccclevel0_row1\" class=\"row_heading level0 row1\" >1</th> \n",
       "        <td id=\"T_1951bfae_2eea_11e9_9a84_10c37b94ccccrow1_col0\" class=\"data row1 col0\" >2</td> \n",
       "        <td id=\"T_1951bfae_2eea_11e9_9a84_10c37b94ccccrow1_col1\" class=\"data row1 col1\" >-1.07082</td> \n",
       "        <td id=\"T_1951bfae_2eea_11e9_9a84_10c37b94ccccrow1_col2\" class=\"data row1 col2\" >-1.43871</td> \n",
       "        <td id=\"T_1951bfae_2eea_11e9_9a84_10c37b94ccccrow1_col3\" class=\"data row1 col3\" >0.564417</td> \n",
       "        <td id=\"T_1951bfae_2eea_11e9_9a84_10c37b94ccccrow1_col4\" class=\"data row1 col4\" >0.295722</td> \n",
       "    </tr>    <tr> \n",
       "        <th id=\"T_1951bfae_2eea_11e9_9a84_10c37b94cccclevel0_row2\" class=\"row_heading level0 row2\" >2</th> \n",
       "        <td id=\"T_1951bfae_2eea_11e9_9a84_10c37b94ccccrow2_col0\" class=\"data row2 col0\" >3</td> \n",
       "        <td id=\"T_1951bfae_2eea_11e9_9a84_10c37b94ccccrow2_col1\" class=\"data row2 col1\" >-1.6264</td> \n",
       "        <td id=\"T_1951bfae_2eea_11e9_9a84_10c37b94ccccrow2_col2\" class=\"data row2 col2\" >0.219565</td> \n",
       "        <td id=\"T_1951bfae_2eea_11e9_9a84_10c37b94ccccrow2_col3\" class=\"data row2 col3\" >0.678805</td> \n",
       "        <td id=\"T_1951bfae_2eea_11e9_9a84_10c37b94ccccrow2_col4\" class=\"data row2 col4\" >1.88927</td> \n",
       "    </tr>    <tr> \n",
       "        <th id=\"T_1951bfae_2eea_11e9_9a84_10c37b94cccclevel0_row3\" class=\"row_heading level0 row3\" >3</th> \n",
       "        <td id=\"T_1951bfae_2eea_11e9_9a84_10c37b94ccccrow3_col0\" class=\"data row3 col0\" >4</td> \n",
       "        <td id=\"T_1951bfae_2eea_11e9_9a84_10c37b94ccccrow3_col1\" class=\"data row3 col1\" >0.961538</td> \n",
       "        <td id=\"T_1951bfae_2eea_11e9_9a84_10c37b94ccccrow3_col2\" class=\"data row3 col2\" >0.104011</td> \n",
       "        <td id=\"T_1951bfae_2eea_11e9_9a84_10c37b94ccccrow3_col3\" class=\"data row3 col3\" >-0.481165</td> \n",
       "        <td id=\"T_1951bfae_2eea_11e9_9a84_10c37b94ccccrow3_col4\" class=\"data row3 col4\" >0.850229</td> \n",
       "    </tr>    <tr> \n",
       "        <th id=\"T_1951bfae_2eea_11e9_9a84_10c37b94cccclevel0_row4\" class=\"row_heading level0 row4\" >4</th> \n",
       "        <td id=\"T_1951bfae_2eea_11e9_9a84_10c37b94ccccrow4_col0\" class=\"data row4 col0\" >5</td> \n",
       "        <td id=\"T_1951bfae_2eea_11e9_9a84_10c37b94ccccrow4_col1\" class=\"data row4 col1\" >1.45342</td> \n",
       "        <td id=\"T_1951bfae_2eea_11e9_9a84_10c37b94ccccrow4_col2\" class=\"data row4 col2\" >1.05774</td> \n",
       "        <td id=\"T_1951bfae_2eea_11e9_9a84_10c37b94ccccrow4_col3\" class=\"data row4 col3\" >0.165562</td> \n",
       "        <td id=\"T_1951bfae_2eea_11e9_9a84_10c37b94ccccrow4_col4\" class=\"data row4 col4\" >0.515018</td> \n",
       "    </tr>    <tr> \n",
       "        <th id=\"T_1951bfae_2eea_11e9_9a84_10c37b94cccclevel0_row5\" class=\"row_heading level0 row5\" >5</th> \n",
       "        <td id=\"T_1951bfae_2eea_11e9_9a84_10c37b94ccccrow5_col0\" class=\"data row5 col0\" >6</td> \n",
       "        <td id=\"T_1951bfae_2eea_11e9_9a84_10c37b94ccccrow5_col1\" class=\"data row5 col1\" >-1.33694</td> \n",
       "        <td id=\"T_1951bfae_2eea_11e9_9a84_10c37b94ccccrow5_col2\" class=\"data row5 col2\" >0.562861</td> \n",
       "        <td id=\"T_1951bfae_2eea_11e9_9a84_10c37b94ccccrow5_col3\" class=\"data row5 col3\" >1.39285</td> \n",
       "        <td id=\"T_1951bfae_2eea_11e9_9a84_10c37b94ccccrow5_col4\" class=\"data row5 col4\" >-0.063328</td> \n",
       "    </tr>    <tr> \n",
       "        <th id=\"T_1951bfae_2eea_11e9_9a84_10c37b94cccclevel0_row6\" class=\"row_heading level0 row6\" >6</th> \n",
       "        <td id=\"T_1951bfae_2eea_11e9_9a84_10c37b94ccccrow6_col0\" class=\"data row6 col0\" >7</td> \n",
       "        <td id=\"T_1951bfae_2eea_11e9_9a84_10c37b94ccccrow6_col1\" class=\"data row6 col1\" >0.121668</td> \n",
       "        <td id=\"T_1951bfae_2eea_11e9_9a84_10c37b94ccccrow6_col2\" class=\"data row6 col2\" >1.2076</td> \n",
       "        <td id=\"T_1951bfae_2eea_11e9_9a84_10c37b94ccccrow6_col3\" class=\"data row6 col3\" >-0.00204021</td> \n",
       "        <td id=\"T_1951bfae_2eea_11e9_9a84_10c37b94ccccrow6_col4\" class=\"data row6 col4\" >1.6278</td> \n",
       "    </tr>    <tr> \n",
       "        <th id=\"T_1951bfae_2eea_11e9_9a84_10c37b94cccclevel0_row7\" class=\"row_heading level0 row7\" >7</th> \n",
       "        <td id=\"T_1951bfae_2eea_11e9_9a84_10c37b94ccccrow7_col0\" class=\"data row7 col0\" >8</td> \n",
       "        <td id=\"T_1951bfae_2eea_11e9_9a84_10c37b94ccccrow7_col1\" class=\"data row7 col1\" >0.354493</td> \n",
       "        <td id=\"T_1951bfae_2eea_11e9_9a84_10c37b94ccccrow7_col2\" class=\"data row7 col2\" >1.03753</td> \n",
       "        <td id=\"T_1951bfae_2eea_11e9_9a84_10c37b94ccccrow7_col3\" class=\"data row7 col3\" >-0.385684</td> \n",
       "        <td id=\"T_1951bfae_2eea_11e9_9a84_10c37b94ccccrow7_col4\" class=\"data row7 col4\" >0.519818</td> \n",
       "    </tr>    <tr> \n",
       "        <th id=\"T_1951bfae_2eea_11e9_9a84_10c37b94cccclevel0_row8\" class=\"row_heading level0 row8\" >8</th> \n",
       "        <td id=\"T_1951bfae_2eea_11e9_9a84_10c37b94ccccrow8_col0\" class=\"data row8 col0\" >9</td> \n",
       "        <td id=\"T_1951bfae_2eea_11e9_9a84_10c37b94ccccrow8_col1\" class=\"data row8 col1\" >1.68658</td> \n",
       "        <td id=\"T_1951bfae_2eea_11e9_9a84_10c37b94ccccrow8_col2\" class=\"data row8 col2\" >-1.32596</td> \n",
       "        <td id=\"T_1951bfae_2eea_11e9_9a84_10c37b94ccccrow8_col3\" class=\"data row8 col3\" >1.42898</td> \n",
       "        <td id=\"T_1951bfae_2eea_11e9_9a84_10c37b94ccccrow8_col4\" class=\"data row8 col4\" >-2.08935</td> \n",
       "    </tr>    <tr> \n",
       "        <th id=\"T_1951bfae_2eea_11e9_9a84_10c37b94cccclevel0_row9\" class=\"row_heading level0 row9\" >9</th> \n",
       "        <td id=\"T_1951bfae_2eea_11e9_9a84_10c37b94ccccrow9_col0\" class=\"data row9 col0\" >10</td> \n",
       "        <td id=\"T_1951bfae_2eea_11e9_9a84_10c37b94ccccrow9_col1\" class=\"data row9 col1\" >-0.12982</td> \n",
       "        <td id=\"T_1951bfae_2eea_11e9_9a84_10c37b94ccccrow9_col2\" class=\"data row9 col2\" >0.631523</td> \n",
       "        <td id=\"T_1951bfae_2eea_11e9_9a84_10c37b94ccccrow9_col3\" class=\"data row9 col3\" >-0.586538</td> \n",
       "        <td id=\"T_1951bfae_2eea_11e9_9a84_10c37b94ccccrow9_col4\" class=\"data row9 col4\" >0.29072</td> \n",
       "    </tr></tbody> \n",
       "</table> "
      ],
      "text/plain": [
       "<pandas.io.formats.style.Styler at 0x250a13ff400>"
      ]
     },
     "execution_count": 109,
     "metadata": {},
     "output_type": "execute_result"
    }
   ],
   "source": [
    "df.style.apply(highlight_max)"
   ]
  },
  {
   "cell_type": "code",
   "execution_count": 113,
   "metadata": {},
   "outputs": [
    {
     "data": {
      "text/html": [
       "<style  type=\"text/css\" >\n",
       "    #T_e3086e68_2eea_11e9_9b58_10c37b94ccccrow0_col0 {\n",
       "            color:  black;\n",
       "            : ;\n",
       "        }    #T_e3086e68_2eea_11e9_9b58_10c37b94ccccrow0_col1 {\n",
       "            color:  black;\n",
       "            : ;\n",
       "        }    #T_e3086e68_2eea_11e9_9b58_10c37b94ccccrow0_col2 {\n",
       "            color:  black;\n",
       "            : ;\n",
       "        }    #T_e3086e68_2eea_11e9_9b58_10c37b94ccccrow0_col3 {\n",
       "            color:  red;\n",
       "            : ;\n",
       "        }    #T_e3086e68_2eea_11e9_9b58_10c37b94ccccrow0_col4 {\n",
       "            color:  red;\n",
       "            : ;\n",
       "        }    #T_e3086e68_2eea_11e9_9b58_10c37b94ccccrow1_col0 {\n",
       "            color:  black;\n",
       "            : ;\n",
       "        }    #T_e3086e68_2eea_11e9_9b58_10c37b94ccccrow1_col1 {\n",
       "            color:  red;\n",
       "            : ;\n",
       "        }    #T_e3086e68_2eea_11e9_9b58_10c37b94ccccrow1_col2 {\n",
       "            color:  red;\n",
       "            : ;\n",
       "        }    #T_e3086e68_2eea_11e9_9b58_10c37b94ccccrow1_col3 {\n",
       "            color:  black;\n",
       "            : ;\n",
       "        }    #T_e3086e68_2eea_11e9_9b58_10c37b94ccccrow1_col4 {\n",
       "            color:  black;\n",
       "            : ;\n",
       "        }    #T_e3086e68_2eea_11e9_9b58_10c37b94ccccrow2_col0 {\n",
       "            color:  black;\n",
       "            : ;\n",
       "        }    #T_e3086e68_2eea_11e9_9b58_10c37b94ccccrow2_col1 {\n",
       "            color:  red;\n",
       "            : ;\n",
       "        }    #T_e3086e68_2eea_11e9_9b58_10c37b94ccccrow2_col2 {\n",
       "            color:  black;\n",
       "            : ;\n",
       "        }    #T_e3086e68_2eea_11e9_9b58_10c37b94ccccrow2_col3 {\n",
       "            color:  black;\n",
       "            : ;\n",
       "        }    #T_e3086e68_2eea_11e9_9b58_10c37b94ccccrow2_col4 {\n",
       "            color:  black;\n",
       "            background-color:  yellow;\n",
       "        }    #T_e3086e68_2eea_11e9_9b58_10c37b94ccccrow3_col0 {\n",
       "            color:  black;\n",
       "            : ;\n",
       "        }    #T_e3086e68_2eea_11e9_9b58_10c37b94ccccrow3_col1 {\n",
       "            color:  black;\n",
       "            : ;\n",
       "        }    #T_e3086e68_2eea_11e9_9b58_10c37b94ccccrow3_col2 {\n",
       "            color:  black;\n",
       "            : ;\n",
       "        }    #T_e3086e68_2eea_11e9_9b58_10c37b94ccccrow3_col3 {\n",
       "            color:  red;\n",
       "            : ;\n",
       "        }    #T_e3086e68_2eea_11e9_9b58_10c37b94ccccrow3_col4 {\n",
       "            color:  black;\n",
       "            : ;\n",
       "        }    #T_e3086e68_2eea_11e9_9b58_10c37b94ccccrow4_col0 {\n",
       "            color:  black;\n",
       "            : ;\n",
       "        }    #T_e3086e68_2eea_11e9_9b58_10c37b94ccccrow4_col1 {\n",
       "            color:  black;\n",
       "            : ;\n",
       "        }    #T_e3086e68_2eea_11e9_9b58_10c37b94ccccrow4_col2 {\n",
       "            color:  black;\n",
       "            : ;\n",
       "        }    #T_e3086e68_2eea_11e9_9b58_10c37b94ccccrow4_col3 {\n",
       "            color:  black;\n",
       "            : ;\n",
       "        }    #T_e3086e68_2eea_11e9_9b58_10c37b94ccccrow4_col4 {\n",
       "            color:  black;\n",
       "            : ;\n",
       "        }    #T_e3086e68_2eea_11e9_9b58_10c37b94ccccrow5_col0 {\n",
       "            color:  black;\n",
       "            : ;\n",
       "        }    #T_e3086e68_2eea_11e9_9b58_10c37b94ccccrow5_col1 {\n",
       "            color:  red;\n",
       "            : ;\n",
       "        }    #T_e3086e68_2eea_11e9_9b58_10c37b94ccccrow5_col2 {\n",
       "            color:  black;\n",
       "            : ;\n",
       "        }    #T_e3086e68_2eea_11e9_9b58_10c37b94ccccrow5_col3 {\n",
       "            color:  black;\n",
       "            : ;\n",
       "        }    #T_e3086e68_2eea_11e9_9b58_10c37b94ccccrow5_col4 {\n",
       "            color:  red;\n",
       "            : ;\n",
       "        }    #T_e3086e68_2eea_11e9_9b58_10c37b94ccccrow6_col0 {\n",
       "            color:  black;\n",
       "            : ;\n",
       "        }    #T_e3086e68_2eea_11e9_9b58_10c37b94ccccrow6_col1 {\n",
       "            color:  black;\n",
       "            : ;\n",
       "        }    #T_e3086e68_2eea_11e9_9b58_10c37b94ccccrow6_col2 {\n",
       "            color:  black;\n",
       "            background-color:  yellow;\n",
       "        }    #T_e3086e68_2eea_11e9_9b58_10c37b94ccccrow6_col3 {\n",
       "            color:  red;\n",
       "            : ;\n",
       "        }    #T_e3086e68_2eea_11e9_9b58_10c37b94ccccrow6_col4 {\n",
       "            color:  black;\n",
       "            : ;\n",
       "        }    #T_e3086e68_2eea_11e9_9b58_10c37b94ccccrow7_col0 {\n",
       "            color:  black;\n",
       "            : ;\n",
       "        }    #T_e3086e68_2eea_11e9_9b58_10c37b94ccccrow7_col1 {\n",
       "            color:  black;\n",
       "            : ;\n",
       "        }    #T_e3086e68_2eea_11e9_9b58_10c37b94ccccrow7_col2 {\n",
       "            color:  black;\n",
       "            : ;\n",
       "        }    #T_e3086e68_2eea_11e9_9b58_10c37b94ccccrow7_col3 {\n",
       "            color:  red;\n",
       "            : ;\n",
       "        }    #T_e3086e68_2eea_11e9_9b58_10c37b94ccccrow7_col4 {\n",
       "            color:  black;\n",
       "            : ;\n",
       "        }    #T_e3086e68_2eea_11e9_9b58_10c37b94ccccrow8_col0 {\n",
       "            color:  black;\n",
       "            : ;\n",
       "        }    #T_e3086e68_2eea_11e9_9b58_10c37b94ccccrow8_col1 {\n",
       "            color:  black;\n",
       "            background-color:  yellow;\n",
       "        }    #T_e3086e68_2eea_11e9_9b58_10c37b94ccccrow8_col2 {\n",
       "            color:  red;\n",
       "            : ;\n",
       "        }    #T_e3086e68_2eea_11e9_9b58_10c37b94ccccrow8_col3 {\n",
       "            color:  black;\n",
       "            background-color:  yellow;\n",
       "        }    #T_e3086e68_2eea_11e9_9b58_10c37b94ccccrow8_col4 {\n",
       "            color:  red;\n",
       "            : ;\n",
       "        }    #T_e3086e68_2eea_11e9_9b58_10c37b94ccccrow9_col0 {\n",
       "            color:  black;\n",
       "            background-color:  yellow;\n",
       "        }    #T_e3086e68_2eea_11e9_9b58_10c37b94ccccrow9_col1 {\n",
       "            color:  red;\n",
       "            : ;\n",
       "        }    #T_e3086e68_2eea_11e9_9b58_10c37b94ccccrow9_col2 {\n",
       "            color:  black;\n",
       "            : ;\n",
       "        }    #T_e3086e68_2eea_11e9_9b58_10c37b94ccccrow9_col3 {\n",
       "            color:  red;\n",
       "            : ;\n",
       "        }    #T_e3086e68_2eea_11e9_9b58_10c37b94ccccrow9_col4 {\n",
       "            color:  black;\n",
       "            : ;\n",
       "        }</style>  \n",
       "<table id=\"T_e3086e68_2eea_11e9_9b58_10c37b94cccc\" > \n",
       "<thead>    <tr> \n",
       "        <th class=\"blank level0\" ></th> \n",
       "        <th class=\"col_heading level0 col0\" >A</th> \n",
       "        <th class=\"col_heading level0 col1\" >B</th> \n",
       "        <th class=\"col_heading level0 col2\" >C</th> \n",
       "        <th class=\"col_heading level0 col3\" >D</th> \n",
       "        <th class=\"col_heading level0 col4\" >E</th> \n",
       "    </tr></thead> \n",
       "<tbody>    <tr> \n",
       "        <th id=\"T_e3086e68_2eea_11e9_9b58_10c37b94cccclevel0_row0\" class=\"row_heading level0 row0\" >0</th> \n",
       "        <td id=\"T_e3086e68_2eea_11e9_9b58_10c37b94ccccrow0_col0\" class=\"data row0 col0\" >1</td> \n",
       "        <td id=\"T_e3086e68_2eea_11e9_9b58_10c37b94ccccrow0_col1\" class=\"data row0 col1\" >1.32921</td> \n",
       "        <td id=\"T_e3086e68_2eea_11e9_9b58_10c37b94ccccrow0_col2\" class=\"data row0 col2\" >nan</td> \n",
       "        <td id=\"T_e3086e68_2eea_11e9_9b58_10c37b94ccccrow0_col3\" class=\"data row0 col3\" >-0.31628</td> \n",
       "        <td id=\"T_e3086e68_2eea_11e9_9b58_10c37b94ccccrow0_col4\" class=\"data row0 col4\" >-0.99081</td> \n",
       "    </tr>    <tr> \n",
       "        <th id=\"T_e3086e68_2eea_11e9_9b58_10c37b94cccclevel0_row1\" class=\"row_heading level0 row1\" >1</th> \n",
       "        <td id=\"T_e3086e68_2eea_11e9_9b58_10c37b94ccccrow1_col0\" class=\"data row1 col0\" >2</td> \n",
       "        <td id=\"T_e3086e68_2eea_11e9_9b58_10c37b94ccccrow1_col1\" class=\"data row1 col1\" >-1.07082</td> \n",
       "        <td id=\"T_e3086e68_2eea_11e9_9b58_10c37b94ccccrow1_col2\" class=\"data row1 col2\" >-1.43871</td> \n",
       "        <td id=\"T_e3086e68_2eea_11e9_9b58_10c37b94ccccrow1_col3\" class=\"data row1 col3\" >0.564417</td> \n",
       "        <td id=\"T_e3086e68_2eea_11e9_9b58_10c37b94ccccrow1_col4\" class=\"data row1 col4\" >0.295722</td> \n",
       "    </tr>    <tr> \n",
       "        <th id=\"T_e3086e68_2eea_11e9_9b58_10c37b94cccclevel0_row2\" class=\"row_heading level0 row2\" >2</th> \n",
       "        <td id=\"T_e3086e68_2eea_11e9_9b58_10c37b94ccccrow2_col0\" class=\"data row2 col0\" >3</td> \n",
       "        <td id=\"T_e3086e68_2eea_11e9_9b58_10c37b94ccccrow2_col1\" class=\"data row2 col1\" >-1.6264</td> \n",
       "        <td id=\"T_e3086e68_2eea_11e9_9b58_10c37b94ccccrow2_col2\" class=\"data row2 col2\" >0.219565</td> \n",
       "        <td id=\"T_e3086e68_2eea_11e9_9b58_10c37b94ccccrow2_col3\" class=\"data row2 col3\" >0.678805</td> \n",
       "        <td id=\"T_e3086e68_2eea_11e9_9b58_10c37b94ccccrow2_col4\" class=\"data row2 col4\" >1.88927</td> \n",
       "    </tr>    <tr> \n",
       "        <th id=\"T_e3086e68_2eea_11e9_9b58_10c37b94cccclevel0_row3\" class=\"row_heading level0 row3\" >3</th> \n",
       "        <td id=\"T_e3086e68_2eea_11e9_9b58_10c37b94ccccrow3_col0\" class=\"data row3 col0\" >4</td> \n",
       "        <td id=\"T_e3086e68_2eea_11e9_9b58_10c37b94ccccrow3_col1\" class=\"data row3 col1\" >0.961538</td> \n",
       "        <td id=\"T_e3086e68_2eea_11e9_9b58_10c37b94ccccrow3_col2\" class=\"data row3 col2\" >0.104011</td> \n",
       "        <td id=\"T_e3086e68_2eea_11e9_9b58_10c37b94ccccrow3_col3\" class=\"data row3 col3\" >-0.481165</td> \n",
       "        <td id=\"T_e3086e68_2eea_11e9_9b58_10c37b94ccccrow3_col4\" class=\"data row3 col4\" >0.850229</td> \n",
       "    </tr>    <tr> \n",
       "        <th id=\"T_e3086e68_2eea_11e9_9b58_10c37b94cccclevel0_row4\" class=\"row_heading level0 row4\" >4</th> \n",
       "        <td id=\"T_e3086e68_2eea_11e9_9b58_10c37b94ccccrow4_col0\" class=\"data row4 col0\" >5</td> \n",
       "        <td id=\"T_e3086e68_2eea_11e9_9b58_10c37b94ccccrow4_col1\" class=\"data row4 col1\" >1.45342</td> \n",
       "        <td id=\"T_e3086e68_2eea_11e9_9b58_10c37b94ccccrow4_col2\" class=\"data row4 col2\" >1.05774</td> \n",
       "        <td id=\"T_e3086e68_2eea_11e9_9b58_10c37b94ccccrow4_col3\" class=\"data row4 col3\" >0.165562</td> \n",
       "        <td id=\"T_e3086e68_2eea_11e9_9b58_10c37b94ccccrow4_col4\" class=\"data row4 col4\" >0.515018</td> \n",
       "    </tr>    <tr> \n",
       "        <th id=\"T_e3086e68_2eea_11e9_9b58_10c37b94cccclevel0_row5\" class=\"row_heading level0 row5\" >5</th> \n",
       "        <td id=\"T_e3086e68_2eea_11e9_9b58_10c37b94ccccrow5_col0\" class=\"data row5 col0\" >6</td> \n",
       "        <td id=\"T_e3086e68_2eea_11e9_9b58_10c37b94ccccrow5_col1\" class=\"data row5 col1\" >-1.33694</td> \n",
       "        <td id=\"T_e3086e68_2eea_11e9_9b58_10c37b94ccccrow5_col2\" class=\"data row5 col2\" >0.562861</td> \n",
       "        <td id=\"T_e3086e68_2eea_11e9_9b58_10c37b94ccccrow5_col3\" class=\"data row5 col3\" >1.39285</td> \n",
       "        <td id=\"T_e3086e68_2eea_11e9_9b58_10c37b94ccccrow5_col4\" class=\"data row5 col4\" >-0.063328</td> \n",
       "    </tr>    <tr> \n",
       "        <th id=\"T_e3086e68_2eea_11e9_9b58_10c37b94cccclevel0_row6\" class=\"row_heading level0 row6\" >6</th> \n",
       "        <td id=\"T_e3086e68_2eea_11e9_9b58_10c37b94ccccrow6_col0\" class=\"data row6 col0\" >7</td> \n",
       "        <td id=\"T_e3086e68_2eea_11e9_9b58_10c37b94ccccrow6_col1\" class=\"data row6 col1\" >0.121668</td> \n",
       "        <td id=\"T_e3086e68_2eea_11e9_9b58_10c37b94ccccrow6_col2\" class=\"data row6 col2\" >1.2076</td> \n",
       "        <td id=\"T_e3086e68_2eea_11e9_9b58_10c37b94ccccrow6_col3\" class=\"data row6 col3\" >-0.00204021</td> \n",
       "        <td id=\"T_e3086e68_2eea_11e9_9b58_10c37b94ccccrow6_col4\" class=\"data row6 col4\" >1.6278</td> \n",
       "    </tr>    <tr> \n",
       "        <th id=\"T_e3086e68_2eea_11e9_9b58_10c37b94cccclevel0_row7\" class=\"row_heading level0 row7\" >7</th> \n",
       "        <td id=\"T_e3086e68_2eea_11e9_9b58_10c37b94ccccrow7_col0\" class=\"data row7 col0\" >8</td> \n",
       "        <td id=\"T_e3086e68_2eea_11e9_9b58_10c37b94ccccrow7_col1\" class=\"data row7 col1\" >0.354493</td> \n",
       "        <td id=\"T_e3086e68_2eea_11e9_9b58_10c37b94ccccrow7_col2\" class=\"data row7 col2\" >1.03753</td> \n",
       "        <td id=\"T_e3086e68_2eea_11e9_9b58_10c37b94ccccrow7_col3\" class=\"data row7 col3\" >-0.385684</td> \n",
       "        <td id=\"T_e3086e68_2eea_11e9_9b58_10c37b94ccccrow7_col4\" class=\"data row7 col4\" >0.519818</td> \n",
       "    </tr>    <tr> \n",
       "        <th id=\"T_e3086e68_2eea_11e9_9b58_10c37b94cccclevel0_row8\" class=\"row_heading level0 row8\" >8</th> \n",
       "        <td id=\"T_e3086e68_2eea_11e9_9b58_10c37b94ccccrow8_col0\" class=\"data row8 col0\" >9</td> \n",
       "        <td id=\"T_e3086e68_2eea_11e9_9b58_10c37b94ccccrow8_col1\" class=\"data row8 col1\" >1.68658</td> \n",
       "        <td id=\"T_e3086e68_2eea_11e9_9b58_10c37b94ccccrow8_col2\" class=\"data row8 col2\" >-1.32596</td> \n",
       "        <td id=\"T_e3086e68_2eea_11e9_9b58_10c37b94ccccrow8_col3\" class=\"data row8 col3\" >1.42898</td> \n",
       "        <td id=\"T_e3086e68_2eea_11e9_9b58_10c37b94ccccrow8_col4\" class=\"data row8 col4\" >-2.08935</td> \n",
       "    </tr>    <tr> \n",
       "        <th id=\"T_e3086e68_2eea_11e9_9b58_10c37b94cccclevel0_row9\" class=\"row_heading level0 row9\" >9</th> \n",
       "        <td id=\"T_e3086e68_2eea_11e9_9b58_10c37b94ccccrow9_col0\" class=\"data row9 col0\" >10</td> \n",
       "        <td id=\"T_e3086e68_2eea_11e9_9b58_10c37b94ccccrow9_col1\" class=\"data row9 col1\" >-0.12982</td> \n",
       "        <td id=\"T_e3086e68_2eea_11e9_9b58_10c37b94ccccrow9_col2\" class=\"data row9 col2\" >0.631523</td> \n",
       "        <td id=\"T_e3086e68_2eea_11e9_9b58_10c37b94ccccrow9_col3\" class=\"data row9 col3\" >-0.586538</td> \n",
       "        <td id=\"T_e3086e68_2eea_11e9_9b58_10c37b94ccccrow9_col4\" class=\"data row9 col4\" >0.29072</td> \n",
       "    </tr></tbody> \n",
       "</table> "
      ],
      "text/plain": [
       "<pandas.io.formats.style.Styler at 0x250a13f2518>"
      ]
     },
     "execution_count": 113,
     "metadata": {},
     "output_type": "execute_result"
    }
   ],
   "source": [
    "df.style.\\\n",
    "    applymap(color_negative_red).\\\n",
    "    apply(highlight_max)"
   ]
  },
  {
   "cell_type": "code",
   "execution_count": 111,
   "metadata": {},
   "outputs": [],
   "source": [
    "def highlight_max(data, color='yellow'):\n",
    "    '''\n",
    "    highlight the maximum in a Series or DataFrame\n",
    "    '''\n",
    "    attr = 'background-color: {}'.format(color)\n",
    "    if data.ndim == 1:  # Series from .apply(axis=0) or axis=1\n",
    "        is_max = data == data.max()\n",
    "        return [attr if v else '' for v in is_max]\n",
    "    else:  # from .apply(axis=None)\n",
    "        is_max = data == data.max().max()\n",
    "        return pd.DataFrame(np.where(is_max, attr, ''),\n",
    "                            index=data.index, columns=data.columns)"
   ]
  },
  {
   "cell_type": "code",
   "execution_count": 82,
   "metadata": {},
   "outputs": [
    {
     "data": {
      "text/html": [
       "<div>\n",
       "<style scoped>\n",
       "    .dataframe tbody tr th:only-of-type {\n",
       "        vertical-align: middle;\n",
       "    }\n",
       "\n",
       "    .dataframe tbody tr th {\n",
       "        vertical-align: top;\n",
       "    }\n",
       "\n",
       "    .dataframe thead th {\n",
       "        text-align: right;\n",
       "    }\n",
       "</style>\n",
       "<table border=\"1\" class=\"dataframe\">\n",
       "  <thead>\n",
       "    <tr style=\"text-align: right;\">\n",
       "      <th></th>\n",
       "      <th>A</th>\n",
       "      <th>B</th>\n",
       "      <th>C</th>\n",
       "      <th>D</th>\n",
       "      <th>E</th>\n",
       "    </tr>\n",
       "  </thead>\n",
       "  <tbody>\n",
       "    <tr>\n",
       "      <th>0</th>\n",
       "      <td>1.0</td>\n",
       "      <td>1.329212</td>\n",
       "      <td>NaN</td>\n",
       "      <td>-0.316280</td>\n",
       "      <td>-0.990810</td>\n",
       "    </tr>\n",
       "    <tr>\n",
       "      <th>1</th>\n",
       "      <td>2.0</td>\n",
       "      <td>-1.070816</td>\n",
       "      <td>-1.438713</td>\n",
       "      <td>0.564417</td>\n",
       "      <td>0.295722</td>\n",
       "    </tr>\n",
       "    <tr>\n",
       "      <th>2</th>\n",
       "      <td>3.0</td>\n",
       "      <td>-1.626404</td>\n",
       "      <td>0.219565</td>\n",
       "      <td>0.678805</td>\n",
       "      <td>1.889273</td>\n",
       "    </tr>\n",
       "    <tr>\n",
       "      <th>3</th>\n",
       "      <td>4.0</td>\n",
       "      <td>0.961538</td>\n",
       "      <td>0.104011</td>\n",
       "      <td>-0.481165</td>\n",
       "      <td>0.850229</td>\n",
       "    </tr>\n",
       "    <tr>\n",
       "      <th>4</th>\n",
       "      <td>5.0</td>\n",
       "      <td>1.453425</td>\n",
       "      <td>1.057737</td>\n",
       "      <td>0.165562</td>\n",
       "      <td>0.515018</td>\n",
       "    </tr>\n",
       "    <tr>\n",
       "      <th>5</th>\n",
       "      <td>6.0</td>\n",
       "      <td>-1.336936</td>\n",
       "      <td>0.562861</td>\n",
       "      <td>1.392855</td>\n",
       "      <td>-0.063328</td>\n",
       "    </tr>\n",
       "    <tr>\n",
       "      <th>6</th>\n",
       "      <td>7.0</td>\n",
       "      <td>0.121668</td>\n",
       "      <td>1.207603</td>\n",
       "      <td>-0.002040</td>\n",
       "      <td>1.627796</td>\n",
       "    </tr>\n",
       "    <tr>\n",
       "      <th>7</th>\n",
       "      <td>8.0</td>\n",
       "      <td>0.354493</td>\n",
       "      <td>1.037528</td>\n",
       "      <td>-0.385684</td>\n",
       "      <td>0.519818</td>\n",
       "    </tr>\n",
       "    <tr>\n",
       "      <th>8</th>\n",
       "      <td>9.0</td>\n",
       "      <td>1.686583</td>\n",
       "      <td>-1.325963</td>\n",
       "      <td>1.428984</td>\n",
       "      <td>-2.089354</td>\n",
       "    </tr>\n",
       "    <tr>\n",
       "      <th>9</th>\n",
       "      <td>10.0</td>\n",
       "      <td>-0.129820</td>\n",
       "      <td>0.631523</td>\n",
       "      <td>-0.586538</td>\n",
       "      <td>0.290720</td>\n",
       "    </tr>\n",
       "  </tbody>\n",
       "</table>\n",
       "</div>"
      ],
      "text/plain": [
       "      A         B         C         D         E\n",
       "0   1.0  1.329212       NaN -0.316280 -0.990810\n",
       "1   2.0 -1.070816 -1.438713  0.564417  0.295722\n",
       "2   3.0 -1.626404  0.219565  0.678805  1.889273\n",
       "3   4.0  0.961538  0.104011 -0.481165  0.850229\n",
       "4   5.0  1.453425  1.057737  0.165562  0.515018\n",
       "5   6.0 -1.336936  0.562861  1.392855 -0.063328\n",
       "6   7.0  0.121668  1.207603 -0.002040  1.627796\n",
       "7   8.0  0.354493  1.037528 -0.385684  0.519818\n",
       "8   9.0  1.686583 -1.325963  1.428984 -2.089354\n",
       "9  10.0 -0.129820  0.631523 -0.586538  0.290720"
      ]
     },
     "execution_count": 82,
     "metadata": {},
     "output_type": "execute_result"
    }
   ],
   "source": [
    "df"
   ]
  },
  {
   "cell_type": "code",
   "execution_count": 83,
   "metadata": {},
   "outputs": [],
   "source": [
    "is_max=df==df.max().max()"
   ]
  },
  {
   "cell_type": "code",
   "execution_count": 84,
   "metadata": {},
   "outputs": [
    {
     "data": {
      "text/html": [
       "<div>\n",
       "<style scoped>\n",
       "    .dataframe tbody tr th:only-of-type {\n",
       "        vertical-align: middle;\n",
       "    }\n",
       "\n",
       "    .dataframe tbody tr th {\n",
       "        vertical-align: top;\n",
       "    }\n",
       "\n",
       "    .dataframe thead th {\n",
       "        text-align: right;\n",
       "    }\n",
       "</style>\n",
       "<table border=\"1\" class=\"dataframe\">\n",
       "  <thead>\n",
       "    <tr style=\"text-align: right;\">\n",
       "      <th></th>\n",
       "      <th>A</th>\n",
       "      <th>B</th>\n",
       "      <th>C</th>\n",
       "      <th>D</th>\n",
       "      <th>E</th>\n",
       "    </tr>\n",
       "  </thead>\n",
       "  <tbody>\n",
       "    <tr>\n",
       "      <th>0</th>\n",
       "      <td>False</td>\n",
       "      <td>False</td>\n",
       "      <td>False</td>\n",
       "      <td>False</td>\n",
       "      <td>False</td>\n",
       "    </tr>\n",
       "    <tr>\n",
       "      <th>1</th>\n",
       "      <td>False</td>\n",
       "      <td>False</td>\n",
       "      <td>False</td>\n",
       "      <td>False</td>\n",
       "      <td>False</td>\n",
       "    </tr>\n",
       "    <tr>\n",
       "      <th>2</th>\n",
       "      <td>False</td>\n",
       "      <td>False</td>\n",
       "      <td>False</td>\n",
       "      <td>False</td>\n",
       "      <td>False</td>\n",
       "    </tr>\n",
       "    <tr>\n",
       "      <th>3</th>\n",
       "      <td>False</td>\n",
       "      <td>False</td>\n",
       "      <td>False</td>\n",
       "      <td>False</td>\n",
       "      <td>False</td>\n",
       "    </tr>\n",
       "    <tr>\n",
       "      <th>4</th>\n",
       "      <td>False</td>\n",
       "      <td>False</td>\n",
       "      <td>False</td>\n",
       "      <td>False</td>\n",
       "      <td>False</td>\n",
       "    </tr>\n",
       "    <tr>\n",
       "      <th>5</th>\n",
       "      <td>False</td>\n",
       "      <td>False</td>\n",
       "      <td>False</td>\n",
       "      <td>False</td>\n",
       "      <td>False</td>\n",
       "    </tr>\n",
       "    <tr>\n",
       "      <th>6</th>\n",
       "      <td>False</td>\n",
       "      <td>False</td>\n",
       "      <td>False</td>\n",
       "      <td>False</td>\n",
       "      <td>False</td>\n",
       "    </tr>\n",
       "    <tr>\n",
       "      <th>7</th>\n",
       "      <td>False</td>\n",
       "      <td>False</td>\n",
       "      <td>False</td>\n",
       "      <td>False</td>\n",
       "      <td>False</td>\n",
       "    </tr>\n",
       "    <tr>\n",
       "      <th>8</th>\n",
       "      <td>False</td>\n",
       "      <td>False</td>\n",
       "      <td>False</td>\n",
       "      <td>False</td>\n",
       "      <td>False</td>\n",
       "    </tr>\n",
       "    <tr>\n",
       "      <th>9</th>\n",
       "      <td>True</td>\n",
       "      <td>False</td>\n",
       "      <td>False</td>\n",
       "      <td>False</td>\n",
       "      <td>False</td>\n",
       "    </tr>\n",
       "  </tbody>\n",
       "</table>\n",
       "</div>"
      ],
      "text/plain": [
       "       A      B      C      D      E\n",
       "0  False  False  False  False  False\n",
       "1  False  False  False  False  False\n",
       "2  False  False  False  False  False\n",
       "3  False  False  False  False  False\n",
       "4  False  False  False  False  False\n",
       "5  False  False  False  False  False\n",
       "6  False  False  False  False  False\n",
       "7  False  False  False  False  False\n",
       "8  False  False  False  False  False\n",
       "9   True  False  False  False  False"
      ]
     },
     "execution_count": 84,
     "metadata": {},
     "output_type": "execute_result"
    }
   ],
   "source": [
    "is_max"
   ]
  },
  {
   "cell_type": "code",
   "execution_count": 85,
   "metadata": {},
   "outputs": [],
   "source": [
    "attr = 'background-color: {}'.format('red')"
   ]
  },
  {
   "cell_type": "code",
   "execution_count": 87,
   "metadata": {},
   "outputs": [],
   "source": [
    "style_df = pd.DataFrame(np.where(is_max, attr, ''), index=df.index, columns=df.columns)"
   ]
  },
  {
   "cell_type": "code",
   "execution_count": 89,
   "metadata": {},
   "outputs": [
    {
     "data": {
      "text/html": [
       "<div>\n",
       "<style scoped>\n",
       "    .dataframe tbody tr th:only-of-type {\n",
       "        vertical-align: middle;\n",
       "    }\n",
       "\n",
       "    .dataframe tbody tr th {\n",
       "        vertical-align: top;\n",
       "    }\n",
       "\n",
       "    .dataframe thead th {\n",
       "        text-align: right;\n",
       "    }\n",
       "</style>\n",
       "<table border=\"1\" class=\"dataframe\">\n",
       "  <thead>\n",
       "    <tr style=\"text-align: right;\">\n",
       "      <th></th>\n",
       "      <th>A</th>\n",
       "      <th>B</th>\n",
       "      <th>C</th>\n",
       "      <th>D</th>\n",
       "      <th>E</th>\n",
       "    </tr>\n",
       "  </thead>\n",
       "  <tbody>\n",
       "    <tr>\n",
       "      <th>0</th>\n",
       "      <td></td>\n",
       "      <td></td>\n",
       "      <td></td>\n",
       "      <td></td>\n",
       "      <td></td>\n",
       "    </tr>\n",
       "    <tr>\n",
       "      <th>1</th>\n",
       "      <td></td>\n",
       "      <td></td>\n",
       "      <td></td>\n",
       "      <td></td>\n",
       "      <td></td>\n",
       "    </tr>\n",
       "    <tr>\n",
       "      <th>2</th>\n",
       "      <td></td>\n",
       "      <td></td>\n",
       "      <td></td>\n",
       "      <td></td>\n",
       "      <td></td>\n",
       "    </tr>\n",
       "    <tr>\n",
       "      <th>3</th>\n",
       "      <td></td>\n",
       "      <td></td>\n",
       "      <td></td>\n",
       "      <td></td>\n",
       "      <td></td>\n",
       "    </tr>\n",
       "    <tr>\n",
       "      <th>4</th>\n",
       "      <td></td>\n",
       "      <td></td>\n",
       "      <td></td>\n",
       "      <td></td>\n",
       "      <td></td>\n",
       "    </tr>\n",
       "    <tr>\n",
       "      <th>5</th>\n",
       "      <td></td>\n",
       "      <td></td>\n",
       "      <td></td>\n",
       "      <td></td>\n",
       "      <td></td>\n",
       "    </tr>\n",
       "    <tr>\n",
       "      <th>6</th>\n",
       "      <td></td>\n",
       "      <td></td>\n",
       "      <td></td>\n",
       "      <td></td>\n",
       "      <td></td>\n",
       "    </tr>\n",
       "    <tr>\n",
       "      <th>7</th>\n",
       "      <td></td>\n",
       "      <td></td>\n",
       "      <td></td>\n",
       "      <td></td>\n",
       "      <td></td>\n",
       "    </tr>\n",
       "    <tr>\n",
       "      <th>8</th>\n",
       "      <td></td>\n",
       "      <td></td>\n",
       "      <td></td>\n",
       "      <td></td>\n",
       "      <td></td>\n",
       "    </tr>\n",
       "    <tr>\n",
       "      <th>9</th>\n",
       "      <td>background-color: red</td>\n",
       "      <td></td>\n",
       "      <td></td>\n",
       "      <td></td>\n",
       "      <td></td>\n",
       "    </tr>\n",
       "  </tbody>\n",
       "</table>\n",
       "</div>"
      ],
      "text/plain": [
       "                       A B C D E\n",
       "0                               \n",
       "1                               \n",
       "2                               \n",
       "3                               \n",
       "4                               \n",
       "5                               \n",
       "6                               \n",
       "7                               \n",
       "8                               \n",
       "9  background-color: red        "
      ]
     },
     "execution_count": 89,
     "metadata": {},
     "output_type": "execute_result"
    }
   ],
   "source": [
    "style_df"
   ]
  },
  {
   "cell_type": "code",
   "execution_count": 124,
   "metadata": {},
   "outputs": [],
   "source": [
    "def highlight_min(data, color='blue'):\n",
    "    '''\n",
    "    highlight the maximum in a Series or DataFrame\n",
    "    '''\n",
    "    attr = 'background-color: {}'.format(color)\n",
    "    if data.ndim == 1:  # Series from .apply(axis=0) or axis=1\n",
    "        is_max = data == data.min()\n",
    "        return [attr if v else '' for v in is_max]\n",
    "    else:  # from .apply(axis=None)\n",
    "        is_min = data == data.min().min()\n",
    "        return pd.DataFrame(np.where(is_min, attr, ''),\n",
    "                            index=data.index, columns=data.columns)"
   ]
  },
  {
   "cell_type": "code",
   "execution_count": 137,
   "metadata": {},
   "outputs": [],
   "source": [
    "df = df.style.apply(highlight_min, color='Aquamarine', axis=1)"
   ]
  },
  {
   "cell_type": "code",
   "execution_count": 138,
   "metadata": {},
   "outputs": [
    {
     "data": {
      "text/html": [
       "<style  type=\"text/css\" >\n",
       "    #T_7c5fc248_2f70_11e9_ba3d_10c37b94ccccrow0_col4 {\n",
       "            background-color:  Aquamarine;\n",
       "        }    #T_7c5fc248_2f70_11e9_ba3d_10c37b94ccccrow1_col2 {\n",
       "            background-color:  Aquamarine;\n",
       "        }    #T_7c5fc248_2f70_11e9_ba3d_10c37b94ccccrow2_col1 {\n",
       "            background-color:  Aquamarine;\n",
       "        }    #T_7c5fc248_2f70_11e9_ba3d_10c37b94ccccrow3_col3 {\n",
       "            background-color:  Aquamarine;\n",
       "        }    #T_7c5fc248_2f70_11e9_ba3d_10c37b94ccccrow4_col3 {\n",
       "            background-color:  Aquamarine;\n",
       "        }    #T_7c5fc248_2f70_11e9_ba3d_10c37b94ccccrow5_col1 {\n",
       "            background-color:  Aquamarine;\n",
       "        }    #T_7c5fc248_2f70_11e9_ba3d_10c37b94ccccrow6_col3 {\n",
       "            background-color:  Aquamarine;\n",
       "        }    #T_7c5fc248_2f70_11e9_ba3d_10c37b94ccccrow7_col3 {\n",
       "            background-color:  Aquamarine;\n",
       "        }    #T_7c5fc248_2f70_11e9_ba3d_10c37b94ccccrow8_col4 {\n",
       "            background-color:  Aquamarine;\n",
       "        }    #T_7c5fc248_2f70_11e9_ba3d_10c37b94ccccrow9_col3 {\n",
       "            background-color:  Aquamarine;\n",
       "        }</style>  \n",
       "<table id=\"T_7c5fc248_2f70_11e9_ba3d_10c37b94cccc\" > \n",
       "<thead>    <tr> \n",
       "        <th class=\"blank level0\" ></th> \n",
       "        <th class=\"col_heading level0 col0\" >A</th> \n",
       "        <th class=\"col_heading level0 col1\" >B</th> \n",
       "        <th class=\"col_heading level0 col2\" >C</th> \n",
       "        <th class=\"col_heading level0 col3\" >D</th> \n",
       "        <th class=\"col_heading level0 col4\" >E</th> \n",
       "    </tr></thead> \n",
       "<tbody>    <tr> \n",
       "        <th id=\"T_7c5fc248_2f70_11e9_ba3d_10c37b94cccclevel0_row0\" class=\"row_heading level0 row0\" >0</th> \n",
       "        <td id=\"T_7c5fc248_2f70_11e9_ba3d_10c37b94ccccrow0_col0\" class=\"data row0 col0\" >1</td> \n",
       "        <td id=\"T_7c5fc248_2f70_11e9_ba3d_10c37b94ccccrow0_col1\" class=\"data row0 col1\" >1.32921</td> \n",
       "        <td id=\"T_7c5fc248_2f70_11e9_ba3d_10c37b94ccccrow0_col2\" class=\"data row0 col2\" >nan</td> \n",
       "        <td id=\"T_7c5fc248_2f70_11e9_ba3d_10c37b94ccccrow0_col3\" class=\"data row0 col3\" >-0.31628</td> \n",
       "        <td id=\"T_7c5fc248_2f70_11e9_ba3d_10c37b94ccccrow0_col4\" class=\"data row0 col4\" >-0.99081</td> \n",
       "    </tr>    <tr> \n",
       "        <th id=\"T_7c5fc248_2f70_11e9_ba3d_10c37b94cccclevel0_row1\" class=\"row_heading level0 row1\" >1</th> \n",
       "        <td id=\"T_7c5fc248_2f70_11e9_ba3d_10c37b94ccccrow1_col0\" class=\"data row1 col0\" >2</td> \n",
       "        <td id=\"T_7c5fc248_2f70_11e9_ba3d_10c37b94ccccrow1_col1\" class=\"data row1 col1\" >-1.07082</td> \n",
       "        <td id=\"T_7c5fc248_2f70_11e9_ba3d_10c37b94ccccrow1_col2\" class=\"data row1 col2\" >-1.43871</td> \n",
       "        <td id=\"T_7c5fc248_2f70_11e9_ba3d_10c37b94ccccrow1_col3\" class=\"data row1 col3\" >0.564417</td> \n",
       "        <td id=\"T_7c5fc248_2f70_11e9_ba3d_10c37b94ccccrow1_col4\" class=\"data row1 col4\" >0.295722</td> \n",
       "    </tr>    <tr> \n",
       "        <th id=\"T_7c5fc248_2f70_11e9_ba3d_10c37b94cccclevel0_row2\" class=\"row_heading level0 row2\" >2</th> \n",
       "        <td id=\"T_7c5fc248_2f70_11e9_ba3d_10c37b94ccccrow2_col0\" class=\"data row2 col0\" >3</td> \n",
       "        <td id=\"T_7c5fc248_2f70_11e9_ba3d_10c37b94ccccrow2_col1\" class=\"data row2 col1\" >-1.6264</td> \n",
       "        <td id=\"T_7c5fc248_2f70_11e9_ba3d_10c37b94ccccrow2_col2\" class=\"data row2 col2\" >0.219565</td> \n",
       "        <td id=\"T_7c5fc248_2f70_11e9_ba3d_10c37b94ccccrow2_col3\" class=\"data row2 col3\" >0.678805</td> \n",
       "        <td id=\"T_7c5fc248_2f70_11e9_ba3d_10c37b94ccccrow2_col4\" class=\"data row2 col4\" >1.88927</td> \n",
       "    </tr>    <tr> \n",
       "        <th id=\"T_7c5fc248_2f70_11e9_ba3d_10c37b94cccclevel0_row3\" class=\"row_heading level0 row3\" >3</th> \n",
       "        <td id=\"T_7c5fc248_2f70_11e9_ba3d_10c37b94ccccrow3_col0\" class=\"data row3 col0\" >4</td> \n",
       "        <td id=\"T_7c5fc248_2f70_11e9_ba3d_10c37b94ccccrow3_col1\" class=\"data row3 col1\" >0.961538</td> \n",
       "        <td id=\"T_7c5fc248_2f70_11e9_ba3d_10c37b94ccccrow3_col2\" class=\"data row3 col2\" >0.104011</td> \n",
       "        <td id=\"T_7c5fc248_2f70_11e9_ba3d_10c37b94ccccrow3_col3\" class=\"data row3 col3\" >-0.481165</td> \n",
       "        <td id=\"T_7c5fc248_2f70_11e9_ba3d_10c37b94ccccrow3_col4\" class=\"data row3 col4\" >0.850229</td> \n",
       "    </tr>    <tr> \n",
       "        <th id=\"T_7c5fc248_2f70_11e9_ba3d_10c37b94cccclevel0_row4\" class=\"row_heading level0 row4\" >4</th> \n",
       "        <td id=\"T_7c5fc248_2f70_11e9_ba3d_10c37b94ccccrow4_col0\" class=\"data row4 col0\" >5</td> \n",
       "        <td id=\"T_7c5fc248_2f70_11e9_ba3d_10c37b94ccccrow4_col1\" class=\"data row4 col1\" >1.45342</td> \n",
       "        <td id=\"T_7c5fc248_2f70_11e9_ba3d_10c37b94ccccrow4_col2\" class=\"data row4 col2\" >1.05774</td> \n",
       "        <td id=\"T_7c5fc248_2f70_11e9_ba3d_10c37b94ccccrow4_col3\" class=\"data row4 col3\" >0.165562</td> \n",
       "        <td id=\"T_7c5fc248_2f70_11e9_ba3d_10c37b94ccccrow4_col4\" class=\"data row4 col4\" >0.515018</td> \n",
       "    </tr>    <tr> \n",
       "        <th id=\"T_7c5fc248_2f70_11e9_ba3d_10c37b94cccclevel0_row5\" class=\"row_heading level0 row5\" >5</th> \n",
       "        <td id=\"T_7c5fc248_2f70_11e9_ba3d_10c37b94ccccrow5_col0\" class=\"data row5 col0\" >6</td> \n",
       "        <td id=\"T_7c5fc248_2f70_11e9_ba3d_10c37b94ccccrow5_col1\" class=\"data row5 col1\" >-1.33694</td> \n",
       "        <td id=\"T_7c5fc248_2f70_11e9_ba3d_10c37b94ccccrow5_col2\" class=\"data row5 col2\" >0.562861</td> \n",
       "        <td id=\"T_7c5fc248_2f70_11e9_ba3d_10c37b94ccccrow5_col3\" class=\"data row5 col3\" >1.39285</td> \n",
       "        <td id=\"T_7c5fc248_2f70_11e9_ba3d_10c37b94ccccrow5_col4\" class=\"data row5 col4\" >-0.063328</td> \n",
       "    </tr>    <tr> \n",
       "        <th id=\"T_7c5fc248_2f70_11e9_ba3d_10c37b94cccclevel0_row6\" class=\"row_heading level0 row6\" >6</th> \n",
       "        <td id=\"T_7c5fc248_2f70_11e9_ba3d_10c37b94ccccrow6_col0\" class=\"data row6 col0\" >7</td> \n",
       "        <td id=\"T_7c5fc248_2f70_11e9_ba3d_10c37b94ccccrow6_col1\" class=\"data row6 col1\" >0.121668</td> \n",
       "        <td id=\"T_7c5fc248_2f70_11e9_ba3d_10c37b94ccccrow6_col2\" class=\"data row6 col2\" >1.2076</td> \n",
       "        <td id=\"T_7c5fc248_2f70_11e9_ba3d_10c37b94ccccrow6_col3\" class=\"data row6 col3\" >-0.00204021</td> \n",
       "        <td id=\"T_7c5fc248_2f70_11e9_ba3d_10c37b94ccccrow6_col4\" class=\"data row6 col4\" >1.6278</td> \n",
       "    </tr>    <tr> \n",
       "        <th id=\"T_7c5fc248_2f70_11e9_ba3d_10c37b94cccclevel0_row7\" class=\"row_heading level0 row7\" >7</th> \n",
       "        <td id=\"T_7c5fc248_2f70_11e9_ba3d_10c37b94ccccrow7_col0\" class=\"data row7 col0\" >8</td> \n",
       "        <td id=\"T_7c5fc248_2f70_11e9_ba3d_10c37b94ccccrow7_col1\" class=\"data row7 col1\" >0.354493</td> \n",
       "        <td id=\"T_7c5fc248_2f70_11e9_ba3d_10c37b94ccccrow7_col2\" class=\"data row7 col2\" >1.03753</td> \n",
       "        <td id=\"T_7c5fc248_2f70_11e9_ba3d_10c37b94ccccrow7_col3\" class=\"data row7 col3\" >-0.385684</td> \n",
       "        <td id=\"T_7c5fc248_2f70_11e9_ba3d_10c37b94ccccrow7_col4\" class=\"data row7 col4\" >0.519818</td> \n",
       "    </tr>    <tr> \n",
       "        <th id=\"T_7c5fc248_2f70_11e9_ba3d_10c37b94cccclevel0_row8\" class=\"row_heading level0 row8\" >8</th> \n",
       "        <td id=\"T_7c5fc248_2f70_11e9_ba3d_10c37b94ccccrow8_col0\" class=\"data row8 col0\" >9</td> \n",
       "        <td id=\"T_7c5fc248_2f70_11e9_ba3d_10c37b94ccccrow8_col1\" class=\"data row8 col1\" >1.68658</td> \n",
       "        <td id=\"T_7c5fc248_2f70_11e9_ba3d_10c37b94ccccrow8_col2\" class=\"data row8 col2\" >-1.32596</td> \n",
       "        <td id=\"T_7c5fc248_2f70_11e9_ba3d_10c37b94ccccrow8_col3\" class=\"data row8 col3\" >1.42898</td> \n",
       "        <td id=\"T_7c5fc248_2f70_11e9_ba3d_10c37b94ccccrow8_col4\" class=\"data row8 col4\" >-2.08935</td> \n",
       "    </tr>    <tr> \n",
       "        <th id=\"T_7c5fc248_2f70_11e9_ba3d_10c37b94cccclevel0_row9\" class=\"row_heading level0 row9\" >9</th> \n",
       "        <td id=\"T_7c5fc248_2f70_11e9_ba3d_10c37b94ccccrow9_col0\" class=\"data row9 col0\" >10</td> \n",
       "        <td id=\"T_7c5fc248_2f70_11e9_ba3d_10c37b94ccccrow9_col1\" class=\"data row9 col1\" >-0.12982</td> \n",
       "        <td id=\"T_7c5fc248_2f70_11e9_ba3d_10c37b94ccccrow9_col2\" class=\"data row9 col2\" >0.631523</td> \n",
       "        <td id=\"T_7c5fc248_2f70_11e9_ba3d_10c37b94ccccrow9_col3\" class=\"data row9 col3\" >-0.586538</td> \n",
       "        <td id=\"T_7c5fc248_2f70_11e9_ba3d_10c37b94ccccrow9_col4\" class=\"data row9 col4\" >0.29072</td> \n",
       "    </tr></tbody> \n",
       "</table> "
      ],
      "text/plain": [
       "<pandas.io.formats.style.Styler at 0x250a1413160>"
      ]
     },
     "execution_count": 138,
     "metadata": {},
     "output_type": "execute_result"
    }
   ],
   "source": [
    "df"
   ]
  },
  {
   "cell_type": "code",
   "execution_count": 167,
   "metadata": {},
   "outputs": [
    {
     "data": {
      "text/html": [
       "<div>\n",
       "<style scoped>\n",
       "    .dataframe tbody tr th:only-of-type {\n",
       "        vertical-align: middle;\n",
       "    }\n",
       "\n",
       "    .dataframe tbody tr th {\n",
       "        vertical-align: top;\n",
       "    }\n",
       "\n",
       "    .dataframe thead th {\n",
       "        text-align: right;\n",
       "    }\n",
       "</style>\n",
       "<table border=\"1\" class=\"dataframe\">\n",
       "  <thead>\n",
       "    <tr style=\"text-align: right;\">\n",
       "      <th></th>\n",
       "      <th>A</th>\n",
       "      <th>B</th>\n",
       "      <th>C</th>\n",
       "      <th>D</th>\n",
       "      <th>E</th>\n",
       "      <th>Min</th>\n",
       "      <th>Max</th>\n",
       "      <th>Arg_Min</th>\n",
       "    </tr>\n",
       "  </thead>\n",
       "  <tbody>\n",
       "    <tr>\n",
       "      <th>0</th>\n",
       "      <td>1.0</td>\n",
       "      <td>1.329212</td>\n",
       "      <td>NaN</td>\n",
       "      <td>-0.316280</td>\n",
       "      <td>-0.990810</td>\n",
       "      <td>-0.990810</td>\n",
       "      <td>1.329212</td>\n",
       "      <td>E</td>\n",
       "    </tr>\n",
       "    <tr>\n",
       "      <th>1</th>\n",
       "      <td>2.0</td>\n",
       "      <td>-1.070816</td>\n",
       "      <td>-1.438713</td>\n",
       "      <td>0.564417</td>\n",
       "      <td>0.295722</td>\n",
       "      <td>-1.438713</td>\n",
       "      <td>2.000000</td>\n",
       "      <td>C</td>\n",
       "    </tr>\n",
       "    <tr>\n",
       "      <th>2</th>\n",
       "      <td>3.0</td>\n",
       "      <td>-1.626404</td>\n",
       "      <td>0.219565</td>\n",
       "      <td>0.678805</td>\n",
       "      <td>1.889273</td>\n",
       "      <td>-1.626404</td>\n",
       "      <td>3.000000</td>\n",
       "      <td>B</td>\n",
       "    </tr>\n",
       "    <tr>\n",
       "      <th>3</th>\n",
       "      <td>4.0</td>\n",
       "      <td>0.961538</td>\n",
       "      <td>0.104011</td>\n",
       "      <td>-0.481165</td>\n",
       "      <td>0.850229</td>\n",
       "      <td>-0.481165</td>\n",
       "      <td>4.000000</td>\n",
       "      <td>D</td>\n",
       "    </tr>\n",
       "    <tr>\n",
       "      <th>4</th>\n",
       "      <td>5.0</td>\n",
       "      <td>1.453425</td>\n",
       "      <td>1.057737</td>\n",
       "      <td>0.165562</td>\n",
       "      <td>0.515018</td>\n",
       "      <td>0.165562</td>\n",
       "      <td>5.000000</td>\n",
       "      <td>D</td>\n",
       "    </tr>\n",
       "    <tr>\n",
       "      <th>5</th>\n",
       "      <td>6.0</td>\n",
       "      <td>-1.336936</td>\n",
       "      <td>0.562861</td>\n",
       "      <td>1.392855</td>\n",
       "      <td>-0.063328</td>\n",
       "      <td>-1.336936</td>\n",
       "      <td>6.000000</td>\n",
       "      <td>B</td>\n",
       "    </tr>\n",
       "    <tr>\n",
       "      <th>6</th>\n",
       "      <td>7.0</td>\n",
       "      <td>0.121668</td>\n",
       "      <td>1.207603</td>\n",
       "      <td>-0.002040</td>\n",
       "      <td>1.627796</td>\n",
       "      <td>-0.002040</td>\n",
       "      <td>7.000000</td>\n",
       "      <td>D</td>\n",
       "    </tr>\n",
       "    <tr>\n",
       "      <th>7</th>\n",
       "      <td>8.0</td>\n",
       "      <td>0.354493</td>\n",
       "      <td>1.037528</td>\n",
       "      <td>-0.385684</td>\n",
       "      <td>0.519818</td>\n",
       "      <td>-0.385684</td>\n",
       "      <td>8.000000</td>\n",
       "      <td>D</td>\n",
       "    </tr>\n",
       "    <tr>\n",
       "      <th>8</th>\n",
       "      <td>9.0</td>\n",
       "      <td>1.686583</td>\n",
       "      <td>-1.325963</td>\n",
       "      <td>1.428984</td>\n",
       "      <td>-2.089354</td>\n",
       "      <td>-2.089354</td>\n",
       "      <td>9.000000</td>\n",
       "      <td>E</td>\n",
       "    </tr>\n",
       "    <tr>\n",
       "      <th>9</th>\n",
       "      <td>10.0</td>\n",
       "      <td>-0.129820</td>\n",
       "      <td>0.631523</td>\n",
       "      <td>-0.586538</td>\n",
       "      <td>0.290720</td>\n",
       "      <td>-0.586538</td>\n",
       "      <td>10.000000</td>\n",
       "      <td>D</td>\n",
       "    </tr>\n",
       "  </tbody>\n",
       "</table>\n",
       "</div>"
      ],
      "text/plain": [
       "      A         B         C         D         E       Min        Max Arg_Min\n",
       "0   1.0  1.329212       NaN -0.316280 -0.990810 -0.990810   1.329212       E\n",
       "1   2.0 -1.070816 -1.438713  0.564417  0.295722 -1.438713   2.000000       C\n",
       "2   3.0 -1.626404  0.219565  0.678805  1.889273 -1.626404   3.000000       B\n",
       "3   4.0  0.961538  0.104011 -0.481165  0.850229 -0.481165   4.000000       D\n",
       "4   5.0  1.453425  1.057737  0.165562  0.515018  0.165562   5.000000       D\n",
       "5   6.0 -1.336936  0.562861  1.392855 -0.063328 -1.336936   6.000000       B\n",
       "6   7.0  0.121668  1.207603 -0.002040  1.627796 -0.002040   7.000000       D\n",
       "7   8.0  0.354493  1.037528 -0.385684  0.519818 -0.385684   8.000000       D\n",
       "8   9.0  1.686583 -1.325963  1.428984 -2.089354 -2.089354   9.000000       E\n",
       "9  10.0 -0.129820  0.631523 -0.586538  0.290720 -0.586538  10.000000       D"
      ]
     },
     "execution_count": 167,
     "metadata": {},
     "output_type": "execute_result"
    }
   ],
   "source": [
    "df"
   ]
  },
  {
   "cell_type": "code",
   "execution_count": 168,
   "metadata": {},
   "outputs": [],
   "source": [
    "class display(object):\n",
    "    \"\"\"Display HTML representation of multiple objects\"\"\"\n",
    "    template = \"\"\"<div style=\"float: left; padding: 10px;\">\n",
    "    <p style='font-family:\"Courier New\", Courier, monospace'>{0}</p>{1}\n",
    "    </div>\"\"\"\n",
    "    def __init__(self, *args):\n",
    "        self.args = args\n",
    "        \n",
    "    def _repr_html_(self):\n",
    "        return '\\n'.join(self.template.format(a, eval(a)._repr_html_())\n",
    "                         for a in self.args)\n",
    "    \n",
    "    def __repr__(self):\n",
    "        return '\\n\\n'.join(a + '\\n' + repr(eval(a))\n",
    "                           for a in self.args)"
   ]
  },
  {
   "cell_type": "code",
   "execution_count": 185,
   "metadata": {},
   "outputs": [
    {
     "data": {
      "text/html": [
       "<div>\n",
       "<style scoped>\n",
       "    .dataframe tbody tr th:only-of-type {\n",
       "        vertical-align: middle;\n",
       "    }\n",
       "\n",
       "    .dataframe tbody tr th {\n",
       "        vertical-align: top;\n",
       "    }\n",
       "\n",
       "    .dataframe thead th {\n",
       "        text-align: right;\n",
       "    }\n",
       "</style>\n",
       "<table border=\"1\" class=\"dataframe\">\n",
       "  <thead>\n",
       "    <tr style=\"text-align: right;\">\n",
       "      <th></th>\n",
       "      <th>A</th>\n",
       "      <th>B</th>\n",
       "      <th>C</th>\n",
       "      <th>D</th>\n",
       "      <th>E</th>\n",
       "    </tr>\n",
       "  </thead>\n",
       "  <tbody>\n",
       "    <tr>\n",
       "      <th>0</th>\n",
       "      <td>1.0</td>\n",
       "      <td>1.329212</td>\n",
       "      <td>NaN</td>\n",
       "      <td>-0.316280</td>\n",
       "      <td>-0.990810</td>\n",
       "    </tr>\n",
       "    <tr>\n",
       "      <th>1</th>\n",
       "      <td>2.0</td>\n",
       "      <td>-1.070816</td>\n",
       "      <td>-1.438713</td>\n",
       "      <td>0.564417</td>\n",
       "      <td>0.295722</td>\n",
       "    </tr>\n",
       "    <tr>\n",
       "      <th>2</th>\n",
       "      <td>3.0</td>\n",
       "      <td>-1.626404</td>\n",
       "      <td>0.219565</td>\n",
       "      <td>0.678805</td>\n",
       "      <td>1.889273</td>\n",
       "    </tr>\n",
       "    <tr>\n",
       "      <th>3</th>\n",
       "      <td>4.0</td>\n",
       "      <td>0.961538</td>\n",
       "      <td>0.104011</td>\n",
       "      <td>-0.481165</td>\n",
       "      <td>0.850229</td>\n",
       "    </tr>\n",
       "    <tr>\n",
       "      <th>4</th>\n",
       "      <td>5.0</td>\n",
       "      <td>1.453425</td>\n",
       "      <td>1.057737</td>\n",
       "      <td>0.165562</td>\n",
       "      <td>0.515018</td>\n",
       "    </tr>\n",
       "    <tr>\n",
       "      <th>5</th>\n",
       "      <td>6.0</td>\n",
       "      <td>-1.336936</td>\n",
       "      <td>0.562861</td>\n",
       "      <td>1.392855</td>\n",
       "      <td>-0.063328</td>\n",
       "    </tr>\n",
       "    <tr>\n",
       "      <th>6</th>\n",
       "      <td>7.0</td>\n",
       "      <td>0.121668</td>\n",
       "      <td>1.207603</td>\n",
       "      <td>-0.002040</td>\n",
       "      <td>1.627796</td>\n",
       "    </tr>\n",
       "    <tr>\n",
       "      <th>7</th>\n",
       "      <td>8.0</td>\n",
       "      <td>0.354493</td>\n",
       "      <td>1.037528</td>\n",
       "      <td>-0.385684</td>\n",
       "      <td>0.519818</td>\n",
       "    </tr>\n",
       "    <tr>\n",
       "      <th>8</th>\n",
       "      <td>9.0</td>\n",
       "      <td>1.686583</td>\n",
       "      <td>-1.325963</td>\n",
       "      <td>1.428984</td>\n",
       "      <td>-2.089354</td>\n",
       "    </tr>\n",
       "    <tr>\n",
       "      <th>9</th>\n",
       "      <td>10.0</td>\n",
       "      <td>-0.129820</td>\n",
       "      <td>0.631523</td>\n",
       "      <td>-0.586538</td>\n",
       "      <td>0.290720</td>\n",
       "    </tr>\n",
       "  </tbody>\n",
       "</table>\n",
       "</div>"
      ],
      "text/plain": [
       "      A         B         C         D         E\n",
       "0   1.0  1.329212       NaN -0.316280 -0.990810\n",
       "1   2.0 -1.070816 -1.438713  0.564417  0.295722\n",
       "2   3.0 -1.626404  0.219565  0.678805  1.889273\n",
       "3   4.0  0.961538  0.104011 -0.481165  0.850229\n",
       "4   5.0  1.453425  1.057737  0.165562  0.515018\n",
       "5   6.0 -1.336936  0.562861  1.392855 -0.063328\n",
       "6   7.0  0.121668  1.207603 -0.002040  1.627796\n",
       "7   8.0  0.354493  1.037528 -0.385684  0.519818\n",
       "8   9.0  1.686583 -1.325963  1.428984 -2.089354\n",
       "9  10.0 -0.129820  0.631523 -0.586538  0.290720"
      ]
     },
     "execution_count": 185,
     "metadata": {},
     "output_type": "execute_result"
    }
   ],
   "source": [
    "df"
   ]
  },
  {
   "cell_type": "code",
   "execution_count": 192,
   "metadata": {},
   "outputs": [
    {
     "data": {
      "text/html": [
       "<div>\n",
       "<style scoped>\n",
       "    .dataframe tbody tr th:only-of-type {\n",
       "        vertical-align: middle;\n",
       "    }\n",
       "\n",
       "    .dataframe tbody tr th {\n",
       "        vertical-align: top;\n",
       "    }\n",
       "\n",
       "    .dataframe thead th {\n",
       "        text-align: right;\n",
       "    }\n",
       "</style>\n",
       "<table border=\"1\" class=\"dataframe\">\n",
       "  <thead>\n",
       "    <tr style=\"text-align: right;\">\n",
       "      <th></th>\n",
       "      <th>A</th>\n",
       "      <th>B</th>\n",
       "      <th>C</th>\n",
       "      <th>D</th>\n",
       "      <th>E</th>\n",
       "      <th>Arg_Max</th>\n",
       "    </tr>\n",
       "  </thead>\n",
       "  <tbody>\n",
       "    <tr>\n",
       "      <th>0</th>\n",
       "      <td>1.0</td>\n",
       "      <td>1.329212</td>\n",
       "      <td>NaN</td>\n",
       "      <td>-0.316280</td>\n",
       "      <td>-0.990810</td>\n",
       "      <td>B</td>\n",
       "    </tr>\n",
       "    <tr>\n",
       "      <th>1</th>\n",
       "      <td>2.0</td>\n",
       "      <td>-1.070816</td>\n",
       "      <td>-1.438713</td>\n",
       "      <td>0.564417</td>\n",
       "      <td>0.295722</td>\n",
       "      <td>A</td>\n",
       "    </tr>\n",
       "    <tr>\n",
       "      <th>2</th>\n",
       "      <td>3.0</td>\n",
       "      <td>-1.626404</td>\n",
       "      <td>0.219565</td>\n",
       "      <td>0.678805</td>\n",
       "      <td>1.889273</td>\n",
       "      <td>A</td>\n",
       "    </tr>\n",
       "    <tr>\n",
       "      <th>3</th>\n",
       "      <td>4.0</td>\n",
       "      <td>0.961538</td>\n",
       "      <td>0.104011</td>\n",
       "      <td>-0.481165</td>\n",
       "      <td>0.850229</td>\n",
       "      <td>A</td>\n",
       "    </tr>\n",
       "    <tr>\n",
       "      <th>4</th>\n",
       "      <td>5.0</td>\n",
       "      <td>1.453425</td>\n",
       "      <td>1.057737</td>\n",
       "      <td>0.165562</td>\n",
       "      <td>0.515018</td>\n",
       "      <td>A</td>\n",
       "    </tr>\n",
       "  </tbody>\n",
       "</table>\n",
       "</div>"
      ],
      "text/plain": [
       "     A         B         C         D         E Arg_Max\n",
       "0  1.0  1.329212       NaN -0.316280 -0.990810       B\n",
       "1  2.0 -1.070816 -1.438713  0.564417  0.295722       A\n",
       "2  3.0 -1.626404  0.219565  0.678805  1.889273       A\n",
       "3  4.0  0.961538  0.104011 -0.481165  0.850229       A\n",
       "4  5.0  1.453425  1.057737  0.165562  0.515018       A"
      ]
     },
     "execution_count": 192,
     "metadata": {},
     "output_type": "execute_result"
    }
   ],
   "source": [
    "df['Arg_Max'] = df.idxmax(axis=1, skipna=True)\n",
    "df.head()"
   ]
  },
  {
   "cell_type": "code",
   "execution_count": 206,
   "metadata": {},
   "outputs": [],
   "source": [
    "df = df.iloc[:,:-1]"
   ]
  },
  {
   "cell_type": "code",
   "execution_count": 209,
   "metadata": {},
   "outputs": [],
   "source": [
    "arg_min = df.idxmin(axis=1, skipna=True)\n",
    "arg_max = df.idxmax(axis=1, skipna=True)"
   ]
  },
  {
   "cell_type": "code",
   "execution_count": 210,
   "metadata": {},
   "outputs": [
    {
     "data": {
      "text/html": [
       "<div>\n",
       "<style scoped>\n",
       "    .dataframe tbody tr th:only-of-type {\n",
       "        vertical-align: middle;\n",
       "    }\n",
       "\n",
       "    .dataframe tbody tr th {\n",
       "        vertical-align: top;\n",
       "    }\n",
       "\n",
       "    .dataframe thead th {\n",
       "        text-align: right;\n",
       "    }\n",
       "</style>\n",
       "<table border=\"1\" class=\"dataframe\">\n",
       "  <thead>\n",
       "    <tr style=\"text-align: right;\">\n",
       "      <th></th>\n",
       "      <th>A</th>\n",
       "      <th>B</th>\n",
       "      <th>C</th>\n",
       "      <th>D</th>\n",
       "      <th>E</th>\n",
       "      <th>Arg_Min</th>\n",
       "    </tr>\n",
       "  </thead>\n",
       "  <tbody>\n",
       "    <tr>\n",
       "      <th>0</th>\n",
       "      <td>1.0</td>\n",
       "      <td>1.329212</td>\n",
       "      <td>NaN</td>\n",
       "      <td>-0.316280</td>\n",
       "      <td>-0.990810</td>\n",
       "      <td>E</td>\n",
       "    </tr>\n",
       "    <tr>\n",
       "      <th>1</th>\n",
       "      <td>2.0</td>\n",
       "      <td>-1.070816</td>\n",
       "      <td>-1.438713</td>\n",
       "      <td>0.564417</td>\n",
       "      <td>0.295722</td>\n",
       "      <td>C</td>\n",
       "    </tr>\n",
       "    <tr>\n",
       "      <th>2</th>\n",
       "      <td>3.0</td>\n",
       "      <td>-1.626404</td>\n",
       "      <td>0.219565</td>\n",
       "      <td>0.678805</td>\n",
       "      <td>1.889273</td>\n",
       "      <td>B</td>\n",
       "    </tr>\n",
       "    <tr>\n",
       "      <th>3</th>\n",
       "      <td>4.0</td>\n",
       "      <td>0.961538</td>\n",
       "      <td>0.104011</td>\n",
       "      <td>-0.481165</td>\n",
       "      <td>0.850229</td>\n",
       "      <td>D</td>\n",
       "    </tr>\n",
       "    <tr>\n",
       "      <th>4</th>\n",
       "      <td>5.0</td>\n",
       "      <td>1.453425</td>\n",
       "      <td>1.057737</td>\n",
       "      <td>0.165562</td>\n",
       "      <td>0.515018</td>\n",
       "      <td>D</td>\n",
       "    </tr>\n",
       "  </tbody>\n",
       "</table>\n",
       "</div>"
      ],
      "text/plain": [
       "     A         B         C         D         E Arg_Min\n",
       "0  1.0  1.329212       NaN -0.316280 -0.990810       E\n",
       "1  2.0 -1.070816 -1.438713  0.564417  0.295722       C\n",
       "2  3.0 -1.626404  0.219565  0.678805  1.889273       B\n",
       "3  4.0  0.961538  0.104011 -0.481165  0.850229       D\n",
       "4  5.0  1.453425  1.057737  0.165562  0.515018       D"
      ]
     },
     "execution_count": 210,
     "metadata": {},
     "output_type": "execute_result"
    }
   ],
   "source": [
    "df['Arg_Min'] = arg_min\n",
    "df.head()"
   ]
  },
  {
   "cell_type": "code",
   "execution_count": 213,
   "metadata": {},
   "outputs": [
    {
     "data": {
      "text/plain": [
       "A                 1\n",
       "B           -1.6264\n",
       "C          -1.43871\n",
       "D         -0.586538\n",
       "E          -2.08935\n",
       "Arg_Min           B\n",
       "dtype: object"
      ]
     },
     "execution_count": 213,
     "metadata": {},
     "output_type": "execute_result"
    }
   ],
   "source": [
    "df.min(axis='rows', skipna=True)"
   ]
  },
  {
   "cell_type": "code",
   "execution_count": 216,
   "metadata": {},
   "outputs": [],
   "source": [
    "df = df.iloc[:,:-1]"
   ]
  },
  {
   "cell_type": "code",
   "execution_count": 218,
   "metadata": {},
   "outputs": [
    {
     "data": {
      "text/plain": [
       "A    0\n",
       "B    2\n",
       "C    1\n",
       "D    9\n",
       "E    8\n",
       "dtype: int64"
      ]
     },
     "execution_count": 218,
     "metadata": {},
     "output_type": "execute_result"
    }
   ],
   "source": [
    "df.idxmin(axis=0, skipna=True)"
   ]
  },
  {
   "cell_type": "code",
   "execution_count": 3,
   "metadata": {},
   "outputs": [],
   "source": [
    "def say_hello(name):\n",
    "    return f\"Hello {name}\"\n",
    "\n",
    "def be_awesome(name):\n",
    "    return f\"Yo {name}, together we are the awesomest!\"\n",
    "\n",
    "def greet_bob(greeter_func):\n",
    "    return greeter_func(\"Bob\")"
   ]
  },
  {
   "cell_type": "code",
   "execution_count": 4,
   "metadata": {},
   "outputs": [],
   "source": [
    "def parent():\n",
    "    print(\"Printing from the parent() function\")\n",
    "\n",
    "    def first_child():\n",
    "        print(\"Printing from the first_child() function\")\n",
    "\n",
    "    def second_child():\n",
    "        print(\"Printing from the second_child() function\")\n",
    "\n",
    "    second_child()\n",
    "    first_child()"
   ]
  },
  {
   "cell_type": "code",
   "execution_count": 5,
   "metadata": {},
   "outputs": [
    {
     "name": "stdout",
     "output_type": "stream",
     "text": [
      "Printing from the parent() function\n",
      "Printing from the second_child() function\n",
      "Printing from the first_child() function\n"
     ]
    }
   ],
   "source": [
    "parent()"
   ]
  },
  {
   "cell_type": "code",
   "execution_count": 6,
   "metadata": {},
   "outputs": [],
   "source": [
    "def parent(num):\n",
    "    def first_child():\n",
    "        return \"Hi, I am Emma\"\n",
    "\n",
    "    def second_child():\n",
    "        return \"Call me Liam\"\n",
    "\n",
    "    if num == 1:\n",
    "        return first_child\n",
    "    else:\n",
    "        return second_child"
   ]
  },
  {
   "cell_type": "code",
   "execution_count": 11,
   "metadata": {},
   "outputs": [
    {
     "data": {
      "text/plain": [
       "'Hi, I am Emma'"
      ]
     },
     "execution_count": 11,
     "metadata": {},
     "output_type": "execute_result"
    }
   ],
   "source": [
    "first = parent(1)\n",
    "first()"
   ]
  },
  {
   "cell_type": "code",
   "execution_count": 12,
   "metadata": {},
   "outputs": [],
   "source": [
    "def my_decorator(func):\n",
    "    def wrapper():\n",
    "        print(\"Something is happening before the function is called.\")\n",
    "        func()\n",
    "        print(\"Something is happening after the function is called.\")\n",
    "    return wrapper\n",
    "\n",
    "def say_whee():\n",
    "    print(\"Whee!\")\n",
    "\n",
    "say_whee = my_decorator(say_whee)"
   ]
  },
  {
   "cell_type": "code",
   "execution_count": 14,
   "metadata": {},
   "outputs": [
    {
     "name": "stdout",
     "output_type": "stream",
     "text": [
      "Something is happening before the function is called.\n",
      "Whee!\n",
      "Something is happening after the function is called.\n"
     ]
    }
   ],
   "source": [
    "say_whee()"
   ]
  },
  {
   "cell_type": "code",
   "execution_count": 18,
   "metadata": {},
   "outputs": [
    {
     "name": "stdout",
     "output_type": "stream",
     "text": [
      "Whee!\n"
     ]
    }
   ],
   "source": [
    "from datetime import datetime\n",
    "\n",
    "def not_during_the_night(func):\n",
    "    def wrapper():\n",
    "        if 7 <= datetime.now().hour < 22:\n",
    "            func()\n",
    "        else:\n",
    "            pass  # Hush, the neighbors are asleep\n",
    "    return wrapper\n",
    "\n",
    "def say_whee():\n",
    "    print(\"Whee!\")\n",
    "\n",
    "say_whee = not_during_the_night(say_whee)\n",
    "say_whee()"
   ]
  },
  {
   "cell_type": "code",
   "execution_count": 19,
   "metadata": {},
   "outputs": [],
   "source": [
    "def my_decorator(func):\n",
    "    def wrapper():\n",
    "        print(\"Something is happening before the function is called.\")\n",
    "        func()\n",
    "        print(\"Something is happening after the function is called.\")\n",
    "    return wrapper\n",
    "\n",
    "@my_decorator\n",
    "def say_whee():\n",
    "    print(\"Whee!\")"
   ]
  },
  {
   "cell_type": "code",
   "execution_count": 22,
   "metadata": {},
   "outputs": [],
   "source": [
    "def do_twice(func):\n",
    "    def wrapper_do_twice():\n",
    "        func()\n",
    "        func()\n",
    "    return wrapper_do_twice"
   ]
  },
  {
   "cell_type": "code",
   "execution_count": 23,
   "metadata": {},
   "outputs": [],
   "source": [
    "@do_twice\n",
    "def say_whee():\n",
    "    print(\"Whee!\")"
   ]
  },
  {
   "cell_type": "code",
   "execution_count": 24,
   "metadata": {},
   "outputs": [
    {
     "name": "stdout",
     "output_type": "stream",
     "text": [
      "Whee!\n",
      "Whee!\n"
     ]
    }
   ],
   "source": [
    "say_whee()"
   ]
  },
  {
   "cell_type": "code",
   "execution_count": 41,
   "metadata": {},
   "outputs": [],
   "source": [
    "# from decorators import do_twice\n",
    "@do_twice\n",
    "def greet(name):\n",
    "    print(name)\n",
    "    return print(f\"Hello {name}\")"
   ]
  },
  {
   "cell_type": "code",
   "execution_count": 42,
   "metadata": {},
   "outputs": [],
   "source": [
    "def do_twice(func):\n",
    "    def wrapper_do_twice(*args, **kwargs):\n",
    "        func(*args, **kwargs)\n",
    "        func(*args, **kwargs)\n",
    "    return wrapper_do_twice"
   ]
  },
  {
   "cell_type": "code",
   "execution_count": 43,
   "metadata": {},
   "outputs": [
    {
     "name": "stdout",
     "output_type": "stream",
     "text": [
      "Upendra\n",
      "Hello Upendra\n",
      "Upendra\n",
      "Hello Upendra\n"
     ]
    }
   ],
   "source": [
    "greet('Upendra')"
   ]
  },
  {
   "cell_type": "code",
   "execution_count": 38,
   "metadata": {},
   "outputs": [],
   "source": [
    "def do_twice(func):\n",
    "    def wrapper_do_twice(*args, **kwargs):\n",
    "        func(*args, **kwargs)\n",
    "        return func(*args, **kwargs)\n",
    "    return wrapper_do_twice"
   ]
  },
  {
   "cell_type": "code",
   "execution_count": 39,
   "metadata": {},
   "outputs": [],
   "source": [
    "@do_twice\n",
    "def return_greeting(name):\n",
    "    print(\"Creating greeting\")\n",
    "    return f\"Hi {name}\""
   ]
  },
  {
   "cell_type": "code",
   "execution_count": 40,
   "metadata": {},
   "outputs": [
    {
     "name": "stdout",
     "output_type": "stream",
     "text": [
      "Creating greeting\n",
      "Creating greeting\n"
     ]
    },
    {
     "data": {
      "text/plain": [
       "'Hi Adam'"
      ]
     },
     "execution_count": 40,
     "metadata": {},
     "output_type": "execute_result"
    }
   ],
   "source": [
    "return_greeting(\"Adam\")"
   ]
  },
  {
   "cell_type": "code",
   "execution_count": 44,
   "metadata": {},
   "outputs": [
    {
     "name": "stdout",
     "output_type": "stream",
     "text": [
      " Volume in drive C has no label.\n",
      " Volume Serial Number is B2DE-31EF\n",
      "\n",
      " Directory of C:\\ALL_DATA\\URGummitha\\Desktop\\github\n",
      "\n",
      "26/02/2019  17:22    <DIR>          .\n",
      "26/02/2019  17:22    <DIR>          ..\n",
      "25/02/2019  17:33    <DIR>          .ipynb_checkpoints\n",
      "11/02/2019  15:30            34,496 Beam_Stresses_Manual_Calculation_Extraction_Script_v1.ipynb\n",
      "23/01/2019  15:37            33,695 Beam_Stresses_Manual_Calculation_Extraction_Script_v1-checkpoint.ipynb\n",
      "04/02/2019  18:08            29,882 Cbeam_Cbar_Stress_Calculations_Script.ipynb\n",
      "22/01/2019  08:53            40,994 Cbeam_Cbar_Stress_Calculations_Script-checkpoint.ipynb\n",
      "22/02/2019  17:56            31,116 Cbush_Forces_Extraction_Script.ipynb\n",
      "30/01/2019  18:42            42,382 Cbush_Forces_Extraction_Script-checkpoint.ipynb\n",
      "26/02/2019  10:31            18,540 Cbush_Forces_Extraction_Using_HDF5.ipynb\n",
      "04/02/2019  17:18    <DIR>          h5_input\n",
      "24/01/2019  15:50            45,694 OP2_Loads_Extraction_Script_v1.1.ipynb\n",
      "24/01/2019  15:50            45,694 OP2_Loads_Extraction_Script_v1.1-checkpoint.ipynb\n",
      "24/01/2019  14:41            20,812 OP2_Loads_Extraction_Script_v1.ipynb\n",
      "24/01/2019  14:41            20,812 OP2_Loads_Extraction_Script_v1-checkpoint.ipynb\n",
      "04/02/2019  17:38    <DIR>          OP2s\n",
      "04/02/2019  18:06            19,472 Practice on HDF5.ipynb\n",
      "22/08/2018  09:39                72 practice pandas-checkpoint.ipynb\n",
      "19/11/2018  11:04            50,213 PRE & POST OP2 Exccedence Study.ipynb\n",
      "22/08/2018  15:45            63,849 PRE & POST OP2 Exccedence Study_UR.ipynb\n",
      "22/08/2018  15:45            63,849 PRE & POST OP2 Exccedence Study_UR-checkpoint.ipynb\n",
      "19/11/2018  11:04            50,213 PRE & POST OP2 Exccedence Study-checkpoint.ipynb\n",
      "24/01/2019  13:17            22,496 pynastran practice file.ipynb\n",
      "26/02/2019  17:22           117,104 Untitled1.ipynb\n",
      "25/10/2018  16:05            30,157 Untitled-checkpoint.ipynb\n",
      "26/02/2019  09:00           412,075 Upendra BRITISH PASSPORT.pdf\n",
      "              21 File(s)      1,193,617 bytes\n",
      "               5 Dir(s)  632,258,625,536 bytes free\n"
     ]
    }
   ],
   "source": [
    "ls"
   ]
  },
  {
   "cell_type": "code",
   "execution_count": 54,
   "metadata": {},
   "outputs": [
    {
     "name": "stdout",
     "output_type": "stream",
     "text": [
      "C:\\ALL_DATA\\URGummitha\\Desktop\\github\n"
     ]
    }
   ],
   "source": [
    "%cd C:\\ALL_DATA\\URGummitha\\Desktop\\github"
   ]
  },
  {
   "cell_type": "code",
   "execution_count": 1,
   "metadata": {},
   "outputs": [],
   "source": [
    "import numpy as np\n",
    "import matplotlib.pyplot as plt\n",
    "from matplotlib.collections import LineCollection\n",
    "\n",
    "from sklearn.linear_model import LinearRegression\n",
    "from sklearn.isotonic import IsotonicRegression\n",
    "from sklearn.utils import check_random_state\n",
    "\n",
    "n = 100\n",
    "x = np.arange(n)\n",
    "\n",
    "rs = check_random_state(0)\n"
   ]
  },
  {
   "cell_type": "code",
   "execution_count": 2,
   "metadata": {},
   "outputs": [],
   "source": [
    "y = rs.randint(-50, 50, size=(n,)) + 50. * np.log1p(np.arange(n))"
   ]
  },
  {
   "cell_type": "code",
   "execution_count": 3,
   "metadata": {},
   "outputs": [
    {
     "data": {
      "text/plain": [
       "(100,)"
      ]
     },
     "execution_count": 3,
     "metadata": {},
     "output_type": "execute_result"
    }
   ],
   "source": [
    "y.shape"
   ]
  },
  {
   "cell_type": "code",
   "execution_count": 4,
   "metadata": {},
   "outputs": [
    {
     "data": {
      "text/plain": [
       "(100,)"
      ]
     },
     "execution_count": 4,
     "metadata": {},
     "output_type": "execute_result"
    }
   ],
   "source": [
    "x.shape"
   ]
  },
  {
   "cell_type": "code",
   "execution_count": 5,
   "metadata": {},
   "outputs": [],
   "source": [
    "ir = IsotonicRegression()"
   ]
  },
  {
   "cell_type": "code",
   "execution_count": 6,
   "metadata": {},
   "outputs": [],
   "source": [
    "y_  = ir.fit_transform(x,y)"
   ]
  },
  {
   "cell_type": "code",
   "execution_count": 7,
   "metadata": {},
   "outputs": [
    {
     "data": {
      "text/plain": [
       "LinearRegression(copy_X=True, fit_intercept=True, n_jobs=1, normalize=False)"
      ]
     },
     "execution_count": 7,
     "metadata": {},
     "output_type": "execute_result"
    }
   ],
   "source": [
    "lr = LinearRegression()\n",
    "lr.fit(x[:, np.newaxis], y)"
   ]
  },
  {
   "cell_type": "code",
   "execution_count": 8,
   "metadata": {},
   "outputs": [],
   "source": [
    "segments = [ [[i, y[i]], [i, y_[i]]] for i in range(n)]"
   ]
  },
  {
   "cell_type": "code",
   "execution_count": 9,
   "metadata": {},
   "outputs": [],
   "source": [
    "lc = LineCollection(segments, zorder=0)"
   ]
  },
  {
   "cell_type": "code",
   "execution_count": 10,
   "metadata": {},
   "outputs": [],
   "source": [
    "lc.set_array(np.ones(len(y)))"
   ]
  },
  {
   "cell_type": "code",
   "execution_count": 11,
   "metadata": {},
   "outputs": [],
   "source": [
    "lc.set_linewidths(np.full(n, 0.5))"
   ]
  },
  {
   "cell_type": "code",
   "execution_count": 12,
   "metadata": {},
   "outputs": [],
   "source": [
    "%matplotlib inline"
   ]
  },
  {
   "cell_type": "code",
   "execution_count": 13,
   "metadata": {},
   "outputs": [
    {
     "data": {
      "text/plain": [
       "<Figure size 432x288 with 0 Axes>"
      ]
     },
     "metadata": {},
     "output_type": "display_data"
    }
   ],
   "source": [
    "fig = plt.figure()"
   ]
  },
  {
   "cell_type": "code",
   "execution_count": 15,
   "metadata": {},
   "outputs": [
    {
     "data": {
      "image/png": "[encoded data removed]",
      "text/plain": [
       "<Figure size 432x288 with 1 Axes>"
      ]
     },
     "metadata": {},
     "output_type": "display_data"
    }
   ],
   "source": [
    "plt.plot(x,y,'r.', markersize=12)\n",
    "plt.plot(x,y_,'g.-', markersize=12)\n",
    "plt.plot(x,lr.predict(x[:, np.newaxis]), 'b-')\n",
    "plt.gca().add_collection(lc)\n",
    "plt.legend(('Data', 'Isotonic Fit', 'Linear Fit'), loc='lower right')\n",
    "plt.title('Isotonic Regression')\n",
    "plt.show()"
   ]
  },
  {
   "cell_type": "code",
   "execution_count": 16,
   "metadata": {},
   "outputs": [
    {
     "data": {
      "text/plain": [
       "2.3978952727983707"
      ]
     },
     "execution_count": 16,
     "metadata": {},
     "output_type": "execute_result"
    }
   ],
   "source": [
    "np.log1p(10)"
   ]
  },
  {
   "cell_type": "code",
   "execution_count": 30,
   "metadata": {},
   "outputs": [
    {
     "name": "stderr",
     "output_type": "stream",
     "text": [
      "C:\\ProgramData\\Anaconda3\\lib\\site-packages\\ipykernel_launcher.py:2: RuntimeWarning: invalid value encountered in log\n",
      "  \n",
      "C:\\ProgramData\\Anaconda3\\lib\\site-packages\\ipykernel_launcher.py:3: RuntimeWarning: invalid value encountered in log10\n",
      "  This is separate from the ipykernel package so we can avoid doing imports until\n",
      "C:\\ProgramData\\Anaconda3\\lib\\site-packages\\ipykernel_launcher.py:4: RuntimeWarning: invalid value encountered in log1p\n",
      "  after removing the cwd from sys.path.\n",
      "C:\\ProgramData\\Anaconda3\\lib\\site-packages\\ipykernel_launcher.py:5: RuntimeWarning: invalid value encountered in log2\n",
      "  \"\"\"\n"
     ]
    }
   ],
   "source": [
    "x = np.arange(-10,10,0.1)\n",
    "y_log = np.log(x)\n",
    "y_log10 = np.log10(x)\n",
    "y_log1p = np.log1p(x)\n",
    "y_log2 = np.log2(x)"
   ]
  },
  {
   "cell_type": "code",
   "execution_count": 31,
   "metadata": {},
   "outputs": [
    {
     "name": "stdout",
     "output_type": "stream",
     "text": [
      "(200,)\n",
      "(200,)\n",
      "(200,)\n",
      "(200,)\n"
     ]
    }
   ],
   "source": [
    "print(y_log.shape)\n",
    "print(y_log10.shape)\n",
    "print(y_log1p.shape)\n",
    "print(y_log2.shape)"
   ]
  },
  {
   "cell_type": "code",
   "execution_count": 33,
   "metadata": {},
   "outputs": [
    {
     "data": {
      "text/plain": [
       "<matplotlib.legend.Legend at 0x12b5541d908>"
      ]
     },
     "execution_count": 33,
     "metadata": {},
     "output_type": "execute_result"
    },
    {
     "data": {
      "image/png": "[encoded data removed]",
      "text/plain": [
       "<Figure size 432x288 with 1 Axes>"
      ]
     },
     "metadata": {},
     "output_type": "display_data"
    }
   ],
   "source": [
    "fig = plt.figure()\n",
    "plt.plot(x,y_log,'r.', markersize=12)\n",
    "plt.plot(x,y_log10,'g.-', markersize=12)\n",
    "plt.plot(x,y_log1p,'b.', markersize=12)\n",
    "plt.plot(x,y_log2,'y.-', markersize=12)\n",
    "# plt.plot(x,x,'c.-', markersize=12)\n",
    "plt.legend(('log', 'log10', 'log1p', 'log2'), loc='lower right')"
   ]
  },
  {
   "cell_type": "code",
   "execution_count": 36,
   "metadata": {},
   "outputs": [
    {
     "data": {
      "text/plain": [
       "(200,)"
      ]
     },
     "execution_count": 36,
     "metadata": {},
     "output_type": "execute_result"
    }
   ],
   "source": [
    "x.shape"
   ]
  },
  {
   "cell_type": "code",
   "execution_count": 37,
   "metadata": {},
   "outputs": [],
   "source": [
    "x = x.flatten()"
   ]
  },
  {
   "cell_type": "code",
   "execution_count": 40,
   "metadata": {},
   "outputs": [],
   "source": [
    "import pandas as pd"
   ]
  },
  {
   "cell_type": "code",
   "execution_count": 41,
   "metadata": {},
   "outputs": [],
   "source": [
    "ser = pd.Series(x)"
   ]
  },
  {
   "cell_type": "code",
   "execution_count": 44,
   "metadata": {},
   "outputs": [],
   "source": [
    "df = pd.DataFrame(ser, columns=['x'])"
   ]
  },
  {
   "cell_type": "code",
   "execution_count": 46,
   "metadata": {},
   "outputs": [],
   "source": [
    "df['log'] = df.x.apply(np.log)"
   ]
  },
  {
   "cell_type": "code",
   "execution_count": 48,
   "metadata": {},
   "outputs": [
    {
     "data": {
      "text/html": [
       "<div>\n",
       "<style scoped>\n",
       "    .dataframe tbody tr th:only-of-type {\n",
       "        vertical-align: middle;\n",
       "    }\n",
       "\n",
       "    .dataframe tbody tr th {\n",
       "        vertical-align: top;\n",
       "    }\n",
       "\n",
       "    .dataframe thead th {\n",
       "        text-align: right;\n",
       "    }\n",
       "</style>\n",
       "<table border=\"1\" class=\"dataframe\">\n",
       "  <thead>\n",
       "    <tr style=\"text-align: right;\">\n",
       "      <th></th>\n",
       "      <th>x</th>\n",
       "      <th>log</th>\n",
       "      <th>log10</th>\n",
       "      <th>log1p</th>\n",
       "      <th>log2</th>\n",
       "    </tr>\n",
       "  </thead>\n",
       "  <tbody>\n",
       "    <tr>\n",
       "      <th>0</th>\n",
       "      <td>-10.0</td>\n",
       "      <td>NaN</td>\n",
       "      <td>NaN</td>\n",
       "      <td>NaN</td>\n",
       "      <td>NaN</td>\n",
       "    </tr>\n",
       "    <tr>\n",
       "      <th>1</th>\n",
       "      <td>-9.9</td>\n",
       "      <td>NaN</td>\n",
       "      <td>NaN</td>\n",
       "      <td>NaN</td>\n",
       "      <td>NaN</td>\n",
       "    </tr>\n",
       "    <tr>\n",
       "      <th>2</th>\n",
       "      <td>-9.8</td>\n",
       "      <td>NaN</td>\n",
       "      <td>NaN</td>\n",
       "      <td>NaN</td>\n",
       "      <td>NaN</td>\n",
       "    </tr>\n",
       "    <tr>\n",
       "      <th>3</th>\n",
       "      <td>-9.7</td>\n",
       "      <td>NaN</td>\n",
       "      <td>NaN</td>\n",
       "      <td>NaN</td>\n",
       "      <td>NaN</td>\n",
       "    </tr>\n",
       "    <tr>\n",
       "      <th>4</th>\n",
       "      <td>-9.6</td>\n",
       "      <td>NaN</td>\n",
       "      <td>NaN</td>\n",
       "      <td>NaN</td>\n",
       "      <td>NaN</td>\n",
       "    </tr>\n",
       "  </tbody>\n",
       "</table>\n",
       "</div>"
      ],
      "text/plain": [
       "      x  log  log10  log1p  log2\n",
       "0 -10.0  NaN    NaN    NaN   NaN\n",
       "1  -9.9  NaN    NaN    NaN   NaN\n",
       "2  -9.8  NaN    NaN    NaN   NaN\n",
       "3  -9.7  NaN    NaN    NaN   NaN\n",
       "4  -9.6  NaN    NaN    NaN   NaN"
      ]
     },
     "execution_count": 48,
     "metadata": {},
     "output_type": "execute_result"
    }
   ],
   "source": [
    "df['log10'] = df.x.apply(np.log10)\n",
    "df['log1p'] = df.x.apply(np.log1p)\n",
    "df['log2'] = df.x.apply(np.log2)\n",
    "df.head()"
   ]
  },
  {
   "cell_type": "code",
   "execution_count": 49,
   "metadata": {},
   "outputs": [
    {
     "data": {
      "text/plain": [
       "<matplotlib.axes._subplots.AxesSubplot at 0x12b55b22e80>"
      ]
     },
     "execution_count": 49,
     "metadata": {},
     "output_type": "execute_result"
    },
    {
     "data": {
      "image/png": "[encoded data removed]",
      "text/plain": [
       "<Figure size 432x288 with 1 Axes>"
      ]
     },
     "metadata": {},
     "output_type": "display_data"
    }
   ],
   "source": [
    "df.plot()"
   ]
  },
  {
   "cell_type": "code",
   "execution_count": 50,
   "metadata": {},
   "outputs": [
    {
     "data": {
      "text/html": [
       "<div>\n",
       "<style scoped>\n",
       "    .dataframe tbody tr th:only-of-type {\n",
       "        vertical-align: middle;\n",
       "    }\n",
       "\n",
       "    .dataframe tbody tr th {\n",
       "        vertical-align: top;\n",
       "    }\n",
       "\n",
       "    .dataframe thead th {\n",
       "        text-align: right;\n",
       "    }\n",
       "</style>\n",
       "<table border=\"1\" class=\"dataframe\">\n",
       "  <thead>\n",
       "    <tr style=\"text-align: right;\">\n",
       "      <th></th>\n",
       "      <th>x</th>\n",
       "      <th>y</th>\n",
       "    </tr>\n",
       "  </thead>\n",
       "  <tbody>\n",
       "    <tr>\n",
       "      <th>0</th>\n",
       "      <td>0</td>\n",
       "      <td>-6.000000</td>\n",
       "    </tr>\n",
       "    <tr>\n",
       "      <th>1</th>\n",
       "      <td>1</td>\n",
       "      <td>31.657359</td>\n",
       "    </tr>\n",
       "    <tr>\n",
       "      <th>2</th>\n",
       "      <td>2</td>\n",
       "      <td>68.930614</td>\n",
       "    </tr>\n",
       "    <tr>\n",
       "      <th>3</th>\n",
       "      <td>3</td>\n",
       "      <td>86.314718</td>\n",
       "    </tr>\n",
       "    <tr>\n",
       "      <th>4</th>\n",
       "      <td>4</td>\n",
       "      <td>97.471896</td>\n",
       "    </tr>\n",
       "  </tbody>\n",
       "</table>\n",
       "</div>"
      ],
      "text/plain": [
       "   x          y\n",
       "0  0  -6.000000\n",
       "1  1  31.657359\n",
       "2  2  68.930614\n",
       "3  3  86.314718\n",
       "4  4  97.471896"
      ]
     },
     "execution_count": 50,
     "metadata": {},
     "output_type": "execute_result"
    }
   ],
   "source": [
    "n = 100\n",
    "x = np.arange(n)\n",
    "df = pd.DataFrame(pd.Series(x), columns=['x'])\n",
    "rs = check_random_state(0)\n",
    "df['y'] = pd.Series(rs.randint(-50, 50, size=(n,)) + 50. * np.log1p(np.arange(n)))\n",
    "df.head()"
   ]
  },
  {
   "cell_type": "code",
   "execution_count": 51,
   "metadata": {},
   "outputs": [
    {
     "data": {
      "text/plain": [
       "<matplotlib.axes._subplots.AxesSubplot at 0x12b5629d908>"
      ]
     },
     "execution_count": 51,
     "metadata": {},
     "output_type": "execute_result"
    },
    {
     "data": {
      "image/png": "[encoded data removed]",
      "text/plain": [
       "<Figure size 432x288 with 1 Axes>"
      ]
     },
     "metadata": {},
     "output_type": "display_data"
    }
   ],
   "source": [
    "df.plot()"
   ]
  },
  {
   "cell_type": "code",
   "execution_count": 52,
   "metadata": {},
   "outputs": [],
   "source": [
    "import statsmodels.api as sm"
   ]
  },
  {
   "cell_type": "code",
   "execution_count": 53,
   "metadata": {},
   "outputs": [],
   "source": [
    "from sklearn import datasets"
   ]
  },
  {
   "cell_type": "code",
   "execution_count": 54,
   "metadata": {},
   "outputs": [],
   "source": [
    "data = datasets.load_boston()"
   ]
  },
  {
   "cell_type": "code",
   "execution_count": 55,
   "metadata": {},
   "outputs": [
    {
     "name": "stdout",
     "output_type": "stream",
     "text": [
      "Boston House Prices dataset\n",
      "===========================\n",
      "\n",
      "Notes\n",
      "------\n",
      "Data Set Characteristics:  \n",
      "\n",
      "    :Number of Instances: 506 \n",
      "\n",
      "    :Number of Attributes: 13 numeric/categorical predictive\n",
      "    \n",
      "    :Median Value (attribute 14) is usually the target\n",
      "\n",
      "    :Attribute Information (in order):\n",
      "        - CRIM     per capita crime rate by town\n",
      "        - ZN       proportion of residential land zoned for lots over 25,000 sq.ft.\n",
      "        - INDUS    proportion of non-retail business acres per town\n",
      "        - CHAS     Charles River dummy variable (= 1 if tract bounds river; 0 otherwise)\n",
      "        - NOX      nitric oxides concentration (parts per 10 million)\n",
      "        - RM       average number of rooms per dwelling\n",
      "        - AGE      proportion of owner-occupied units built prior to 1940\n",
      "        - DIS      weighted distances to five Boston employment centres\n",
      "        - RAD      index of accessibility to radial highways\n",
      "        - TAX      full-value property-tax rate per $10,000\n",
      "        - PTRATIO  pupil-teacher ratio by town\n",
      "        - B        1000(Bk - 0.63)^2 where Bk is the proportion of blacks by town\n",
      "        - LSTAT    % lower status of the population\n",
      "        - MEDV     Median value of owner-occupied homes in $1000's\n",
      "\n",
      "    :Missing Attribute Values: None\n",
      "\n",
      "    :Creator: Harrison, D. and Rubinfeld, D.L.\n",
      "\n",
      "This is a copy of UCI ML housing dataset.\n",
      "http://archive.ics.uci.edu/ml/datasets/Housing\n",
      "\n",
      "\n",
      "This dataset was taken from the StatLib library which is maintained at Carnegie Mellon University.\n",
      "\n",
      "The Boston house-price data of Harrison, D. and Rubinfeld, D.L. 'Hedonic\n",
      "prices and the demand for clean air', J. Environ. Economics & Management,\n",
      "vol.5, 81-102, 1978.   Used in Belsley, Kuh & Welsch, 'Regression diagnostics\n",
      "...', Wiley, 1980.   N.B. Various transformations are used in the table on\n",
      "pages 244-261 of the latter.\n",
      "\n",
      "The Boston house-price data has been used in many machine learning papers that address regression\n",
      "problems.   \n",
      "     \n",
      "**References**\n",
      "\n",
      "   - Belsley, Kuh & Welsch, 'Regression diagnostics: Identifying Influential Data and Sources of Collinearity', Wiley, 1980. 244-261.\n",
      "   - Quinlan,R. (1993). Combining Instance-Based and Model-Based Learning. In Proceedings on the Tenth International Conference of Machine Learning, 236-243, University of Massachusetts, Amherst. Morgan Kaufmann.\n",
      "   - many more! (see http://archive.ics.uci.edu/ml/datasets/Housing)\n",
      "\n"
     ]
    }
   ],
   "source": [
    "print(data.DESCR)"
   ]
  },
  {
   "cell_type": "code",
   "execution_count": 56,
   "metadata": {},
   "outputs": [
    {
     "data": {
      "text/plain": [
       "['DESCR', 'data', 'feature_names', 'target']"
      ]
     },
     "execution_count": 56,
     "metadata": {},
     "output_type": "execute_result"
    }
   ],
   "source": [
    "dir(data)"
   ]
  },
  {
   "cell_type": "code",
   "execution_count": 58,
   "metadata": {},
   "outputs": [
    {
     "data": {
      "text/plain": [
       "array(['CRIM', 'ZN', 'INDUS', 'CHAS', 'NOX', 'RM', 'AGE', 'DIS', 'RAD',\n",
       "       'TAX', 'PTRATIO', 'B', 'LSTAT'], dtype='<U7')"
      ]
     },
     "execution_count": 58,
     "metadata": {},
     "output_type": "execute_result"
    }
   ],
   "source": [
    "data.feature_names"
   ]
  },
  {
   "cell_type": "code",
   "execution_count": 59,
   "metadata": {},
   "outputs": [],
   "source": [
    "df = pd.DataFrame(data.data, columns=data.feature_names)"
   ]
  },
  {
   "cell_type": "code",
   "execution_count": 60,
   "metadata": {},
   "outputs": [],
   "source": [
    "target = pd.DataFrame(data.target, columns=['MEDV'])"
   ]
  },
  {
   "cell_type": "code",
   "execution_count": 61,
   "metadata": {},
   "outputs": [],
   "source": [
    "x = df['RM']\n",
    "y = target['MEDV']"
   ]
  },
  {
   "cell_type": "code",
   "execution_count": 62,
   "metadata": {},
   "outputs": [],
   "source": [
    "model = sm.OLS(y, x).fit()"
   ]
  },
  {
   "cell_type": "code",
   "execution_count": 63,
   "metadata": {},
   "outputs": [],
   "source": [
    "predictions = model.predict(x)"
   ]
  },
  {
   "cell_type": "code",
   "execution_count": 64,
   "metadata": {},
   "outputs": [
    {
     "data": {
      "text/html": [
       "<table class=\"simpletable\">\n",
       "<caption>OLS Regression Results</caption>\n",
       "<tr>\n",
       "  <th>Dep. Variable:</th>          <td>MEDV</td>       <th>  R-squared:         </th> <td>   0.901</td> \n",
       "</tr>\n",
       "<tr>\n",
       "  <th>Model:</th>                   <td>OLS</td>       <th>  Adj. R-squared:    </th> <td>   0.901</td> \n",
       "</tr>\n",
       "<tr>\n",
       "  <th>Method:</th>             <td>Least Squares</td>  <th>  F-statistic:       </th> <td>   4615.</td> \n",
       "</tr>\n",
       "<tr>\n",
       "  <th>Date:</th>             <td>Thu, 14 Mar 2019</td> <th>  Prob (F-statistic):</th> <td>3.74e-256</td>\n",
       "</tr>\n",
       "<tr>\n",
       "  <th>Time:</th>                 <td>17:51:18</td>     <th>  Log-Likelihood:    </th> <td> -1747.1</td> \n",
       "</tr>\n",
       "<tr>\n",
       "  <th>No. Observations:</th>      <td>   506</td>      <th>  AIC:               </th> <td>   3496.</td> \n",
       "</tr>\n",
       "<tr>\n",
       "  <th>Df Residuals:</th>          <td>   505</td>      <th>  BIC:               </th> <td>   3500.</td> \n",
       "</tr>\n",
       "<tr>\n",
       "  <th>Df Model:</th>              <td>     1</td>      <th>                     </th>     <td> </td>    \n",
       "</tr>\n",
       "<tr>\n",
       "  <th>Covariance Type:</th>      <td>nonrobust</td>    <th>                     </th>     <td> </td>    \n",
       "</tr>\n",
       "</table>\n",
       "<table class=\"simpletable\">\n",
       "<tr>\n",
       "   <td></td>     <th>coef</th>     <th>std err</th>      <th>t</th>      <th>P>|t|</th>  <th>[0.025</th>    <th>0.975]</th>  \n",
       "</tr>\n",
       "<tr>\n",
       "  <th>RM</th> <td>    3.6534</td> <td>    0.054</td> <td>   67.930</td> <td> 0.000</td> <td>    3.548</td> <td>    3.759</td>\n",
       "</tr>\n",
       "</table>\n",
       "<table class=\"simpletable\">\n",
       "<tr>\n",
       "  <th>Omnibus:</th>       <td>83.295</td> <th>  Durbin-Watson:     </th> <td>   0.493</td>\n",
       "</tr>\n",
       "<tr>\n",
       "  <th>Prob(Omnibus):</th> <td> 0.000</td> <th>  Jarque-Bera (JB):  </th> <td> 152.507</td>\n",
       "</tr>\n",
       "<tr>\n",
       "  <th>Skew:</th>          <td> 0.955</td> <th>  Prob(JB):          </th> <td>7.65e-34</td>\n",
       "</tr>\n",
       "<tr>\n",
       "  <th>Kurtosis:</th>      <td> 4.894</td> <th>  Cond. No.          </th> <td>    1.00</td>\n",
       "</tr>\n",
       "</table><br/><br/>Warnings:<br/>[1] Standard Errors assume that the covariance matrix of the errors is correctly specified."
      ],
      "text/plain": [
       "<class 'statsmodels.iolib.summary.Summary'>\n",
       "\"\"\"\n",
       "                            OLS Regression Results                            \n",
       "==============================================================================\n",
       "Dep. Variable:                   MEDV   R-squared:                       0.901\n",
       "Model:                            OLS   Adj. R-squared:                  0.901\n",
       "Method:                 Least Squares   F-statistic:                     4615.\n",
       "Date:                Thu, 14 Mar 2019   Prob (F-statistic):          3.74e-256\n",
       "Time:                        17:51:18   Log-Likelihood:                -1747.1\n",
       "No. Observations:                 506   AIC:                             3496.\n",
       "Df Residuals:                     505   BIC:                             3500.\n",
       "Df Model:                           1                                         \n",
       "Covariance Type:            nonrobust                                         \n",
       "==============================================================================\n",
       "                 coef    std err          t      P>|t|      [0.025      0.975]\n",
       "------------------------------------------------------------------------------\n",
       "RM             3.6534      0.054     67.930      0.000       3.548       3.759\n",
       "==============================================================================\n",
       "Omnibus:                       83.295   Durbin-Watson:                   0.493\n",
       "Prob(Omnibus):                  0.000   Jarque-Bera (JB):              152.507\n",
       "Skew:                           0.955   Prob(JB):                     7.65e-34\n",
       "Kurtosis:                       4.894   Cond. No.                         1.00\n",
       "==============================================================================\n",
       "\n",
       "Warnings:\n",
       "[1] Standard Errors assume that the covariance matrix of the errors is correctly specified.\n",
       "\"\"\""
      ]
     },
     "execution_count": 64,
     "metadata": {},
     "output_type": "execute_result"
    }
   ],
   "source": [
    "model.summary()"
   ]
  },
  {
   "cell_type": "code",
   "execution_count": null,
   "metadata": {},
   "outputs": [],
   "source": []
  }
 ],
 "metadata": {
  "kernelspec": {
   "display_name": "Python 3",
   "language": "python",
   "name": "python3"
  },
  "language_info": {
   "codemirror_mode": {
    "name": "ipython",
    "version": 3
   },
   "file_extension": ".py",
   "mimetype": "text/x-python",
   "name": "python",
   "nbconvert_exporter": "python",
   "pygments_lexer": "ipython3",
   "version": "3.6.5"
  }
 },
 "nbformat": 4,
 "nbformat_minor": 2
}
