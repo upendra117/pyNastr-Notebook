{
 "cells": [
  {
   "cell_type": "code",
   "execution_count": 1,
   "metadata": {},
   "outputs": [],
   "source": [
    "import pyNastran\n",
    "import pandas as pd\n",
    "import numpy as np"
   ]
  },
  {
   "cell_type": "code",
   "execution_count": 2,
   "metadata": {},
   "outputs": [],
   "source": [
    "from pyNastran.op2.op2 import OP2"
   ]
  },
  {
   "cell_type": "code",
   "execution_count": 17,
   "metadata": {},
   "outputs": [],
   "source": [
    "model = OP2()"
   ]
  },
  {
   "cell_type": "code",
   "execution_count": 18,
   "metadata": {},
   "outputs": [
    {
     "data": {
      "text/html": [
       "<text style=color:blue>DEBUG:   op2.py:549                   combine=True\n",
       "</text>"
      ],
      "text/plain": [
       "<IPython.core.display.HTML object>"
      ]
     },
     "metadata": {},
     "output_type": "display_data"
    },
    {
     "data": {
      "text/html": [
       "<text style=color:blue>DEBUG:   op2.py:550                   -------- reading op2 with read_mode=1 (array sizing) --------\n",
       "</text>"
      ],
      "text/plain": [
       "<IPython.core.display.HTML object>"
      ]
     },
     "metadata": {},
     "output_type": "display_data"
    },
    {
     "data": {
      "text/html": [
       "<text style=color:green>INFO:    op2_scalar.py:1322           op2_filename = 'C:/Users/urgummitha/Downloads/pyNastran-master/pyNastran-master/models/solid_bending/solid_bending.op2'\n",
       "</text>"
      ],
      "text/plain": [
       "<IPython.core.display.HTML object>"
      ]
     },
     "metadata": {},
     "output_type": "display_data"
    },
    {
     "data": {
      "text/html": [
       "<text style=color:blue>DEBUG:   op2_scalar.py:1472             table_name=b'GEOM1'\n",
       "</text>"
      ],
      "text/plain": [
       "<IPython.core.display.HTML object>"
      ]
     },
     "metadata": {},
     "output_type": "display_data"
    },
    {
     "data": {
      "text/html": [
       "<text style=color:blue>DEBUG:   op2_scalar.py:1472             table_name=b'GEOM2'\n",
       "</text>"
      ],
      "text/plain": [
       "<IPython.core.display.HTML object>"
      ]
     },
     "metadata": {},
     "output_type": "display_data"
    },
    {
     "data": {
      "text/html": [
       "<text style=color:blue>DEBUG:   op2_scalar.py:1472             table_name=b'GEOM3'\n",
       "</text>"
      ],
      "text/plain": [
       "<IPython.core.display.HTML object>"
      ]
     },
     "metadata": {},
     "output_type": "display_data"
    },
    {
     "data": {
      "text/html": [
       "<text style=color:blue>DEBUG:   op2_scalar.py:1472             table_name=b'GEOM4'\n",
       "</text>"
      ],
      "text/plain": [
       "<IPython.core.display.HTML object>"
      ]
     },
     "metadata": {},
     "output_type": "display_data"
    },
    {
     "data": {
      "text/html": [
       "<text style=color:blue>DEBUG:   op2_scalar.py:1472             table_name=b'EPT'\n",
       "</text>"
      ],
      "text/plain": [
       "<IPython.core.display.HTML object>"
      ]
     },
     "metadata": {},
     "output_type": "display_data"
    },
    {
     "data": {
      "text/html": [
       "<text style=color:blue>DEBUG:   op2_scalar.py:1472             table_name=b'MPTS'\n",
       "</text>"
      ],
      "text/plain": [
       "<IPython.core.display.HTML object>"
      ]
     },
     "metadata": {},
     "output_type": "display_data"
    },
    {
     "data": {
      "text/html": [
       "<text style=color:blue>DEBUG:   op2_scalar.py:1472             table_name=b'OQG1'\n",
       "</text>"
      ],
      "text/plain": [
       "<IPython.core.display.HTML object>"
      ]
     },
     "metadata": {},
     "output_type": "display_data"
    },
    {
     "data": {
      "text/html": [
       "<text style=color:blue>DEBUG:   op2_scalar.py:1472             table_name=b'OUGV1'\n",
       "</text>"
      ],
      "text/plain": [
       "<IPython.core.display.HTML object>"
      ]
     },
     "metadata": {},
     "output_type": "display_data"
    },
    {
     "data": {
      "text/html": [
       "<text style=color:blue>DEBUG:   op2_scalar.py:1472             table_name=b'OES1X1'\n",
       "</text>"
      ],
      "text/plain": [
       "<IPython.core.display.HTML object>"
      ]
     },
     "metadata": {},
     "output_type": "display_data"
    },
    {
     "data": {
      "text/html": [
       "<text style=color:blue>DEBUG:   op2.py:563                   -------- reading op2 with read_mode=2 (array filling) --------\n",
       "</text>"
      ],
      "text/plain": [
       "<IPython.core.display.HTML object>"
      ]
     },
     "metadata": {},
     "output_type": "display_data"
    },
    {
     "data": {
      "text/html": [
       "<text style=color:blue>DEBUG:   op2_scalar.py:1472             table_name=b'GEOM1'\n",
       "</text>"
      ],
      "text/plain": [
       "<IPython.core.display.HTML object>"
      ]
     },
     "metadata": {},
     "output_type": "display_data"
    },
    {
     "data": {
      "text/html": [
       "<text style=color:blue>DEBUG:   op2_scalar.py:1472             table_name=b'GEOM2'\n",
       "</text>"
      ],
      "text/plain": [
       "<IPython.core.display.HTML object>"
      ]
     },
     "metadata": {},
     "output_type": "display_data"
    },
    {
     "data": {
      "text/html": [
       "<text style=color:blue>DEBUG:   op2_scalar.py:1472             table_name=b'GEOM3'\n",
       "</text>"
      ],
      "text/plain": [
       "<IPython.core.display.HTML object>"
      ]
     },
     "metadata": {},
     "output_type": "display_data"
    },
    {
     "data": {
      "text/html": [
       "<text style=color:blue>DEBUG:   op2_scalar.py:1472             table_name=b'GEOM4'\n",
       "</text>"
      ],
      "text/plain": [
       "<IPython.core.display.HTML object>"
      ]
     },
     "metadata": {},
     "output_type": "display_data"
    },
    {
     "data": {
      "text/html": [
       "<text style=color:blue>DEBUG:   op2_scalar.py:1472             table_name=b'EPT'\n",
       "</text>"
      ],
      "text/plain": [
       "<IPython.core.display.HTML object>"
      ]
     },
     "metadata": {},
     "output_type": "display_data"
    },
    {
     "data": {
      "text/html": [
       "<text style=color:blue>DEBUG:   op2_scalar.py:1472             table_name=b'MPTS'\n",
       "</text>"
      ],
      "text/plain": [
       "<IPython.core.display.HTML object>"
      ]
     },
     "metadata": {},
     "output_type": "display_data"
    },
    {
     "data": {
      "text/html": [
       "<text style=color:blue>DEBUG:   op2_scalar.py:1472             table_name=b'OQG1'\n",
       "</text>"
      ],
      "text/plain": [
       "<IPython.core.display.HTML object>"
      ]
     },
     "metadata": {},
     "output_type": "display_data"
    },
    {
     "data": {
      "text/html": [
       "<text style=color:blue>DEBUG:   op2_scalar.py:1472             table_name=b'OUGV1'\n",
       "</text>"
      ],
      "text/plain": [
       "<IPython.core.display.HTML object>"
      ]
     },
     "metadata": {},
     "output_type": "display_data"
    },
    {
     "data": {
      "text/html": [
       "<text style=color:blue>DEBUG:   op2_scalar.py:1472             table_name=b'OES1X1'\n",
       "</text>"
      ],
      "text/plain": [
       "<IPython.core.display.HTML object>"
      ]
     },
     "metadata": {},
     "output_type": "display_data"
    },
    {
     "name": "stderr",
     "output_type": "stream",
     "text": [
      "C:\\ProgramData\\Anaconda3\\lib\\site-packages\\pynastran-1.2.0+dev.no.checksum.error-py3.6.egg\\pyNastran\\op2\\op2.py:665: FutureWarning: \n",
      "Panel is deprecated and will be removed in a future version.\n",
      "The recommended way to represent these types of 3-dimensional data are with a MultiIndex on a DataFrame, via the Panel.to_frame() method\n",
      "Alternatively, you can use the xarray package http://xarray.pydata.org/en/stable/.\n",
      "Pandas provides a `.to_xarray()` method to help automate this conversion.\n",
      "\n",
      "  obj.build_dataframe()\n"
     ]
    },
    {
     "data": {
      "text/html": [
       "<text style=color:blue>DEBUG:   op2.py:766                   combine_results\n",
       "</text>"
      ],
      "text/plain": [
       "<IPython.core.display.HTML object>"
      ]
     },
     "metadata": {},
     "output_type": "display_data"
    },
    {
     "data": {
      "text/html": [
       "<text style=color:blue>DEBUG:   op2.py:575                   finished reading op2\n",
       "</text>"
      ],
      "text/plain": [
       "<IPython.core.display.HTML object>"
      ]
     },
     "metadata": {},
     "output_type": "display_data"
    }
   ],
   "source": [
    "model.read_op2('C:/Users/urgummitha/Downloads/pyNastran-master/pyNastran-master/models/solid_bending/solid_bending.op2')"
   ]
  },
  {
   "cell_type": "code",
   "execution_count": 19,
   "metadata": {},
   "outputs": [
    {
     "name": "stdout",
     "output_type": "stream",
     "text": [
      "displacements[1]\n",
      "spc_forces[1]\n",
      "ctetra_stress[1]\n",
      "\n"
     ]
    }
   ],
   "source": [
    "print(model.get_op2_stats(short=True))"
   ]
  },
  {
   "cell_type": "code",
   "execution_count": 20,
   "metadata": {},
   "outputs": [],
   "source": [
    "#import os\n",
    "\n",
    "f06_filename = 'solid_bending.f06'"
   ]
  },
  {
   "cell_type": "code",
   "execution_count": 21,
   "metadata": {},
   "outputs": [],
   "source": [
    "model.write_f06(f06_filename)"
   ]
  },
  {
   "cell_type": "code",
   "execution_count": 22,
   "metadata": {},
   "outputs": [],
   "source": [
    "# %load C:/Users/urgummitha/Downloads/pyNastran-master/pyNastran-master/docs/quick_start/py_docs/bdf_doc.py\n",
    "from __future__ import print_function\n",
    "import os\n",
    "from itertools import islice\n",
    "\n",
    "\n",
    "def introduction():\n",
    "    \"\"\"\n",
    "    Introduction - Level 2\n",
    "    \"\"\"\n",
    "    # This is meant as a tutorial on how to use the pyNastran ``pyNastran.bdf.bdf.BDF`` class\n",
    "\n",
    "    ####The **head**/**tail**/**file_slice** methods can be found at:\n",
    "    ####\n",
    "    ####    https://github.com/SteveDoyle2/pyNastran/blob/master/quick_start/py_docs/bdf_doc.py\n",
    "    ####\n",
    "    ####These examples can be found at:\n",
    "    ####\n",
    "    ####    https://github.com/SteveDoyle2/pyNastran/blob/master/quick_start/py_docs/bdf_doc.py\n",
    "    ####\n",
    "    pass\n",
    "\n",
    "\n",
    "def example1():\n",
    "    \"\"\"\n",
    "    Example 1: Read/Write - Level 2\n",
    "    \"\"\"\n",
    "    # this example will demonstate:\n",
    "    #  - reading the BDF\n",
    "    #  - getting some basic information\n",
    "    #  - writing the BDF\n",
    "\n",
    "    # our model\n",
    "    import pyNastran\n",
    "    pkg_path = pyNastran.__path__[0]\n",
    "    test_path = os.path.join(pkg_path, '..', 'models', 'solid_bending')\n",
    "    bdf_filename = os.path.join(test_path, 'solid_bending.bdf')\n",
    "\n",
    "    # instantiate the model\n",
    "    from pyNastran.bdf.bdf import BDF\n",
    "    model = BDF()\n",
    "    model.read_bdf(bdf_filename)\n",
    "\n",
    "    # For unicode:\n",
    "    #   The standard encoding is utf-8, but most English decks should use latin1 and will fail with utf-8.\n",
    "    #   If you just have ascii, then you don't need to worry about the encoding.\n",
    "    ## >>> model.read_bdf(bdf_filename, encoding='latin1')\n",
    "\n",
    "    # print information about the model\n",
    "    print(model.get_bdf_stats())\n",
    "\n",
    "    ## ---BDF Statistics---\n",
    "    ## SOL 101\n",
    "    ##\n",
    "    ## bdf.loads[1]\n",
    "    ##   FORCE:   23\n",
    "    ##\n",
    "    ## bdf.loads[2]\n",
    "    ##   LOAD:    1\n",
    "    ##\n",
    "    ## bdf.params\n",
    "    ##   PARAM    : 2\n",
    "    ##\n",
    "    ## bdf.nodes\n",
    "    ##   GRID     : 72\n",
    "    ##\n",
    "    ## bdf.elements\n",
    "    ##   CTETRA   : 186\n",
    "    ##\n",
    "    ## bdf.properties\n",
    "    ##   PSOLID   : 1\n",
    "    ##\n",
    "    ## bdf.materials\n",
    "    ##   MAT1     : 1\n",
    "    ##\n",
    "    ## bdf.coords\n",
    "    ##   CORD2R   : ???\n",
    "\n",
    "    # write the file\n",
    "    bdf_filename_out = os.path.join(test_path, 'solid_bending_out.bdf')\n",
    "    model.write_bdf(bdf_filename_out)\n",
    "\n",
    "    # looking at the output\n",
    "    print(file_slice(bdf_filename_out, 94, 100))\n",
    "    ## GRID          71         .500008 1.61116      3.\n",
    "    ## GRID          72         .500015 1.00001      3.\n",
    "    ## $ELEMENTS_WITH_PROPERTIES\n",
    "    ## PSOLID         1       1\n",
    "    ## CTETRA         1       1       8      13      67      33\n",
    "    ## CTETRA         2       1       8       7      62      59\n",
    "\n",
    "    # write the file with large field format; double precision\n",
    "    bdf_filename_out2 = os.path.join(test_path, 'solid_bending_out2.bdf')\n",
    "    model.write_bdf(bdf_filename_out2, size=16, is_double=False)\n",
    "    print(file_slice(bdf_filename_out2, 166, 175))\n",
    "    ## GRID*                 71                         .500008         1.61116\n",
    "    ## *                     3.\n",
    "    ## GRID*                 72                         .500015         1.00001\n",
    "    ## *                     3.\n",
    "    ## $ELEMENTS_WITH_PROPERTIES\n",
    "    ## PSOLID         1       1\n",
    "    ## CTETRA         1       1       8      13      67      33\n",
    "    ## CTETRA         2       1       8       7      62      59\n",
    "    ## CTETRA         3       1       8      45      58      66\n",
    "\n",
    "    # write the file with large field format; double precision\n",
    "    bdf_filename_out3 = os.path.join(test_path, 'solid_bending_out3.bdf')\n",
    "    model.write_bdf(bdf_filename_out3, size=16, is_double=True)\n",
    "    print(file_slice(bdf_filename_out3, 166, 175))\n",
    "    ## GRID*                 71                5.0000800000D-011.6111600000D+00\n",
    "    ## *       3.0000000000D+00\n",
    "    ## GRID*                 72                5.0001500000D-011.0000100000D+00\n",
    "    ## *       3.0000000000D+00\n",
    "    ## $ELEMENTS_WITH_PROPERTIES\n",
    "    ## PSOLID         1       1\n",
    "    ## CTETRA         1       1       8      13      67      33\n",
    "    ## CTETRA         2       1       8       7      62      59\n",
    "    ## CTETRA         3       1       8      45      58      66\n",
    "\n",
    "\n",
    "def example2():\n",
    "    \"\"\"\n",
    "    Example 2:  Printing Nodes - Level 2\n",
    "    \"\"\"\n",
    "    # this example will demonstate:\n",
    "    #  - writing cards\n",
    "\n",
    "    # our model\n",
    "    import pyNastran\n",
    "    pkg_path = pyNastran.__path__[0]\n",
    "    test_path = os.path.join(pkg_path, '..', 'models', 'solid_bending')\n",
    "    bdf_filename = os.path.join(test_path, 'solid_bending.bdf')\n",
    "\n",
    "    # instantiate the model\n",
    "    from pyNastran.bdf.bdf import BDF\n",
    "    model = BDF()\n",
    "    model.read_bdf(bdf_filename, xref=True)\n",
    "    f = open('junk.out', 'w')\n",
    "\n",
    "    ####\n",
    "    ####Method 1 - using objects\n",
    "    ####------------------------\n",
    "    ####\n",
    "\n",
    "    # GRIDs\n",
    "    for nid,node in sorted(model.nodes.items()):\n",
    "        f.write(node.write_card(size=8, is_double=False))\n",
    "\n",
    "    # GRIDSET\n",
    "    if model.gridSet:\n",
    "        f.write(model.gridSet.write_card(size=8, is_double=False))\n",
    "\n",
    "    # SPOINTs\n",
    "    if model.spoints:\n",
    "        f.write(model.spoints.write_card(size=8, is_double=False))\n",
    "\n",
    "    # CORDx\n",
    "    for cid,coord in sorted(model.coords.items()):\n",
    "        if cid != 0:  # if CID=0 is the global frame, skip it\n",
    "            f.write(coord)\n",
    "\n",
    "    ####\n",
    "    ####Method 2 - using built-in methods\n",
    "    ####---------------------------------\n",
    "    ####\n",
    "    model._write_nodes(f)\n",
    "    model._write_coords(f)\n",
    "\n",
    "\n",
    "def example3():\n",
    "    \"\"\"\n",
    "    Example 3:  Printing Elements/Properties - Level 2\n",
    "    \"\"\"\n",
    "    # Print the Element ID and associated Node and Property to an Output File\n",
    "\n",
    "    # note this skips rigidElements\n",
    "\n",
    "    # this example will demonstate:\n",
    "    #  - using the BDF class to write cards/properties\n",
    "\n",
    "    # our model\n",
    "    import pyNastran\n",
    "    pkg_path = pyNastran.__path__[0]\n",
    "    test_path = os.path.join(pkg_path, '..', 'models', 'solid_bending')\n",
    "    bdf_filename = os.path.join(test_path, 'solid_bending.bdf')\n",
    "\n",
    "    # instantiate the model\n",
    "    from pyNastran.bdf.bdf import BDF\n",
    "    model = BDF()\n",
    "    model.read_bdf(bdf_filename, xref=True)\n",
    "    f = open('junk.out', 'w')\n",
    "\n",
    "    ####\n",
    "    ####Method 1 - using objects\n",
    "    ####------------------------\n",
    "    ####\n",
    "    for eid, element in sorted(model.elements.items()):\n",
    "        f.write(element.write_card(size=8, is_double=False))\n",
    "\n",
    "    for pid, prop in sorted(model.properties.items()):\n",
    "        f.write(prop.write_card(size=8, is_double=False))\n",
    "\n",
    "    ####\n",
    "    ####Method 2 - using built-in method\n",
    "    ####--------------------------------\n",
    "    ####\n",
    "    model._write_elements_properties(f)\n",
    "\n",
    "    ####\n",
    "    ####Method 3 - using built-in methods\n",
    "    ####---------------------------------\n",
    "    ####\n",
    "    model._write_elements(f)\n",
    "    model._write_properties(f)\n",
    "\n",
    "\n",
    "def example4():\n",
    "    \"\"\"\n",
    "    Example 4: Get Element ID & Type - Level 2\n",
    "    \"\"\"\n",
    "    # Print the Element ID and its type(e.g. CQUAD4, CTRIA3, etc.) to a file\n",
    "\n",
    "    # note this skips rigidElements\n",
    "\n",
    "    # this example will demonstate:\n",
    "    #  - accessing element type information\n",
    "\n",
    "    # our model\n",
    "    import pyNastran\n",
    "    pkg_path = pyNastran.__path__[0]\n",
    "    test_path = os.path.join(pkg_path, '..', 'models', 'solid_bending')\n",
    "    bdf_filename = os.path.join(test_path, 'solid_bending.bdf')\n",
    "\n",
    "    # instantiate the model\n",
    "    from pyNastran.bdf.bdf import BDF\n",
    "    model = BDF()\n",
    "    model.read_bdf(bdf_filename, xref=True)\n",
    "    f = open('junk.out', 'w')\n",
    "\n",
    "    ####\n",
    "    ####Method 1 - using objects\n",
    "    ####---------------------------------\n",
    "    ####\n",
    "    for eid,element in sorted(model.elements.items()):\n",
    "        msg = 'eid=%s type=%s\\n' %(eid, element.type)\n",
    "    f.write(msg)\n",
    "\n",
    "def example5():\n",
    "    \"\"\"\n",
    "    Example 5: Get Elements by Node ID - Level 2\n",
    "    \"\"\"\n",
    "\n",
    "    # this example will demonstate:\n",
    "    #  - getting the list of elements that share a certain node\n",
    "\n",
    "    # our model\n",
    "    import pyNastran\n",
    "    pkg_path = pyNastran.__path__[0]\n",
    "    test_path = os.path.join(pkg_path, '..', 'models', 'solid_bending')\n",
    "    bdf_filename = os.path.join(test_path, 'solid_bending.bdf')\n",
    "\n",
    "    # instantiate the model\n",
    "    from pyNastran.bdf.bdf import BDF\n",
    "    model = BDF()\n",
    "    model.read_bdf(bdf_filename, xref=True)\n",
    "    f = open('junk.out', 'w')\n",
    "\n",
    "    # given a Node, get the Elements Attached to that Node\n",
    "    # assume node 55\n",
    "    # doesnt support 0d/1d elements yet\n",
    "    nid_to_eids_map = model.get_node_id_to_element_ids_map()\n",
    "    eids = nid_to_eids_map[55]\n",
    "\n",
    "    # convert to elements instead of element IDs\n",
    "    elements = []\n",
    "    for eid in eids:\n",
    "        elements.append(model.Element(eid))\n",
    "\n",
    "    print(\"eids = %s\" % eids)\n",
    "    print(\"elements =\\n %s\" % elements)\n",
    "\n",
    "\n",
    "def example6():\n",
    "    \"\"\"\n",
    "    Example 6:  Get Elements by Property ID - Level 2\n",
    "    \"\"\"\n",
    "    # this example will demonstate:\n",
    "    #  - getting a list of elements that have a certain property\n",
    "\n",
    "    # our model\n",
    "    import pyNastran\n",
    "    pkg_path = pyNastran.__path__[0]\n",
    "    test_path = os.path.join(pkg_path, '..', 'models', 'sol_101_elements')\n",
    "    bdf_filename = os.path.join(test_path, 'static_solid_shell_bar.bdf')\n",
    "\n",
    "    # instantiate the model\n",
    "    from pyNastran.bdf.bdf import BDF\n",
    "    model = BDF()\n",
    "    model.read_bdf(bdf_filename, xref=True)\n",
    "    f = open('junk.out', 'w')\n",
    "\n",
    "    # Creating a List of Elements based on a Property ID\n",
    "\n",
    "    # assume pid=1\n",
    "    pid_to_eids_map = model.get_property_id_to_element_ids_map()\n",
    "    eids4  = pid_to_eids_map[4] # PSHELL\n",
    "\n",
    "    print(\"eids4 = %s\" % eids4)\n",
    "    ## eids4 = [6, 7, 8, 9, 10, 11]\n",
    "\n",
    "    # convert to elements instead of element IDs\n",
    "    elements4 = []\n",
    "    for eid in eids4:\n",
    "        elements4.append(model.Element(eid))\n",
    "\n",
    "    # just to verify\n",
    "    elem = model.elements[eids4[0]]\n",
    "    print(elem.pid)\n",
    "    ## PSHELL         4       1     .25       1               1\n",
    "\n",
    "def example7():\n",
    "    \"\"\"\n",
    "    Example 7:  Get Elements by Material ID - Level 2\n",
    "    \"\"\"\n",
    "    # this example will demonstate:\n",
    "    #  - getting a list of elements that have a certain material\n",
    "\n",
    "    # our model\n",
    "    import pyNastran\n",
    "    pkg_path = pyNastran.__path__[0]\n",
    "    test_path = os.path.join(pkg_path, '..', 'models', 'sol_101_elements')\n",
    "    bdf_filename = os.path.join(test_path, 'static_solid_shell_bar.bdf')\n",
    "\n",
    "    # instantiate the model\n",
    "    from pyNastran.bdf.bdf import BDF\n",
    "    model = BDF()\n",
    "    model.read_bdf(bdf_filename, xref=True)\n",
    "    f = open('junk.out', 'w')\n",
    "\n",
    "    # assume you want the eids for material 10\n",
    "    pid_to_eids_map = model.get_property_id_to_element_ids_map()\n",
    "    mid_to_pids_map = model.get_material_id_to_property_ids_map()\n",
    "\n",
    "    pids1 = mid_to_pids_map[1]\n",
    "    print('pids1 = %s' % pids1)\n",
    "    ## pids1 = [1, 2, 3, 4, 5]\n",
    "    eids = []\n",
    "    for pid in pids1:\n",
    "        eids += pid_to_eids_map[pid]\n",
    "\n",
    "    # convert to elements instead of element IDs\n",
    "    elements = []\n",
    "    for eid in eids:\n",
    "        element = model.Element(eid)\n",
    "        elements.append(element)\n",
    "        print(str(element).rstrip())\n",
    "    ##\n",
    "    ## CBAR          13       1      15      19      0.      1.      0.\n",
    "    ## $ Direct Text Input for Bulk Data\n",
    "    ## $ Pset: \"shell\" will be imported as: \"pshell.1\"\n",
    "    ## CHEXA          1       2       2       3       4       1       8       5\n",
    "    ##                6       7\n",
    "    ## CPENTA         2       2       6       8       5      10      11       9\n",
    "    ## CPENTA         3       2       6       7       8      10      12      11\n",
    "    ## CTETRA         4       2      10      11       9      13\n",
    "    ## CTETRA         5       2      10      12      11      13\n",
    "    ## CROD          14       3      16      20\n",
    "    ## CROD          15       3      17      21\n",
    "    ## CQUAD4         6       4       4       1      14      15\n",
    "    ## CQUAD4         7       4       3       2      17      16\n",
    "    ## CTRIA3         8       4       4       3      16\n",
    "    ## CTRIA3         9       4      16      15       4\n",
    "    ## CTRIA3        10       4       1       2      17\n",
    "    ## CTRIA3        11       4      17      14       1\n",
    "    ## $\n",
    "    ## CBEAM         12       5      14      18      0.      1.      0.     GGG\n",
    "\n",
    "def example8():\n",
    "    \"\"\"\n",
    "    Example 1: Read/Write - Level 2\n",
    "    \"\"\"\n",
    "    # this example will demonstate:\n",
    "    #  - reading the BDF\n",
    "    #  - getting some basic information\n",
    "    #  - writing the BDF\n",
    "\n",
    "    # our model\n",
    "    import pyNastran\n",
    "    pkg_path = pyNastran.__path__[0]\n",
    "    test_path = os.path.join(pkg_path, '..', 'models', 'solid_bending')\n",
    "    bdf_filename = os.path.join(test_path, 'solid_bending.bdf')\n",
    "    bdf_filename2 = os.path.join(test_path, 'solid_bending2.bdf')\n",
    "    bdf_filename2 = 'solid_bending2.bdf'\n",
    "\n",
    "    # instantiate the model\n",
    "    from pyNastran.bdf.bdf import BDF\n",
    "    model = BDF()\n",
    "    model.read_bdf(bdf_filename)\n",
    "    model.sol = 103\n",
    "    model.write_bdf(bdf_filename2)\n",
    "\n",
    "\n",
    "def main():  ## pragma: no cover\n",
    "    \"\"\"\n",
    "    anything at main or below is not documented,\n",
    "    but it is tested, so it has to be valid python code\n",
    "    \"\"\"\n",
    "    introduction()\n",
    "    example1()\n",
    "    example2()\n",
    "    example3()\n",
    "    example4()\n",
    "    example5()\n",
    "    example6()\n",
    "    example7()\n",
    "    example8()\n",
    "\n",
    "\n",
    "def head(fname, n):\n",
    "    with open(fname) as myfile:\n",
    "        head = list(islice(myfile, n))\n",
    "    return ''.join(head)\n",
    "\n",
    "\n",
    "def tail(fname, n=10):\n",
    "    f = open(fname, 'r')\n",
    "    lines = f.readlines()\n",
    "    return ''.join(lines[-n:])\n",
    "\n",
    "\n",
    "def file_slice(fname, i, j):\n",
    "    f = open(fname, 'r')\n",
    "    lines = f.readlines()\n",
    "    return ''.join(lines[i:j])\n",
    "\n",
    "\n",
    "def this_is_ok():  ## pragma: no cover\n",
    "    pass\n",
    "\n",
    "\n",
    "#if __name__ == '__main__':  ## pragma: no cover\n",
    "#    main()\n"
   ]
  },
  {
   "cell_type": "code",
   "execution_count": 23,
   "metadata": {},
   "outputs": [
    {
     "name": "stdout",
     "output_type": "stream",
     "text": [
      "            57      G      0.0            0.0            0.0            0.0            0.0            0.0\n",
      "            58      G      0.0            0.0            0.0            0.0            0.0            0.0\n",
      "            59      G      0.0            0.0            0.0            0.0            0.0            0.0\n",
      "            60      G      0.0            0.0            0.0            0.0            0.0            0.0\n",
      "            61      G      0.0            0.0            0.0            0.0            0.0            0.0\n",
      "            62      G      0.0            0.0            0.0            0.0            0.0            0.0\n",
      "            63      G     -2.492080E+03  -1.302221E+03   1.367699E+04   0.0            0.0            0.0\n",
      "            64      G     -6.398902E+03   6.594931E+02   1.154350E+04   0.0            0.0            0.0\n",
      "            65      G      0.0            0.0            0.0            0.0            0.0            0.0\n",
      "            66      G      0.0            0.0            0.0            0.0            0.0            0.0\n",
      "            67      G      0.0            0.0            0.0            0.0            0.0            0.0\n",
      "            68      G      0.0            0.0            0.0            0.0            0.0            0.0\n",
      "            69      G     -9.124532E+02  -5.777240E+01   8.230806E+01   0.0            0.0            0.0\n",
      "            70      G     -3.933428E+03  -2.479647E+02   3.956322E+02   0.0            0.0            0.0\n",
      "            71      G      3.830851E+03   6.477673E+01   1.240185E+03   0.0            0.0            0.0\n",
      "            72      G      2.622149E+03   9.655804E+02   5.278237E+02   0.0            0.0            0.0\n",
      "1    MSC.NASTRAN JOB CREATED ON 28-JAN-12 AT 12:52:32                       JANUARY  28, 2012  pyNastran v1.2.0+dev.no.checksum.error  PAGE     4\n",
      " \n",
      "1                                        * * * END OF JOB * * *\n",
      " \n",
      " \n"
     ]
    }
   ],
   "source": [
    "print(tail(f06_filename, 21))"
   ]
  },
  {
   "cell_type": "code",
   "execution_count": 24,
   "metadata": {},
   "outputs": [
    {
     "data": {
      "text/plain": [
       "'solid_bending.f06'"
      ]
     },
     "execution_count": 24,
     "metadata": {},
     "output_type": "execute_result"
    }
   ],
   "source": [
    "f06_filename"
   ]
  },
  {
   "cell_type": "code",
   "execution_count": null,
   "metadata": {},
   "outputs": [],
   "source": []
  }
 ],
 "metadata": {
  "kernelspec": {
   "display_name": "Python 3",
   "language": "python",
   "name": "python3"
  },
  "language_info": {
   "codemirror_mode": {
    "name": "ipython",
    "version": 3
   },
   "file_extension": ".py",
   "mimetype": "text/x-python",
   "name": "python",
   "nbconvert_exporter": "python",
   "pygments_lexer": "ipython3",
   "version": "3.6.5"
  }
 },
 "nbformat": 4,
 "nbformat_minor": 2
}
