{
 "cells": [
  {
   "cell_type": "code",
   "execution_count": 1,
   "metadata": {},
   "outputs": [],
   "source": [
    "import pyNastran\n",
    "from pyNastran.bdf.bdf import BDF"
   ]
  },
  {
   "cell_type": "code",
   "execution_count": 2,
   "metadata": {},
   "outputs": [],
   "source": [
    "model = BDF()"
   ]
  },
  {
   "cell_type": "code",
   "execution_count": 3,
   "metadata": {},
   "outputs": [],
   "source": [
    "from pyNastran.op2.op2 import OP2"
   ]
  },
  {
   "cell_type": "code",
   "execution_count": 4,
   "metadata": {},
   "outputs": [],
   "source": [
    "modeOP2 = OP2()"
   ]
  },
  {
   "cell_type": "code",
   "execution_count": 5,
   "metadata": {},
   "outputs": [
    {
     "data": {
      "text/html": [
       "<text style=color:blue>DEBUG:   op2.py:549                   combine=True\n",
       "</text>"
      ],
      "text/plain": [
       "<IPython.core.display.HTML object>"
      ]
     },
     "metadata": {},
     "output_type": "display_data"
    },
    {
     "data": {
      "text/html": [
       "<text style=color:blue>DEBUG:   op2.py:550                   -------- reading op2 with read_mode=1 (array sizing) --------\n",
       "</text>"
      ],
      "text/plain": [
       "<IPython.core.display.HTML object>"
      ]
     },
     "metadata": {},
     "output_type": "display_data"
    },
    {
     "data": {
      "text/html": [
       "<text style=color:green>INFO:    op2_scalar.py:1322           op2_filename = 'pc12-47-v1-6-static_post_m3.2_2101.op2'\n",
       "</text>"
      ],
      "text/plain": [
       "<IPython.core.display.HTML object>"
      ]
     },
     "metadata": {},
     "output_type": "display_data"
    },
    {
     "data": {
      "text/html": [
       "<text style=color:blue>DEBUG:   op2_scalar.py:1472             table_name=b'OQG1'\n",
       "</text>"
      ],
      "text/plain": [
       "<IPython.core.display.HTML object>"
      ]
     },
     "metadata": {},
     "output_type": "display_data"
    },
    {
     "data": {
      "text/html": [
       "<text style=color:blue>DEBUG:   op2_scalar.py:1472             table_name=b'OQMG1'\n",
       "</text>"
      ],
      "text/plain": [
       "<IPython.core.display.HTML object>"
      ]
     },
     "metadata": {},
     "output_type": "display_data"
    },
    {
     "data": {
      "text/html": [
       "<text style=color:blue>DEBUG:   op2_scalar.py:1472             table_name=b'OUG1'\n",
       "</text>"
      ],
      "text/plain": [
       "<IPython.core.display.HTML object>"
      ]
     },
     "metadata": {},
     "output_type": "display_data"
    },
    {
     "data": {
      "text/html": [
       "<text style=color:blue>DEBUG:   op2_scalar.py:1472             table_name=b'OGPFB1'\n",
       "</text>"
      ],
      "text/plain": [
       "<IPython.core.display.HTML object>"
      ]
     },
     "metadata": {},
     "output_type": "display_data"
    },
    {
     "data": {
      "text/html": [
       "<text style=color:blue>DEBUG:   op2_scalar.py:1472             table_name=b'OEF1X'\n",
       "</text>"
      ],
      "text/plain": [
       "<IPython.core.display.HTML object>"
      ]
     },
     "metadata": {},
     "output_type": "display_data"
    },
    {
     "data": {
      "text/html": [
       "<text style=color:blue>DEBUG:   op2_scalar.py:1472             table_name=b'OES1X1'\n",
       "</text>"
      ],
      "text/plain": [
       "<IPython.core.display.HTML object>"
      ]
     },
     "metadata": {},
     "output_type": "display_data"
    },
    {
     "data": {
      "text/html": [
       "<text style=color:blue>DEBUG:   op2_scalar.py:1472             table_name=b'OPG1'\n",
       "</text>"
      ],
      "text/plain": [
       "<IPython.core.display.HTML object>"
      ]
     },
     "metadata": {},
     "output_type": "display_data"
    },
    {
     "data": {
      "text/html": [
       "<text style=color:blue>DEBUG:   op2.py:563                   -------- reading op2 with read_mode=2 (array filling) --------\n",
       "</text>"
      ],
      "text/plain": [
       "<IPython.core.display.HTML object>"
      ]
     },
     "metadata": {},
     "output_type": "display_data"
    },
    {
     "data": {
      "text/html": [
       "<text style=color:blue>DEBUG:   op2_scalar.py:1472             table_name=b'OQG1'\n",
       "</text>"
      ],
      "text/plain": [
       "<IPython.core.display.HTML object>"
      ]
     },
     "metadata": {},
     "output_type": "display_data"
    },
    {
     "data": {
      "text/html": [
       "<text style=color:blue>DEBUG:   op2_scalar.py:1472             table_name=b'OQMG1'\n",
       "</text>"
      ],
      "text/plain": [
       "<IPython.core.display.HTML object>"
      ]
     },
     "metadata": {},
     "output_type": "display_data"
    },
    {
     "data": {
      "text/html": [
       "<text style=color:blue>DEBUG:   op2_scalar.py:1472             table_name=b'OUG1'\n",
       "</text>"
      ],
      "text/plain": [
       "<IPython.core.display.HTML object>"
      ]
     },
     "metadata": {},
     "output_type": "display_data"
    },
    {
     "data": {
      "text/html": [
       "<text style=color:blue>DEBUG:   op2_scalar.py:1472             table_name=b'OGPFB1'\n",
       "</text>"
      ],
      "text/plain": [
       "<IPython.core.display.HTML object>"
      ]
     },
     "metadata": {},
     "output_type": "display_data"
    },
    {
     "data": {
      "text/html": [
       "<text style=color:blue>DEBUG:   op2_scalar.py:1472             table_name=b'OEF1X'\n",
       "</text>"
      ],
      "text/plain": [
       "<IPython.core.display.HTML object>"
      ]
     },
     "metadata": {},
     "output_type": "display_data"
    },
    {
     "data": {
      "text/html": [
       "<text style=color:blue>DEBUG:   op2_scalar.py:1472             table_name=b'OES1X1'\n",
       "</text>"
      ],
      "text/plain": [
       "<IPython.core.display.HTML object>"
      ]
     },
     "metadata": {},
     "output_type": "display_data"
    },
    {
     "data": {
      "text/html": [
       "<text style=color:blue>DEBUG:   op2_scalar.py:1472             table_name=b'OPG1'\n",
       "</text>"
      ],
      "text/plain": [
       "<IPython.core.display.HTML object>"
      ]
     },
     "metadata": {},
     "output_type": "display_data"
    },
    {
     "name": "stderr",
     "output_type": "stream",
     "text": [
      "C:\\ProgramData\\Anaconda3\\lib\\site-packages\\pynastran-1.2.0+dev.no.checksum.error-py3.6.egg\\pyNastran\\op2\\op2.py:665: FutureWarning: \n",
      "Panel is deprecated and will be removed in a future version.\n",
      "The recommended way to represent these types of 3-dimensional data are with a MultiIndex on a DataFrame, via the Panel.to_frame() method\n",
      "Alternatively, you can use the xarray package http://xarray.pydata.org/en/stable/.\n",
      "Pandas provides a `.to_xarray()` method to help automate this conversion.\n",
      "\n",
      "  obj.build_dataframe()\n"
     ]
    },
    {
     "data": {
      "text/html": [
       "<text style=color:blue>DEBUG:   op2.py:766                   combine_results\n",
       "</text>"
      ],
      "text/plain": [
       "<IPython.core.display.HTML object>"
      ]
     },
     "metadata": {},
     "output_type": "display_data"
    },
    {
     "data": {
      "text/html": [
       "<text style=color:blue>DEBUG:   op2.py:575                   finished reading op2\n",
       "</text>"
      ],
      "text/plain": [
       "<IPython.core.display.HTML object>"
      ]
     },
     "metadata": {},
     "output_type": "display_data"
    }
   ],
   "source": [
    "modeOP2.read_op2('pc12-47-v1-6-static_post_m3.2_2101.op2', build_dataframe=True)"
   ]
  },
  {
   "cell_type": "code",
   "execution_count": 6,
   "metadata": {},
   "outputs": [
    {
     "data": {
      "text/html": [
       "<text style=color:blue>DEBUG:   bdf.py:1187                  ---starting BDF.read_bdf of pc12-47-v1-6-static_post_M3.2_2101.bdf---\n",
       "</text>"
      ],
      "text/plain": [
       "<IPython.core.display.HTML object>"
      ]
     },
     "metadata": {},
     "output_type": "display_data"
    },
    {
     "data": {
      "text/html": [
       "<text style=color:blue>DEBUG:   pybdf.py:343                 opening 'C:\\\\ALL_DATA\\\\URGummitha\\\\Desktop\\\\Python\\\\Cbeam_Runs\\\\pc12-47-v1-6-static_post_M3.2_2101.bdf'\n",
       "</text>"
      ],
      "text/plain": [
       "<IPython.core.display.HTML object>"
      ]
     },
     "metadata": {},
     "output_type": "display_data"
    },
    {
     "data": {
      "text/html": [
       "<text style=color:blue>DEBUG:   cross_reference.py:151       Cross Referencing...\n",
       "</text>"
      ],
      "text/plain": [
       "<IPython.core.display.HTML object>"
      ]
     },
     "metadata": {},
     "output_type": "display_data"
    },
    {
     "data": {
      "text/html": [
       "<text style=color:blue>DEBUG:   bdf.py:1245                  ---finished BDF.read_bdf of pc12-47-v1-6-static_post_M3.2_2101.bdf---\n",
       "</text>"
      ],
      "text/plain": [
       "<IPython.core.display.HTML object>"
      ]
     },
     "metadata": {},
     "output_type": "display_data"
    }
   ],
   "source": [
    "model.read_bdf('pc12-47-v1-6-static_post_M3.2_2101.bdf',xref=True)"
   ]
  },
  {
   "cell_type": "code",
   "execution_count": 7,
   "metadata": {},
   "outputs": [],
   "source": [
    "# f = open('junk.out', 'w')"
   ]
  },
  {
   "cell_type": "code",
   "execution_count": 8,
   "metadata": {},
   "outputs": [],
   "source": [
    "# >>> for pid, prop in sorted(model.properties.items()):\n",
    "# >>>     f.write(prop.write_card(size=8, is_double=False))"
   ]
  },
  {
   "cell_type": "code",
   "execution_count": 9,
   "metadata": {},
   "outputs": [],
   "source": [
    "# >>> for eid,element in sorted(model.elements.items()):\n",
    "# >>>     print('eid=%s type=%s\\n' %(eid, element.type))"
   ]
  },
  {
   "cell_type": "code",
   "execution_count": 10,
   "metadata": {},
   "outputs": [],
   "source": [
    "# prop = model.properties[7300029]"
   ]
  },
  {
   "cell_type": "code",
   "execution_count": 11,
   "metadata": {},
   "outputs": [],
   "source": [
    "pid_to_eids_map = model.get_property_id_to_element_ids_map()"
   ]
  },
  {
   "cell_type": "code",
   "execution_count": 12,
   "metadata": {},
   "outputs": [],
   "source": [
    "# pid_to_eids_map[7300029]"
   ]
  },
  {
   "cell_type": "code",
   "execution_count": 13,
   "metadata": {},
   "outputs": [],
   "source": [
    "# print(model.get_bdf_stats())"
   ]
  },
  {
   "cell_type": "code",
   "execution_count": 14,
   "metadata": {},
   "outputs": [],
   "source": [
    "import pandas as pd\n",
    "import numpy as np"
   ]
  },
  {
   "cell_type": "code",
   "execution_count": 15,
   "metadata": {},
   "outputs": [],
   "source": [
    "# # pid_df  = pd.DataFrame.from_dict(pid_to_eids_map)\n",
    "\n",
    "# pid_df  = pd.DataFrame(dict([ (k,pd.Series(v)) for k,v in pid_to_eids_map.items() ]))\n",
    "# pid_df.head()"
   ]
  },
  {
   "cell_type": "code",
   "execution_count": 16,
   "metadata": {},
   "outputs": [],
   "source": [
    "# pid_df = pid_df.fillna(0)\n",
    "# count = pid_df.apply(np.count_nonzero, axis=0)"
   ]
  },
  {
   "cell_type": "code",
   "execution_count": 17,
   "metadata": {},
   "outputs": [],
   "source": [
    "# count.sort_values()"
   ]
  },
  {
   "cell_type": "code",
   "execution_count": 18,
   "metadata": {},
   "outputs": [],
   "source": [
    "# prop = model.properties[7300029]"
   ]
  },
  {
   "cell_type": "code",
   "execution_count": 19,
   "metadata": {},
   "outputs": [],
   "source": [
    "# prop.Area()"
   ]
  },
  {
   "cell_type": "code",
   "execution_count": 20,
   "metadata": {},
   "outputs": [],
   "source": [
    "# df = pd.DataFrame(list(pid_to_eids_map.keys()))\n",
    "# df = df.rename(columns={df.columns[0]:'PropID'})\n",
    "# df.head()"
   ]
  },
  {
   "cell_type": "code",
   "execution_count": null,
   "metadata": {},
   "outputs": [],
   "source": []
  },
  {
   "cell_type": "code",
   "execution_count": 21,
   "metadata": {},
   "outputs": [],
   "source": [
    "# df['PropType'] = df.PropID.map(lambda x: model.properties[x].type)"
   ]
  },
  {
   "cell_type": "code",
   "execution_count": 22,
   "metadata": {},
   "outputs": [],
   "source": [
    "# df_pbar = df[df.PropType == 'PBAR']"
   ]
  },
  {
   "cell_type": "code",
   "execution_count": 23,
   "metadata": {},
   "outputs": [],
   "source": [
    "# df_pbar.head()"
   ]
  },
  {
   "cell_type": "code",
   "execution_count": 24,
   "metadata": {},
   "outputs": [],
   "source": [
    "# pbar = model.properties[1110301]"
   ]
  },
  {
   "cell_type": "code",
   "execution_count": 25,
   "metadata": {},
   "outputs": [],
   "source": [
    "# model.properties[1110301].Area()"
   ]
  },
  {
   "cell_type": "code",
   "execution_count": 26,
   "metadata": {},
   "outputs": [],
   "source": [
    "# pbar"
   ]
  },
  {
   "cell_type": "code",
   "execution_count": 27,
   "metadata": {},
   "outputs": [],
   "source": [
    "# pbar.Area()"
   ]
  },
  {
   "cell_type": "code",
   "execution_count": 28,
   "metadata": {},
   "outputs": [],
   "source": [
    "# df_pbeam = df[df.PropType == 'PBEAM']"
   ]
  },
  {
   "cell_type": "code",
   "execution_count": 29,
   "metadata": {},
   "outputs": [],
   "source": [
    "# df_pbeam.head()"
   ]
  },
  {
   "cell_type": "code",
   "execution_count": 30,
   "metadata": {},
   "outputs": [],
   "source": [
    "# pbeam = model.properties[1416002]\n",
    "# pbeam"
   ]
  },
  {
   "cell_type": "code",
   "execution_count": 31,
   "metadata": {},
   "outputs": [],
   "source": [
    "# pbeam.Area()"
   ]
  },
  {
   "cell_type": "code",
   "execution_count": 32,
   "metadata": {},
   "outputs": [],
   "source": [
    "def ReadOP2Files(path):\n",
    "    path = path + '*.op2'\n",
    "    print('Given File path is : \\n' , path , '\\n')\n",
    "    op2ListName = glob.glob(path)\n",
    "    print('Found the following list of OP2 Files: \\n')\n",
    "    print('========================================', '\\n')\n",
    "    op2ListName\n",
    "    dictOP2FileList = {}\n",
    "    for i in range(len(op2ListName)):\n",
    "        #print(colors[i])\n",
    "        dictOP2FileList[os.path.splitext(os.path.basename(op2ListName[i]))[0]] = op2ListName[i]\n",
    "        #print(os.path.basename(op2ListName[i]), op2ListName[i])\n",
    "        #print(os.path.splitext(os.path.basename(op2ListName[i])))\n",
    "    return dictOP2FileList\n",
    "\n",
    "\n",
    "# In[46]:\n",
    "\n",
    "\n",
    "def ReadOP2File(op2FileName):\n",
    "    preOP2Model = OP2()\n",
    "    preOP2File = op2FileName\n",
    "    # Load Pre OP2 File\n",
    "    preOP2Model.read_op2(preOP2File, build_dataframe=True)\n",
    "    return preOP2Model\n",
    "\n",
    "\n",
    "# In[47]:\n",
    "\n",
    "\n",
    "def ReadLoadcases(preOP2Model):\n",
    "    print(preOP2Model.get_op2_stats(short=True))\n",
    "    preLCs = list(preOP2Model.cshear_stress.keys())\n",
    "    return preLCs\n",
    "\n",
    "\n",
    "# In[48]:\n",
    "\n",
    "\n",
    "# Function Which creates new index for Shear Stress individual loadcase\n",
    "def newShearIndex(lc):\n",
    "    colReInx = pd.MultiIndex.from_tuples([(lc, 'max_shear'), (lc, 'avg_shear'), (lc, 'margin')])\n",
    "    return colReInx\n",
    "\n",
    "\n",
    "# In[49]:\n",
    "\n",
    "\n",
    "def ReadShearStressResults(preOP2Model):\n",
    "    preLCs = ReadLoadcases(preOP2Model)\n",
    "    # Start with an empty dataframe [note: Logic to be changed later]\n",
    "    cShearResultDF_Pre = pd.DataFrame({'A' : []})\n",
    "    for lc in preLCs:\n",
    "        tempDF = preOP2Model.cshear_stress[lc].data_frame\n",
    "        tempDF = tempDF.unstack(level=0).T\n",
    "        tempDF1 = tempDF.reindex(columns=newShearIndex(lc), level=1)\n",
    "        if cShearResultDF_Pre.empty == False:\n",
    "            cShearResultDF_Pre = pd.concat([cShearResultDF_Pre, tempDF1], axis=1,sort=False)\n",
    "        else :\n",
    "            cShearResultDF_Pre = tempDF1.copy()\n",
    "    return cShearResultDF_Pre"
   ]
  },
  {
   "cell_type": "code",
   "execution_count": 33,
   "metadata": {},
   "outputs": [],
   "source": [
    "# df_pbeam = df[df.PropType == 'PBEAM']\n",
    "# df_pbeam.head()"
   ]
  },
  {
   "cell_type": "code",
   "execution_count": 44,
   "metadata": {},
   "outputs": [
    {
     "data": {
      "text/html": [
       "<div>\n",
       "<style scoped>\n",
       "    .dataframe tbody tr th:only-of-type {\n",
       "        vertical-align: middle;\n",
       "    }\n",
       "\n",
       "    .dataframe tbody tr th {\n",
       "        vertical-align: top;\n",
       "    }\n",
       "\n",
       "    .dataframe thead th {\n",
       "        text-align: right;\n",
       "    }\n",
       "</style>\n",
       "<table border=\"1\" class=\"dataframe\">\n",
       "  <thead>\n",
       "    <tr style=\"text-align: right;\">\n",
       "      <th></th>\n",
       "      <th>ElementID</th>\n",
       "      <th>Location</th>\n",
       "      <th>sd</th>\n",
       "      <th>axial_force</th>\n",
       "      <th>element_type</th>\n",
       "      <th>property_id</th>\n",
       "      <th>element_area</th>\n",
       "      <th>beam_stress</th>\n",
       "    </tr>\n",
       "  </thead>\n",
       "  <tbody>\n",
       "    <tr>\n",
       "      <th>0</th>\n",
       "      <td>1117503.0</td>\n",
       "      <td>0.0</td>\n",
       "      <td>0.0</td>\n",
       "      <td>-409.992432</td>\n",
       "      <td>CBEAM</td>\n",
       "      <td>7300029</td>\n",
       "      <td>370.135</td>\n",
       "      <td>-1.107683</td>\n",
       "    </tr>\n",
       "    <tr>\n",
       "      <th>1</th>\n",
       "      <td>1117503.0</td>\n",
       "      <td>1.0</td>\n",
       "      <td>1.0</td>\n",
       "      <td>-409.992432</td>\n",
       "      <td>CBEAM</td>\n",
       "      <td>7300029</td>\n",
       "      <td>370.135</td>\n",
       "      <td>-1.107683</td>\n",
       "    </tr>\n",
       "    <tr>\n",
       "      <th>2</th>\n",
       "      <td>1117507.0</td>\n",
       "      <td>0.0</td>\n",
       "      <td>0.0</td>\n",
       "      <td>1002.093323</td>\n",
       "      <td>CBEAM</td>\n",
       "      <td>5500314</td>\n",
       "      <td>370.135</td>\n",
       "      <td>2.707373</td>\n",
       "    </tr>\n",
       "    <tr>\n",
       "      <th>3</th>\n",
       "      <td>1117507.0</td>\n",
       "      <td>1.0</td>\n",
       "      <td>1.0</td>\n",
       "      <td>1002.093323</td>\n",
       "      <td>CBEAM</td>\n",
       "      <td>5500314</td>\n",
       "      <td>370.135</td>\n",
       "      <td>2.707373</td>\n",
       "    </tr>\n",
       "    <tr>\n",
       "      <th>4</th>\n",
       "      <td>1118503.0</td>\n",
       "      <td>0.0</td>\n",
       "      <td>0.0</td>\n",
       "      <td>1896.697876</td>\n",
       "      <td>CBEAM</td>\n",
       "      <td>7300029</td>\n",
       "      <td>370.135</td>\n",
       "      <td>5.124341</td>\n",
       "    </tr>\n",
       "  </tbody>\n",
       "</table>\n",
       "</div>"
      ],
      "text/plain": [
       "   ElementID  Location   sd  axial_force element_type  property_id  \\\n",
       "0  1117503.0       0.0  0.0  -409.992432        CBEAM      7300029   \n",
       "1  1117503.0       1.0  1.0  -409.992432        CBEAM      7300029   \n",
       "2  1117507.0       0.0  0.0  1002.093323        CBEAM      5500314   \n",
       "3  1117507.0       1.0  1.0  1002.093323        CBEAM      5500314   \n",
       "4  1118503.0       0.0  0.0  1896.697876        CBEAM      7300029   \n",
       "\n",
       "   element_area  beam_stress  \n",
       "0       370.135    -1.107683  \n",
       "1       370.135    -1.107683  \n",
       "2       370.135     2.707373  \n",
       "3       370.135     2.707373  \n",
       "4       370.135     5.124341  "
      ]
     },
     "execution_count": 44,
     "metadata": {},
     "output_type": "execute_result"
    }
   ],
   "source": [
    "beam_stresses_df = modeOP2.cbeam_force[92101].data_frame\n",
    "# modeOP2.cbeam_force.keys()\n",
    "beam_stresses_df['element_type'] = beam_stresses_df.ElementID.map(lambda x: model.elements[x].type)\n",
    "beam_stresses_df['property_id'] = beam_stresses_df.ElementID.map(lambda x: model.elements[x].pid)\n",
    "beam_stresses_df['element_area'] = beam_stresses_df.property_id.map(lambda x: model.properties[x].Area())\n",
    "beam_stresses_df['beam_stress'] = beam_stresses_df.axial_force / beam_stresses_df.element_area\n",
    "interested_columns  =['ElementID', 'Location', 'sd', 'axial_force', 'element_type', 'property_id', 'element_area', 'beam_stress']\n",
    "beam_stresses_df = beam_stresses_df[interested_columns]\n",
    "beam_stresses_df.head()"
   ]
  },
  {
   "cell_type": "code",
   "execution_count": 47,
   "metadata": {},
   "outputs": [],
   "source": [
    "pbeam_stress = modeOP2.cbeam_stress[92101].data_frame"
   ]
  },
  {
   "cell_type": "code",
   "execution_count": 52,
   "metadata": {},
   "outputs": [
    {
     "data": {
      "text/html": [
       "<div>\n",
       "<style scoped>\n",
       "    .dataframe tbody tr th:only-of-type {\n",
       "        vertical-align: middle;\n",
       "    }\n",
       "\n",
       "    .dataframe tbody tr th {\n",
       "        vertical-align: top;\n",
       "    }\n",
       "\n",
       "    .dataframe thead th {\n",
       "        text-align: right;\n",
       "    }\n",
       "</style>\n",
       "<table border=\"1\" class=\"dataframe\">\n",
       "  <thead>\n",
       "    <tr style=\"text-align: right;\">\n",
       "      <th></th>\n",
       "      <th></th>\n",
       "      <th>Static</th>\n",
       "      <th>0</th>\n",
       "    </tr>\n",
       "    <tr>\n",
       "      <th>ElementID</th>\n",
       "      <th>NodeID</th>\n",
       "      <th>Item</th>\n",
       "      <th></th>\n",
       "    </tr>\n",
       "  </thead>\n",
       "  <tbody>\n",
       "    <tr>\n",
       "      <th rowspan=\"10\" valign=\"top\">1117503</th>\n",
       "      <th rowspan=\"8\" valign=\"top\">1117017</th>\n",
       "      <th>sxc</th>\n",
       "      <td>-1.265965e+00</td>\n",
       "    </tr>\n",
       "    <tr>\n",
       "      <th>sxd</th>\n",
       "      <td>-1.265965e+00</td>\n",
       "    </tr>\n",
       "    <tr>\n",
       "      <th>sxe</th>\n",
       "      <td>-1.265965e+00</td>\n",
       "    </tr>\n",
       "    <tr>\n",
       "      <th>sxf</th>\n",
       "      <td>-1.265965e+00</td>\n",
       "    </tr>\n",
       "    <tr>\n",
       "      <th>smax</th>\n",
       "      <td>-1.265965e+00</td>\n",
       "    </tr>\n",
       "    <tr>\n",
       "      <th>smin</th>\n",
       "      <td>-1.265965e+00</td>\n",
       "    </tr>\n",
       "    <tr>\n",
       "      <th>MS_tension</th>\n",
       "      <td>1.401298e-45</td>\n",
       "    </tr>\n",
       "    <tr>\n",
       "      <th>MS_compression</th>\n",
       "      <td>1.401298e-45</td>\n",
       "    </tr>\n",
       "    <tr>\n",
       "      <th rowspan=\"2\" valign=\"top\">7999087</th>\n",
       "      <th>sxc</th>\n",
       "      <td>-3.191498e-01</td>\n",
       "    </tr>\n",
       "    <tr>\n",
       "      <th>sxd</th>\n",
       "      <td>-3.191498e-01</td>\n",
       "    </tr>\n",
       "  </tbody>\n",
       "</table>\n",
       "</div>"
      ],
      "text/plain": [
       "Static                                       0\n",
       "ElementID NodeID  Item                        \n",
       "1117503   1117017 sxc            -1.265965e+00\n",
       "                  sxd            -1.265965e+00\n",
       "                  sxe            -1.265965e+00\n",
       "                  sxf            -1.265965e+00\n",
       "                  smax           -1.265965e+00\n",
       "                  smin           -1.265965e+00\n",
       "                  MS_tension      1.401298e-45\n",
       "                  MS_compression  1.401298e-45\n",
       "          7999087 sxc            -3.191498e-01\n",
       "                  sxd            -3.191498e-01"
      ]
     },
     "execution_count": 52,
     "metadata": {},
     "output_type": "execute_result"
    }
   ],
   "source": [
    "pbeam_stress.head(10)"
   ]
  },
  {
   "cell_type": "code",
   "execution_count": 42,
   "metadata": {},
   "outputs": [
    {
     "data": {
      "text/html": [
       "<div>\n",
       "<style scoped>\n",
       "    .dataframe tbody tr th:only-of-type {\n",
       "        vertical-align: middle;\n",
       "    }\n",
       "\n",
       "    .dataframe tbody tr th {\n",
       "        vertical-align: top;\n",
       "    }\n",
       "\n",
       "    .dataframe thead th {\n",
       "        text-align: right;\n",
       "    }\n",
       "</style>\n",
       "<table border=\"1\" class=\"dataframe\">\n",
       "  <thead>\n",
       "    <tr style=\"text-align: right;\">\n",
       "      <th></th>\n",
       "      <th>Location</th>\n",
       "      <th>sd</th>\n",
       "      <th>axial_force</th>\n",
       "      <th>element_type</th>\n",
       "      <th>property_id</th>\n",
       "      <th>element_area</th>\n",
       "      <th>beam_stress</th>\n",
       "    </tr>\n",
       "    <tr>\n",
       "      <th>ElementID</th>\n",
       "      <th></th>\n",
       "      <th></th>\n",
       "      <th></th>\n",
       "      <th></th>\n",
       "      <th></th>\n",
       "      <th></th>\n",
       "      <th></th>\n",
       "    </tr>\n",
       "  </thead>\n",
       "  <tbody>\n",
       "    <tr>\n",
       "      <th>1117503.0</th>\n",
       "      <td>0.0</td>\n",
       "      <td>0.0</td>\n",
       "      <td>-409.992432</td>\n",
       "      <td>CBEAM</td>\n",
       "      <td>7300029</td>\n",
       "      <td>370.135</td>\n",
       "      <td>-1.107683</td>\n",
       "    </tr>\n",
       "    <tr>\n",
       "      <th>1117503.0</th>\n",
       "      <td>1.0</td>\n",
       "      <td>1.0</td>\n",
       "      <td>-409.992432</td>\n",
       "      <td>CBEAM</td>\n",
       "      <td>7300029</td>\n",
       "      <td>370.135</td>\n",
       "      <td>-1.107683</td>\n",
       "    </tr>\n",
       "    <tr>\n",
       "      <th>1117507.0</th>\n",
       "      <td>0.0</td>\n",
       "      <td>0.0</td>\n",
       "      <td>1002.093323</td>\n",
       "      <td>CBEAM</td>\n",
       "      <td>5500314</td>\n",
       "      <td>370.135</td>\n",
       "      <td>2.707373</td>\n",
       "    </tr>\n",
       "    <tr>\n",
       "      <th>1117507.0</th>\n",
       "      <td>1.0</td>\n",
       "      <td>1.0</td>\n",
       "      <td>1002.093323</td>\n",
       "      <td>CBEAM</td>\n",
       "      <td>5500314</td>\n",
       "      <td>370.135</td>\n",
       "      <td>2.707373</td>\n",
       "    </tr>\n",
       "    <tr>\n",
       "      <th>1118503.0</th>\n",
       "      <td>0.0</td>\n",
       "      <td>0.0</td>\n",
       "      <td>1896.697876</td>\n",
       "      <td>CBEAM</td>\n",
       "      <td>7300029</td>\n",
       "      <td>370.135</td>\n",
       "      <td>5.124341</td>\n",
       "    </tr>\n",
       "  </tbody>\n",
       "</table>\n",
       "</div>"
      ],
      "text/plain": [
       "           Location   sd  axial_force element_type  property_id  element_area  \\\n",
       "ElementID                                                                       \n",
       "1117503.0       0.0  0.0  -409.992432        CBEAM      7300029       370.135   \n",
       "1117503.0       1.0  1.0  -409.992432        CBEAM      7300029       370.135   \n",
       "1117507.0       0.0  0.0  1002.093323        CBEAM      5500314       370.135   \n",
       "1117507.0       1.0  1.0  1002.093323        CBEAM      5500314       370.135   \n",
       "1118503.0       0.0  0.0  1896.697876        CBEAM      7300029       370.135   \n",
       "\n",
       "           beam_stress  \n",
       "ElementID               \n",
       "1117503.0    -1.107683  \n",
       "1117503.0    -1.107683  \n",
       "1117507.0     2.707373  \n",
       "1117507.0     2.707373  \n",
       "1118503.0     5.124341  "
      ]
     },
     "execution_count": 42,
     "metadata": {},
     "output_type": "execute_result"
    }
   ],
   "source": [
    "beam_stresses_df.set_index('ElementID', inplace=True)\n",
    "beam_stresses_df.head()"
   ]
  },
  {
   "cell_type": "code",
   "execution_count": null,
   "metadata": {},
   "outputs": [],
   "source": [
    "bar_Stress_calc = modeOP2.cbar_force[92101].data_frame\n",
    "bar_Stress_calc = bar_Stress_calc.unstack()\n",
    "# modeOP2.cbeam_force.keys()\n",
    "bar_Stress_calc['ElementType'] = bar_Stress_calc.ElementID.map(lambda x: model.elements[x].type)\n",
    "bar_Stress_calc['PropID'] = bar_Stress_calc.ElementID.map(lambda x: model.elements[x].pid)\n",
    "bar_Stress_calc['ElementArea'] = bar_Stress_calc.PropID.map(lambda x: model.properties[x].Area())\n",
    "# bar_Stress_calc['beam_stress'] = bar_Stress_calc.axial_force / bar_Stress_calc.ElementArea\n",
    "bar_Stress_calc.head()"
   ]
  },
  {
   "cell_type": "code",
   "execution_count": null,
   "metadata": {},
   "outputs": [],
   "source": [
    "bar_Stress_calc = modeOP2.cbar_force[92101].data_frame"
   ]
  },
  {
   "cell_type": "code",
   "execution_count": null,
   "metadata": {},
   "outputs": [],
   "source": [
    "bar_Stress_calc = bar_Stress_calc.unstack()"
   ]
  },
  {
   "cell_type": "code",
   "execution_count": null,
   "metadata": {},
   "outputs": [],
   "source": [
    "bar_Stress_calc['ElementType'] = bar_Stress_calc.ElementID.map(lambda x: model.elements[x].type)"
   ]
  },
  {
   "cell_type": "code",
   "execution_count": null,
   "metadata": {},
   "outputs": [],
   "source": [
    "bar_Stress_calc = bar_Stress_calc.reset_index()\n",
    "bar_Stress_calc.head()"
   ]
  },
  {
   "cell_type": "code",
   "execution_count": null,
   "metadata": {},
   "outputs": [],
   "source": [
    "bar_Stress_calc.columns = bar_Stress_calc.columns.get_level_values("
   ]
  },
  {
   "cell_type": "code",
   "execution_count": null,
   "metadata": {},
   "outputs": [],
   "source": [
    "bar_Stress_calc.head()"
   ]
  },
  {
   "cell_type": "code",
   "execution_count": null,
   "metadata": {},
   "outputs": [],
   "source": [
    "bar_Stress_calc.columns.names"
   ]
  },
  {
   "cell_type": "code",
   "execution_count": null,
   "metadata": {},
   "outputs": [],
   "source": [
    "bar_Stress_calc.columns.names"
   ]
  },
  {
   "cell_type": "code",
   "execution_count": null,
   "metadata": {},
   "outputs": [],
   "source": [
    "df.bar_Stress_calc(columns={'oldName1': 'newName1', 'oldName2': 'newName2'}, inplace=True)"
   ]
  }
 ],
 "metadata": {
  "kernelspec": {
   "display_name": "Python 3",
   "language": "python",
   "name": "python3"
  },
  "language_info": {
   "codemirror_mode": {
    "name": "ipython",
    "version": 3
   },
   "file_extension": ".py",
   "mimetype": "text/x-python",
   "name": "python",
   "nbconvert_exporter": "python",
   "pygments_lexer": "ipython3",
   "version": "3.6.5"
  }
 },
 "nbformat": 4,
 "nbformat_minor": 2
}
