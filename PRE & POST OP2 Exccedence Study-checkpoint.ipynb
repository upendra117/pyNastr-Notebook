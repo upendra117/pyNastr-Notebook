{
 "cells": [
  {
   "cell_type": "markdown",
   "metadata": {},
   "source": [
    "# Library Imports"
   ]
  },
  {
   "cell_type": "code",
   "execution_count": 1,
   "metadata": {},
   "outputs": [],
   "source": [
    "import numpy as np\n",
    "import pandas as pd\n",
    "import pyNastran"
   ]
  },
  {
   "cell_type": "code",
   "execution_count": 2,
   "metadata": {},
   "outputs": [],
   "source": [
    "from pyNastran.op2.op2 import OP2"
   ]
  },
  {
   "cell_type": "code",
   "execution_count": 3,
   "metadata": {},
   "outputs": [],
   "source": [
    "preOP2Model = OP2()\n",
    "postOP2Model  =  OP2()"
   ]
  },
  {
   "cell_type": "markdown",
   "metadata": {},
   "source": [
    "# Read Pre & Post OP2 Files"
   ]
  },
  {
   "cell_type": "code",
   "execution_count": 4,
   "metadata": {},
   "outputs": [],
   "source": [
    "preOP2File = 'pc12-47-v1-6-static_pre.op2'\n",
    "postOP2File = 'pc12-47-v1-6-static_post_run6.op2'"
   ]
  },
  {
   "cell_type": "code",
   "execution_count": 5,
   "metadata": {},
   "outputs": [
    {
     "data": {
      "text/html": [
       "<text style=color:blue>DEBUG:   op2.py:549                   combine=True\n",
       "</text>"
      ],
      "text/plain": [
       "<IPython.core.display.HTML object>"
      ]
     },
     "metadata": {},
     "output_type": "display_data"
    },
    {
     "data": {
      "text/html": [
       "<text style=color:blue>DEBUG:   op2.py:550                   -------- reading op2 with read_mode=1 (array sizing) --------\n",
       "</text>"
      ],
      "text/plain": [
       "<IPython.core.display.HTML object>"
      ]
     },
     "metadata": {},
     "output_type": "display_data"
    },
    {
     "data": {
      "text/html": [
       "<text style=color:green>INFO:    op2_scalar.py:1322           op2_filename = 'pc12-47-v1-6-static_pre.op2'\n",
       "</text>"
      ],
      "text/plain": [
       "<IPython.core.display.HTML object>"
      ]
     },
     "metadata": {},
     "output_type": "display_data"
    },
    {
     "data": {
      "text/html": [
       "<text style=color:blue>DEBUG:   op2_scalar.py:1472             table_name=b'OQG1'\n",
       "</text>"
      ],
      "text/plain": [
       "<IPython.core.display.HTML object>"
      ]
     },
     "metadata": {},
     "output_type": "display_data"
    },
    {
     "data": {
      "text/html": [
       "<text style=color:blue>DEBUG:   op2_scalar.py:1472             table_name=b'OQMG1'\n",
       "</text>"
      ],
      "text/plain": [
       "<IPython.core.display.HTML object>"
      ]
     },
     "metadata": {},
     "output_type": "display_data"
    },
    {
     "data": {
      "text/html": [
       "<text style=color:blue>DEBUG:   op2_scalar.py:1472             table_name=b'OUG1'\n",
       "</text>"
      ],
      "text/plain": [
       "<IPython.core.display.HTML object>"
      ]
     },
     "metadata": {},
     "output_type": "display_data"
    },
    {
     "data": {
      "text/html": [
       "<text style=color:blue>DEBUG:   op2_scalar.py:1472             table_name=b'OGPFB1'\n",
       "</text>"
      ],
      "text/plain": [
       "<IPython.core.display.HTML object>"
      ]
     },
     "metadata": {},
     "output_type": "display_data"
    },
    {
     "data": {
      "text/html": [
       "<text style=color:blue>DEBUG:   op2_scalar.py:1472             table_name=b'OEF1X'\n",
       "</text>"
      ],
      "text/plain": [
       "<IPython.core.display.HTML object>"
      ]
     },
     "metadata": {},
     "output_type": "display_data"
    },
    {
     "data": {
      "text/html": [
       "<text style=color:blue>DEBUG:   op2_scalar.py:1472             table_name=b'OES1X1'\n",
       "</text>"
      ],
      "text/plain": [
       "<IPython.core.display.HTML object>"
      ]
     },
     "metadata": {},
     "output_type": "display_data"
    },
    {
     "data": {
      "text/html": [
       "<text style=color:blue>DEBUG:   op2_scalar.py:1472             table_name=b'OPG1'\n",
       "</text>"
      ],
      "text/plain": [
       "<IPython.core.display.HTML object>"
      ]
     },
     "metadata": {},
     "output_type": "display_data"
    },
    {
     "data": {
      "text/html": [
       "<text style=color:blue>DEBUG:   op2.py:563                   -------- reading op2 with read_mode=2 (array filling) --------\n",
       "</text>"
      ],
      "text/plain": [
       "<IPython.core.display.HTML object>"
      ]
     },
     "metadata": {},
     "output_type": "display_data"
    },
    {
     "data": {
      "text/html": [
       "<text style=color:blue>DEBUG:   op2_scalar.py:1472             table_name=b'OQG1'\n",
       "</text>"
      ],
      "text/plain": [
       "<IPython.core.display.HTML object>"
      ]
     },
     "metadata": {},
     "output_type": "display_data"
    },
    {
     "data": {
      "text/html": [
       "<text style=color:blue>DEBUG:   op2_scalar.py:1472             table_name=b'OQMG1'\n",
       "</text>"
      ],
      "text/plain": [
       "<IPython.core.display.HTML object>"
      ]
     },
     "metadata": {},
     "output_type": "display_data"
    },
    {
     "data": {
      "text/html": [
       "<text style=color:blue>DEBUG:   op2_scalar.py:1472             table_name=b'OUG1'\n",
       "</text>"
      ],
      "text/plain": [
       "<IPython.core.display.HTML object>"
      ]
     },
     "metadata": {},
     "output_type": "display_data"
    },
    {
     "data": {
      "text/html": [
       "<text style=color:blue>DEBUG:   op2_scalar.py:1472             table_name=b'OGPFB1'\n",
       "</text>"
      ],
      "text/plain": [
       "<IPython.core.display.HTML object>"
      ]
     },
     "metadata": {},
     "output_type": "display_data"
    },
    {
     "data": {
      "text/html": [
       "<text style=color:blue>DEBUG:   op2_scalar.py:1472             table_name=b'OEF1X'\n",
       "</text>"
      ],
      "text/plain": [
       "<IPython.core.display.HTML object>"
      ]
     },
     "metadata": {},
     "output_type": "display_data"
    },
    {
     "data": {
      "text/html": [
       "<text style=color:blue>DEBUG:   op2_scalar.py:1472             table_name=b'OES1X1'\n",
       "</text>"
      ],
      "text/plain": [
       "<IPython.core.display.HTML object>"
      ]
     },
     "metadata": {},
     "output_type": "display_data"
    },
    {
     "data": {
      "text/html": [
       "<text style=color:blue>DEBUG:   op2_scalar.py:1472             table_name=b'OPG1'\n",
       "</text>"
      ],
      "text/plain": [
       "<IPython.core.display.HTML object>"
      ]
     },
     "metadata": {},
     "output_type": "display_data"
    },
    {
     "name": "stderr",
     "output_type": "stream",
     "text": [
      "C:\\ProgramData\\Anaconda3\\lib\\site-packages\\pynastran-1.2.0+dev.no.checksum.error-py3.6.egg\\pyNastran\\op2\\op2.py:665: FutureWarning: \n",
      "Panel is deprecated and will be removed in a future version.\n",
      "The recommended way to represent these types of 3-dimensional data are with a MultiIndex on a DataFrame, via the Panel.to_frame() method\n",
      "Alternatively, you can use the xarray package http://xarray.pydata.org/en/stable/.\n",
      "Pandas provides a `.to_xarray()` method to help automate this conversion.\n",
      "\n",
      "  obj.build_dataframe()\n"
     ]
    },
    {
     "data": {
      "text/html": [
       "<text style=color:blue>DEBUG:   op2.py:766                   combine_results\n",
       "</text>"
      ],
      "text/plain": [
       "<IPython.core.display.HTML object>"
      ]
     },
     "metadata": {},
     "output_type": "display_data"
    },
    {
     "data": {
      "text/html": [
       "<text style=color:blue>DEBUG:   op2.py:575                   finished reading op2\n",
       "</text>"
      ],
      "text/plain": [
       "<IPython.core.display.HTML object>"
      ]
     },
     "metadata": {},
     "output_type": "display_data"
    },
    {
     "data": {
      "text/html": [
       "<text style=color:blue>DEBUG:   op2.py:549                   combine=True\n",
       "</text>"
      ],
      "text/plain": [
       "<IPython.core.display.HTML object>"
      ]
     },
     "metadata": {},
     "output_type": "display_data"
    },
    {
     "data": {
      "text/html": [
       "<text style=color:blue>DEBUG:   op2.py:550                   -------- reading op2 with read_mode=1 (array sizing) --------\n",
       "</text>"
      ],
      "text/plain": [
       "<IPython.core.display.HTML object>"
      ]
     },
     "metadata": {},
     "output_type": "display_data"
    },
    {
     "data": {
      "text/html": [
       "<text style=color:green>INFO:    op2_scalar.py:1322           op2_filename = 'pc12-47-v1-6-static_post_run6.op2'\n",
       "</text>"
      ],
      "text/plain": [
       "<IPython.core.display.HTML object>"
      ]
     },
     "metadata": {},
     "output_type": "display_data"
    },
    {
     "data": {
      "text/html": [
       "<text style=color:blue>DEBUG:   op2_scalar.py:1472             table_name=b'OQG1'\n",
       "</text>"
      ],
      "text/plain": [
       "<IPython.core.display.HTML object>"
      ]
     },
     "metadata": {},
     "output_type": "display_data"
    },
    {
     "data": {
      "text/html": [
       "<text style=color:blue>DEBUG:   op2_scalar.py:1472             table_name=b'OQMG1'\n",
       "</text>"
      ],
      "text/plain": [
       "<IPython.core.display.HTML object>"
      ]
     },
     "metadata": {},
     "output_type": "display_data"
    },
    {
     "data": {
      "text/html": [
       "<text style=color:blue>DEBUG:   op2_scalar.py:1472             table_name=b'OUG1'\n",
       "</text>"
      ],
      "text/plain": [
       "<IPython.core.display.HTML object>"
      ]
     },
     "metadata": {},
     "output_type": "display_data"
    },
    {
     "data": {
      "text/html": [
       "<text style=color:blue>DEBUG:   op2_scalar.py:1472             table_name=b'OGPFB1'\n",
       "</text>"
      ],
      "text/plain": [
       "<IPython.core.display.HTML object>"
      ]
     },
     "metadata": {},
     "output_type": "display_data"
    },
    {
     "data": {
      "text/html": [
       "<text style=color:blue>DEBUG:   op2_scalar.py:1472             table_name=b'OEF1X'\n",
       "</text>"
      ],
      "text/plain": [
       "<IPython.core.display.HTML object>"
      ]
     },
     "metadata": {},
     "output_type": "display_data"
    },
    {
     "data": {
      "text/html": [
       "<text style=color:blue>DEBUG:   op2_scalar.py:1472             table_name=b'OES1X1'\n",
       "</text>"
      ],
      "text/plain": [
       "<IPython.core.display.HTML object>"
      ]
     },
     "metadata": {},
     "output_type": "display_data"
    },
    {
     "data": {
      "text/html": [
       "<text style=color:blue>DEBUG:   op2_scalar.py:1472             table_name=b'OPG1'\n",
       "</text>"
      ],
      "text/plain": [
       "<IPython.core.display.HTML object>"
      ]
     },
     "metadata": {},
     "output_type": "display_data"
    },
    {
     "data": {
      "text/html": [
       "<text style=color:blue>DEBUG:   op2.py:563                   -------- reading op2 with read_mode=2 (array filling) --------\n",
       "</text>"
      ],
      "text/plain": [
       "<IPython.core.display.HTML object>"
      ]
     },
     "metadata": {},
     "output_type": "display_data"
    },
    {
     "data": {
      "text/html": [
       "<text style=color:blue>DEBUG:   op2_scalar.py:1472             table_name=b'OQG1'\n",
       "</text>"
      ],
      "text/plain": [
       "<IPython.core.display.HTML object>"
      ]
     },
     "metadata": {},
     "output_type": "display_data"
    },
    {
     "data": {
      "text/html": [
       "<text style=color:blue>DEBUG:   op2_scalar.py:1472             table_name=b'OQMG1'\n",
       "</text>"
      ],
      "text/plain": [
       "<IPython.core.display.HTML object>"
      ]
     },
     "metadata": {},
     "output_type": "display_data"
    },
    {
     "data": {
      "text/html": [
       "<text style=color:blue>DEBUG:   op2_scalar.py:1472             table_name=b'OUG1'\n",
       "</text>"
      ],
      "text/plain": [
       "<IPython.core.display.HTML object>"
      ]
     },
     "metadata": {},
     "output_type": "display_data"
    },
    {
     "data": {
      "text/html": [
       "<text style=color:blue>DEBUG:   op2_scalar.py:1472             table_name=b'OGPFB1'\n",
       "</text>"
      ],
      "text/plain": [
       "<IPython.core.display.HTML object>"
      ]
     },
     "metadata": {},
     "output_type": "display_data"
    },
    {
     "data": {
      "text/html": [
       "<text style=color:blue>DEBUG:   op2_scalar.py:1472             table_name=b'OEF1X'\n",
       "</text>"
      ],
      "text/plain": [
       "<IPython.core.display.HTML object>"
      ]
     },
     "metadata": {},
     "output_type": "display_data"
    },
    {
     "data": {
      "text/html": [
       "<text style=color:blue>DEBUG:   op2_scalar.py:1472             table_name=b'OES1X1'\n",
       "</text>"
      ],
      "text/plain": [
       "<IPython.core.display.HTML object>"
      ]
     },
     "metadata": {},
     "output_type": "display_data"
    },
    {
     "data": {
      "text/html": [
       "<text style=color:blue>DEBUG:   op2_scalar.py:1472             table_name=b'OPG1'\n",
       "</text>"
      ],
      "text/plain": [
       "<IPython.core.display.HTML object>"
      ]
     },
     "metadata": {},
     "output_type": "display_data"
    },
    {
     "data": {
      "text/html": [
       "<text style=color:blue>DEBUG:   op2.py:766                   combine_results\n",
       "</text>"
      ],
      "text/plain": [
       "<IPython.core.display.HTML object>"
      ]
     },
     "metadata": {},
     "output_type": "display_data"
    },
    {
     "data": {
      "text/html": [
       "<text style=color:blue>DEBUG:   op2.py:575                   finished reading op2\n",
       "</text>"
      ],
      "text/plain": [
       "<IPython.core.display.HTML object>"
      ]
     },
     "metadata": {},
     "output_type": "display_data"
    }
   ],
   "source": [
    "# Load Pre OP2 File\n",
    "preOP2Model.read_op2(preOP2File, build_dataframe=True)\n",
    "\n",
    "# Load Post OP2 File\n",
    "postOP2Model.read_op2(postOP2File, build_dataframe=True)"
   ]
  },
  {
   "cell_type": "markdown",
   "metadata": {},
   "source": [
    "# Get list of Results contained in OP2"
   ]
  },
  {
   "cell_type": "code",
   "execution_count": 6,
   "metadata": {},
   "outputs": [
    {
     "name": "stdout",
     "output_type": "stream",
     "text": [
      "displacements[1013]\n",
      "displacements[1101]\n",
      "displacements[1600]\n",
      "displacements[2101]\n",
      "displacements[2102]\n",
      "displacements[2103]\n",
      "displacements[2104]\n",
      "displacements[2108]\n",
      "displacements[2110]\n",
      "displacements[2113]\n",
      "displacements[2114]\n",
      "displacements[2115]\n",
      "displacements[2118]\n",
      "displacements[2201]\n",
      "displacements[2202]\n",
      "displacements[2203]\n",
      "displacements[2204]\n",
      "displacements[2208]\n",
      "displacements[2210]\n",
      "displacements[2213]\n",
      "displacements[2214]\n",
      "displacements[2215]\n",
      "displacements[2218]\n",
      "displacements[2303]\n",
      "displacements[2305]\n",
      "displacements[2307]\n",
      "displacements[2308]\n",
      "displacements[2311]\n",
      "displacements[2313]\n",
      "displacements[2411]\n",
      "displacements[2601]\n",
      "spc_forces[1013]\n",
      "spc_forces[1101]\n",
      "spc_forces[1600]\n",
      "spc_forces[2101]\n",
      "spc_forces[2102]\n",
      "spc_forces[2103]\n",
      "spc_forces[2104]\n",
      "spc_forces[2108]\n",
      "spc_forces[2110]\n",
      "spc_forces[2113]\n",
      "spc_forces[2114]\n",
      "spc_forces[2115]\n",
      "spc_forces[2118]\n",
      "spc_forces[2201]\n",
      "spc_forces[2202]\n",
      "spc_forces[2203]\n",
      "spc_forces[2204]\n",
      "spc_forces[2208]\n",
      "spc_forces[2210]\n",
      "spc_forces[2213]\n",
      "spc_forces[2214]\n",
      "spc_forces[2215]\n",
      "spc_forces[2218]\n",
      "spc_forces[2303]\n",
      "spc_forces[2305]\n",
      "spc_forces[2307]\n",
      "spc_forces[2308]\n",
      "spc_forces[2311]\n",
      "spc_forces[2313]\n",
      "spc_forces[2411]\n",
      "spc_forces[2601]\n",
      "mpc_forces[1013]\n",
      "mpc_forces[1101]\n",
      "mpc_forces[1600]\n",
      "mpc_forces[2101]\n",
      "mpc_forces[2102]\n",
      "mpc_forces[2103]\n",
      "mpc_forces[2104]\n",
      "mpc_forces[2108]\n",
      "mpc_forces[2110]\n",
      "mpc_forces[2113]\n",
      "mpc_forces[2114]\n",
      "mpc_forces[2115]\n",
      "mpc_forces[2118]\n",
      "mpc_forces[2201]\n",
      "mpc_forces[2202]\n",
      "mpc_forces[2203]\n",
      "mpc_forces[2204]\n",
      "mpc_forces[2208]\n",
      "mpc_forces[2210]\n",
      "mpc_forces[2213]\n",
      "mpc_forces[2214]\n",
      "mpc_forces[2215]\n",
      "mpc_forces[2218]\n",
      "mpc_forces[2303]\n",
      "mpc_forces[2305]\n",
      "mpc_forces[2307]\n",
      "mpc_forces[2308]\n",
      "mpc_forces[2311]\n",
      "mpc_forces[2313]\n",
      "mpc_forces[2411]\n",
      "mpc_forces[2601]\n",
      "grid_point_forces[1013]\n",
      "grid_point_forces[1101]\n",
      "grid_point_forces[1600]\n",
      "grid_point_forces[2101]\n",
      "grid_point_forces[2102]\n",
      "grid_point_forces[2103]\n",
      "grid_point_forces[2104]\n",
      "grid_point_forces[2108]\n",
      "grid_point_forces[2110]\n",
      "grid_point_forces[2113]\n",
      "grid_point_forces[2114]\n",
      "grid_point_forces[2115]\n",
      "grid_point_forces[2118]\n",
      "grid_point_forces[2201]\n",
      "grid_point_forces[2202]\n",
      "grid_point_forces[2203]\n",
      "grid_point_forces[2204]\n",
      "grid_point_forces[2208]\n",
      "grid_point_forces[2210]\n",
      "grid_point_forces[2213]\n",
      "grid_point_forces[2214]\n",
      "grid_point_forces[2215]\n",
      "grid_point_forces[2218]\n",
      "grid_point_forces[2303]\n",
      "grid_point_forces[2305]\n",
      "grid_point_forces[2307]\n",
      "grid_point_forces[2308]\n",
      "grid_point_forces[2311]\n",
      "grid_point_forces[2313]\n",
      "grid_point_forces[2411]\n",
      "grid_point_forces[2601]\n",
      "load_vectors[1013]\n",
      "load_vectors[1101]\n",
      "load_vectors[1600]\n",
      "load_vectors[2101]\n",
      "load_vectors[2102]\n",
      "load_vectors[2103]\n",
      "load_vectors[2104]\n",
      "load_vectors[2108]\n",
      "load_vectors[2110]\n",
      "load_vectors[2113]\n",
      "load_vectors[2114]\n",
      "load_vectors[2115]\n",
      "load_vectors[2118]\n",
      "load_vectors[2201]\n",
      "load_vectors[2202]\n",
      "load_vectors[2203]\n",
      "load_vectors[2204]\n",
      "load_vectors[2208]\n",
      "load_vectors[2210]\n",
      "load_vectors[2213]\n",
      "load_vectors[2214]\n",
      "load_vectors[2215]\n",
      "load_vectors[2218]\n",
      "load_vectors[2303]\n",
      "load_vectors[2305]\n",
      "load_vectors[2307]\n",
      "load_vectors[2308]\n",
      "load_vectors[2311]\n",
      "load_vectors[2313]\n",
      "load_vectors[2411]\n",
      "load_vectors[2601]\n",
      "celas2_stress[1013]\n",
      "celas2_stress[1101]\n",
      "celas2_stress[1600]\n",
      "celas2_stress[2101]\n",
      "celas2_stress[2102]\n",
      "celas2_stress[2103]\n",
      "celas2_stress[2104]\n",
      "celas2_stress[2108]\n",
      "celas2_stress[2110]\n",
      "celas2_stress[2113]\n",
      "celas2_stress[2114]\n",
      "celas2_stress[2115]\n",
      "celas2_stress[2118]\n",
      "celas2_stress[2201]\n",
      "celas2_stress[2202]\n",
      "celas2_stress[2203]\n",
      "celas2_stress[2204]\n",
      "celas2_stress[2208]\n",
      "celas2_stress[2210]\n",
      "celas2_stress[2213]\n",
      "celas2_stress[2214]\n",
      "celas2_stress[2215]\n",
      "celas2_stress[2218]\n",
      "celas2_stress[2303]\n",
      "celas2_stress[2305]\n",
      "celas2_stress[2307]\n",
      "celas2_stress[2308]\n",
      "celas2_stress[2311]\n",
      "celas2_stress[2313]\n",
      "celas2_stress[2411]\n",
      "celas2_stress[2601]\n",
      "crod_stress[1013]\n",
      "crod_stress[1101]\n",
      "crod_stress[1600]\n",
      "crod_stress[2101]\n",
      "crod_stress[2102]\n",
      "crod_stress[2103]\n",
      "crod_stress[2104]\n",
      "crod_stress[2108]\n",
      "crod_stress[2110]\n",
      "crod_stress[2113]\n",
      "crod_stress[2114]\n",
      "crod_stress[2115]\n",
      "crod_stress[2118]\n",
      "crod_stress[2201]\n",
      "crod_stress[2202]\n",
      "crod_stress[2203]\n",
      "crod_stress[2204]\n",
      "crod_stress[2208]\n",
      "crod_stress[2210]\n",
      "crod_stress[2213]\n",
      "crod_stress[2214]\n",
      "crod_stress[2215]\n",
      "crod_stress[2218]\n",
      "crod_stress[2303]\n",
      "crod_stress[2305]\n",
      "crod_stress[2307]\n",
      "crod_stress[2308]\n",
      "crod_stress[2311]\n",
      "crod_stress[2313]\n",
      "crod_stress[2411]\n",
      "crod_stress[2601]\n",
      "cbar_stress[1013]\n",
      "cbar_stress[1101]\n",
      "cbar_stress[1600]\n",
      "cbar_stress[2101]\n",
      "cbar_stress[2102]\n",
      "cbar_stress[2103]\n",
      "cbar_stress[2104]\n",
      "cbar_stress[2108]\n",
      "cbar_stress[2110]\n",
      "cbar_stress[2113]\n",
      "cbar_stress[2114]\n",
      "cbar_stress[2115]\n",
      "cbar_stress[2118]\n",
      "cbar_stress[2201]\n",
      "cbar_stress[2202]\n",
      "cbar_stress[2203]\n",
      "cbar_stress[2204]\n",
      "cbar_stress[2208]\n",
      "cbar_stress[2210]\n",
      "cbar_stress[2213]\n",
      "cbar_stress[2214]\n",
      "cbar_stress[2215]\n",
      "cbar_stress[2218]\n",
      "cbar_stress[2303]\n",
      "cbar_stress[2305]\n",
      "cbar_stress[2307]\n",
      "cbar_stress[2308]\n",
      "cbar_stress[2311]\n",
      "cbar_stress[2313]\n",
      "cbar_stress[2411]\n",
      "cbar_stress[2601]\n",
      "cbar_force[1013]\n",
      "cbar_force[1101]\n",
      "cbar_force[1600]\n",
      "cbar_force[2101]\n",
      "cbar_force[2102]\n",
      "cbar_force[2103]\n",
      "cbar_force[2104]\n",
      "cbar_force[2108]\n",
      "cbar_force[2110]\n",
      "cbar_force[2113]\n",
      "cbar_force[2114]\n",
      "cbar_force[2115]\n",
      "cbar_force[2118]\n",
      "cbar_force[2201]\n",
      "cbar_force[2202]\n",
      "cbar_force[2203]\n",
      "cbar_force[2204]\n",
      "cbar_force[2208]\n",
      "cbar_force[2210]\n",
      "cbar_force[2213]\n",
      "cbar_force[2214]\n",
      "cbar_force[2215]\n",
      "cbar_force[2218]\n",
      "cbar_force[2303]\n",
      "cbar_force[2305]\n",
      "cbar_force[2307]\n",
      "cbar_force[2308]\n",
      "cbar_force[2311]\n",
      "cbar_force[2313]\n",
      "cbar_force[2411]\n",
      "cbar_force[2601]\n",
      "ctria3_stress[1013]\n",
      "ctria3_stress[1101]\n",
      "ctria3_stress[1600]\n",
      "ctria3_stress[2101]\n",
      "ctria3_stress[2102]\n",
      "ctria3_stress[2103]\n",
      "ctria3_stress[2104]\n",
      "ctria3_stress[2108]\n",
      "ctria3_stress[2110]\n",
      "ctria3_stress[2113]\n",
      "ctria3_stress[2114]\n",
      "ctria3_stress[2115]\n",
      "ctria3_stress[2118]\n",
      "ctria3_stress[2201]\n",
      "ctria3_stress[2202]\n",
      "ctria3_stress[2203]\n",
      "ctria3_stress[2204]\n",
      "ctria3_stress[2208]\n",
      "ctria3_stress[2210]\n",
      "ctria3_stress[2213]\n",
      "ctria3_stress[2214]\n",
      "ctria3_stress[2215]\n",
      "ctria3_stress[2218]\n",
      "ctria3_stress[2303]\n",
      "ctria3_stress[2305]\n",
      "ctria3_stress[2307]\n",
      "ctria3_stress[2308]\n",
      "ctria3_stress[2311]\n",
      "ctria3_stress[2313]\n",
      "ctria3_stress[2411]\n",
      "ctria3_stress[2601]\n",
      "cquad4_stress[1013]\n",
      "cquad4_stress[1101]\n",
      "cquad4_stress[1600]\n",
      "cquad4_stress[2101]\n",
      "cquad4_stress[2102]\n",
      "cquad4_stress[2103]\n",
      "cquad4_stress[2104]\n",
      "cquad4_stress[2108]\n",
      "cquad4_stress[2110]\n",
      "cquad4_stress[2113]\n",
      "cquad4_stress[2114]\n",
      "cquad4_stress[2115]\n",
      "cquad4_stress[2118]\n",
      "cquad4_stress[2201]\n",
      "cquad4_stress[2202]\n",
      "cquad4_stress[2203]\n",
      "cquad4_stress[2204]\n",
      "cquad4_stress[2208]\n",
      "cquad4_stress[2210]\n",
      "cquad4_stress[2213]\n",
      "cquad4_stress[2214]\n",
      "cquad4_stress[2215]\n",
      "cquad4_stress[2218]\n",
      "cquad4_stress[2303]\n",
      "cquad4_stress[2305]\n",
      "cquad4_stress[2307]\n",
      "cquad4_stress[2308]\n",
      "cquad4_stress[2311]\n",
      "cquad4_stress[2313]\n",
      "cquad4_stress[2411]\n",
      "cquad4_stress[2601]\n",
      "cshear_stress[1013]\n",
      "cshear_stress[1101]\n",
      "cshear_stress[1600]\n",
      "cshear_stress[2101]\n",
      "cshear_stress[2102]\n",
      "cshear_stress[2103]\n",
      "cshear_stress[2104]\n",
      "cshear_stress[2108]\n",
      "cshear_stress[2110]\n",
      "cshear_stress[2113]\n",
      "cshear_stress[2114]\n",
      "cshear_stress[2115]\n",
      "cshear_stress[2118]\n",
      "cshear_stress[2201]\n",
      "cshear_stress[2202]\n",
      "cshear_stress[2203]\n",
      "cshear_stress[2204]\n",
      "cshear_stress[2208]\n",
      "cshear_stress[2210]\n",
      "cshear_stress[2213]\n",
      "cshear_stress[2214]\n",
      "cshear_stress[2215]\n",
      "cshear_stress[2218]\n",
      "cshear_stress[2303]\n",
      "cshear_stress[2305]\n",
      "cshear_stress[2307]\n",
      "cshear_stress[2308]\n",
      "cshear_stress[2311]\n",
      "cshear_stress[2313]\n",
      "cshear_stress[2411]\n",
      "cshear_stress[2601]\n",
      "crod_force[1013]\n",
      "crod_force[1101]\n",
      "crod_force[1600]\n",
      "crod_force[2101]\n",
      "crod_force[2102]\n",
      "crod_force[2103]\n",
      "crod_force[2104]\n",
      "crod_force[2108]\n",
      "crod_force[2110]\n",
      "crod_force[2113]\n",
      "crod_force[2114]\n",
      "crod_force[2115]\n",
      "crod_force[2118]\n",
      "crod_force[2201]\n",
      "crod_force[2202]\n",
      "crod_force[2203]\n",
      "crod_force[2204]\n",
      "crod_force[2208]\n",
      "crod_force[2210]\n",
      "crod_force[2213]\n",
      "crod_force[2214]\n",
      "crod_force[2215]\n",
      "crod_force[2218]\n",
      "crod_force[2303]\n",
      "crod_force[2305]\n",
      "crod_force[2307]\n",
      "crod_force[2308]\n",
      "crod_force[2311]\n",
      "crod_force[2313]\n",
      "crod_force[2411]\n",
      "crod_force[2601]\n",
      "cquad4_force[1013]\n",
      "cquad4_force[1101]\n",
      "cquad4_force[1600]\n",
      "cquad4_force[2101]\n",
      "cquad4_force[2102]\n",
      "cquad4_force[2103]\n",
      "cquad4_force[2104]\n",
      "cquad4_force[2108]\n",
      "cquad4_force[2110]\n",
      "cquad4_force[2113]\n",
      "cquad4_force[2114]\n",
      "cquad4_force[2115]\n",
      "cquad4_force[2118]\n",
      "cquad4_force[2201]\n",
      "cquad4_force[2202]\n",
      "cquad4_force[2203]\n",
      "cquad4_force[2204]\n",
      "cquad4_force[2208]\n",
      "cquad4_force[2210]\n",
      "cquad4_force[2213]\n",
      "cquad4_force[2214]\n",
      "cquad4_force[2215]\n",
      "cquad4_force[2218]\n",
      "cquad4_force[2303]\n",
      "cquad4_force[2305]\n",
      "cquad4_force[2307]\n",
      "cquad4_force[2308]\n",
      "cquad4_force[2311]\n",
      "cquad4_force[2313]\n",
      "cquad4_force[2411]\n",
      "cquad4_force[2601]\n",
      "ctria3_force[1013]\n",
      "ctria3_force[1101]\n",
      "ctria3_force[1600]\n",
      "ctria3_force[2101]\n",
      "ctria3_force[2102]\n",
      "ctria3_force[2103]\n",
      "ctria3_force[2104]\n",
      "ctria3_force[2108]\n",
      "ctria3_force[2110]\n",
      "ctria3_force[2113]\n",
      "ctria3_force[2114]\n",
      "ctria3_force[2115]\n",
      "ctria3_force[2118]\n",
      "ctria3_force[2201]\n",
      "ctria3_force[2202]\n",
      "ctria3_force[2203]\n",
      "ctria3_force[2204]\n",
      "ctria3_force[2208]\n",
      "ctria3_force[2210]\n",
      "ctria3_force[2213]\n",
      "ctria3_force[2214]\n",
      "ctria3_force[2215]\n",
      "ctria3_force[2218]\n",
      "ctria3_force[2303]\n",
      "ctria3_force[2305]\n",
      "ctria3_force[2307]\n",
      "ctria3_force[2308]\n",
      "ctria3_force[2311]\n",
      "ctria3_force[2313]\n",
      "ctria3_force[2411]\n",
      "ctria3_force[2601]\n",
      "cshear_force[1013]\n",
      "cshear_force[1101]\n",
      "cshear_force[1600]\n",
      "cshear_force[2101]\n",
      "cshear_force[2102]\n",
      "cshear_force[2103]\n",
      "cshear_force[2104]\n",
      "cshear_force[2108]\n",
      "cshear_force[2110]\n",
      "cshear_force[2113]\n",
      "cshear_force[2114]\n",
      "cshear_force[2115]\n",
      "cshear_force[2118]\n",
      "cshear_force[2201]\n",
      "cshear_force[2202]\n",
      "cshear_force[2203]\n",
      "cshear_force[2204]\n",
      "cshear_force[2208]\n",
      "cshear_force[2210]\n",
      "cshear_force[2213]\n",
      "cshear_force[2214]\n",
      "cshear_force[2215]\n",
      "cshear_force[2218]\n",
      "cshear_force[2303]\n",
      "cshear_force[2305]\n",
      "cshear_force[2307]\n",
      "cshear_force[2308]\n",
      "cshear_force[2311]\n",
      "cshear_force[2313]\n",
      "cshear_force[2411]\n",
      "cshear_force[2601]\n",
      "celas2_force[1013]\n",
      "celas2_force[1101]\n",
      "celas2_force[1600]\n",
      "celas2_force[2101]\n",
      "celas2_force[2102]\n",
      "celas2_force[2103]\n",
      "celas2_force[2104]\n",
      "celas2_force[2108]\n",
      "celas2_force[2110]\n",
      "celas2_force[2113]\n",
      "celas2_force[2114]\n",
      "celas2_force[2115]\n",
      "celas2_force[2118]\n",
      "celas2_force[2201]\n",
      "celas2_force[2202]\n",
      "celas2_force[2203]\n",
      "celas2_force[2204]\n",
      "celas2_force[2208]\n",
      "celas2_force[2210]\n",
      "celas2_force[2213]\n",
      "celas2_force[2214]\n",
      "celas2_force[2215]\n",
      "celas2_force[2218]\n",
      "celas2_force[2303]\n",
      "celas2_force[2305]\n",
      "celas2_force[2307]\n",
      "celas2_force[2308]\n",
      "celas2_force[2311]\n",
      "celas2_force[2313]\n",
      "celas2_force[2411]\n",
      "celas2_force[2601]\n"
     ]
    },
    {
     "name": "stdout",
     "output_type": "stream",
     "text": [
      "\n"
     ]
    }
   ],
   "source": [
    "print(preOP2Model.get_op2_stats(short=True))"
   ]
  },
  {
   "cell_type": "markdown",
   "metadata": {},
   "source": [
    "# Checking for existing Shear Stress Load Cases"
   ]
  },
  {
   "cell_type": "code",
   "execution_count": 7,
   "metadata": {},
   "outputs": [
    {
     "data": {
      "text/plain": [
       "[91013,\n",
       " 91101,\n",
       " 91600,\n",
       " 92101,\n",
       " 92102,\n",
       " 92103,\n",
       " 92104,\n",
       " 92108,\n",
       " 92110,\n",
       " 92113,\n",
       " 92114,\n",
       " 92115,\n",
       " 92118,\n",
       " 92201,\n",
       " 92202,\n",
       " 92203,\n",
       " 92204,\n",
       " 92208,\n",
       " 92210,\n",
       " 92213,\n",
       " 92214,\n",
       " 92215,\n",
       " 92218,\n",
       " 92303,\n",
       " 92305,\n",
       " 92307,\n",
       " 92308,\n",
       " 92311,\n",
       " 92313,\n",
       " 92411,\n",
       " 92601]"
      ]
     },
     "execution_count": 7,
     "metadata": {},
     "output_type": "execute_result"
    }
   ],
   "source": [
    "preLCs = list(preOP2Model.cshear_stress.keys())\n",
    "postLCs = list(postOP2Model.cshear_stress.keys())\n",
    "preLCs\n",
    "postLCs"
   ]
  },
  {
   "cell_type": "code",
   "execution_count": null,
   "metadata": {},
   "outputs": [],
   "source": [
    "# Function Which creates new index for Shear Stress individual loadcase\n",
    "def newShearIndex(lc):\n",
    "    colReInx = pd.MultiIndex.from_tuples([(lc, 'max_shear'), (lc, 'avg_shear'), (lc, 'margin')])\n",
    "    return colReInx\n",
    "    "
   ]
  },
  {
   "cell_type": "markdown",
   "metadata": {},
   "source": [
    "# Collecting Pre OP2 Shear Stress Results"
   ]
  },
  {
   "cell_type": "code",
   "execution_count": null,
   "metadata": {},
   "outputs": [],
   "source": [
    "# Start with an empty dataframe [note: Logic to be changed later]\n",
    "cShearResultDF_Pre = pd.DataFrame({'A' : []})\n",
    "for lc in preLCs:\n",
    "    tempDF = preOP2Model.cshear_stress[lc].data_frame\n",
    "    tempDF = tempDF.unstack(level=0).T\n",
    "    tempDF1 = tempDF.reindex(columns=newShearIndex(lc), level=1)\n",
    "    if cShearResultDF_Pre.empty == False:\n",
    "        cShearResultDF_Pre = pd.concat([cShearResultDF_Pre, tempDF1], axis=1,sort=False)\n",
    "    else :\n",
    "        cShearResultDF_Pre = tempDF1.copy()\n",
    "    "
   ]
  },
  {
   "cell_type": "markdown",
   "metadata": {},
   "source": [
    "# Collecting Post OP2 Shear Stress Results"
   ]
  },
  {
   "cell_type": "code",
   "execution_count": null,
   "metadata": {},
   "outputs": [],
   "source": [
    "# Start with an empty dataframe [note: Logic to be changed later]\n",
    "cShearResultDF_Post = pd.DataFrame({'A' : []})\n",
    "for lc in postLCs:\n",
    "    tempDF = postOP2Model.cshear_stress[lc].data_frame\n",
    "    tempDF = tempDF.unstack(level=0).T\n",
    "    tempDF1 = tempDF.reindex(columns=newShearIndex(lc), level=1)\n",
    "    if cShearResultDF_Post.empty == False:\n",
    "        cShearResultDF_Post = pd.concat([cShearResultDF_Post, tempDF1], axis=1,sort=False)\n",
    "    else :\n",
    "        cShearResultDF_Post = tempDF1.copy()"
   ]
  },
  {
   "cell_type": "markdown",
   "metadata": {},
   "source": [
    "# Writing Shear Stress results to csv file\n",
    "## Please make to sure change output File name as per your requirement ***"
   ]
  },
  {
   "cell_type": "code",
   "execution_count": null,
   "metadata": {},
   "outputs": [],
   "source": [
    "cShearResultDF_Pre.to_csv('preMod_cShear_Stress.csv')\n",
    "cShearResultDF_Post.to_csv('postMod_cShear_Stress.csv')"
   ]
  },
  {
   "cell_type": "code",
   "execution_count": null,
   "metadata": {},
   "outputs": [],
   "source": [
    "# Function Which creates new index for Bar Stress individual loadcase\n",
    "def newBarIndex(lc):\n",
    "    colReInx = pd.MultiIndex.from_tuples([(lc, 's1a'), (lc, 's2a'), (lc, 's3a'), (lc, 's4a'), (lc, 'axial'), (lc, 'smaxa'), (lc, 'smina'), (lc, 'MS_tension'), (lc, 's1b'), (lc, 's2b'), (lc, 's3b'), (lc, 's4b'), (lc, 'smaxb'), (lc, 'sminb'), (lc, 'MS_compression')])\n",
    "    return colReInx\n"
   ]
  },
  {
   "cell_type": "markdown",
   "metadata": {},
   "source": [
    "# Collecting Pre OP2 Bar Stress Results"
   ]
  },
  {
   "cell_type": "code",
   "execution_count": null,
   "metadata": {},
   "outputs": [],
   "source": [
    "# Start with an empty dataframe [note: Logic to be changed later]\n",
    "cBarResultDF_Pre = pd.DataFrame({'A' : []})\n",
    "for lc in preLCs:\n",
    "    tempDF = preOP2Model.cbar_stress[lc].data_frame\n",
    "    tempDF = tempDF.unstack(level=0).T\n",
    "    tempDF1 = tempDF.reindex(columns=newBarIndex(lc), level=1)\n",
    "    if cBarResultDF_Pre.empty == False:\n",
    "        cBarResultDF_Pre = pd.concat([cBarResultDF_Pre, tempDF1], axis=1,sort=False)\n",
    "    else :\n",
    "        cBarResultDF_Pre = tempDF1.copy()"
   ]
  },
  {
   "cell_type": "markdown",
   "metadata": {},
   "source": [
    "# Collecting Post OP2 Bar Stress Results"
   ]
  },
  {
   "cell_type": "code",
   "execution_count": null,
   "metadata": {},
   "outputs": [],
   "source": [
    "# Start with an empty dataframe [note: Logic to be changed later]\n",
    "cBarResultDF_Post = pd.DataFrame({'A' : []})\n",
    "for lc in postLCs:\n",
    "    tempDF = postOP2Model.cbar_stress[lc].data_frame\n",
    "    tempDF = tempDF.unstack(level=0).T\n",
    "    tempDF1 = tempDF.reindex(columns=newBarIndex(lc), level=1)\n",
    "    if cBarResultDF_Post.empty == False:\n",
    "        cBarResultDF_Post = pd.concat([cBarResultDF_Post, tempDF1], axis=1,sort=False)\n",
    "    else :\n",
    "        cBarResultDF_Post = tempDF1.copy()"
   ]
  },
  {
   "cell_type": "markdown",
   "metadata": {},
   "source": [
    "# Writing Bar Stress results to csv file\n",
    "## Please make to sure change output File name as per your requirement ***"
   ]
  },
  {
   "cell_type": "code",
   "execution_count": null,
   "metadata": {},
   "outputs": [],
   "source": [
    "cBarResultDF_Pre.to_csv('preMod_cBar_Stress.csv')\n",
    "cBarResultDF_Post.to_csv('postMod_cBar_Stress.csv')"
   ]
  },
  {
   "cell_type": "markdown",
   "metadata": {},
   "source": [
    "# For Bar Axial Stress results only\n",
    "## The following code is applicable only to extract bar axial stresses."
   ]
  },
  {
   "cell_type": "code",
   "execution_count": null,
   "metadata": {},
   "outputs": [],
   "source": [
    "# Function Which creates new index for Bar Stress individual loadcase\n",
    "def newBarIndex_Axial(lc):\n",
    "    colReInx = pd.MultiIndex.from_tuples([ (lc, 'axial')])\n",
    "    return colReInx"
   ]
  },
  {
   "cell_type": "code",
   "execution_count": null,
   "metadata": {},
   "outputs": [],
   "source": [
    "# Start with an empty dataframe [note: Logic to be changed later]\n",
    "cBarResultDF_Pre_Axial = pd.DataFrame({'A' : []})\n",
    "for lc in preLCs:\n",
    "    tempDF = preOP2Model.cbar_stress[lc].data_frame\n",
    "    tempDF = tempDF.unstack(level=0).T\n",
    "    tempDF1 = tempDF.reindex(columns=newBarIndex_Axial(lc), level=1)\n",
    "    if cBarResultDF_Pre_Axial.empty == False:\n",
    "        cBarResultDF_Pre_Axial = pd.concat([cBarResultDF_Pre_Axial, tempDF1], axis=1,sort=False)\n",
    "    else :\n",
    "        cBarResultDF_Pre_Axial = tempDF1.copy()"
   ]
  },
  {
   "cell_type": "code",
   "execution_count": 25,
   "metadata": {},
   "outputs": [],
   "source": [
    "# Start with an empty dataframe [note: Logic to be changed later]\n",
    "cBarResultDF_Post_Axial = pd.DataFrame({'A' : []})\n",
    "for lc in postLCs:\n",
    "    tempDF = postOP2Model.cbar_stress[lc].data_frame\n",
    "    tempDF = tempDF.unstack(level=0).T\n",
    "    tempDF1 = tempDF.reindex(columns=newBarIndex_Axial(lc), level=1)\n",
    "    if cBarResultDF_Post_Axial.empty == False:\n",
    "        cBarResultDF_Post_Axial = pd.concat([cBarResultDF_Post_Axial, tempDF1], axis=1,sort=False)\n",
    "    else :\n",
    "        cBarResultDF_Post_Axial = tempDF1.copy()"
   ]
  },
  {
   "cell_type": "markdown",
   "metadata": {},
   "source": [
    "# Writing Bar Axial Stress results only to csv file"
   ]
  },
  {
   "cell_type": "code",
   "execution_count": null,
   "metadata": {},
   "outputs": [],
   "source": [
    "cBarResultDF_Pre_Axial.to_csv('preMod_cBar_Stress_Axial.csv')\n",
    "cBarResultDF_Post_Axial.to_csv('postMod_cBar_Stress_Axial.csv')"
   ]
  },
  {
   "cell_type": "markdown",
   "metadata": {},
   "source": [
    "# PSHELL Fx Table extraction"
   ]
  },
  {
   "cell_type": "code",
   "execution_count": null,
   "metadata": {},
   "outputs": [],
   "source": [
    "# Function Which creates new index for Quad Stress individual loadcase\n",
    "def newQUADIndex_Fx(lc):\n",
    "    colReInx = pd.MultiIndex.from_tuples([ (lc, 'oxx')])\n",
    "    return colReInx\n",
    "# Function Which creates new index for Quad Stress individual loadcase\n",
    "def newQUADIndex_Fy(lc):\n",
    "    colReInx = pd.MultiIndex.from_tuples([ (lc, 'oyy')])\n",
    "    return colReInx\n",
    "# Function Which creates new index for Quad Stress individual loadcase\n",
    "def newQUADIndex_Fxy(lc):\n",
    "    colReInx = pd.MultiIndex.from_tuples([ (lc, 'txy')])\n",
    "    return colReInx"
   ]
  },
  {
   "cell_type": "code",
   "execution_count": null,
   "metadata": {},
   "outputs": [],
   "source": [
    "# Start with an empty dataframe [note: Logic to be changed later]\n",
    "cShellResultDF_Pre_Fx = pd.DataFrame({'A' : []})\n",
    "for lc in preLCs:\n",
    "    tempDF = preOP2Model.cquad4_stress[lc].data_frame\n",
    "    tempDF1 = tempDF.reindex(columns=newQUADIndex_Fx(lc), level=1)\n",
    "    if cShellResultDF_Pre_Fx.empty == False:\n",
    "        cShellResultDF_Pre_Fx = pd.concat([cShellResultDF_Pre_Fx, tempDF1], axis=1,sort=False)\n",
    "    else :\n",
    "        cShellResultDF_Pre_Fx = tempDF1.copy()\n",
    "\n",
    "# Start with an empty dataframe [note: Logic to be changed later]\n",
    "cShellResultDF_Post_Fx = pd.DataFrame({'A' : []})\n",
    "for lc in postLCs:\n",
    "    tempDF = postOP2Model.cquad4_stress[lc].data_frame\n",
    "    tempDF1 = tempDF.reindex(columns=newQUADIndex_Fx(lc), level=1)\n",
    "    if cShellResultDF_Post_Fx.empty == False:\n",
    "        cShellResultDF_Post_Fx = pd.concat([cShellResultDF_Post_Fx, tempDF1], axis=1,sort=False)\n",
    "    else :\n",
    "        cShellResultDF_Post_Fx = tempDF1.copy()"
   ]
  },
  {
   "cell_type": "markdown",
   "metadata": {},
   "source": [
    "# PSHELL Fy Table extraction"
   ]
  },
  {
   "cell_type": "code",
   "execution_count": null,
   "metadata": {},
   "outputs": [],
   "source": [
    "# Start with an empty dataframe [note: Logic to be changed later]\n",
    "cShellResultDF_Pre_Fy = pd.DataFrame({'A' : []})\n",
    "for lc in preLCs:\n",
    "    tempDF = preOP2Model.cquad4_stress[lc].data_frame\n",
    "    tempDF1 = tempDF.reindex(columns=newQUADIndex_Fy(lc), level=1)\n",
    "    if cShellResultDF_Pre_Fy.empty == False:\n",
    "        cShellResultDF_Pre_Fy = pd.concat([cShellResultDF_Pre_Fy, tempDF1], axis=1,sort=False)\n",
    "    else :\n",
    "        cShellResultDF_Pre_Fy = tempDF1.copy()\n",
    "\n",
    "# Start with an empty dataframe [note: Logic to be changed later]\n",
    "cShellResultDF_Post_Fy = pd.DataFrame({'A' : []})\n",
    "for lc in postLCs:\n",
    "    tempDF = postOP2Model.cquad4_stress[lc].data_frame\n",
    "    tempDF1 = tempDF.reindex(columns=newQUADIndex_Fy(lc), level=1)\n",
    "    if cShellResultDF_Post_Fy.empty == False:\n",
    "        cShellResultDF_Post_Fy = pd.concat([cShellResultDF_Post_Fy, tempDF1], axis=1,sort=False)\n",
    "    else :\n",
    "        cShellResultDF_Post_Fy = tempDF1.copy()"
   ]
  },
  {
   "cell_type": "markdown",
   "metadata": {},
   "source": [
    "# PSHELL Fxy Table extraction"
   ]
  },
  {
   "cell_type": "code",
   "execution_count": null,
   "metadata": {},
   "outputs": [],
   "source": [
    "# Start with an empty dataframe [note: Logic to be changed later]\n",
    "cShellResultDF_Pre_Fxy = pd.DataFrame({'A' : []})\n",
    "for lc in preLCs:\n",
    "    tempDF = preOP2Model.cquad4_stress[lc].data_frame\n",
    "    tempDF1 = tempDF.reindex(columns=newQUADIndex_Fxy(lc), level=1)\n",
    "    if cShellResultDF_Pre_Fxy.empty == False:\n",
    "        cShellResultDF_Pre_Fxy = pd.concat([cShellResultDF_Pre_Fxy, tempDF1], axis=1,sort=False)\n",
    "    else :\n",
    "        cShellResultDF_Pre_Fxy = tempDF1.copy()\n",
    "        \n",
    "# Start with an empty dataframe [note: Logic to be changed later]\n",
    "cShellResultDF_Post_Fxy = pd.DataFrame({'A' : []})\n",
    "for lc in postLCs:\n",
    "    tempDF = postOP2Model.cquad4_stress[lc].data_frame\n",
    "    tempDF1 = tempDF.reindex(columns=newQUADIndex_Fxy(lc), level=1)\n",
    "    if cShellResultDF_Post_Fxy.empty == False:\n",
    "        cShellResultDF_Post_Fxy = pd.concat([cShellResultDF_Post_Fxy, tempDF1], axis=1,sort=False)\n",
    "    else :\n",
    "        cShellResultDF_Post_Fxy = tempDF1.copy()"
   ]
  },
  {
   "cell_type": "code",
   "execution_count": null,
   "metadata": {},
   "outputs": [],
   "source": [
    "cShellResultDF_Pre_Fx.to_csv('preMod_cQUAD_Stress_Fx.csv');\n",
    "cShellResultDF_Pre_Fy.to_csv('preMod_cQUAD_Stress_Fy.csv');\n",
    "cShellResultDF_Pre_Fxy.to_csv('preMod_cQUAD_Stress_Fxy.csv');\n",
    "cShellResultDF_Post_Fx.to_csv('postMod_cQUAD_Stress_Fx.csv');\n",
    "cShellResultDF_Post_Fy.to_csv('postMod_cQUAD_Stress_Fy.csv');\n",
    "cShellResultDF_Post_Fxy.to_csv('postMod_cQUAD_Stress_Fxy.csv');"
   ]
  },
  {
   "cell_type": "markdown",
   "metadata": {},
   "source": [
    "# Testing Section"
   ]
  },
  {
   "cell_type": "code",
   "execution_count": 8,
   "metadata": {},
   "outputs": [
    {
     "data": {
      "text/html": [
       "<div>\n",
       "<style scoped>\n",
       "    .dataframe tbody tr th:only-of-type {\n",
       "        vertical-align: middle;\n",
       "    }\n",
       "\n",
       "    .dataframe tbody tr th {\n",
       "        vertical-align: top;\n",
       "    }\n",
       "\n",
       "    .dataframe thead th {\n",
       "        text-align: right;\n",
       "    }\n",
       "</style>\n",
       "<table border=\"1\" class=\"dataframe\">\n",
       "  <thead>\n",
       "    <tr style=\"text-align: right;\">\n",
       "      <th></th>\n",
       "      <th>Static</th>\n",
       "      <th>0</th>\n",
       "    </tr>\n",
       "    <tr>\n",
       "      <th>ElementID</th>\n",
       "      <th>Item</th>\n",
       "      <th></th>\n",
       "    </tr>\n",
       "  </thead>\n",
       "  <tbody>\n",
       "    <tr>\n",
       "      <th rowspan=\"4\" valign=\"top\">1110709</th>\n",
       "      <th>axial</th>\n",
       "      <td>-2.259183e+00</td>\n",
       "    </tr>\n",
       "    <tr>\n",
       "      <th>SMa</th>\n",
       "      <td>1.401298e-45</td>\n",
       "    </tr>\n",
       "    <tr>\n",
       "      <th>torsion</th>\n",
       "      <td>-0.000000e+00</td>\n",
       "    </tr>\n",
       "    <tr>\n",
       "      <th>SMt</th>\n",
       "      <td>1.401298e-45</td>\n",
       "    </tr>\n",
       "    <tr>\n",
       "      <th>1110710</th>\n",
       "      <th>axial</th>\n",
       "      <td>-2.044555e+00</td>\n",
       "    </tr>\n",
       "  </tbody>\n",
       "</table>\n",
       "</div>"
      ],
      "text/plain": [
       "Static                        0\n",
       "ElementID Item                 \n",
       "1110709   axial   -2.259183e+00\n",
       "          SMa      1.401298e-45\n",
       "          torsion -0.000000e+00\n",
       "          SMt      1.401298e-45\n",
       "1110710   axial   -2.044555e+00"
      ]
     },
     "execution_count": 8,
     "metadata": {},
     "output_type": "execute_result"
    }
   ],
   "source": [
    "postOP2Model.crod_stress[91013].data_frame.head()"
   ]
  },
  {
   "cell_type": "markdown",
   "metadata": {},
   "source": [
    "# Collecting Pre OP2 Rod Stress Results"
   ]
  },
  {
   "cell_type": "code",
   "execution_count": 10,
   "metadata": {},
   "outputs": [],
   "source": [
    "# Function Which creates new index for Rod Axial Stress individual loadcase\n",
    "def newRodIndex_Axial(lc):\n",
    "    colReInx = pd.MultiIndex.from_tuples([ (lc, 'axial')])\n",
    "    return colReInx"
   ]
  },
  {
   "cell_type": "code",
   "execution_count": 13,
   "metadata": {},
   "outputs": [],
   "source": [
    "# Start with an empty dataframe [note: Logic to be changed later]\n",
    "cRodResultDF_Pre_Axial = pd.DataFrame({'A' : []})\n",
    "for lc in preLCs:\n",
    "    tempDF = preOP2Model.crod_stress[lc].data_frame\n",
    "    tempDF = tempDF.unstack(level=0).T\n",
    "    tempDF1 = tempDF.reindex(columns=newRodIndex_Axial(lc), level=1)\n",
    "    if cRodResultDF_Pre_Axial.empty == False:\n",
    "        cRodResultDF_Pre_Axial = pd.concat([cRodResultDF_Pre_Axial, tempDF1], axis=1,sort=False)\n",
    "    else :\n",
    "        cRodResultDF_Pre_Axial = tempDF1.copy()"
   ]
  },
  {
   "cell_type": "code",
   "execution_count": 22,
   "metadata": {},
   "outputs": [],
   "source": [
    "# Start with an empty dataframe [note: Logic to be changed later]\n",
    "cRodResultDF_Post_Axial = pd.DataFrame({'A' : []})\n",
    "for lc in postLCs:\n",
    "    tempDF = postOP2Model.crod_stress[lc].data_frame\n",
    "    tempDF = tempDF.unstack(level=0).T\n",
    "    tempDF1 = tempDF.reindex(columns=newRodIndex_Axial(lc), level=1)\n",
    "    if cRodResultDF_Post_Axial.empty == False:\n",
    "        cRodResultDF_Post_Axial = pd.concat([cRodResultDF_Post_Axial, tempDF1], axis=1,sort=False)\n",
    "    else :\n",
    "        cRodResultDF_Post_Axial = tempDF1.copy()"
   ]
  },
  {
   "cell_type": "code",
   "execution_count": 23,
   "metadata": {},
   "outputs": [],
   "source": [
    "cRodResultDF_Pre_Axial.to_csv('preMod_cRod_Stress_Axial.csv')\n",
    "cRodResultDF_Post_Axial.to_csv('postMod_cRod_Stress_Axial.csv')"
   ]
  },
  {
   "cell_type": "markdown",
   "metadata": {},
   "source": [
    "# Appending Rod Stresses to Bar Stress table."
   ]
  },
  {
   "cell_type": "code",
   "execution_count": 26,
   "metadata": {},
   "outputs": [],
   "source": [
    "Appended_Pre_Results = cBarResultDF_Pre_Axial.append(cRodResultDF_Pre_Axial, ignore_index=False)\n",
    "Appended_Post_Results = cBarResultDF_Post_Axial.append(cRodResultDF_Post_Axial, ignore_index=False)"
   ]
  },
  {
   "cell_type": "code",
   "execution_count": 27,
   "metadata": {},
   "outputs": [],
   "source": [
    "Appended_Pre_Results.to_csv('preMod_Appended_cBar_and_Rod_Stresses_Axial.csv')\n",
    "Appended_Post_Results.to_csv('postMod_Appended_cBar_and_Rod_Stresses_Axial.csv')"
   ]
  },
  {
   "cell_type": "code",
   "execution_count": null,
   "metadata": {},
   "outputs": [],
   "source": []
  }
 ],
 "metadata": {
  "kernelspec": {
   "display_name": "Python 3",
   "language": "python",
   "name": "python3"
  },
  "language_info": {
   "codemirror_mode": {
    "name": "ipython",
    "version": 3
   },
   "file_extension": ".py",
   "mimetype": "text/x-python",
   "name": "python",
   "nbconvert_exporter": "python",
   "pygments_lexer": "ipython3",
   "version": "3.6.5"
  }
 },
 "nbformat": 4,
 "nbformat_minor": 2
}
