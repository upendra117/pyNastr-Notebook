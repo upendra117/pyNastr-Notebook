{
 "cells": [
  {
   "cell_type": "code",
   "execution_count": 1,
   "metadata": {},
   "outputs": [],
   "source": [
    "import os\n",
    "import glob\n",
    "import numpy as np\n",
    "import pandas as pd\n",
    "import pyNastran\n",
    "from pyNastran.op2.op2 import OP2"
   ]
  },
  {
   "cell_type": "code",
   "execution_count": 2,
   "metadata": {},
   "outputs": [],
   "source": [
    "def ReadOP2Files(path):\n",
    "    path = path + '*.op2'\n",
    "    print('Given File path is : \\n' , path , '\\n')\n",
    "    op2ListName = glob.glob(path)\n",
    "    print('Found the following list of OP2 Files: \\n')\n",
    "    print('========================================', '\\n')\n",
    "    op2ListName\n",
    "    dictOP2FileList = {}\n",
    "    for i in range(len(op2ListName)):\n",
    "        #print(colors[i])\n",
    "        dictOP2FileList[os.path.splitext(os.path.basename(op2ListName[i]))[0]] = op2ListName[i]\n",
    "        #print(os.path.basename(op2ListName[i]), op2ListName[i])\n",
    "        #print(os.path.splitext(os.path.basename(op2ListName[i])))\n",
    "    return dictOP2FileList"
   ]
  },
  {
   "cell_type": "code",
   "execution_count": 3,
   "metadata": {},
   "outputs": [],
   "source": [
    "def ReadOP2File(op2FileName):\n",
    "    preOP2Model = OP2()\n",
    "    preOP2File = op2FileName\n",
    "    # Load Pre OP2 File\n",
    "    preOP2Model.read_op2(preOP2File, build_dataframe=True)\n",
    "    return preOP2Model"
   ]
  },
  {
   "cell_type": "code",
   "execution_count": 4,
   "metadata": {},
   "outputs": [],
   "source": [
    "def ReadLoadcases(preOP2Model):\n",
    "#     print(preOP2Model.get_op2_stats(short=True))\n",
    "    preLCs = list(preOP2Model.cshear_stress.keys())\n",
    "    return preLCs"
   ]
  },
  {
   "cell_type": "code",
   "execution_count": 5,
   "metadata": {},
   "outputs": [],
   "source": [
    "# Function Which creates new index for Shear Stress individual loadcase\n",
    "def newShearIndex(lc):\n",
    "    colReInx = pd.MultiIndex.from_tuples([(lc, 'max_shear'), (lc, 'avg_shear'), (lc, 'margin')])\n",
    "    return colReInx"
   ]
  },
  {
   "cell_type": "code",
   "execution_count": 6,
   "metadata": {},
   "outputs": [],
   "source": [
    "def ReadShearStressResults(preOP2Model):\n",
    "    preLCs = ReadLoadcases(preOP2Model)\n",
    "    # Start with an empty dataframe [note: Logic to be changed later]\n",
    "    cShearResultDF_Pre = pd.DataFrame({'A' : []})\n",
    "    for lc in preLCs:\n",
    "        tempDF = preOP2Model.cshear_stress[lc].data_frame\n",
    "        tempDF = tempDF.unstack(level=0).T\n",
    "        tempDF1 = tempDF.reindex(columns=newShearIndex(lc), level=1)\n",
    "        if cShearResultDF_Pre.empty == False:\n",
    "            cShearResultDF_Pre = pd.concat([cShearResultDF_Pre, tempDF1], axis=1,sort=False)\n",
    "        else :\n",
    "            cShearResultDF_Pre = tempDF1.copy()\n",
    "    return cShearResultDF_Pre"
   ]
  },
  {
   "cell_type": "code",
   "execution_count": 7,
   "metadata": {},
   "outputs": [],
   "source": [
    "# Function Which creates new index for Bar Stress individual loadcase\n",
    "def newBarIndex(lc):\n",
    "    colReInx = pd.MultiIndex.from_tuples([(lc, 's1a'), (lc, 's2a'), (lc, 's3a'), (lc, 's4a'), (lc, 'axial'), (lc, 'smaxa'), (lc, 'smina'), (lc, 'MS_tension'), (lc, 's1b'), (lc, 's2b'), (lc, 's3b'), (lc, 's4b'), (lc, 'smaxb'), (lc, 'sminb'), (lc, 'MS_compression')])\n",
    "    return colReInx"
   ]
  },
  {
   "cell_type": "code",
   "execution_count": 8,
   "metadata": {},
   "outputs": [],
   "source": [
    "def ReadBarStressResults(preOP2Model):\n",
    "    preLCs = ReadLoadcases(preOP2Model)\n",
    "    # Start with an empty dataframe [note: Logic to be changed later]\n",
    "    cBarResultDF_Pre = pd.DataFrame({'A' : []})\n",
    "    for lc in preLCs:\n",
    "        tempDF = preOP2Model.cbar_stress[lc].data_frame\n",
    "        tempDF = tempDF.unstack(level=0).T\n",
    "        tempDF1 = tempDF.reindex(columns=newBarIndex(lc), level=1)\n",
    "        if cBarResultDF_Pre.empty == False:\n",
    "            cBarResultDF_Pre = pd.concat([cBarResultDF_Pre, tempDF1], axis=1,sort=False)\n",
    "        else :\n",
    "            cBarResultDF_Pre = tempDF1.copy()\n",
    "    return cBarResultDF_Pre\n",
    "    "
   ]
  },
  {
   "cell_type": "code",
   "execution_count": 9,
   "metadata": {},
   "outputs": [],
   "source": [
    "# Function Which creates new index for Bar Stress individual loadcase\n",
    "def newBarIndex_Axial(lc):\n",
    "    colReInx = pd.MultiIndex.from_tuples([ (lc, 'axial')])\n",
    "    return colReInx"
   ]
  },
  {
   "cell_type": "code",
   "execution_count": 10,
   "metadata": {},
   "outputs": [],
   "source": [
    "def ReadBarAxialStressResuls(preOP2Model):\n",
    "    preLCs = ReadLoadcases(preOP2Model)\n",
    "    # Start with an empty dataframe [note: Logic to be changed later]\n",
    "    cBarResultDF_Pre_Axial = pd.DataFrame({'A' : []})\n",
    "    for lc in preLCs:\n",
    "        tempDF = preOP2Model.cbar_stress[lc].data_frame\n",
    "        tempDF = tempDF.unstack(level=0).T\n",
    "        tempDF1 = tempDF.reindex(columns=newBarIndex_Axial(lc), level=1)\n",
    "        if cBarResultDF_Pre_Axial.empty == False:\n",
    "            cBarResultDF_Pre_Axial = pd.concat([cBarResultDF_Pre_Axial, tempDF1], axis=1,sort=False)\n",
    "        else :\n",
    "            cBarResultDF_Pre_Axial = tempDF1.copy()    \n",
    "    return cBarResultDF_Pre_Axial"
   ]
  },
  {
   "cell_type": "code",
   "execution_count": 11,
   "metadata": {},
   "outputs": [],
   "source": [
    "# Function Which creates new index for Quad Stress individual loadcase\n",
    "def newQUADIndex_Fx(lc):\n",
    "    colReInx = pd.MultiIndex.from_tuples([ (lc, 'oxx')])\n",
    "    return colReInx\n",
    "# Function Which creates new index for Quad Stress individual loadcase\n",
    "def newQUADIndex_Fy(lc):\n",
    "    colReInx = pd.MultiIndex.from_tuples([ (lc, 'oyy')])\n",
    "    return colReInx\n",
    "# Function Which creates new index for Quad Stress individual loadcase\n",
    "def newQUADIndex_Fxy(lc):\n",
    "    colReInx = pd.MultiIndex.from_tuples([ (lc, 'txy')])\n",
    "    return colReInx"
   ]
  },
  {
   "cell_type": "code",
   "execution_count": 12,
   "metadata": {},
   "outputs": [],
   "source": [
    "def ReadShellFxResults(preOP2Model):\n",
    "    preLCs = ReadLoadcases(preOP2Model)    \n",
    "    # Start with an empty dataframe [note: Logic to be changed later]\n",
    "    cShellResultDF_Pre_Fx = pd.DataFrame({'A' : []})\n",
    "    for lc in preLCs:\n",
    "        tempDF = preOP2Model.cquad4_stress[lc].data_frame\n",
    "        tempDF1 = tempDF.reindex(columns=newQUADIndex_Fx(lc), level=1)\n",
    "        if cShellResultDF_Pre_Fx.empty == False:\n",
    "            cShellResultDF_Pre_Fx = pd.concat([cShellResultDF_Pre_Fx, tempDF1], axis=1,sort=False)\n",
    "        else :\n",
    "            cShellResultDF_Pre_Fx = tempDF1.copy()    \n",
    "    return cShellResultDF_Pre_Fx"
   ]
  },
  {
   "cell_type": "code",
   "execution_count": 13,
   "metadata": {},
   "outputs": [],
   "source": [
    "def ReadShellFyResults(preOP2Model):\n",
    "    preLCs = ReadLoadcases(preOP2Model)     \n",
    "    # Start with an empty dataframe [note: Logic to be changed later]\n",
    "    cShellResultDF_Pre_Fy = pd.DataFrame({'A' : []})\n",
    "    for lc in preLCs:\n",
    "        tempDF = preOP2Model.cquad4_stress[lc].data_frame\n",
    "        tempDF1 = tempDF.reindex(columns=newQUADIndex_Fy(lc), level=1)\n",
    "        if cShellResultDF_Pre_Fy.empty == False:\n",
    "            cShellResultDF_Pre_Fy = pd.concat([cShellResultDF_Pre_Fy, tempDF1], axis=1,sort=False)\n",
    "        else :\n",
    "            cShellResultDF_Pre_Fy = tempDF1.copy()\n",
    "    return cShellResultDF_Pre_Fy    "
   ]
  },
  {
   "cell_type": "code",
   "execution_count": 14,
   "metadata": {},
   "outputs": [],
   "source": [
    "def ReadShellFxyResults(preOP2Model):\n",
    "    preLCs = ReadLoadcases(preOP2Model)    \n",
    "    # Start with an empty dataframe [note: Logic to be changed later]\n",
    "    cShellResultDF_Pre_Fxy = pd.DataFrame({'A' : []})\n",
    "    for lc in preLCs:\n",
    "        tempDF = preOP2Model.cquad4_stress[lc].data_frame\n",
    "        tempDF1 = tempDF.reindex(columns=newQUADIndex_Fxy(lc), level=1)\n",
    "        if cShellResultDF_Pre_Fxy.empty == False:\n",
    "            cShellResultDF_Pre_Fxy = pd.concat([cShellResultDF_Pre_Fxy, tempDF1], axis=1,sort=False)\n",
    "        else :\n",
    "            cShellResultDF_Pre_Fxy = tempDF1.copy()\n",
    "    return cShellResultDF_Pre_Fxy"
   ]
  },
  {
   "cell_type": "markdown",
   "metadata": {},
   "source": [
    "# QUAD and TRIA Combined Functions"
   ]
  },
  {
   "cell_type": "code",
   "execution_count": 15,
   "metadata": {},
   "outputs": [],
   "source": [
    "def Read_Quad_and_Tria_Fx_Results(preOP2Model):\n",
    "    preLCs = ReadLoadcases(preOP2Model)    \n",
    "    # Start with an empty dataframe [note: Logic to be changed later]\n",
    "    Combined_2D = pd.DataFrame({'A' : []})\n",
    "    for lc in preLCs:\n",
    "        quadDF = preOP2Model.cquad4_stress[lc].data_frame\n",
    "        quadDF = Add_Type(quadDF, 'CQUAD4')\n",
    "        triaDF = preOP2Model.ctria3_stress[lc].data_frame\n",
    "        triaDF = Add_Type(triaDF, 'CTRIA3')\n",
    "        tempDF = pd.concat([quadDF, triaDF], axis=0,sort=False)\n",
    "        tempDF1 = tempDF.reindex(columns=newQUADIndex_Fx(lc), level=1)\n",
    "        if Combined_2D.empty == False:\n",
    "            Combined_2D = pd.concat([Combined_2D, tempDF1], axis=1,sort=False)\n",
    "        else :\n",
    "            Combined_2D = tempDF1.copy()\n",
    "    return Combined_2D\n",
    "\n",
    "def Read_Quad_and_Tria_Fy_Results(preOP2Model):\n",
    "    preLCs = ReadLoadcases(preOP2Model)    \n",
    "    # Start with an empty dataframe [note: Logic to be changed later]\n",
    "    Combined_2D = pd.DataFrame({'A' : []})\n",
    "    for lc in preLCs:\n",
    "        quadDF = preOP2Model.cquad4_stress[lc].data_frame\n",
    "        quadDF = Add_Type(quadDF, 'CQUAD4')\n",
    "        triaDF = preOP2Model.ctria3_stress[lc].data_frame\n",
    "        triaDF = Add_Type(triaDF, 'CTRIA3')\n",
    "        tempDF = pd.concat([quadDF, triaDF], axis=0,sort=False)\n",
    "        tempDF1 = tempDF.reindex(columns=newQUADIndex_Fy(lc), level=1)\n",
    "        if Combined_2D.empty == False:\n",
    "            Combined_2D = pd.concat([Combined_2D, tempDF1], axis=1,sort=False)\n",
    "        else :\n",
    "            Combined_2D = tempDF1.copy()    \n",
    "    return Combined_2D\n",
    "\n",
    "def Read_Quad_and_Tria_Fxy_Results(preOP2Model):\n",
    "    preLCs = ReadLoadcases(preOP2Model)    \n",
    "    # Start with an empty dataframe [note: Logic to be changed later]\n",
    "    Combined_2D = pd.DataFrame({'A' : []})\n",
    "    for lc in preLCs:\n",
    "        quadDF = preOP2Model.cquad4_stress[lc].data_frame\n",
    "        quadDF = Add_Type(quadDF, 'CQUAD4')\n",
    "        triaDF = preOP2Model.ctria3_stress[lc].data_frame\n",
    "        triaDF = Add_Type(triaDF, 'CTRIA3')\n",
    "        tempDF = pd.concat([quadDF, triaDF], axis=0,sort=False)\n",
    "        tempDF1 = tempDF.reindex(columns=newQUADIndex_Fxy(lc), level=1)\n",
    "        if Combined_2D.empty == False:\n",
    "            Combined_2D = pd.concat([Combined_2D, tempDF1], axis=1,sort=False)\n",
    "        else :\n",
    "            Combined_2D = tempDF1.copy()    \n",
    "    return Combined_2D"
   ]
  },
  {
   "cell_type": "code",
   "execution_count": 16,
   "metadata": {},
   "outputs": [],
   "source": [
    "# Function Which creates new index for Rod Axial Stress individual loadcase\n",
    "def newRodIndex_Axial(lc):\n",
    "    colReInx = pd.MultiIndex.from_tuples([ (lc, 'axial')])\n",
    "    return colReInx"
   ]
  },
  {
   "cell_type": "code",
   "execution_count": 17,
   "metadata": {},
   "outputs": [],
   "source": [
    "def ReadRodAxialStressResults(preOP2Model):\n",
    "    preLCs = ReadLoadcases(preOP2Model)     \n",
    "    # Start with an empty dataframe [note: Logic to be changed later]\n",
    "    cRodResultDF_Pre_Axial = pd.DataFrame({'A' : []})\n",
    "    for lc in preLCs:\n",
    "        tempDF = preOP2Model.crod_stress[lc].data_frame\n",
    "        tempDF = tempDF.unstack(level=0).T\n",
    "        tempDF1 = tempDF.reindex(columns=newRodIndex_Axial(lc), level=1)\n",
    "        if cRodResultDF_Pre_Axial.empty == False:\n",
    "            cRodResultDF_Pre_Axial = pd.concat([cRodResultDF_Pre_Axial, tempDF1], axis=1,sort=False)\n",
    "        else :\n",
    "            cRodResultDF_Pre_Axial = tempDF1.copy()    \n",
    "    return cRodResultDF_Pre_Axial"
   ]
  },
  {
   "cell_type": "code",
   "execution_count": 18,
   "metadata": {},
   "outputs": [],
   "source": [
    "def AppendRodStressToBarStressDataFrame(cBarResultDF_Pre_Axial,cRodResultDF_Pre_Axial):\n",
    "    Appended_Pre_Results = cBarResultDF_Pre_Axial.append(cRodResultDF_Pre_Axial, ignore_index=False)\n",
    "    return Appended_Pre_Results"
   ]
  },
  {
   "cell_type": "code",
   "execution_count": 19,
   "metadata": {},
   "outputs": [],
   "source": [
    "# ===========================================\n",
    "# Main Start of OP2 Files Extraction == v0.0\n",
    "# Remarks := Its been depricated.\n",
    "# Author := Upendra Reddy G\n",
    "# ===========================================\n",
    "\n",
    "# dictOp2List = ReadOP2Files('./')\n",
    "# for key, op2File in dictOp2List.items():\n",
    "#     #print(key, op2File)\n",
    "#     op2Model = ReadOP2File(op2File)\n",
    "\n",
    "#     barStressFileName = key + '_cBar_Stress.csv'\n",
    "#     barAxialStressFileName = key + '_cBar_Stress_Axial.csv'\n",
    "#     quadStressFxFileName = key + '_cQUAD_Stress_Fx.csv'\n",
    "#     quadStressFyFileName = key + '_cQUAD_Stress_Fy.csv'\n",
    "#     quadStressFxyFileName = key + '_cQUAD_Stress_Fxy.csv'\n",
    "#     rodAxialStressFileName = key + '_cRod_Stress_Axial.csv'\n",
    "#     appendedBarRodstressFileName = key + '_Appended_cBar_and_Rod_Stresses_Axial.csv'\n",
    "    \n",
    "    \n",
    "#     barStresResults = ReadBarStressResults(op2Model)\n",
    "#     barStresResults.to_csv(barStressFileName)\n",
    "\n",
    "#     barAxialStresResults = ReadBarAxialStressResuls(op2Model)\n",
    "#     barAxialStresResults.to_csv(barAxialStressFileName)\n",
    "    \n",
    "#     quadFxStresResults = ReadShellFxResults(op2Model)\n",
    "#     quadFxStresResults.to_csv(quadStressFxFileName)\n",
    "    \n",
    "#     quadFyStresResults = ReadShellFyResults(op2Model)\n",
    "#     quadFyStresResults.to_csv(quadStressFyFileName)    \n",
    "        \n",
    "#     quadFxyStresResults = ReadShellFxyResults(op2Model)\n",
    "#     quadFxyStresResults.to_csv(quadStressFxyFileName)\n",
    "    \n",
    "#     rodAxialStressResults = ReadRodAxialStressResults(op2Model)\n",
    "#     rodAxialStressResults.to_csv(rodAxialStressFileName)\n",
    "    \n",
    "#     appendRodToBarResults = AppendRodStressToBarStressDataFrame(barAxialStresResults,rodAxialStressResults)\n",
    "#     appendRodToBarResults.to_csv(appendedBarRodstressFileName)\n",
    "\n",
    "# print(' ======== ALL DONE SUCCESSFULLY ========== ')"
   ]
  },
  {
   "cell_type": "code",
   "execution_count": 20,
   "metadata": {},
   "outputs": [],
   "source": [
    "def Concatenate_Data(df1,df2):\n",
    "    if df1.empty == False:\n",
    "        df1 = pd.concat([df1, df2], axis=1,sort=False)\n",
    "    else :\n",
    "        df1 = df2.copy()\n",
    "    return df1"
   ]
  },
  {
   "cell_type": "code",
   "execution_count": 21,
   "metadata": {},
   "outputs": [],
   "source": [
    "def Join_DF(df1,df2):\n",
    "    if df1.empty == True:\n",
    "        df1 = df2.copy()\n",
    "    else :\n",
    "        df1 = df1.join(df2, how='outer')\n",
    "    return df1"
   ]
  },
  {
   "cell_type": "code",
   "execution_count": 22,
   "metadata": {},
   "outputs": [],
   "source": [
    "def newBush_Index(lc):\n",
    "    colReInx = pd.MultiIndex.from_tuples([ (lc, 'fx'), (lc, 'fy'), (lc, 'fz'), (lc, 'mx'), (lc, 'my'), (lc, 'mz') ])\n",
    "    return colReInx\n",
    "def ReadcBushForces(preOP2Model):\n",
    "    preLCs = list(preOP2Model.cbush_force.keys())\n",
    "    # Start with an empty dataframe [note: Logic to be changed later]\n",
    "    cRodResultDF_Pre_Axial = pd.DataFrame({'A' : []})\n",
    "    for lc in preLCs:\n",
    "        tempDF = preOP2Model.cbush_force[lc].data_frame\n",
    "        tempDF = tempDF.unstack(level=0).T\n",
    "        tempDF1 = tempDF.reindex(columns=newBush_Index(lc), level=1)\n",
    "        if cRodResultDF_Pre_Axial.empty == False:\n",
    "            cRodResultDF_Pre_Axial = pd.concat([cRodResultDF_Pre_Axial, tempDF1], axis=1,sort=False)\n",
    "        else :\n",
    "            cRodResultDF_Pre_Axial = tempDF1.copy()\n",
    "    return cRodResultDF_Pre_Axial"
   ]
  },
  {
   "cell_type": "code",
   "execution_count": 23,
   "metadata": {},
   "outputs": [],
   "source": [
    "def Add_Type(df, ElmType):\n",
    "    df = df.reset_index()\n",
    "    df['Type'] = ElmType\n",
    "    df = df.set_index(['ElementID', 'NodeID', 'Location', 'Type'])\n",
    "    return df"
   ]
  },
  {
   "cell_type": "code",
   "execution_count": 24,
   "metadata": {},
   "outputs": [
    {
     "name": "stdout",
     "output_type": "stream",
     "text": [
      "Given File path is : \n",
      " ./*.op2 \n",
      "\n",
      "Found the following list of OP2 Files: \n",
      "\n",
      "======================================== \n",
      "\n"
     ]
    },
    {
     "data": {
      "text/html": [
       "<text style=color:blue>DEBUG:   op2.py:549                   combine=True\n",
       "</text>"
      ],
      "text/plain": [
       "<IPython.core.display.HTML object>"
      ]
     },
     "metadata": {},
     "output_type": "display_data"
    },
    {
     "data": {
      "text/html": [
       "<text style=color:blue>DEBUG:   op2.py:550                   -------- reading op2 with read_mode=1 (array sizing) --------\n",
       "</text>"
      ],
      "text/plain": [
       "<IPython.core.display.HTML object>"
      ]
     },
     "metadata": {},
     "output_type": "display_data"
    },
    {
     "data": {
      "text/html": [
       "<text style=color:green>INFO:    op2_scalar.py:1322           op2_filename = '.\\\\pc12-47-v1-6-static_post_m3.2_2101.op2'\n",
       "</text>"
      ],
      "text/plain": [
       "<IPython.core.display.HTML object>"
      ]
     },
     "metadata": {},
     "output_type": "display_data"
    },
    {
     "data": {
      "text/html": [
       "<text style=color:blue>DEBUG:   op2_scalar.py:1472             table_name=b'OQG1'\n",
       "</text>"
      ],
      "text/plain": [
       "<IPython.core.display.HTML object>"
      ]
     },
     "metadata": {},
     "output_type": "display_data"
    },
    {
     "data": {
      "text/html": [
       "<text style=color:blue>DEBUG:   op2_scalar.py:1472             table_name=b'OQMG1'\n",
       "</text>"
      ],
      "text/plain": [
       "<IPython.core.display.HTML object>"
      ]
     },
     "metadata": {},
     "output_type": "display_data"
    },
    {
     "data": {
      "text/html": [
       "<text style=color:blue>DEBUG:   op2_scalar.py:1472             table_name=b'OUG1'\n",
       "</text>"
      ],
      "text/plain": [
       "<IPython.core.display.HTML object>"
      ]
     },
     "metadata": {},
     "output_type": "display_data"
    },
    {
     "data": {
      "text/html": [
       "<text style=color:blue>DEBUG:   op2_scalar.py:1472             table_name=b'OGPFB1'\n",
       "</text>"
      ],
      "text/plain": [
       "<IPython.core.display.HTML object>"
      ]
     },
     "metadata": {},
     "output_type": "display_data"
    },
    {
     "data": {
      "text/html": [
       "<text style=color:blue>DEBUG:   op2_scalar.py:1472             table_name=b'OEF1X'\n",
       "</text>"
      ],
      "text/plain": [
       "<IPython.core.display.HTML object>"
      ]
     },
     "metadata": {},
     "output_type": "display_data"
    },
    {
     "data": {
      "text/html": [
       "<text style=color:blue>DEBUG:   op2_scalar.py:1472             table_name=b'OES1X1'\n",
       "</text>"
      ],
      "text/plain": [
       "<IPython.core.display.HTML object>"
      ]
     },
     "metadata": {},
     "output_type": "display_data"
    },
    {
     "data": {
      "text/html": [
       "<text style=color:blue>DEBUG:   op2_scalar.py:1472             table_name=b'OPG1'\n",
       "</text>"
      ],
      "text/plain": [
       "<IPython.core.display.HTML object>"
      ]
     },
     "metadata": {},
     "output_type": "display_data"
    },
    {
     "data": {
      "text/html": [
       "<text style=color:blue>DEBUG:   op2.py:563                   -------- reading op2 with read_mode=2 (array filling) --------\n",
       "</text>"
      ],
      "text/plain": [
       "<IPython.core.display.HTML object>"
      ]
     },
     "metadata": {},
     "output_type": "display_data"
    },
    {
     "data": {
      "text/html": [
       "<text style=color:blue>DEBUG:   op2_scalar.py:1472             table_name=b'OQG1'\n",
       "</text>"
      ],
      "text/plain": [
       "<IPython.core.display.HTML object>"
      ]
     },
     "metadata": {},
     "output_type": "display_data"
    },
    {
     "data": {
      "text/html": [
       "<text style=color:blue>DEBUG:   op2_scalar.py:1472             table_name=b'OQMG1'\n",
       "</text>"
      ],
      "text/plain": [
       "<IPython.core.display.HTML object>"
      ]
     },
     "metadata": {},
     "output_type": "display_data"
    },
    {
     "data": {
      "text/html": [
       "<text style=color:blue>DEBUG:   op2_scalar.py:1472             table_name=b'OUG1'\n",
       "</text>"
      ],
      "text/plain": [
       "<IPython.core.display.HTML object>"
      ]
     },
     "metadata": {},
     "output_type": "display_data"
    },
    {
     "data": {
      "text/html": [
       "<text style=color:blue>DEBUG:   op2_scalar.py:1472             table_name=b'OGPFB1'\n",
       "</text>"
      ],
      "text/plain": [
       "<IPython.core.display.HTML object>"
      ]
     },
     "metadata": {},
     "output_type": "display_data"
    },
    {
     "data": {
      "text/html": [
       "<text style=color:blue>DEBUG:   op2_scalar.py:1472             table_name=b'OEF1X'\n",
       "</text>"
      ],
      "text/plain": [
       "<IPython.core.display.HTML object>"
      ]
     },
     "metadata": {},
     "output_type": "display_data"
    },
    {
     "data": {
      "text/html": [
       "<text style=color:blue>DEBUG:   op2_scalar.py:1472             table_name=b'OES1X1'\n",
       "</text>"
      ],
      "text/plain": [
       "<IPython.core.display.HTML object>"
      ]
     },
     "metadata": {},
     "output_type": "display_data"
    },
    {
     "data": {
      "text/html": [
       "<text style=color:blue>DEBUG:   op2_scalar.py:1472             table_name=b'OPG1'\n",
       "</text>"
      ],
      "text/plain": [
       "<IPython.core.display.HTML object>"
      ]
     },
     "metadata": {},
     "output_type": "display_data"
    },
    {
     "name": "stderr",
     "output_type": "stream",
     "text": [
      "C:\\ProgramData\\Anaconda3\\lib\\site-packages\\pynastran-1.2.0+dev.no.checksum.error-py3.6.egg\\pyNastran\\op2\\op2.py:665: FutureWarning: \n",
      "Panel is deprecated and will be removed in a future version.\n",
      "The recommended way to represent these types of 3-dimensional data are with a MultiIndex on a DataFrame, via the Panel.to_frame() method\n",
      "Alternatively, you can use the xarray package http://xarray.pydata.org/en/stable/.\n",
      "Pandas provides a `.to_xarray()` method to help automate this conversion.\n",
      "\n",
      "  obj.build_dataframe()\n"
     ]
    },
    {
     "data": {
      "text/html": [
       "<text style=color:blue>DEBUG:   op2.py:766                   combine_results\n",
       "</text>"
      ],
      "text/plain": [
       "<IPython.core.display.HTML object>"
      ]
     },
     "metadata": {},
     "output_type": "display_data"
    },
    {
     "data": {
      "text/html": [
       "<text style=color:blue>DEBUG:   op2.py:575                   finished reading op2\n",
       "</text>"
      ],
      "text/plain": [
       "<IPython.core.display.HTML object>"
      ]
     },
     "metadata": {},
     "output_type": "display_data"
    },
    {
     "data": {
      "text/html": [
       "<text style=color:blue>DEBUG:   op2.py:549                   combine=True\n",
       "</text>"
      ],
      "text/plain": [
       "<IPython.core.display.HTML object>"
      ]
     },
     "metadata": {},
     "output_type": "display_data"
    },
    {
     "data": {
      "text/html": [
       "<text style=color:blue>DEBUG:   op2.py:550                   -------- reading op2 with read_mode=1 (array sizing) --------\n",
       "</text>"
      ],
      "text/plain": [
       "<IPython.core.display.HTML object>"
      ]
     },
     "metadata": {},
     "output_type": "display_data"
    },
    {
     "data": {
      "text/html": [
       "<text style=color:green>INFO:    op2_scalar.py:1322           op2_filename = '.\\\\pc12-47-v1-6-static_post_m3.2_2102.op2'\n",
       "</text>"
      ],
      "text/plain": [
       "<IPython.core.display.HTML object>"
      ]
     },
     "metadata": {},
     "output_type": "display_data"
    },
    {
     "data": {
      "text/html": [
       "<text style=color:blue>DEBUG:   op2_scalar.py:1472             table_name=b'OQG1'\n",
       "</text>"
      ],
      "text/plain": [
       "<IPython.core.display.HTML object>"
      ]
     },
     "metadata": {},
     "output_type": "display_data"
    },
    {
     "data": {
      "text/html": [
       "<text style=color:blue>DEBUG:   op2_scalar.py:1472             table_name=b'OQMG1'\n",
       "</text>"
      ],
      "text/plain": [
       "<IPython.core.display.HTML object>"
      ]
     },
     "metadata": {},
     "output_type": "display_data"
    },
    {
     "data": {
      "text/html": [
       "<text style=color:blue>DEBUG:   op2_scalar.py:1472             table_name=b'OUG1'\n",
       "</text>"
      ],
      "text/plain": [
       "<IPython.core.display.HTML object>"
      ]
     },
     "metadata": {},
     "output_type": "display_data"
    },
    {
     "data": {
      "text/html": [
       "<text style=color:blue>DEBUG:   op2_scalar.py:1472             table_name=b'OGPFB1'\n",
       "</text>"
      ],
      "text/plain": [
       "<IPython.core.display.HTML object>"
      ]
     },
     "metadata": {},
     "output_type": "display_data"
    },
    {
     "data": {
      "text/html": [
       "<text style=color:blue>DEBUG:   op2_scalar.py:1472             table_name=b'OEF1X'\n",
       "</text>"
      ],
      "text/plain": [
       "<IPython.core.display.HTML object>"
      ]
     },
     "metadata": {},
     "output_type": "display_data"
    },
    {
     "data": {
      "text/html": [
       "<text style=color:blue>DEBUG:   op2_scalar.py:1472             table_name=b'OES1X1'\n",
       "</text>"
      ],
      "text/plain": [
       "<IPython.core.display.HTML object>"
      ]
     },
     "metadata": {},
     "output_type": "display_data"
    },
    {
     "data": {
      "text/html": [
       "<text style=color:blue>DEBUG:   op2_scalar.py:1472             table_name=b'OPG1'\n",
       "</text>"
      ],
      "text/plain": [
       "<IPython.core.display.HTML object>"
      ]
     },
     "metadata": {},
     "output_type": "display_data"
    },
    {
     "data": {
      "text/html": [
       "<text style=color:blue>DEBUG:   op2.py:563                   -------- reading op2 with read_mode=2 (array filling) --------\n",
       "</text>"
      ],
      "text/plain": [
       "<IPython.core.display.HTML object>"
      ]
     },
     "metadata": {},
     "output_type": "display_data"
    },
    {
     "data": {
      "text/html": [
       "<text style=color:blue>DEBUG:   op2_scalar.py:1472             table_name=b'OQG1'\n",
       "</text>"
      ],
      "text/plain": [
       "<IPython.core.display.HTML object>"
      ]
     },
     "metadata": {},
     "output_type": "display_data"
    },
    {
     "data": {
      "text/html": [
       "<text style=color:blue>DEBUG:   op2_scalar.py:1472             table_name=b'OQMG1'\n",
       "</text>"
      ],
      "text/plain": [
       "<IPython.core.display.HTML object>"
      ]
     },
     "metadata": {},
     "output_type": "display_data"
    },
    {
     "data": {
      "text/html": [
       "<text style=color:blue>DEBUG:   op2_scalar.py:1472             table_name=b'OUG1'\n",
       "</text>"
      ],
      "text/plain": [
       "<IPython.core.display.HTML object>"
      ]
     },
     "metadata": {},
     "output_type": "display_data"
    },
    {
     "data": {
      "text/html": [
       "<text style=color:blue>DEBUG:   op2_scalar.py:1472             table_name=b'OGPFB1'\n",
       "</text>"
      ],
      "text/plain": [
       "<IPython.core.display.HTML object>"
      ]
     },
     "metadata": {},
     "output_type": "display_data"
    },
    {
     "data": {
      "text/html": [
       "<text style=color:blue>DEBUG:   op2_scalar.py:1472             table_name=b'OEF1X'\n",
       "</text>"
      ],
      "text/plain": [
       "<IPython.core.display.HTML object>"
      ]
     },
     "metadata": {},
     "output_type": "display_data"
    },
    {
     "data": {
      "text/html": [
       "<text style=color:blue>DEBUG:   op2_scalar.py:1472             table_name=b'OES1X1'\n",
       "</text>"
      ],
      "text/plain": [
       "<IPython.core.display.HTML object>"
      ]
     },
     "metadata": {},
     "output_type": "display_data"
    },
    {
     "data": {
      "text/html": [
       "<text style=color:blue>DEBUG:   op2_scalar.py:1472             table_name=b'OPG1'\n",
       "</text>"
      ],
      "text/plain": [
       "<IPython.core.display.HTML object>"
      ]
     },
     "metadata": {},
     "output_type": "display_data"
    },
    {
     "data": {
      "text/html": [
       "<text style=color:blue>DEBUG:   op2.py:766                   combine_results\n",
       "</text>"
      ],
      "text/plain": [
       "<IPython.core.display.HTML object>"
      ]
     },
     "metadata": {},
     "output_type": "display_data"
    },
    {
     "data": {
      "text/html": [
       "<text style=color:blue>DEBUG:   op2.py:575                   finished reading op2\n",
       "</text>"
      ],
      "text/plain": [
       "<IPython.core.display.HTML object>"
      ]
     },
     "metadata": {},
     "output_type": "display_data"
    },
    {
     "data": {
      "text/html": [
       "<text style=color:blue>DEBUG:   op2.py:549                   combine=True\n",
       "</text>"
      ],
      "text/plain": [
       "<IPython.core.display.HTML object>"
      ]
     },
     "metadata": {},
     "output_type": "display_data"
    },
    {
     "data": {
      "text/html": [
       "<text style=color:blue>DEBUG:   op2.py:550                   -------- reading op2 with read_mode=1 (array sizing) --------\n",
       "</text>"
      ],
      "text/plain": [
       "<IPython.core.display.HTML object>"
      ]
     },
     "metadata": {},
     "output_type": "display_data"
    },
    {
     "data": {
      "text/html": [
       "<text style=color:green>INFO:    op2_scalar.py:1322           op2_filename = '.\\\\pc12-47-v1-6-static_post_m3.2_2103.op2'\n",
       "</text>"
      ],
      "text/plain": [
       "<IPython.core.display.HTML object>"
      ]
     },
     "metadata": {},
     "output_type": "display_data"
    },
    {
     "data": {
      "text/html": [
       "<text style=color:blue>DEBUG:   op2_scalar.py:1472             table_name=b'OQG1'\n",
       "</text>"
      ],
      "text/plain": [
       "<IPython.core.display.HTML object>"
      ]
     },
     "metadata": {},
     "output_type": "display_data"
    },
    {
     "data": {
      "text/html": [
       "<text style=color:blue>DEBUG:   op2_scalar.py:1472             table_name=b'OQMG1'\n",
       "</text>"
      ],
      "text/plain": [
       "<IPython.core.display.HTML object>"
      ]
     },
     "metadata": {},
     "output_type": "display_data"
    },
    {
     "data": {
      "text/html": [
       "<text style=color:blue>DEBUG:   op2_scalar.py:1472             table_name=b'OUG1'\n",
       "</text>"
      ],
      "text/plain": [
       "<IPython.core.display.HTML object>"
      ]
     },
     "metadata": {},
     "output_type": "display_data"
    },
    {
     "data": {
      "text/html": [
       "<text style=color:blue>DEBUG:   op2_scalar.py:1472             table_name=b'OGPFB1'\n",
       "</text>"
      ],
      "text/plain": [
       "<IPython.core.display.HTML object>"
      ]
     },
     "metadata": {},
     "output_type": "display_data"
    },
    {
     "data": {
      "text/html": [
       "<text style=color:blue>DEBUG:   op2_scalar.py:1472             table_name=b'OEF1X'\n",
       "</text>"
      ],
      "text/plain": [
       "<IPython.core.display.HTML object>"
      ]
     },
     "metadata": {},
     "output_type": "display_data"
    },
    {
     "data": {
      "text/html": [
       "<text style=color:blue>DEBUG:   op2_scalar.py:1472             table_name=b'OES1X1'\n",
       "</text>"
      ],
      "text/plain": [
       "<IPython.core.display.HTML object>"
      ]
     },
     "metadata": {},
     "output_type": "display_data"
    },
    {
     "data": {
      "text/html": [
       "<text style=color:blue>DEBUG:   op2_scalar.py:1472             table_name=b'OPG1'\n",
       "</text>"
      ],
      "text/plain": [
       "<IPython.core.display.HTML object>"
      ]
     },
     "metadata": {},
     "output_type": "display_data"
    },
    {
     "data": {
      "text/html": [
       "<text style=color:blue>DEBUG:   op2.py:563                   -------- reading op2 with read_mode=2 (array filling) --------\n",
       "</text>"
      ],
      "text/plain": [
       "<IPython.core.display.HTML object>"
      ]
     },
     "metadata": {},
     "output_type": "display_data"
    },
    {
     "data": {
      "text/html": [
       "<text style=color:blue>DEBUG:   op2_scalar.py:1472             table_name=b'OQG1'\n",
       "</text>"
      ],
      "text/plain": [
       "<IPython.core.display.HTML object>"
      ]
     },
     "metadata": {},
     "output_type": "display_data"
    },
    {
     "data": {
      "text/html": [
       "<text style=color:blue>DEBUG:   op2_scalar.py:1472             table_name=b'OQMG1'\n",
       "</text>"
      ],
      "text/plain": [
       "<IPython.core.display.HTML object>"
      ]
     },
     "metadata": {},
     "output_type": "display_data"
    },
    {
     "data": {
      "text/html": [
       "<text style=color:blue>DEBUG:   op2_scalar.py:1472             table_name=b'OUG1'\n",
       "</text>"
      ],
      "text/plain": [
       "<IPython.core.display.HTML object>"
      ]
     },
     "metadata": {},
     "output_type": "display_data"
    },
    {
     "data": {
      "text/html": [
       "<text style=color:blue>DEBUG:   op2_scalar.py:1472             table_name=b'OGPFB1'\n",
       "</text>"
      ],
      "text/plain": [
       "<IPython.core.display.HTML object>"
      ]
     },
     "metadata": {},
     "output_type": "display_data"
    },
    {
     "data": {
      "text/html": [
       "<text style=color:blue>DEBUG:   op2_scalar.py:1472             table_name=b'OEF1X'\n",
       "</text>"
      ],
      "text/plain": [
       "<IPython.core.display.HTML object>"
      ]
     },
     "metadata": {},
     "output_type": "display_data"
    },
    {
     "data": {
      "text/html": [
       "<text style=color:blue>DEBUG:   op2_scalar.py:1472             table_name=b'OES1X1'\n",
       "</text>"
      ],
      "text/plain": [
       "<IPython.core.display.HTML object>"
      ]
     },
     "metadata": {},
     "output_type": "display_data"
    },
    {
     "data": {
      "text/html": [
       "<text style=color:blue>DEBUG:   op2_scalar.py:1472             table_name=b'OPG1'\n",
       "</text>"
      ],
      "text/plain": [
       "<IPython.core.display.HTML object>"
      ]
     },
     "metadata": {},
     "output_type": "display_data"
    },
    {
     "data": {
      "text/html": [
       "<text style=color:blue>DEBUG:   op2.py:766                   combine_results\n",
       "</text>"
      ],
      "text/plain": [
       "<IPython.core.display.HTML object>"
      ]
     },
     "metadata": {},
     "output_type": "display_data"
    },
    {
     "data": {
      "text/html": [
       "<text style=color:blue>DEBUG:   op2.py:575                   finished reading op2\n",
       "</text>"
      ],
      "text/plain": [
       "<IPython.core.display.HTML object>"
      ]
     },
     "metadata": {},
     "output_type": "display_data"
    },
    {
     "name": "stdout",
     "output_type": "stream",
     "text": [
      " ======== ALL DONE SUCCESSFULLY ========== \n"
     ]
    }
   ],
   "source": [
    "# ===========================================\n",
    "# Main Start of OP2 Files Extraction == v1.1\n",
    "# Remarks := Currently Working..\n",
    "# Author := Upendra Reddy G\n",
    "# ===========================================\n",
    "barStressResults = pd.DataFrame({'A' : []})\n",
    "barAxialStressResults = pd.DataFrame({'A' : []})\n",
    "# quadFxStressResults = pd.DataFrame({'A' : []})\n",
    "# quadFyStressResults = pd.DataFrame({'A' : []})\n",
    "# quadFxyStressResults = pd.DataFrame({'A' : []})\n",
    "rodAxialStressResults = pd.DataFrame({'A' : []})\n",
    "shearStressResults = pd.DataFrame({'A' : []})\n",
    "appendRodToBarResults = pd.DataFrame({'A' : []})\n",
    "quad_tria_Fx_StressResults = pd.DataFrame({'A' : []})\n",
    "quad_tria_Fy_StressResults = pd.DataFrame({'A' : []})\n",
    "quad_tria_Fxy_StressResults = pd.DataFrame({'A' : []})\n",
    "\n",
    "dictOp2List = ReadOP2Files('./')\n",
    "\n",
    "# The Following loop will fetch results from every Available OP2 File\n",
    "for key, op2File in dictOp2List.items():\n",
    "    #print(key, op2File)\n",
    "    op2Model = ReadOP2File(op2File)\n",
    "\n",
    "    tempDF1 = ReadBarStressResults(op2Model)\n",
    "    barStressResults = Join_DF(barStressResults, tempDF1)\n",
    "\n",
    "    tempDF1 = ReadBarAxialStressResuls(op2Model)\n",
    "    barAxialStressResults = Join_DF(barAxialStressResults, tempDF1)\n",
    "\n",
    "#     tempDF1 = ReadShellFxResults(op2Model)\n",
    "#     quadFxStressResults = Join_DF(quadFxStressResults, tempDF1)\n",
    "    \n",
    "#     tempDF1 = ReadShellFyResults(op2Model)\n",
    "#     quadFyStressResults = Join_DF(quadFyStressResults, tempDF1)\n",
    "    \n",
    "#     tempDF1 = ReadShellFxyResults(op2Model)\n",
    "#     quadFxyStressResults = Join_DF(quadFxyStressResults, tempDF1)\n",
    "\n",
    "    tempDF1 = Read_Quad_and_Tria_Fx_Results(op2Model)\n",
    "    quad_tria_Fx_StressResults = Join_DF(quad_tria_Fx_StressResults, tempDF1)\n",
    "    \n",
    "    tempDF1 = Read_Quad_and_Tria_Fy_Results(op2Model)\n",
    "    quad_tria_Fy_StressResults = Join_DF(quad_tria_Fy_StressResults, tempDF1)\n",
    "    \n",
    "    tempDF1 = Read_Quad_and_Tria_Fxy_Results(op2Model)\n",
    "    quad_tria_Fxy_StressResults = Join_DF(quad_tria_Fxy_StressResults, tempDF1)\n",
    "    \n",
    "    tempDF1 = ReadRodAxialStressResults(op2Model)\n",
    "    rodAxialStressResults = Join_DF(rodAxialStressResults, tempDF1)\n",
    "    \n",
    "    tempDF1 = ReadShearStressResults(op2Model)\n",
    "    shearStressResults = Join_DF(shearStressResults, tempDF1)    \n",
    "    \n",
    "\n",
    "#  The Following line of code will append Rod Axial Stress results to Bar Axial Stress Results    \n",
    "appendRodToBarResults = barAxialStressResults.append(rodAxialStressResults, ignore_index=False)\n",
    "\n",
    "# The Following lines of code will generate csv files for respective results.\n",
    "barStressResults.to_csv('ALL_cBar_Stress.csv')\n",
    "barAxialStressResults.to_csv('ALL_cBar_Stress_Axial.csv')\n",
    "# quadFxStressResults.to_csv('ALL_cQUAD_Stress_Fx.csv')\n",
    "# quadFyStressResults.to_csv('ALL_cQUAD_Stress_Fy.csv')\n",
    "# quadFxyStressResults.to_csv('ALL_cQUAD_Stress_Fxy.csv')\n",
    "quad_tria_Fx_StressResults.to_csv('ALL_cQUAD_cTRIA_Stress_Fx.csv')\n",
    "quad_tria_Fy_StressResults.to_csv('ALL_cQUAD_cTRIA_Stress_Fy.csv')\n",
    "quad_tria_Fxy_StressResults.to_csv('ALL_cQUAD_cTRIA_Stress_Fxy.csv')\n",
    "rodAxialStressResults.to_csv('ALL_cRod_Stress_Axial.csv')\n",
    "shearStressResults.to_csv('ALL_cShear_Stress.csv')\n",
    "appendRodToBarResults.to_csv('ALL_appended_Rod_to_Bar_Stress_Axial.csv')\n",
    "\n",
    "# End of Script.\n",
    "print(' ======== ALL DONE SUCCESSFULLY ========== ')"
   ]
  },
  {
   "cell_type": "markdown",
   "metadata": {},
   "source": [
    "# Test Section\n",
    "## ============="
   ]
  },
  {
   "cell_type": "code",
   "execution_count": null,
   "metadata": {},
   "outputs": [],
   "source": [
    "# op2Model = ReadOP2File('pc12-47-v1-6-static_post_m3.2_2102.op2')\n",
    "# # cbush_Forces_DF = ReadcBushForces(op2Model)\n",
    "# # cbush_Forces_DF.to_csv('ALL_CBUSH_Forces.csv')"
   ]
  },
  {
   "cell_type": "code",
   "execution_count": null,
   "metadata": {},
   "outputs": [],
   "source": [
    "# # ===========================================\n",
    "# # Main Start of OP2 Files Extraction == v1.0\n",
    "# # Remarks := Currently Working..\n",
    "# # Author := Upendra Reddy G\n",
    "# # ===========================================\n",
    "# barStressResults = pd.DataFrame({'A' : []})\n",
    "# barAxialStressResults = pd.DataFrame({'A' : []})\n",
    "# quadFxStressResults = pd.DataFrame({'A' : []})\n",
    "# quadFyStressResults = pd.DataFrame({'A' : []})\n",
    "# quadFxyStressResults = pd.DataFrame({'A' : []})\n",
    "# rodAxialStressResults = pd.DataFrame({'A' : []})\n",
    "# shearStressResults = pd.DataFrame({'A' : []})\n",
    "# appendRodToBarResults = pd.DataFrame({'A' : []})\n",
    "\n",
    "# dictOp2List = ReadOP2Files('./')\n",
    "\n",
    "# # The Following loop will fetch results from every Available OP2 File\n",
    "# for key, op2File in dictOp2List.items():\n",
    "#     #print(key, op2File)\n",
    "#     op2Model = ReadOP2File(op2File)\n",
    "\n",
    "# #     tempDF1 = ReadBarStressResults(op2Model)\n",
    "# #     barStressResults = Join_DF(barStressResults, tempDF1)\n",
    "\n",
    "# #     tempDF1 = ReadBarAxialStressResuls(op2Model)\n",
    "# #     barAxialStressResults = Join_DF(barAxialStressResults, tempDF1)\n",
    "\n",
    "#     tempDF1 = Read_Quad_and_Tria_Fx_Results(op2Model)\n",
    "#     quadFxStressResults = Join_DF(quadFxStressResults, tempDF1)\n",
    "    \n",
    "# #     tempDF1 = ReadShellFyResults(op2Model)\n",
    "# #     quadFyStressResults = Join_DF(quadFyStressResults, tempDF1)\n",
    "    \n",
    "# #     tempDF1 = ReadShellFxyResults(op2Model)\n",
    "# #     quadFxyStressResults = Join_DF(quadFxyStressResults, tempDF1)"
   ]
  },
  {
   "cell_type": "code",
   "execution_count": null,
   "metadata": {},
   "outputs": [],
   "source": [
    "# quadDF = op2Model.cquad4_stress[92102].data_frame"
   ]
  },
  {
   "cell_type": "code",
   "execution_count": null,
   "metadata": {},
   "outputs": [],
   "source": [
    "# # quadDF.head()\n",
    "# quadDF = Add_Type(quadDF, 'CQUAD4')"
   ]
  },
  {
   "cell_type": "code",
   "execution_count": null,
   "metadata": {},
   "outputs": [],
   "source": [
    "# quadDF.head()"
   ]
  },
  {
   "cell_type": "code",
   "execution_count": null,
   "metadata": {},
   "outputs": [],
   "source": [
    "# triaDF = op2Model.ctria3_stress[92102].data_frame\n",
    "# triaDF = Add_Type(triaDF, 'CTRIA3')\n",
    "# triaDF.head()"
   ]
  },
  {
   "cell_type": "code",
   "execution_count": null,
   "metadata": {},
   "outputs": [],
   "source": [
    "# tempDF = pd.concat([quadDF, triaDF], axis=0,sort=False)\n",
    "# # tempDF1 = tempDF.reindex(columns=newQUADIndex_Fx(lc), level=1)"
   ]
  },
  {
   "cell_type": "code",
   "execution_count": null,
   "metadata": {},
   "outputs": [],
   "source": [
    "# tempDF.tail()"
   ]
  },
  {
   "cell_type": "code",
   "execution_count": null,
   "metadata": {},
   "outputs": [],
   "source": [
    "# tempDF = tempDF.reindex(columns=newQUADIndex_Fx(92102), level=1)\n",
    "# tempDF.head()"
   ]
  },
  {
   "cell_type": "code",
   "execution_count": null,
   "metadata": {},
   "outputs": [],
   "source": []
  }
 ],
 "metadata": {
  "kernelspec": {
   "display_name": "Python 3",
   "language": "python",
   "name": "python3"
  },
  "language_info": {
   "codemirror_mode": {
    "name": "ipython",
    "version": 3
   },
   "file_extension": ".py",
   "mimetype": "text/x-python",
   "name": "python",
   "nbconvert_exporter": "python",
   "pygments_lexer": "ipython3",
   "version": "3.6.5"
  }
 },
 "nbformat": 4,
 "nbformat_minor": 2
}
