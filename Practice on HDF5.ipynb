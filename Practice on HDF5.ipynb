{
 "cells": [
  {
   "cell_type": "code",
   "execution_count": 1,
   "metadata": {},
   "outputs": [
    {
     "name": "stderr",
     "output_type": "stream",
     "text": [
      "C:\\ProgramData\\Anaconda3\\lib\\site-packages\\h5py\\__init__.py:36: FutureWarning: Conversion of the second argument of issubdtype from `float` to `np.floating` is deprecated. In future, it will be treated as `np.float64 == np.dtype(float).type`.\n",
      "  from ._conv import register_converters as _register_converters\n"
     ]
    }
   ],
   "source": [
    "import h5py"
   ]
  },
  {
   "cell_type": "code",
   "execution_count": 2,
   "metadata": {},
   "outputs": [],
   "source": [
    "f= h5py.File('./h5_input/pc12-47-v1-6-static_post_m3.2_2601.h5')"
   ]
  },
  {
   "cell_type": "code",
   "execution_count": 3,
   "metadata": {},
   "outputs": [
    {
     "data": {
      "text/plain": [
       "['INDEX', 'NASTRAN']"
      ]
     },
     "execution_count": 3,
     "metadata": {},
     "output_type": "execute_result"
    }
   ],
   "source": [
    "list(f.keys())"
   ]
  },
  {
   "cell_type": "code",
   "execution_count": 5,
   "metadata": {},
   "outputs": [],
   "source": [
    "dset = f['NASTRAN']"
   ]
  },
  {
   "cell_type": "code",
   "execution_count": 9,
   "metadata": {},
   "outputs": [
    {
     "data": {
      "text/plain": [
       "'/NASTRAN'"
      ]
     },
     "execution_count": 9,
     "metadata": {},
     "output_type": "execute_result"
    }
   ],
   "source": [
    "dset.name"
   ]
  },
  {
   "cell_type": "code",
   "execution_count": 11,
   "metadata": {},
   "outputs": [
    {
     "data": {
      "text/plain": [
       "['INPUT', 'RESULT']"
      ]
     },
     "execution_count": 11,
     "metadata": {},
     "output_type": "execute_result"
    }
   ],
   "source": [
    "list(dset.keys())"
   ]
  },
  {
   "cell_type": "code",
   "execution_count": 12,
   "metadata": {},
   "outputs": [
    {
     "data": {
      "text/plain": [
       "['DOMAINS', 'ELEMENTAL', 'NODAL']"
      ]
     },
     "execution_count": 12,
     "metadata": {},
     "output_type": "execute_result"
    }
   ],
   "source": [
    "dresults = dset['RESULT']\n",
    "list(dresults.keys())"
   ]
  },
  {
   "cell_type": "code",
   "execution_count": 13,
   "metadata": {},
   "outputs": [
    {
     "data": {
      "text/plain": [
       "['ELEMENT_FORCE', 'STRESS']"
      ]
     },
     "execution_count": 13,
     "metadata": {},
     "output_type": "execute_result"
    }
   ],
   "source": [
    "delemental = dresults['ELEMENTAL']\n",
    "list(delemental.keys())"
   ]
  },
  {
   "cell_type": "code",
   "execution_count": 15,
   "metadata": {},
   "outputs": [
    {
     "data": {
      "text/plain": [
       "['BAR', 'BEAM', 'ELAS2', 'QUAD4', 'ROD', 'SHEAR', 'TRIA3']"
      ]
     },
     "execution_count": 15,
     "metadata": {},
     "output_type": "execute_result"
    }
   ],
   "source": [
    "delement_forces = delemental['ELEMENT_FORCE']\n",
    "list(delement_forces.keys())"
   ]
  },
  {
   "cell_type": "code",
   "execution_count": 16,
   "metadata": {},
   "outputs": [
    {
     "data": {
      "text/plain": [
       "(6166,)"
      ]
     },
     "execution_count": 16,
     "metadata": {},
     "output_type": "execute_result"
    }
   ],
   "source": [
    "dbar = delement_forces['BAR']\n",
    "dbar.shape"
   ]
  },
  {
   "cell_type": "code",
   "execution_count": 18,
   "metadata": {},
   "outputs": [],
   "source": [
    "dbar?"
   ]
  },
  {
   "cell_type": "code",
   "execution_count": 19,
   "metadata": {},
   "outputs": [],
   "source": [
    "import pandas as pd"
   ]
  },
  {
   "cell_type": "code",
   "execution_count": 20,
   "metadata": {},
   "outputs": [],
   "source": [
    "store = pd.HDFStore('./h5_input/pc12-47-v1-6-static_post_m3.2_2601.h5')"
   ]
  },
  {
   "cell_type": "code",
   "execution_count": 21,
   "metadata": {},
   "outputs": [
    {
     "name": "stdout",
     "output_type": "stream",
     "text": [
      "<class 'pandas.io.pytables.HDFStore'>\n",
      "File path: ./h5_input/pc12-47-v1-6-static_post_m3.2_2601.h5\n",
      "\n"
     ]
    }
   ],
   "source": [
    "print(store)"
   ]
  },
  {
   "cell_type": "code",
   "execution_count": 22,
   "metadata": {},
   "outputs": [
    {
     "data": {
      "text/plain": [
       "['/NASTRAN/INPUT/DOMAINS',\n",
       " '/NASTRAN/RESULT/DOMAINS',\n",
       " '/NASTRAN/RESULT/NODAL/APPLIED_LOAD',\n",
       " '/NASTRAN/RESULT/NODAL/DISPLACEMENT',\n",
       " '/NASTRAN/RESULT/NODAL/GRID_FORCE',\n",
       " '/NASTRAN/RESULT/NODAL/GRID_WEIGHT',\n",
       " '/NASTRAN/RESULT/NODAL/MPC_FORCE',\n",
       " '/NASTRAN/RESULT/NODAL/SPC_FORCE',\n",
       " '/NASTRAN/RESULT/ELEMENTAL/ELEMENT_FORCE/BAR',\n",
       " '/NASTRAN/RESULT/ELEMENTAL/ELEMENT_FORCE/BEAM',\n",
       " '/NASTRAN/RESULT/ELEMENTAL/ELEMENT_FORCE/ELAS2',\n",
       " '/NASTRAN/RESULT/ELEMENTAL/ELEMENT_FORCE/QUAD4',\n",
       " '/NASTRAN/RESULT/ELEMENTAL/ELEMENT_FORCE/ROD',\n",
       " '/NASTRAN/RESULT/ELEMENTAL/ELEMENT_FORCE/SHEAR',\n",
       " '/NASTRAN/RESULT/ELEMENTAL/ELEMENT_FORCE/TRIA3',\n",
       " '/NASTRAN/RESULT/ELEMENTAL/STRESS/BAR',\n",
       " '/NASTRAN/RESULT/ELEMENTAL/STRESS/BEAM',\n",
       " '/NASTRAN/RESULT/ELEMENTAL/STRESS/ELAS2',\n",
       " '/NASTRAN/RESULT/ELEMENTAL/STRESS/QUAD4',\n",
       " '/NASTRAN/RESULT/ELEMENTAL/STRESS/ROD',\n",
       " '/NASTRAN/RESULT/ELEMENTAL/STRESS/SHEAR',\n",
       " '/NASTRAN/RESULT/ELEMENTAL/STRESS/TRIA3',\n",
       " '/NASTRAN/INPUT/CONSTRAINT/SPC',\n",
       " '/NASTRAN/INPUT/COORDINATE_SYSTEM/CORD2C',\n",
       " '/NASTRAN/INPUT/COORDINATE_SYSTEM/CORD2R',\n",
       " '/NASTRAN/INPUT/COORDINATE_SYSTEM/CORD2S',\n",
       " '/NASTRAN/INPUT/ELEMENT/CBAR',\n",
       " '/NASTRAN/INPUT/ELEMENT/CBEAM',\n",
       " '/NASTRAN/INPUT/ELEMENT/CELAS2',\n",
       " '/NASTRAN/INPUT/ELEMENT/CQUAD4',\n",
       " '/NASTRAN/INPUT/ELEMENT/CROD',\n",
       " '/NASTRAN/INPUT/ELEMENT/CSHEAR',\n",
       " '/NASTRAN/INPUT/ELEMENT/CTRIA3',\n",
       " '/NASTRAN/INPUT/ELEMENT/PLOTEL',\n",
       " '/NASTRAN/INPUT/LOAD/FORCE',\n",
       " '/NASTRAN/INPUT/LOAD/MOMENT',\n",
       " '/NASTRAN/INPUT/LOAD/PLOAD2',\n",
       " '/NASTRAN/INPUT/LOAD/PLOAD4',\n",
       " '/NASTRAN/INPUT/MATERIAL/MAT1',\n",
       " '/NASTRAN/INPUT/MATERIAL/MAT4',\n",
       " '/NASTRAN/INPUT/MATERIAL/MAT8',\n",
       " '/NASTRAN/INPUT/NODE/GRID',\n",
       " '/NASTRAN/INPUT/PARAMETER/MDLPRM',\n",
       " '/NASTRAN/INPUT/PROPERTY/PBAR',\n",
       " '/NASTRAN/INPUT/PROPERTY/PBEAM',\n",
       " '/NASTRAN/INPUT/PROPERTY/PROD',\n",
       " '/NASTRAN/INPUT/PROPERTY/PSHEAR',\n",
       " '/NASTRAN/INPUT/PROPERTY/PSHELL',\n",
       " '/NASTRAN/INPUT/PROPERTY/PBEAML/DIMS',\n",
       " '/NASTRAN/INPUT/PROPERTY/PBEAML/IDENTITY',\n",
       " '/NASTRAN/INPUT/PROPERTY/PBEAML/SECTION',\n",
       " '/NASTRAN/INPUT/PARAMETER/CASECC/MEMIDS',\n",
       " '/NASTRAN/INPUT/PARAMETER/CASECC/SETS',\n",
       " '/NASTRAN/INPUT/PARAMETER/CASECC/SUBCASE',\n",
       " '/NASTRAN/INPUT/PARAMETER/PVT/CHAR',\n",
       " '/NASTRAN/INPUT/PARAMETER/PVT/DOUBLE',\n",
       " '/NASTRAN/INPUT/PARAMETER/PVT/INT',\n",
       " '/NASTRAN/INPUT/LOAD/LOAD/IDENTITY',\n",
       " '/NASTRAN/INPUT/LOAD/LOAD/SFACTORS',\n",
       " '/NASTRAN/INPUT/ELEMENT/RBE2/GM',\n",
       " '/NASTRAN/INPUT/ELEMENT/RBE2/RB',\n",
       " '/NASTRAN/INPUT/ELEMENT/RBE3/G',\n",
       " '/NASTRAN/INPUT/ELEMENT/RBE3/IDENTITY',\n",
       " '/NASTRAN/INPUT/ELEMENT/RBE3/WTCG',\n",
       " '/NASTRAN/INPUT/COORDINATE_SYSTEM/TRANSFORMATION/IDENTITY',\n",
       " '/NASTRAN/INPUT/COORDINATE_SYSTEM/TRANSFORMATION/RDATA',\n",
       " '/NASTRAN/INPUT/CONSTRAINT/MPC/GCA',\n",
       " '/NASTRAN/INPUT/CONSTRAINT/MPC/IDENTITY',\n",
       " '/INDEX/NASTRAN/RESULT/NODAL/APPLIED_LOAD',\n",
       " '/INDEX/NASTRAN/RESULT/NODAL/DISPLACEMENT',\n",
       " '/INDEX/NASTRAN/RESULT/NODAL/GRID_FORCE',\n",
       " '/INDEX/NASTRAN/RESULT/NODAL/GRID_WEIGHT',\n",
       " '/INDEX/NASTRAN/RESULT/NODAL/MPC_FORCE',\n",
       " '/INDEX/NASTRAN/RESULT/NODAL/SPC_FORCE',\n",
       " '/INDEX/NASTRAN/RESULT/ELEMENTAL/ELEMENT_FORCE/BAR',\n",
       " '/INDEX/NASTRAN/RESULT/ELEMENTAL/ELEMENT_FORCE/BEAM',\n",
       " '/INDEX/NASTRAN/RESULT/ELEMENTAL/ELEMENT_FORCE/ELAS2',\n",
       " '/INDEX/NASTRAN/RESULT/ELEMENTAL/ELEMENT_FORCE/QUAD4',\n",
       " '/INDEX/NASTRAN/RESULT/ELEMENTAL/ELEMENT_FORCE/ROD',\n",
       " '/INDEX/NASTRAN/RESULT/ELEMENTAL/ELEMENT_FORCE/SHEAR',\n",
       " '/INDEX/NASTRAN/RESULT/ELEMENTAL/ELEMENT_FORCE/TRIA3',\n",
       " '/INDEX/NASTRAN/RESULT/ELEMENTAL/STRESS/BAR',\n",
       " '/INDEX/NASTRAN/RESULT/ELEMENTAL/STRESS/BEAM',\n",
       " '/INDEX/NASTRAN/RESULT/ELEMENTAL/STRESS/ELAS2',\n",
       " '/INDEX/NASTRAN/RESULT/ELEMENTAL/STRESS/QUAD4',\n",
       " '/INDEX/NASTRAN/RESULT/ELEMENTAL/STRESS/ROD',\n",
       " '/INDEX/NASTRAN/RESULT/ELEMENTAL/STRESS/SHEAR',\n",
       " '/INDEX/NASTRAN/RESULT/ELEMENTAL/STRESS/TRIA3']"
      ]
     },
     "execution_count": 22,
     "metadata": {},
     "output_type": "execute_result"
    }
   ],
   "source": [
    "store.keys()"
   ]
  },
  {
   "cell_type": "code",
   "execution_count": 24,
   "metadata": {},
   "outputs": [
    {
     "data": {
      "text/plain": [
       "True"
      ]
     },
     "execution_count": 24,
     "metadata": {},
     "output_type": "execute_result"
    }
   ],
   "source": [
    "store.is_open"
   ]
  },
  {
   "cell_type": "code",
   "execution_count": 29,
   "metadata": {},
   "outputs": [],
   "source": [
    "disp = store.get('/NASTRAN/RESULT/NODAL/DISPLACEMENT')"
   ]
  },
  {
   "cell_type": "code",
   "execution_count": 30,
   "metadata": {},
   "outputs": [
    {
     "data": {
      "text/plain": [
       "(5644, 8)"
      ]
     },
     "execution_count": 30,
     "metadata": {},
     "output_type": "execute_result"
    }
   ],
   "source": [
    "disp.shape"
   ]
  },
  {
   "cell_type": "code",
   "execution_count": 31,
   "metadata": {},
   "outputs": [
    {
     "data": {
      "text/html": [
       "<div>\n",
       "<style scoped>\n",
       "    .dataframe tbody tr th:only-of-type {\n",
       "        vertical-align: middle;\n",
       "    }\n",
       "\n",
       "    .dataframe tbody tr th {\n",
       "        vertical-align: top;\n",
       "    }\n",
       "\n",
       "    .dataframe thead th {\n",
       "        text-align: right;\n",
       "    }\n",
       "</style>\n",
       "<table border=\"1\" class=\"dataframe\">\n",
       "  <thead>\n",
       "    <tr style=\"text-align: right;\">\n",
       "      <th></th>\n",
       "      <th>ID</th>\n",
       "      <th>X</th>\n",
       "      <th>Y</th>\n",
       "      <th>Z</th>\n",
       "      <th>RX</th>\n",
       "      <th>RY</th>\n",
       "      <th>RZ</th>\n",
       "      <th>DOMAIN_ID</th>\n",
       "    </tr>\n",
       "  </thead>\n",
       "  <tbody>\n",
       "    <tr>\n",
       "      <th>0</th>\n",
       "      <td>219995</td>\n",
       "      <td>0.158016</td>\n",
       "      <td>-0.051736</td>\n",
       "      <td>-0.565089</td>\n",
       "      <td>0.000375</td>\n",
       "      <td>0.000347</td>\n",
       "      <td>-0.000127</td>\n",
       "      <td>2</td>\n",
       "    </tr>\n",
       "    <tr>\n",
       "      <th>1</th>\n",
       "      <td>1110001</td>\n",
       "      <td>-0.048154</td>\n",
       "      <td>2.476547</td>\n",
       "      <td>0.676987</td>\n",
       "      <td>-0.000394</td>\n",
       "      <td>-0.013829</td>\n",
       "      <td>-0.002599</td>\n",
       "      <td>2</td>\n",
       "    </tr>\n",
       "    <tr>\n",
       "      <th>2</th>\n",
       "      <td>1110002</td>\n",
       "      <td>-0.782477</td>\n",
       "      <td>2.527044</td>\n",
       "      <td>0.565778</td>\n",
       "      <td>0.000797</td>\n",
       "      <td>-0.010526</td>\n",
       "      <td>-0.005276</td>\n",
       "      <td>2</td>\n",
       "    </tr>\n",
       "    <tr>\n",
       "      <th>3</th>\n",
       "      <td>1110003</td>\n",
       "      <td>-1.207172</td>\n",
       "      <td>2.550644</td>\n",
       "      <td>0.510507</td>\n",
       "      <td>-0.000128</td>\n",
       "      <td>-0.002746</td>\n",
       "      <td>-0.002350</td>\n",
       "      <td>2</td>\n",
       "    </tr>\n",
       "    <tr>\n",
       "      <th>4</th>\n",
       "      <td>1110004</td>\n",
       "      <td>-1.244401</td>\n",
       "      <td>2.537010</td>\n",
       "      <td>0.530604</td>\n",
       "      <td>-0.000627</td>\n",
       "      <td>-0.002781</td>\n",
       "      <td>-0.001667</td>\n",
       "      <td>2</td>\n",
       "    </tr>\n",
       "  </tbody>\n",
       "</table>\n",
       "</div>"
      ],
      "text/plain": [
       "        ID         X         Y         Z        RX        RY        RZ  \\\n",
       "0   219995  0.158016 -0.051736 -0.565089  0.000375  0.000347 -0.000127   \n",
       "1  1110001 -0.048154  2.476547  0.676987 -0.000394 -0.013829 -0.002599   \n",
       "2  1110002 -0.782477  2.527044  0.565778  0.000797 -0.010526 -0.005276   \n",
       "3  1110003 -1.207172  2.550644  0.510507 -0.000128 -0.002746 -0.002350   \n",
       "4  1110004 -1.244401  2.537010  0.530604 -0.000627 -0.002781 -0.001667   \n",
       "\n",
       "   DOMAIN_ID  \n",
       "0          2  \n",
       "1          2  \n",
       "2          2  \n",
       "3          2  \n",
       "4          2  "
      ]
     },
     "execution_count": 31,
     "metadata": {},
     "output_type": "execute_result"
    }
   ],
   "source": [
    "disp.head()"
   ]
  },
  {
   "cell_type": "code",
   "execution_count": 32,
   "metadata": {},
   "outputs": [],
   "source": [
    "store?"
   ]
  },
  {
   "cell_type": "code",
   "execution_count": 33,
   "metadata": {},
   "outputs": [],
   "source": [
    "def get_index(HDF_Store, data_key = '/NASTRAN/RESULT/NODAL/DISPLACEMENT'):\n",
    "    return HDF_Store.get(data_key)"
   ]
  },
  {
   "cell_type": "code",
   "execution_count": 35,
   "metadata": {},
   "outputs": [
    {
     "data": {
      "text/plain": [
       "(1, 3)"
      ]
     },
     "execution_count": 35,
     "metadata": {},
     "output_type": "execute_result"
    }
   ],
   "source": [
    "dispIdx = get_index(store, '/INDEX/NASTRAN/RESULT/NODAL/DISPLACEMENT')\n",
    "dispIdx.shape"
   ]
  },
  {
   "cell_type": "code",
   "execution_count": 36,
   "metadata": {},
   "outputs": [
    {
     "data": {
      "text/html": [
       "<div>\n",
       "<style scoped>\n",
       "    .dataframe tbody tr th:only-of-type {\n",
       "        vertical-align: middle;\n",
       "    }\n",
       "\n",
       "    .dataframe tbody tr th {\n",
       "        vertical-align: top;\n",
       "    }\n",
       "\n",
       "    .dataframe thead th {\n",
       "        text-align: right;\n",
       "    }\n",
       "</style>\n",
       "<table border=\"1\" class=\"dataframe\">\n",
       "  <thead>\n",
       "    <tr style=\"text-align: right;\">\n",
       "      <th></th>\n",
       "      <th>DOMAIN_ID</th>\n",
       "      <th>POSITION</th>\n",
       "      <th>LENGTH</th>\n",
       "    </tr>\n",
       "  </thead>\n",
       "  <tbody>\n",
       "    <tr>\n",
       "      <th>0</th>\n",
       "      <td>2</td>\n",
       "      <td>0</td>\n",
       "      <td>5644</td>\n",
       "    </tr>\n",
       "  </tbody>\n",
       "</table>\n",
       "</div>"
      ],
      "text/plain": [
       "   DOMAIN_ID  POSITION  LENGTH\n",
       "0          2         0    5644"
      ]
     },
     "execution_count": 36,
     "metadata": {},
     "output_type": "execute_result"
    }
   ],
   "source": [
    "dispIdx"
   ]
  },
  {
   "cell_type": "code",
   "execution_count": 50,
   "metadata": {},
   "outputs": [
    {
     "ename": "ValueError",
     "evalue": "too many values to unpack (expected 3)",
     "output_type": "error",
     "traceback": [
      "\u001b[1;31m---------------------------------------------------------------------------\u001b[0m",
      "\u001b[1;31mValueError\u001b[0m                                Traceback (most recent call last)",
      "\u001b[1;32m<ipython-input-50-d2d407018e7d>\u001b[0m in \u001b[0;36m<module>\u001b[1;34m()\u001b[0m\n\u001b[1;32m----> 1\u001b[1;33m \u001b[1;32mfor\u001b[0m \u001b[1;33m(\u001b[0m\u001b[0mpath\u001b[0m\u001b[1;33m,\u001b[0m \u001b[0msubgroups\u001b[0m\u001b[1;33m,\u001b[0m \u001b[0msubkeys\u001b[0m\u001b[1;33m)\u001b[0m \u001b[1;32min\u001b[0m \u001b[0mstore\u001b[0m\u001b[1;33m.\u001b[0m\u001b[0mkeys\u001b[0m\u001b[1;33m(\u001b[0m\u001b[1;33m)\u001b[0m\u001b[1;33m:\u001b[0m\u001b[1;33m\u001b[0m\u001b[0m\n\u001b[0m\u001b[0;32m      2\u001b[0m     \u001b[1;32mfor\u001b[0m \u001b[0msubgroup\u001b[0m \u001b[1;32min\u001b[0m \u001b[0msubgroups\u001b[0m\u001b[1;33m:\u001b[0m\u001b[1;33m\u001b[0m\u001b[0m\n\u001b[0;32m      3\u001b[0m         \u001b[0mprint\u001b[0m\u001b[1;33m(\u001b[0m\u001b[1;34m'GROUP: {}/{}'\u001b[0m\u001b[1;33m.\u001b[0m\u001b[0mformat\u001b[0m\u001b[1;33m(\u001b[0m\u001b[0mpath\u001b[0m\u001b[1;33m,\u001b[0m \u001b[0msubgroup\u001b[0m\u001b[1;33m)\u001b[0m\u001b[1;33m)\u001b[0m\u001b[1;33m\u001b[0m\u001b[0m\n\u001b[0;32m      4\u001b[0m     \u001b[1;32mfor\u001b[0m \u001b[0msubkey\u001b[0m \u001b[1;32min\u001b[0m \u001b[0msubkeys\u001b[0m\u001b[1;33m:\u001b[0m\u001b[1;33m\u001b[0m\u001b[0m\n\u001b[0;32m      5\u001b[0m         \u001b[0mkey\u001b[0m \u001b[1;33m=\u001b[0m \u001b[1;34m'/'\u001b[0m\u001b[1;33m.\u001b[0m\u001b[0mjoin\u001b[0m\u001b[1;33m(\u001b[0m\u001b[1;33m[\u001b[0m\u001b[0mpath\u001b[0m\u001b[1;33m,\u001b[0m \u001b[0msubkey\u001b[0m\u001b[1;33m]\u001b[0m\u001b[1;33m)\u001b[0m\u001b[1;33m\u001b[0m\u001b[0m\n",
      "\u001b[1;31mValueError\u001b[0m: too many values to unpack (expected 3)"
     ]
    }
   ],
   "source": [
    "In [403]: for (path, subgroups, subkeys) in store.keys():\n",
    "   .....:     for subgroup in subgroups:\n",
    "   .....:         print('GROUP: {}/{}'.format(path, subgroup))\n",
    "   .....:     for subkey in subkeys:\n",
    "   .....:         key = '/'.join([path, subkey])\n",
    "   .....:         print('KEY: {}'.format(key))\n",
    "#    .....:         print(store.get(key))"
   ]
  },
  {
   "cell_type": "code",
   "execution_count": null,
   "metadata": {},
   "outputs": [],
   "source": [
    "for x in store.groups():\n",
    "    print(x)"
   ]
  },
  {
   "cell_type": "code",
   "execution_count": 59,
   "metadata": {},
   "outputs": [],
   "source": [
    "store.close()"
   ]
  },
  {
   "cell_type": "code",
   "execution_count": 60,
   "metadata": {},
   "outputs": [
    {
     "data": {
      "text/plain": [
       "False"
      ]
     },
     "execution_count": 60,
     "metadata": {},
     "output_type": "execute_result"
    }
   ],
   "source": [
    "store.is_open"
   ]
  },
  {
   "cell_type": "code",
   "execution_count": null,
   "metadata": {},
   "outputs": [],
   "source": []
  }
 ],
 "metadata": {
  "kernelspec": {
   "display_name": "Python 3",
   "language": "python",
   "name": "python3"
  },
  "language_info": {
   "codemirror_mode": {
    "name": "ipython",
    "version": 3
   },
   "file_extension": ".py",
   "mimetype": "text/x-python",
   "name": "python",
   "nbconvert_exporter": "python",
   "pygments_lexer": "ipython3",
   "version": "3.6.5"
  }
 },
 "nbformat": 4,
 "nbformat_minor": 2
}
