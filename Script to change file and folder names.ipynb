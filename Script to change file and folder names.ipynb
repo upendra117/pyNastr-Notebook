{
 "cells": [
  {
   "cell_type": "code",
   "execution_count": null,
   "metadata": {},
   "outputs": [],
   "source": [
    "import re, glob, os"
   ]
  },
  {
   "cell_type": "code",
   "execution_count": null,
   "metadata": {},
   "outputs": [],
   "source": [
    "import fnmatch"
   ]
  },
  {
   "cell_type": "code",
   "execution_count": null,
   "metadata": {},
   "outputs": [],
   "source": [
    "# %cd C:\\ALL_DATA\\URGummitha\\Desktop\\Post_Mod-2\\Run_M2.52"
   ]
  },
  {
   "cell_type": "code",
   "execution_count": null,
   "metadata": {},
   "outputs": [],
   "source": [
    "# ============= USER INPUT =================\n",
    "\n",
    "STRING_PATTERN_TO_FIND = '*2.51*'\n",
    "STRING_PATTERN_TO_REPLACE_WITH = '*2.52*'\n",
    "\n",
    "# ========= END OF USER INPUT =============="
   ]
  },
  {
   "cell_type": "code",
   "execution_count": null,
   "metadata": {},
   "outputs": [],
   "source": [
    "def find_folders(directory, pattern):\n",
    "    for root, dirs, files in os.walk(directory):\n",
    "        for dir_ in dirs:\n",
    "            if fnmatch.fnmatch(dir_, pattern):\n",
    "                folder_full_path = os.path.join(root, dir_)\n",
    "                yield folder_full_path\n",
    "#                 x06_pattern = '*x06*'\n",
    "#                 if fnmatch.fnmatch(folder_full_path, x06_pattern) == False: \n",
    "#                     yield dir_"
   ]
  },
  {
   "cell_type": "code",
   "execution_count": null,
   "metadata": {},
   "outputs": [],
   "source": [
    "def find_files(directory, pattern):\n",
    "    for root, dirs, files in os.walk(directory):\n",
    "        for basename in files:\n",
    "            if fnmatch.fnmatch(basename, pattern):\n",
    "                filename = os.path.join(root, basename)\n",
    "                yield filename"
   ]
  },
  {
   "cell_type": "code",
   "execution_count": null,
   "metadata": {},
   "outputs": [],
   "source": [
    "for foldername in find_folders('./', STRING_PATTERN_TO_FIND):\n",
    "    print('Found Folder: ', foldername)\n",
    "    \n",
    "for foldername in find_folders('./', STRING_PATTERN_TO_FIND):\n",
    "    newname = foldername.replace(STRING_PATTERN_TO_FIND.replace('*',''), STRING_PATTERN_TO_REPLACE_WITH.replace('*',''))\n",
    "    os.rename(foldername, newname)\n",
    "    print('Replaced Folder To: ', newname)"
   ]
  },
  {
   "cell_type": "code",
   "execution_count": null,
   "metadata": {},
   "outputs": [],
   "source": [
    "for filename in find_files('./', STRING_PATTERN_TO_FIND):\n",
    "    print('Found File:', filename)\n",
    "    \n",
    "for filename in find_files('./', STRING_PATTERN_TO_FIND):\n",
    "    newname = filename.replace(STRING_PATTERN_TO_FIND.replace('*',''), STRING_PATTERN_TO_REPLACE_WITH.replace('*',''))\n",
    "    os.rename(filename, newname)\n",
    "    print('Replaced File To: ', newname)"
   ]
  },
  {
   "cell_type": "code",
   "execution_count": null,
   "metadata": {},
   "outputs": [],
   "source": [
    "# import os\n",
    "# pick a folder you have ..."
   ]
  },
  {
   "cell_type": "code",
   "execution_count": null,
   "metadata": {},
   "outputs": [],
   "source": [
    "# folder = 'C:\\ALL_DATA\\URGummitha\\Desktop\\Post_Mod-1'\n",
    "# folder_size = 0\n",
    "# for (path, dirs, files) in os.walk(folder):\n",
    "#     for dir_ in dirs:\n",
    "#         folder_size = 0\n",
    "#         for file in files:\n",
    "#             filename = os.path.join(path, file)\n",
    "#             folder_size += os.path.getsize(filename)\n",
    "#         print \"Folder = %0.1f MB\" % (folder_size/(1024*1024.0))"
   ]
  }
 ],
 "metadata": {
  "kernelspec": {
   "display_name": "Python 3",
   "language": "python",
   "name": "python3"
  },
  "language_info": {
   "codemirror_mode": {
    "name": "ipython",
    "version": 3
   },
   "file_extension": ".py",
   "mimetype": "text/x-python",
   "name": "python",
   "nbconvert_exporter": "python",
   "pygments_lexer": "ipython3",
   "version": "3.6.5"
  }
 },
 "nbformat": 4,
 "nbformat_minor": 2
}
